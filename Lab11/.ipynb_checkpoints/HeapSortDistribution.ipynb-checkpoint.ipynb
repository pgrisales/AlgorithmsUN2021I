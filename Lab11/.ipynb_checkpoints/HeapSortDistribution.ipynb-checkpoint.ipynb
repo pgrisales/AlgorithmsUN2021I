{
 "cells": [
  {
   "cell_type": "markdown",
   "metadata": {
    "id": "Yv_xUArbSP5i"
   },
   "source": [
    "# Heap Sort Time Complexity"
   ]
  },
  {
   "cell_type": "code",
   "execution_count": 3,
   "metadata": {
    "colab": {
     "base_uri": "https://localhost:8080/"
    },
    "id": "y1e7qCYDYK2B",
    "outputId": "847ffe4c-96ef-4656-b775-d748b2298850"
   },
   "outputs": [
    {
     "data": {
      "text/plain": [
       "[9, 8, 7, 6, 5, 4, 3, 2, 1, 0]"
      ]
     },
     "execution_count": 3,
     "metadata": {},
     "output_type": "execute_result"
    }
   ],
   "source": [
    "list(range(10-1,-1,-1))"
   ]
  },
  {
   "cell_type": "code",
   "execution_count": 4,
   "metadata": {
    "id": "KuFONvxPtDAT"
   },
   "outputs": [],
   "source": [
    "def heap_sort(A):\n",
    "    # Our implementation\n",
    "    ########################\n",
    "    #helper functions\n",
    "    ########################\n",
    "\n",
    "    par = lambda i:(i-1)//2\n",
    "    left = lambda i:i*2+1\n",
    "    right = lambda i:i*2+2\n",
    "\n",
    "    ########################\n",
    "    ########################\n",
    "    #heapify A using siftDown \n",
    "    ########################\n",
    "    ########################\n",
    "    \n",
    "    for i in range(len(A)-1,-1,-1):\n",
    "      j=i\n",
    "      while(2*j+1<len(A)):\n",
    "        # Right son exist and left is greater\n",
    "        if(2*j+2<len(A) and A[j]<A[left(j)] and A[left(j)]> A[2*j+2]):\n",
    "          A[2*j+1],A[j] = A[j],A[2*j+1]\n",
    "          j=j*2+1\n",
    "          continue\n",
    "        if(2*j+2<len(A) and A[j]<A[2*j+2]):\n",
    "          A[2*j+2],A[j] = A[j],A[2*j+2]\n",
    "          j=j*2+2\n",
    "          continue\n",
    "        if(A[j]<A[2*j+1]):\n",
    "          A[2*j+1],A[j] = A[j],A[2*j+1]\n",
    "          j=j*2+1\n",
    "          continue\n",
    "        break\n",
    "\n",
    "    ########################\n",
    "    ########################\n",
    "    #min value extraction\n",
    "    ########################\n",
    "    ########################\n",
    "\n",
    "    ##print(A)\n",
    "    for i in range(len(A)-1,-1,-1):\n",
    "      A[0],A[i]=A[i],A[0]\n",
    "     \n",
    "      j=0\n",
    "\n",
    "      ########################\n",
    "      #swiftDown\n",
    "      ########################\n",
    "\n",
    "      while(2*j+2<=i):\n",
    "\n",
    "        if(2*j+2<i and A[j]<A[left(j)] and A[left(j)]> A[2*j+2]):\n",
    "          A[2*j+1],A[j] = A[j],A[2*j+1]\n",
    "          j=j*2+1\n",
    "          continue\n",
    "        if(2*j+2<i and A[j]<A[2*j+2]):\n",
    "          A[2*j+2],A[j] = A[j],A[2*j+2]\n",
    "          j=j*2+2\n",
    "          continue\n",
    "        if(A[j]<A[2*j+1]):\n",
    "          A[2*j+1],A[j] = A[j],A[2*j+1]\n",
    "          j=j*2+1\n",
    "          continue\n",
    "        break"
   ]
  },
  {
   "cell_type": "markdown",
   "metadata": {
    "id": "fhN5fOn8GtzR"
   },
   "source": [
    "# Experimental analysis of the Heap Sort execution time "
   ]
  },
  {
   "cell_type": "code",
   "execution_count": 5,
   "metadata": {
    "id": "okoDn4138BuH"
   },
   "outputs": [],
   "source": [
    "from heapq import *\n",
    "\n",
    "#Usando la libreria de python\n",
    "#esta función no la usamos\n",
    "def heap_sort_python(A):\n",
    "  h = []\n",
    "  for value in A:\n",
    "    heappush(h,value)\n",
    "  # print(h) #acá podemos observar la diferencia entre un heap \n",
    "  #que solo asegura máximo en primer posición y la lista ordenada\n",
    "  for i in range(len(A)):A[i]= heappop(h) #hack para mutar lista\n"
   ]
  },
  {
   "cell_type": "code",
   "execution_count": null,
   "metadata": {
    "id": "vh4ESi8obuJ9"
   },
   "outputs": [],
   "source": []
  },
  {
   "cell_type": "code",
   "execution_count": 6,
   "metadata": {
    "colab": {
     "base_uri": "https://localhost:8080/"
    },
    "id": "YYN7XbqayeU4",
    "outputId": "58ec2340-5915-406e-80c8-5ec1e10f9f99"
   },
   "outputs": [
    {
     "name": "stdout",
     "output_type": "stream",
     "text": [
      "[1, 2, 3, 4, 5, 6, 7, 8]\n",
      "[1, 2, 3, 4, 5, 6, 7, 8]\n",
      "[1, 2, 3, 4, 5, 6, 7, 8]\n"
     ]
    }
   ],
   "source": [
    "A = [1,2,3,4,5,6,7,8]\n",
    "heap_sort(A)\n",
    "print(A)\n",
    "\n",
    "A = [6,7,2,5,4,3,8,1]\n",
    "heap_sort(A)\n",
    "print(A)\n",
    "\n",
    "A = [8,7,6,5,4,3,2,1]\n",
    "heap_sort(A)\n",
    "print(A)"
   ]
  },
  {
   "cell_type": "code",
   "execution_count": 7,
   "metadata": {
    "colab": {
     "background_save": true
    },
    "id": "3W4AVrGyXa_c",
    "outputId": "8043a76f-f809-4d79-ebe1-bad2ab4644cc"
   },
   "outputs": [
    {
     "data": {
      "text/plain": [
       "<matplotlib.legend.Legend at 0x7f45f068d5b0>"
      ]
     },
     "execution_count": 7,
     "metadata": {},
     "output_type": "execute_result"
    },
    {
     "data": {
      "image/png": "[encoded data removed]",
      "text/plain": [
       "<Figure size 432x288 with 1 Axes>"
      ]
     },
     "metadata": {
      "needs_background": "light"
     },
     "output_type": "display_data"
    }
   ],
   "source": [
    "import numpy as np\n",
    "import matplotlib.pyplot as plt\n",
    "import time \n",
    "\n",
    "sizes = np.arange(1,200,1)\n",
    "results_heap = []\n",
    "for i in sizes:\n",
    "    list1 = list(range(i))\n",
    "    tic = time.time() \n",
    "    heap_sort(list1)\n",
    "    toc = time.time() \n",
    "    timesum = toc - tic\n",
    "    results_heap.append(timesum) \n",
    "plt.plot(sizes, results_heap, 'bx', label = 'Heap sort')\n",
    "plt.xlabel('Array size')\n",
    "plt.ylabel('Seconds')\n",
    "plt.legend(loc = 'upper left')"
   ]
  },
  {
   "cell_type": "code",
   "execution_count": 8,
   "metadata": {
    "colab": {
     "base_uri": "https://localhost:8080/",
     "height": 296
    },
    "id": "MAEtgnhgZkAk",
    "outputId": "e2be4ea6-2821-4d5d-b8bb-e2ca9f4a8ab9"
   },
   "outputs": [
    {
     "data": {
      "text/plain": [
       "<matplotlib.legend.Legend at 0x7f45f06947f0>"
      ]
     },
     "execution_count": 8,
     "metadata": {},
     "output_type": "execute_result"
    },
    {
     "data": {
      "image/png": "[encoded data removed]",
      "text/plain": [
       "<Figure size 432x288 with 1 Axes>"
      ]
     },
     "metadata": {
      "needs_background": "light"
     },
     "output_type": "display_data"
    }
   ],
   "source": [
    "#Supuesto peor caso heap sort\n",
    "import numpy as np\n",
    "import matplotlib.pyplot as plt\n",
    "import time \n",
    "\n",
    "sizes = np.arange(1,200,1)\n",
    "results_heap = []\n",
    "for i in sizes:\n",
    "    list1 = list(range(i,1,-1))\n",
    "    tic = time.time() \n",
    "    heap_sort(list1)\n",
    "    toc = time.time() \n",
    "    timesum = toc - tic\n",
    "    results_heap.append(timesum) \n",
    "plt.plot(sizes, results_heap, 'bx', label = 'Heap sort')\n",
    "plt.xlabel('Array size')\n",
    "plt.ylabel('Seconds')\n",
    "plt.legend(loc = 'upper left')"
   ]
  },
  {
   "cell_type": "code",
   "execution_count": 9,
   "metadata": {
    "colab": {
     "base_uri": "https://localhost:8080/",
     "height": 296
    },
    "id": "rxXIV4TbZzHU",
    "outputId": "a679f257-1866-47c6-b393-b098bbf036e3"
   },
   "outputs": [
    {
     "data": {
      "text/plain": [
       "<matplotlib.legend.Legend at 0x7f45a4a530d0>"
      ]
     },
     "execution_count": 9,
     "metadata": {},
     "output_type": "execute_result"
    },
    {
     "data": {
      "image/png": "[encoded data removed]",
      "text/plain": [
       "<Figure size 432x288 with 1 Axes>"
      ]
     },
     "metadata": {
      "needs_background": "light"
     },
     "output_type": "display_data"
    }
   ],
   "source": [
    "#Rango de tiempos\n",
    "import numpy as np\n",
    "import matplotlib.pyplot as plt\n",
    "import time \n",
    "import random as rnd\n",
    "\n",
    "sizes = np.arange(1,200,1)\n",
    "results_heap = []\n",
    "sizes_heap = []\n",
    "for i in sizes:\n",
    "  for j in range(20):\n",
    "    list1 = list(range(i))\n",
    "    rnd.shuffle(list1)\n",
    "    tic = time.time() \n",
    "    heap_sort(list1)\n",
    "    toc = time.time() \n",
    "    timesum = toc - tic\n",
    "    results_heap.append(timesum) \n",
    "    sizes_heap.append(i) \n",
    "plt.plot(sizes_heap, results_heap, 'bx', label = 'Heap sort')\n",
    "plt.xlabel('Array size')\n",
    "plt.ylabel('Seconds')\n",
    "plt.legend(loc = 'upper left')"
   ]
  },
  {
   "cell_type": "code",
   "execution_count": 10,
   "metadata": {
    "colab": {
     "base_uri": "https://localhost:8080/",
     "height": 307
    },
    "id": "-YDLqtvn9F-n",
    "outputId": "a6afa47f-1532-441c-b0f0-62ddacfe09d8"
   },
   "outputs": [
    {
     "data": {
      "text/plain": [
       "<matplotlib.legend.Legend at 0x7f45a494af40>"
      ]
     },
     "execution_count": 10,
     "metadata": {},
     "output_type": "execute_result"
    },
    {
     "data": {
      "image/png": "[encoded data removed]",
      "text/plain": [
       "<Figure size 432x288 with 1 Axes>"
      ]
     },
     "metadata": {
      "needs_background": "light"
     },
     "output_type": "display_data"
    }
   ],
   "source": [
    "#peor,mejor y 23 casos intermedios hasta listas de 21\n",
    "import numpy as np\n",
    "import matplotlib.pyplot as plt\n",
    "import time \n",
    "import random as rnd\n",
    "\n",
    "sizes = np.arange(1,21,1)\n",
    "results_heap = []\n",
    "sizes_heap = []\n",
    "for i in sizes:\n",
    "\n",
    "  list1 = list(range(i))\n",
    "  tic = time.time() \n",
    "  heap_sort(list1)\n",
    "  toc = time.time() \n",
    "  timesum = toc - tic\n",
    "  results_heap.append(timesum) \n",
    "  sizes_heap.append(i) \n",
    "  \n",
    "  list1 = list(range(i,1,-1))\n",
    "  tic = time.time() \n",
    "  heap_sort(list1)\n",
    "  toc = time.time() \n",
    "  timesum = toc - tic\n",
    "  results_heap.append(timesum) \n",
    "  sizes_heap.append(i) \n",
    "  \n",
    "  for j in range(23):\n",
    "    list1 = list(range(i))\n",
    "    rnd.shuffle(list1)\n",
    "    tic = time.time() \n",
    "    heap_sort(list1)\n",
    "    toc = time.time() \n",
    "    timesum = toc - tic\n",
    "    results_heap.append(timesum) \n",
    "    sizes_heap.append(i) \n",
    "\n",
    "plt.plot(sizes_heap, results_heap, 'bx', label = 'Heap sort')\n",
    "plt.xlabel('Array size')\n",
    "plt.ylabel('Seconds')\n",
    "plt.legend(loc = 'upper left')"
   ]
  },
  {
   "cell_type": "code",
   "execution_count": 11,
   "metadata": {
    "colab": {
     "base_uri": "https://localhost:8080/",
     "height": 296
    },
    "id": "3CMJ1Uh0brT0",
    "outputId": "ea096bf8-2101-4450-c3be-efe8dee82d61"
   },
   "outputs": [
    {
     "data": {
      "text/plain": [
       "<matplotlib.legend.Legend at 0x7f45a492b970>"
      ]
     },
     "execution_count": 11,
     "metadata": {},
     "output_type": "execute_result"
    },
    {
     "data": {
      "image/png": "[encoded data removed]",
      "text/plain": [
       "<Figure size 432x288 with 1 Axes>"
      ]
     },
     "metadata": {
      "needs_background": "light"
     },
     "output_type": "display_data"
    }
   ],
   "source": [
    "#peor,mejor y 23 casos intermedios hasta listas de 200\n",
    "import numpy as np\n",
    "import matplotlib.pyplot as plt\n",
    "import time \n",
    "import random as rnd\n",
    "\n",
    "sizes = np.arange(1,200,1)\n",
    "results_heap = []\n",
    "sizes_heap = []\n",
    "for i in sizes:\n",
    "\n",
    "  list1 = list(range(i))\n",
    "  tic = time.time() \n",
    "  heap_sort(list1)\n",
    "  toc = time.time() \n",
    "  timesum = toc - tic\n",
    "  results_heap.append(timesum) \n",
    "  sizes_heap.append(i) \n",
    "  \n",
    "  list1 = list(range(i,1,-1))\n",
    "  tic = time.time() \n",
    "  heap_sort(list1)\n",
    "  toc = time.time() \n",
    "  timesum = toc - tic\n",
    "  results_heap.append(timesum) \n",
    "  sizes_heap.append(i) \n",
    "  \n",
    "  for j in range(20):\n",
    "    list1 = list(range(i))\n",
    "    rnd.shuffle(list1)\n",
    "    tic = time.time() \n",
    "    heap_sort(list1)\n",
    "    toc = time.time() \n",
    "    timesum = toc - tic\n",
    "    results_heap.append(timesum) \n",
    "    sizes_heap.append(i) \n",
    "\n",
    "plt.plot(sizes_heap, results_heap, 'bx', label = 'Heap sort')\n",
    "plt.xlabel('Array size')\n",
    "plt.ylabel('Seconds')\n",
    "plt.legend(loc = 'upper left')"
   ]
  },
  {
   "cell_type": "markdown",
   "metadata": {
    "id": "BQBtJGAPD9wk"
   },
   "source": [
    "#steps implementation\n"
   ]
  },
  {
   "cell_type": "code",
   "execution_count": 12,
   "metadata": {
    "id": "AUnOGCFZFlYO"
   },
   "outputs": [],
   "source": [
    "\n",
    "def heap_sort_steps(A):\n",
    "    steps = 0\n",
    "    #función propia\n",
    "    ########################\n",
    "    #helper functions\n",
    "    ########################  \n",
    "    par = lambda i:(i-1)//2\n",
    "    left = lambda i:i*2+1\n",
    "    right = lambda i:i*2+2\n",
    "    ########################\n",
    "    ########################\n",
    "    #heapify A using siftDown \n",
    "    ########################\n",
    "    ########################\n",
    "    steps += 3\n",
    "    for i in range(len(A)-1,-1,-1):\n",
    "      j=i      \n",
    "      while(2*j+1<len(A)):\n",
    "        if(2*j+2<len(A) and A[j]<A[left(j)] and A[left(j)]> A[2*j+2]):\n",
    "          A[2*j+1],A[j] = A[j],A[2*j+1]          \n",
    "          j=j*2+1\n",
    "          steps += 7\n",
    "          continue\n",
    "        if(2*j+2<len(A) and A[j]<A[2*j+2]):\n",
    "          A[2*j+2],A[j] = A[j],A[2*j+2]\n",
    "          j=j*2+2\n",
    "          steps += 6\n",
    "          continue\n",
    "        if(A[j]<A[2*j+1]):\n",
    "          A[2*j+1],A[j] = A[j],A[2*j+1]\n",
    "          j=j*2+1\n",
    "          steps += 5\n",
    "          continue\n",
    "        break\n",
    "      steps+=2\n",
    "\n",
    "    ########################\n",
    "    ########################\n",
    "    #min value extraction\n",
    "    ########################\n",
    "    ########################\n",
    "\n",
    "    ##print(A)\n",
    "    steps += 3\n",
    "    for i in range(len(A)-1,-1,-1):\n",
    "      A[0],A[i]=A[i],A[0]\n",
    "     \n",
    "      j=0\n",
    "      steps += 4\n",
    "      ########################\n",
    "      #swiftDown\n",
    "      ########################\n",
    "\n",
    "      while(2*j+2<=i):\n",
    "\n",
    "        if(2*j+2<i and A[j]<A[left(j)] and A[left(j)]> A[2*j+2]):\n",
    "          A[2*j+1],A[j] = A[j],A[2*j+1]\n",
    "          j=j*2+1\n",
    "          steps += 7\n",
    "          continue\n",
    "        if(2*j+2<i and A[j]<A[2*j+2]):\n",
    "          A[2*j+2],A[j] = A[j],A[2*j+2]\n",
    "          j=j*2+2\n",
    "          steps += 6\n",
    "          continue\n",
    "        if(A[j]<A[2*j+1]):\n",
    "          A[2*j+1],A[j] = A[j],A[2*j+1]\n",
    "          j=j*2+1\n",
    "          steps += 5\n",
    "          continue\n",
    "        break"
   ]
  },
  {
   "cell_type": "markdown",
   "metadata": {
    "id": "oI9mVQ6O5s16"
   },
   "source": [
    "# Heap sort  time complexity histograms for permutations of $n$ different elements counting steps like CLRS I.2.1 \n",
    "\n",
    "$$t (n) =  2n - 1  + 3 \\sum_{j=2,..,n} t_j $$\n",
    "\n",
    "## Best case - increasingly sorted array \n",
    "$$t_b(n) =  5n - 4 = \\Theta(n)$$\n",
    "\n",
    "## Worst case - de creasingly sorted array \n",
    "\n",
    "$$t_w(n) = \\frac{3}{2} n^2 + \\frac{7}{2} n  - 4 = \\Theta(n^2)$$\n",
    "\n",
    "## Average case - expected number of comparisons + swaps on random unifrom permutation of $n$ different elements \n",
    "\n",
    "$$t_a(n) = \\frac{3}{4} n^2 + \\frac{17}{4} n  - 4  = \\Theta(n^2)$$\n",
    "\n",
    " "
   ]
  },
  {
   "cell_type": "markdown",
   "metadata": {
    "id": "t1mISKtRsJRq"
   },
   "source": [
    "## Average case - expected number of comparisons + swaps on random unifrom permutation of $n$ different elements"
   ]
  },
  {
   "cell_type": "markdown",
   "metadata": {
    "id": "0cePIvycsPIQ"
   },
   "source": [
    "$$t_b(n)= \\Theta(n\\log n)$$"
   ]
  },
  {
   "cell_type": "markdown",
   "metadata": {
    "id": "tG6n50IIrw6h"
   },
   "source": [
    "## Worst case - de creasingly sorted array"
   ]
  },
  {
   "cell_type": "markdown",
   "metadata": {
    "id": "F8M78EjJr0Tu"
   },
   "source": [
    "$$t_b(n)= \\Theta(n\\log n)$$"
   ]
  },
  {
   "cell_type": "markdown",
   "metadata": {
    "id": "6ZJp5LpypRIG"
   },
   "source": [
    "## Best case - increasingly sorted array"
   ]
  },
  {
   "cell_type": "markdown",
   "metadata": {
    "id": "OfLSiyZrd1YO"
   },
   "source": [
    "Since the height of the heap is $\\lfloor \\log n⌋$ the cost of heapifying all subtrees is:"
   ]
  },
  {
   "cell_type": "markdown",
   "metadata": {
    "id": "-DCTPXuDsbTZ"
   },
   "source": [
    "<p align=\"center\">\n",
    "  <img src=\"https://wikimedia.org/api/rest_v1/media/math/render/svg/2b1f5dac83f79e16b8794611e4b4a91594c422d8\"\n",
    "  >\n",
    "<p>"
   ]
  },
  {
   "cell_type": "markdown",
   "metadata": {
    "id": "1ItWoGnlqUyx"
   },
   "source": [
    "Nevertheless, it's necessary to pop all the elements out of the array, this has a cost of $\\lfloor \\log n⌋$"
   ]
  },
  {
   "cell_type": "code",
   "execution_count": 13,
   "metadata": {
    "colab": {
     "base_uri": "https://localhost:8080/",
     "height": 296
    },
    "id": "scmCThyk2myO",
    "outputId": "dd76069a-d2af-4976-c4a0-2b010807c50b"
   },
   "outputs": [
    {
     "data": {
      "text/plain": [
       "<matplotlib.legend.Legend at 0x7f45a47dc850>"
      ]
     },
     "execution_count": 13,
     "metadata": {},
     "output_type": "execute_result"
    },
    {
     "data": {
      "image/png": "[encoded data removed]",
      "text/plain": [
       "<Figure size 432x288 with 1 Axes>"
      ]
     },
     "metadata": {
      "needs_background": "light"
     },
     "output_type": "display_data"
    }
   ],
   "source": [
    "import matplotlib.pyplot as plt\n",
    "import numpy as np\n",
    "\n",
    "n = np.arange(1,21,1)\n",
    "\n",
    "plt.plot(n, 5*n-4,  label = 'Heap sort best time $5n-4$')\n",
    "plt.plot(n, 3/4*n**2+17/4*n-4, label = 'Heap average time $3/4 n*^2+17/4 n - 4$')\n",
    "plt.plot(n, 3/2*n**2+7/2*n-4, label = 'Heap average time $3/2 n*^2+7/2 n - 4$')\n",
    "plt.xlabel('Array size')\n",
    "plt.ylabel('Steps')\n",
    "plt.legend(loc = 'upper left')"
   ]
  },
  {
   "cell_type": "code",
   "execution_count": 14,
   "metadata": {
    "colab": {
     "base_uri": "https://localhost:8080/"
    },
    "id": "5WtKYWzloYFY",
    "outputId": "8ddb7a14-5eb8-4840-8546-ee82ea571bf1"
   },
   "outputs": [
    {
     "data": {
      "text/plain": [
       "[10, 9, 8, 7, 6, 5, 4, 3, 2]"
      ]
     },
     "execution_count": 14,
     "metadata": {},
     "output_type": "execute_result"
    }
   ],
   "source": [
    "list(range(10,1,-1))"
   ]
  },
  {
   "cell_type": "code",
   "execution_count": 15,
   "metadata": {
    "colab": {
     "base_uri": "https://localhost:8080/"
    },
    "id": "njm_yNLAiWhI",
    "outputId": "90314f04-9f0f-4bf4-d8b6-554a3f608059"
   },
   "outputs": [
    {
     "data": {
      "text/plain": [
       "2"
      ]
     },
     "execution_count": 15,
     "metadata": {},
     "output_type": "execute_result"
    }
   ],
   "source": [
    "5//2"
   ]
  },
  {
   "cell_type": "code",
   "execution_count": 16,
   "metadata": {
    "colab": {
     "base_uri": "https://localhost:8080/"
    },
    "id": "fUv1bwZszblg",
    "outputId": "22ab5450-2519-4524-88b2-00aa11ea91c4"
   },
   "outputs": [
    {
     "name": "stdout",
     "output_type": "stream",
     "text": [
      "None\n",
      "[1, 2, 3, 4, 5, 6, 7, 8]\n",
      "None\n",
      "[1, 2, 3, 4, 5, 6, 7, 8]\n",
      "None\n",
      "[1, 2, 3, 4, 5, 6, 7, 8]\n"
     ]
    }
   ],
   "source": [
    "A = [1,2,3,4,5,6,7,8]\n",
    "print(heap_sort_steps(A))\n",
    "print(A)\n",
    "\n",
    "A = [6,7,2,5,4,3,8,1]\n",
    "print(heap_sort_steps(A))\n",
    "print(A)\n",
    "\n",
    "A = [8,7,6,5,4,3,2,1]\n",
    "print(heap_sort_steps(A))\n",
    "print(A)"
   ]
  },
  {
   "cell_type": "code",
   "execution_count": 17,
   "metadata": {
    "colab": {
     "base_uri": "https://localhost:8080/"
    },
    "id": "bVMt0tTv6ps-",
    "outputId": "92209116-c5f5-4386-b085-830be427b0b7"
   },
   "outputs": [
    {
     "name": "stdout",
     "output_type": "stream",
     "text": [
      "(1, 2, 3)\n",
      "(1, 3, 2)\n",
      "(2, 1, 3)\n",
      "(2, 3, 1)\n",
      "(3, 1, 2)\n",
      "(3, 2, 1)\n"
     ]
    }
   ],
   "source": [
    "from itertools import permutations\n",
    " \n",
    "n = 3\n",
    "perm = permutations(range(1,n+1))\n",
    "\n",
    "ls =  [] \n",
    "# Print the obtained permutations\n",
    "for i in list(perm):\n",
    "   print(i)"
   ]
  },
  {
   "cell_type": "markdown",
   "metadata": {
    "id": "MfVzfDUnIJMT"
   },
   "source": [
    "Generate all permutations without repetitions of size *n* (for small *n*), plot the \"exact\" time  distribution (number of steps), and print the media and the standar deviation"
   ]
  },
  {
   "cell_type": "code",
   "execution_count": 18,
   "metadata": {
    "colab": {
     "base_uri": "https://localhost:8080/",
     "height": 451
    },
    "id": "6OlufEV-IJoK",
    "outputId": "8a4f9b3b-c826-49b1-df7c-32ee3e00bdec"
   },
   "outputs": [
    {
     "ename": "TypeError",
     "evalue": "'<' not supported between instances of 'NoneType' and 'NoneType'",
     "output_type": "error",
     "traceback": [
      "\u001b[0;31m---------------------------------------------------------------------------\u001b[0m",
      "\u001b[0;31mTypeError\u001b[0m                                 Traceback (most recent call last)",
      "\u001b[0;32m/tmp/ipykernel_278047/4144468400.py\u001b[0m in \u001b[0;36m<module>\u001b[0;34m\u001b[0m\n\u001b[1;32m     11\u001b[0m   \u001b[0mt\u001b[0m \u001b[0;34m=\u001b[0m \u001b[0mheap_sort_steps\u001b[0m\u001b[0;34m(\u001b[0m\u001b[0mlist\u001b[0m\u001b[0;34m(\u001b[0m\u001b[0mP\u001b[0m\u001b[0;34m)\u001b[0m\u001b[0;34m)\u001b[0m\u001b[0;34m\u001b[0m\u001b[0;34m\u001b[0m\u001b[0m\n\u001b[1;32m     12\u001b[0m   \u001b[0mtimes\u001b[0m\u001b[0;34m.\u001b[0m\u001b[0mappend\u001b[0m\u001b[0;34m(\u001b[0m\u001b[0mt\u001b[0m\u001b[0;34m)\u001b[0m\u001b[0;34m\u001b[0m\u001b[0;34m\u001b[0m\u001b[0m\n\u001b[0;32m---> 13\u001b[0;31m \u001b[0mb\u001b[0m \u001b[0;34m=\u001b[0m \u001b[0mnp\u001b[0m\u001b[0;34m.\u001b[0m\u001b[0marray\u001b[0m\u001b[0;34m(\u001b[0m\u001b[0mrange\u001b[0m\u001b[0;34m(\u001b[0m\u001b[0mmin\u001b[0m\u001b[0;34m(\u001b[0m\u001b[0mtimes\u001b[0m\u001b[0;34m)\u001b[0m\u001b[0;34m-\u001b[0m\u001b[0;36m1\u001b[0m\u001b[0;34m,\u001b[0m \u001b[0mmax\u001b[0m\u001b[0;34m(\u001b[0m\u001b[0mtimes\u001b[0m\u001b[0;34m)\u001b[0m\u001b[0;34m+\u001b[0m\u001b[0;36m1\u001b[0m\u001b[0;34m)\u001b[0m\u001b[0;34m)\u001b[0m\u001b[0;34m+\u001b[0m\u001b[0;36m0.5\u001b[0m\u001b[0;34m\u001b[0m\u001b[0;34m\u001b[0m\u001b[0m\n\u001b[0m\u001b[1;32m     14\u001b[0m \u001b[0mplt\u001b[0m\u001b[0;34m.\u001b[0m\u001b[0mhist\u001b[0m\u001b[0;34m(\u001b[0m\u001b[0mtimes\u001b[0m\u001b[0;34m,\u001b[0m \u001b[0mbins\u001b[0m \u001b[0;34m=\u001b[0m \u001b[0mb\u001b[0m \u001b[0;34m)\u001b[0m\u001b[0;34m\u001b[0m\u001b[0;34m\u001b[0m\u001b[0m\n\u001b[1;32m     15\u001b[0m \u001b[0mplt\u001b[0m\u001b[0;34m.\u001b[0m\u001b[0mtitle\u001b[0m\u001b[0;34m(\u001b[0m\u001b[0;34m\"Heap Sort\"\u001b[0m\u001b[0;34m)\u001b[0m\u001b[0;34m\u001b[0m\u001b[0;34m\u001b[0m\u001b[0m\n",
      "\u001b[0;31mTypeError\u001b[0m: '<' not supported between instances of 'NoneType' and 'NoneType'"
     ]
    }
   ],
   "source": [
    "from itertools import permutations\n",
    "import matplotlib.pyplot as plt\n",
    "import numpy as np\n",
    "import math\n",
    "\n",
    "n=3\n",
    "X = range(n)\n",
    "times = []\n",
    "\n",
    "for P in permutations(X):\n",
    "  t = heap_sort_steps(list(P)) \n",
    "  times.append(t)  \n",
    "b = np.array(range(min(times)-1, max(times)+1))+0.5\n",
    "plt.hist(times, bins = b )\n",
    "plt.title(\"Heap Sort\")\n",
    "plt.xlabel(\"Steps\")\n",
    "plt.ylabel(\"Frequency\")\n",
    "plt.show()\n",
    "    \n",
    "print(\"n\",n)\n",
    "print(\"number of permutations n! =\",math.factorial(n)) \n",
    "print(\"exp min =\",min(times))\n",
    "print(\"min formula 5*n-4 =\",5*n-4)\n",
    "print(\"exp max =\",max(times))\n",
    "print(\"max formula 3/2*n**2+7/2*n-4 =\",3/2*n**2+7/2*n-4)\n",
    "print(\"exp mean =\",np.mean(times))\n",
    "print(\"mean formula 3/4*n**2+17/4*n-4 =\",3/4*n**2+17/4*n-4)\n",
    "print(\"stdev\",np.std(times))"
   ]
  },
  {
   "cell_type": "code",
   "execution_count": 19,
   "metadata": {
    "colab": {
     "base_uri": "https://localhost:8080/",
     "height": 451
    },
    "id": "syZeILJdwNFD",
    "outputId": "02bbc470-e987-4e72-f1a4-30c3f76321e1"
   },
   "outputs": [
    {
     "ename": "TypeError",
     "evalue": "'<' not supported between instances of 'NoneType' and 'NoneType'",
     "output_type": "error",
     "traceback": [
      "\u001b[0;31m---------------------------------------------------------------------------\u001b[0m",
      "\u001b[0;31mTypeError\u001b[0m                                 Traceback (most recent call last)",
      "\u001b[0;32m/tmp/ipykernel_278047/3470706073.py\u001b[0m in \u001b[0;36m<module>\u001b[0;34m\u001b[0m\n\u001b[1;32m     12\u001b[0m   \u001b[0mtimes\u001b[0m\u001b[0;34m.\u001b[0m\u001b[0mappend\u001b[0m\u001b[0;34m(\u001b[0m\u001b[0mt\u001b[0m\u001b[0;34m)\u001b[0m\u001b[0;34m\u001b[0m\u001b[0;34m\u001b[0m\u001b[0m\n\u001b[1;32m     13\u001b[0m \u001b[0;34m\u001b[0m\u001b[0m\n\u001b[0;32m---> 14\u001b[0;31m \u001b[0mb\u001b[0m \u001b[0;34m=\u001b[0m \u001b[0mnp\u001b[0m\u001b[0;34m.\u001b[0m\u001b[0marray\u001b[0m\u001b[0;34m(\u001b[0m\u001b[0mrange\u001b[0m\u001b[0;34m(\u001b[0m\u001b[0mmin\u001b[0m\u001b[0;34m(\u001b[0m\u001b[0mtimes\u001b[0m\u001b[0;34m)\u001b[0m\u001b[0;34m-\u001b[0m\u001b[0;36m1\u001b[0m\u001b[0;34m,\u001b[0m \u001b[0mmax\u001b[0m\u001b[0;34m(\u001b[0m\u001b[0mtimes\u001b[0m\u001b[0;34m)\u001b[0m\u001b[0;34m+\u001b[0m\u001b[0;36m1\u001b[0m\u001b[0;34m)\u001b[0m\u001b[0;34m)\u001b[0m\u001b[0;34m+\u001b[0m\u001b[0;36m0.5\u001b[0m\u001b[0;34m\u001b[0m\u001b[0;34m\u001b[0m\u001b[0m\n\u001b[0m\u001b[1;32m     15\u001b[0m \u001b[0mplt\u001b[0m\u001b[0;34m.\u001b[0m\u001b[0mhist\u001b[0m\u001b[0;34m(\u001b[0m\u001b[0mtimes\u001b[0m\u001b[0;34m,\u001b[0m \u001b[0mbins\u001b[0m \u001b[0;34m=\u001b[0m \u001b[0mb\u001b[0m \u001b[0;34m)\u001b[0m\u001b[0;34m\u001b[0m\u001b[0;34m\u001b[0m\u001b[0m\n\u001b[1;32m     16\u001b[0m \u001b[0mplt\u001b[0m\u001b[0;34m.\u001b[0m\u001b[0mtitle\u001b[0m\u001b[0;34m(\u001b[0m\u001b[0;34m\"Heap Sort\"\u001b[0m\u001b[0;34m)\u001b[0m\u001b[0;34m\u001b[0m\u001b[0;34m\u001b[0m\u001b[0m\n",
      "\u001b[0;31mTypeError\u001b[0m: '<' not supported between instances of 'NoneType' and 'NoneType'"
     ]
    }
   ],
   "source": [
    "from itertools import permutations\n",
    "import matplotlib.pyplot as plt\n",
    "import numpy as np\n",
    "import math\n",
    "\n",
    "n=4\n",
    "X = range(n)\n",
    "times = []\n",
    "\n",
    "for P in permutations(X):\n",
    "  t = heap_sort_steps(list(P)) \n",
    "  times.append(t)  \n",
    "\n",
    "b = np.array(range(min(times)-1, max(times)+1))+0.5\n",
    "plt.hist(times, bins = b )\n",
    "plt.title(\"Heap Sort\")\n",
    "plt.xlabel(\"Steps\")\n",
    "plt.ylabel(\"Frequency\")\n",
    "plt.show()\n",
    "    \n",
    "print(\"n\",n)\n",
    "print(\"number of permutations n! =\",math.factorial(n)) \n",
    "print(\"exp min =\",min(times))\n",
    "print(\"min formula 5*n-4 =\",5*n-4)\n",
    "print(\"exp max =\",max(times))\n",
    "print(\"max formula 3/2*n**2+7/2*n-4 =\",3/2*n**2+7/2*n-4)\n",
    "print(\"exp mean =\",np.mean(times))\n",
    "print(\"mean formula 3/4*n**2+17/4*n-4 =\",3/4*n**2+17/4*n-4)\n",
    "print(\"stdev\",np.std(times))"
   ]
  },
  {
   "cell_type": "code",
   "execution_count": null,
   "metadata": {
    "colab": {
     "base_uri": "https://localhost:8080/",
     "height": 451
    },
    "id": "I-5RT7J6wQ54",
    "outputId": "9d97137b-de4e-42a6-c35f-859930d19697"
   },
   "outputs": [],
   "source": [
    "from itertools import permutations\n",
    "import matplotlib.pyplot as plt\n",
    "import numpy as np\n",
    "import math\n",
    "\n",
    "n=5\n",
    "X = range(n)\n",
    "times = []\n",
    "\n",
    "for P in permutations(X):\n",
    "  t = heap_sort_steps(list(P)) \n",
    "  times.append(t)  \n",
    "\n",
    "b = np.array(range(min(times)-1, max(times)+1))+0.5\n",
    "plt.hist(times, bins = b )\n",
    "plt.title(\"Heap Sort\")\n",
    "plt.xlabel(\"Steps\")\n",
    "plt.ylabel(\"Frequency\")\n",
    "plt.show()\n",
    "    \n",
    "print(\"n\",n)\n",
    "print(\"number of permutations n! =\",math.factorial(n)) \n",
    "print(\"exp min =\",min(times))\n",
    "print(\"min formula 5*n-4 =\",5*n-4)\n",
    "print(\"exp max =\",max(times))\n",
    "print(\"max formula 3/2*n**2+7/2*n-4 =\",3/2*n**2+7/2*n-4)\n",
    "print(\"exp mean =\",np.mean(times))\n",
    "print(\"mean formula 3/4*n**2+17/4*n-4 =\",3/4*n**2+17/4*n-4)\n",
    "print(\"stdev\",np.std(times))"
   ]
  },
  {
   "cell_type": "code",
   "execution_count": null,
   "metadata": {
    "colab": {
     "base_uri": "https://localhost:8080/",
     "height": 451
    },
    "id": "yXlJ8bscwT3_",
    "outputId": "99faa6e2-98f6-42ef-f284-b53af9e5d142"
   },
   "outputs": [],
   "source": [
    "from itertools import permutations\n",
    "import matplotlib.pyplot as plt\n",
    "import numpy as np\n",
    "import math\n",
    "\n",
    "n=6\n",
    "X = range(n)\n",
    "times = []\n",
    "\n",
    "for P in permutations(X):\n",
    "  t = heap_sort_steps(list(P)) \n",
    "  times.append(t)  \n",
    "\n",
    "b = np.array(range(min(times)-1, max(times)+1))+0.5\n",
    "plt.hist(times, bins = b )\n",
    "plt.title(\"Heap Sort\")\n",
    "plt.xlabel(\"Steps\")\n",
    "plt.ylabel(\"Frequency\")\n",
    "plt.show()\n",
    "    \n",
    "print(\"n\",n)\n",
    "print(\"number of permutations n! =\",math.factorial(n)) \n",
    "print(\"exp min =\",min(times))\n",
    "print(\"min formula 5*n-4 =\",5*n-4)\n",
    "print(\"exp max =\",max(times))\n",
    "print(\"max formula 3/2*n**2+7/2*n-4 =\",3/2*n**2+7/2*n-4)\n",
    "print(\"exp mean =\",np.mean(times))\n",
    "print(\"mean formula 3/4*n**2+17/4*n-4 =\",3/4*n**2+17/4*n-4)\n",
    "print(\"stdev\",np.std(times))"
   ]
  },
  {
   "cell_type": "code",
   "execution_count": null,
   "metadata": {
    "colab": {
     "base_uri": "https://localhost:8080/",
     "height": 451
    },
    "id": "IZzSy0ArmQg7",
    "outputId": "327f6f38-1e6d-4aac-f2c5-81092b010f43"
   },
   "outputs": [],
   "source": [
    "from itertools import permutations\n",
    "import matplotlib.pyplot as plt\n",
    "import numpy as np\n",
    "import math\n",
    "\n",
    "n=7\n",
    "X = range(n)\n",
    "times = []\n",
    "\n",
    "for P in permutations(X):\n",
    "  t = heap_sort_steps(list(P)) \n",
    "  times.append(t)  \n",
    "\n",
    "b = np.array(range(min(times)-1, max(times)+1))+0.5\n",
    "plt.hist(times, bins = b )\n",
    "plt.title(\"Heap Sort\")\n",
    "plt.xlabel(\"Steps\")\n",
    "plt.ylabel(\"Frequency\")\n",
    "plt.show()\n",
    "    \n",
    "print(\"n\",n)\n",
    "print(\"number of permutations n! =\",math.factorial(n)) \n",
    "print(\"exp min =\",min(times))\n",
    "print(\"min formula 5*n-4 =\",5*n-4)\n",
    "print(\"exp max =\",max(times))\n",
    "print(\"max formula 3/2*n**2+7/2*n-4 =\",3/2*n**2+7/2*n-4)\n",
    "print(\"exp mean =\",np.mean(times))\n",
    "print(\"mean formula 3/4*n**2+17/4*n-4 =\",3/4*n**2+17/4*n-4)\n",
    "print(\"stdev\",np.std(times))"
   ]
  },
  {
   "cell_type": "code",
   "execution_count": null,
   "metadata": {
    "colab": {
     "base_uri": "https://localhost:8080/",
     "height": 451
    },
    "id": "IXzjXmURmSbU",
    "outputId": "f1b4c70d-c44a-4c13-d119-30d4c8b37e5d"
   },
   "outputs": [],
   "source": [
    "from itertools import permutations\n",
    "import matplotlib.pyplot as plt\n",
    "import numpy as np\n",
    "import math\n",
    "\n",
    "n=8\n",
    "X = range(n)\n",
    "times = []\n",
    "\n",
    "for P in permutations(X):\n",
    "  t = heap_sort_steps(list(P)) \n",
    "  times.append(t)  \n",
    "\n",
    "b = np.array(range(min(times)-1, max(times)+1))+0.5\n",
    "plt.hist(times, bins = b )\n",
    "plt.title(\"Heap Sort\")\n",
    "plt.xlabel(\"Steps\")\n",
    "plt.ylabel(\"Frequency\")\n",
    "plt.show()\n",
    "    \n",
    "print(\"n\",n)\n",
    "print(\"number of permutations n! =\",math.factorial(n)) \n",
    "print(\"exp min =\",min(times))\n",
    "print(\"min formula 5*n-4 =\",5*n-4)\n",
    "print(\"exp max =\",max(times))\n",
    "print(\"max formula 3/2*n**2+7/2*n-4 =\",3/2*n**2+7/2*n-4)\n",
    "print(\"exp mean =\",np.mean(times))\n",
    "print(\"mean formula 3/4*n**2+17/4*n-4 =\",3/4*n**2+17/4*n-4)\n",
    "print(\"stdev\",np.std(times))"
   ]
  },
  {
   "cell_type": "code",
   "execution_count": null,
   "metadata": {
    "colab": {
     "base_uri": "https://localhost:8080/",
     "height": 451
    },
    "id": "xXBBldkSmUSK",
    "outputId": "0fb14093-c10c-48f4-f2f4-d6852976c6cb"
   },
   "outputs": [],
   "source": [
    "from itertools import permutations\n",
    "import matplotlib.pyplot as plt\n",
    "import numpy as np\n",
    "import math\n",
    "\n",
    "n=9\n",
    "X = range(n)\n",
    "times = []\n",
    "\n",
    "for P in permutations(X):\n",
    "  t = heap_sort_steps(list(P)) \n",
    "  times.append(t)  \n",
    "\n",
    "b = np.array(range(min(times)-1, max(times)+1))+0.5\n",
    "plt.hist(times, bins = b )\n",
    "plt.title(\"Heap Sort\")\n",
    "plt.xlabel(\"Steps\")\n",
    "plt.ylabel(\"Frequency\")\n",
    "plt.show()\n",
    "    \n",
    "print(\"n\",n)\n",
    "print(\"number of permutations n! =\",math.factorial(n)) \n",
    "print(\"exp min =\",min(times))\n",
    "print(\"min formula 5*n-4 =\",5*n-4)\n",
    "print(\"exp max =\",max(times))\n",
    "print(\"max formula 3/2*n**2+7/2*n-4 =\",3/2*n**2+7/2*n-4)\n",
    "print(\"exp mean =\",np.mean(times))\n",
    "print(\"mean formula 3/4*n**2+17/4*n-4 =\",3/4*n**2+17/4*n-4)\n",
    "print(\"stdev\",np.std(times))"
   ]
  },
  {
   "cell_type": "code",
   "execution_count": null,
   "metadata": {
    "colab": {
     "base_uri": "https://localhost:8080/",
     "height": 451
    },
    "id": "RaMDOzJ_mVtb",
    "outputId": "c3390fa6-8e43-4238-8805-7683a8792ae6"
   },
   "outputs": [],
   "source": [
    "from itertools import permutations\n",
    "import matplotlib.pyplot as plt\n",
    "import numpy as np\n",
    "import math\n",
    "\n",
    "n=10\n",
    "X = range(n)\n",
    "times = []\n",
    "\n",
    "for P in permutations(X):\n",
    "  t = heap_sort_steps(list(P)) \n",
    "  times.append(t) \n",
    "\n",
    "b = np.array(range(min(times)-1, max(times)+1))+0.5\n",
    "plt.hist(times, bins = b )\n",
    "plt.title(\"Heap Sort\")\n",
    "plt.xlabel(\"Steps\")\n",
    "plt.ylabel(\"Frequency\")\n",
    "plt.show()\n",
    "    \n",
    "print(\"n\",n)\n",
    "print(\"number of permutations n! =\",math.factorial(n)) \n",
    "print(\"exp min =\",min(times))\n",
    "print(\"min formula 5*n-4 =\",5*n-4)\n",
    "print(\"exp max =\",max(times))\n",
    "print(\"max formula 3/2*n**2+7/2*n-4 =\",3/2*n**2+7/2*n-4)\n",
    "print(\"exp mean =\",np.mean(times))\n",
    "print(\"mean formula 3/4*n**2+17/4*n-4 =\",3/4*n**2+17/4*n-4)\n",
    "print(\"stdev\",np.std(times))"
   ]
  },
  {
   "cell_type": "code",
   "execution_count": null,
   "metadata": {
    "id": "a_k-rk43mdOb"
   },
   "outputs": [],
   "source": [
    "from itertools import permutations\n",
    "import matplotlib.pyplot as plt\n",
    "import numpy as np\n",
    "import math\n",
    "\n",
    "n=11\n",
    "X = range(n)\n",
    "times = []\n",
    "\n",
    "for P in permutations(X):\n",
    "  t = heap_sort_steps(list(P)) \n",
    "  times.append(t)  \n",
    "\n",
    "b = np.array(range(min(times)-1, max(times)+1))+0.5\n",
    "plt.hist(times, bins = b )\n",
    "plt.title(\"Heap Sort\")\n",
    "plt.xlabel(\"Steps\")\n",
    "plt.ylabel(\"Frequency\")\n",
    "plt.show()\n",
    "    \n",
    "print(\"n\",n)\n",
    "print(\"number of permutations n! =\",math.factorial(n)) \n",
    "print(\"exp min =\",min(times))\n",
    "print(\"min formula 5*n-4 =\",5*n-4)\n",
    "print(\"exp max =\",max(times))\n",
    "print(\"max formula 3/2*n**2+7/2*n-4 =\",3/2*n**2+7/2*n-4)\n",
    "print(\"exp mean =\",np.mean(times))\n",
    "print(\"mean formula 3/4*n**2+17/4*n-4 =\",3/4*n**2+17/4*n-4)\n",
    "print(\"stdev\",np.std(times))"
   ]
  },
  {
   "cell_type": "code",
   "execution_count": null,
   "metadata": {
    "id": "0Atsk5f7hDbJ"
   },
   "outputs": [],
   "source": [
    "# https://towardsdatascience.com/an-easy-introduction-to-3d-plotting-with-matplotlib-801561999725\n",
    "\n",
    "import numpy as np\n",
    "import matplotlib.pyplot as plt\n",
    "from mpl_toolkits import mplot3d\n",
    "\n",
    "fig = plt.figure()\n",
    "ax = plt.axes(projection=\"3d\")\n",
    "\n",
    "plt.show()"
   ]
  },
  {
   "cell_type": "code",
   "execution_count": null,
   "metadata": {
    "id": "n2BQLgVahOMK"
   },
   "outputs": [],
   "source": [
    "# https://stackoverflow.com/questions/24736758/parameters-required-by-bar3d-with-python\n",
    "\n",
    "import numpy as np\n",
    "import matplotlib.pyplot as plt\n",
    "from mpl_toolkits.mplot3d import Axes3D\n",
    "\n",
    "fig = plt.figure()\n",
    "ax = plt.axes(projection=\"3d\")\n",
    "\n",
    "x = [1, 2, 3, 10]  # x coordinates of each bar\n",
    "y = [0, 0, 0, 10] # y coordinates of each bar\n",
    "z = [0, 0, 0, 0]  # z coordinates of each bar\n",
    "dx = [0.5, 0.5, 0.5, 0.5]  # Width of each bar\n",
    "dy = [0.5, 0.5, 0.5, 0.5]  # Depth of each bar\n",
    "dz = [5, 4, 7, 3]        # Height of each bar\n",
    "\n",
    "ax.bar3d(x, y, z, dx, dy, dz, color='b', zsort='average')\n",
    "plt.show()"
   ]
  },
  {
   "cell_type": "code",
   "execution_count": null,
   "metadata": {
    "id": "FkOMRk7RlTqQ"
   },
   "outputs": [],
   "source": [
    "# https://towardsdatascience.com/an-easy-introduction-to-3d-plotting-with-matplotlib-801561999725\n",
    "from itertools import permutations\n",
    "import numpy as np\n",
    "import matplotlib.pyplot as plt\n",
    "from mpl_toolkits.mplot3d import Axes3D\n",
    "import random \n",
    "\n",
    "fig = plt.figure()\n",
    "ax = plt.axes(projection=\"3d\")\n",
    "\n",
    "N = 10\n",
    "\n",
    "x = []\n",
    "y = []\n",
    "z = []\n",
    "dx = []\n",
    "dy = []\n",
    "dz = []\n",
    "\n",
    "for n in np.arange(3,N+1,1):\n",
    "   A = range(n)\n",
    "   times = []\n",
    "\n",
    "   for P in permutations(A):\n",
    "       t = heap_sort_steps(list(P)) \n",
    "       times.append(t)  \n",
    "\n",
    "   b = np.array(range(min(times)-1, max(times)+1))+0.5\n",
    "   H = np.array(np.histogram(times,b))\n",
    "   H[0] = H[0]/np.sum(H[0])\n",
    "   for i in range(len(H[0])):\n",
    "     x.append(n)\n",
    "     y.append(H[1][i])\n",
    "     z.append(0)\n",
    "     dx.append(0.1)\n",
    "     dy.append(0.1)\n",
    "     dz.append(H[0][i])\n",
    "\n",
    "ax.bar3d(x, y, z, dx, dy, dz, color='aqua', zsort='average')\n",
    "plt.show()"
   ]
  },
  {
   "cell_type": "code",
   "execution_count": null,
   "metadata": {
    "id": "maZmHz6FWsJ7"
   },
   "outputs": [],
   "source": [
    "# https://towardsdatascience.com/an-easy-introduction-to-3d-plotting-with-matplotlib-801561999725\n",
    "from itertools import permutations\n",
    "import numpy as np\n",
    "import matplotlib.pyplot as plt\n",
    "from mpl_toolkits.mplot3d import Axes3D\n",
    "import random \n",
    "\n",
    "fig = plt.figure()\n",
    "ax = plt.axes(projection=\"3d\")\n",
    "\n",
    "N = 10\n",
    "\n",
    "x = []\n",
    "y = []\n",
    "z = []\n",
    "dx = []\n",
    "dy = []\n",
    "dz = []\n",
    "\n",
    "for n in np.arange(3,N+1,1):\n",
    "   A = range(n)\n",
    "   times = []\n",
    "\n",
    "   for P in permutations(A):\n",
    "       t = heap_sort_steps(list(P)) \n",
    "       times.append(t)  \n",
    "\n",
    "   b = np.array(range(min(times)-1, max(times)+1))+0.5\n",
    "   H = np.array(np.histogram(times,b))\n",
    "   H[0] = H[0]/np.sum(H[0])\n",
    "   for i in range(len(H[0])):\n",
    "     x.append(n)\n",
    "     y.append(H[1][i])\n",
    "     z.append(0)\n",
    "     dx.append(0.1)\n",
    "     dy.append(0.1)\n",
    "     dz.append(H[0][i])\n",
    "\n",
    "ax.view_init(30, 10)\n",
    "ax.bar3d(x, y, z, dx, dy, dz, color='aqua', zsort='average')\n",
    "plt.show()\n"
   ]
  },
  {
   "cell_type": "code",
   "execution_count": null,
   "metadata": {
    "id": "xGglfsdU29d7"
   },
   "outputs": [],
   "source": [
    "import matplotlib.pyplot as plt\n",
    "import numpy as np\n",
    "\n",
    "n = np.arange(1,21,1)\n",
    "\n",
    "plt.plot(n, 5*n-4,  label = 'Heap sort best time $5n-4$', color='aqua')\n",
    "plt.plot(n, 3/4*n**2+17/4*n-4, label = 'Heap sortaverage time $3/4 n*^2+17/4 n - 4$', color='royalblue')\n",
    "plt.plot(n, 3/2*n**2+7/2*n-4, label = 'Heap sort worst time $3/2 n*^2+7/2 n - 4$',color='blue')\n",
    "plt.xlabel('Array size')\n",
    "plt.ylabel('Steps')\n",
    "plt.legend(loc = 'upper left')"
   ]
  },
  {
   "cell_type": "markdown",
   "metadata": {
    "id": "j-so_gwTISPr"
   },
   "source": [
    "# Sample of runs (montecarlo)\n",
    "Generate a sample of *runs=1000,10000* random permutations of size *n=3,4,30,100* (for large *n*), plot the \"approximated o estimated\" time  distribution (number of steps), and print the media and the standar deviation."
   ]
  },
  {
   "cell_type": "code",
   "execution_count": null,
   "metadata": {
    "id": "qnVa_8aLIVMD"
   },
   "outputs": [],
   "source": [
    "import matplotlib.pyplot as plt\n",
    "import numpy as np\n",
    "\n",
    "n=3\n",
    "runs=1000\n",
    "times = []\n",
    "for r in range(1,runs+1): \n",
    "  P= np.random.permutation(n)\n",
    "  t = heap_sort_steps(P) \n",
    "  times.append(t)  \n",
    "\n",
    "b = np.array(range(min(times)-1, max(times)+1))+0.5\n",
    "plt.hist(times, bins = b )  \n",
    "plt.title(\"Heap Sort\")\n",
    "plt.xlabel(\"Steps\")\n",
    "plt.ylabel(\"Frequency\")\n",
    "plt.show()\n",
    "    \n",
    "print(\"n\",n)\n",
    "print(\"runs\",runs)\n",
    "print(\"min\",min(times))\n",
    "print(\"min formula ,5*n-4 =\",5*n-4)\n",
    "print(\"max\",max(times))\n",
    "print(\"max formula 3/2*n**2+7/2*n-4 =\",3/2*n**2+7/2*n-4)\n",
    "print(\"mean\",np.mean(times))\n",
    "print(\"mean formula 3/4*n**2+17/4*n-4 = \",3/4*n**2+17/4*n-4)\n",
    "print(\"stdev\",np.std(times))"
   ]
  },
  {
   "cell_type": "code",
   "execution_count": null,
   "metadata": {
    "id": "TGXIVcQTxgh6"
   },
   "outputs": [],
   "source": [
    "import matplotlib.pyplot as plt\n",
    "import numpy as np\n",
    "\n",
    "n=4\n",
    "runs=10000\n",
    "times = []\n",
    "for r in range(1,runs+1): \n",
    "  P= np.random.permutation(n)\n",
    "  t = heap_sort_steps(P) \n",
    "  times.append(t)  \n",
    "\n",
    "b = np.array(range(min(times)-1, max(times)+1))+0.5\n",
    "plt.hist(times, bins = b )  \n",
    "plt.title(\"Heap Sort\")\n",
    "plt.xlabel(\"Steps\")\n",
    "plt.ylabel(\"Frequency\")\n",
    "plt.show()\n",
    "    \n",
    "print(\"n\",n)\n",
    "print(\"runs\",runs)\n",
    "print(\"min\",min(times))\n",
    "print(\"min formula ,5*n-4 =\",5*n-4)\n",
    "print(\"max\",max(times))\n",
    "print(\"max formula 3/2*n**2+7/2*n-4 =\",3/2*n**2+7/2*n-4)\n",
    "print(\"mean\",np.mean(times))\n",
    "print(\"mean formula 3/4*n**2+17/4*n-4 = \",3/4*n**2+17/4*n-4)\n",
    "print(\"stdev\",np.std(times))"
   ]
  },
  {
   "cell_type": "code",
   "execution_count": null,
   "metadata": {
    "id": "gJ2_5RdTxpfE"
   },
   "outputs": [],
   "source": [
    "import matplotlib.pyplot as plt\n",
    "import numpy as np\n",
    "\n",
    "n=30\n",
    "runs=10000\n",
    "times = []\n",
    "for r in range(1,runs+1): \n",
    "  P= np.random.permutation(n)\n",
    "  t = heap_sort_steps(P) \n",
    "  times.append(t)  \n",
    "\n",
    "b = np.array(range(min(times)-1, max(times)+1))+0.5\n",
    "plt.hist(times, bins = b )  \n",
    "plt.title(\"Heap Sort\")\n",
    "plt.xlabel(\"Steps\")\n",
    "plt.ylabel(\"Frequency\")\n",
    "plt.show()\n",
    "    \n",
    "print(\"n\",n)\n",
    "print(\"runs\",runs)\n",
    "print(\"min\",min(times))\n",
    "print(\"min formula ,5*n-4 =\",5*n-4)\n",
    "print(\"max\",max(times))\n",
    "print(\"max formula 3/2*n**2+7/2*n-4 =\",3/2*n**2+7/2*n-4)\n",
    "print(\"mean\",np.mean(times))\n",
    "print(\"mean formula 3/4*n**2+17/4*n-4 = \",3/4*n**2+17/4*n-4)\n",
    "print(\"stdev\",np.std(times))"
   ]
  },
  {
   "cell_type": "code",
   "execution_count": null,
   "metadata": {
    "id": "DaKKHOES1LDB"
   },
   "outputs": [],
   "source": [
    "import matplotlib.pyplot as plt\n",
    "import numpy as np\n",
    "\n",
    "n=100\n",
    "runs=100000\n",
    "times = []\n",
    "for r in range(1,runs+1): \n",
    "  P= np.random.permutation(n)\n",
    "  t = heap_sort_steps(P) \n",
    "  times.append(t)  \n",
    "\n",
    "b = np.array(range(min(times)-1, max(times)+1))+0.5\n",
    "plt.hist(times, bins = b )  \n",
    "plt.title(\"Heap Sort\")\n",
    "plt.xlabel(\"Steps\")\n",
    "plt.ylabel(\"Frequency\")\n",
    "plt.show()\n",
    "    \n",
    "print(\"n\",n)\n",
    "print(\"runs\",runs)\n",
    "print(\"min\",min(times))\n",
    "print(\"min formula ,5*n-4 =\",5*n-4)\n",
    "print(\"max\",max(times))\n",
    "print(\"max formula 3/2*n**2+7/2*n-4 =\",3/2*n**2+7/2*n-4)\n",
    "print(\"mean\",np.mean(times))\n",
    "print(\"mean formula 3/4*n**2+17/4*n-4 = \",3/4*n**2+17/4*n-4)\n",
    "print(\"stdev\",np.std(times))"
   ]
  },
  {
   "cell_type": "markdown",
   "metadata": {
    "id": "lbH_V04H8nKf"
   },
   "source": [
    "# Heap sort  time complexity histograms for permutations of $n$ elements with repetitions counting steps like CLRS I.2.1 \n",
    "\n",
    "$$t (n) =  2n - 1  + 3 \\sum_{j=2,..,n} t_j $$\n",
    "\n",
    "## Best case - increasingly sorted array \n",
    "$$t_b(n) =  5n - 4$$\n",
    "\n",
    "## Worst case - de creasingly sorted array \n",
    "\n",
    "$$t_w(n) = \\frac{3}{2} n^2 + \\frac{7}{2} n  - 4$$\n",
    "\n",
    "## Average case - expected number of comparisons + swaps on random unifrom permutation of $n$ different elements \n",
    "\n",
    "$$t_a(n) = \\frac{3}{4}n^2 + \\frac{7}{2}n -\\frac{13}{4}= \\Theta(n^2)$$"
   ]
  },
  {
   "cell_type": "code",
   "execution_count": null,
   "metadata": {
    "id": "YJtCAuQ-5fbv"
   },
   "outputs": [],
   "source": [
    "from itertools import product\n",
    "\n",
    "n=3 \n",
    "perm = product(range(1,n+1), repeat = n)\n",
    "\n",
    "c=0\n",
    "for i in perm:\n",
    "    print(i)\n",
    "    c+=1\n",
    "\n",
    "print(c)"
   ]
  },
  {
   "cell_type": "code",
   "execution_count": null,
   "metadata": {
    "id": "-DZDCLvh9XzP"
   },
   "outputs": [],
   "source": [
    "from itertools import product\n",
    "import matplotlib.pyplot as plt\n",
    "import numpy as np \n",
    "\n",
    "n = 3\n",
    " \n",
    "times = []\n",
    "for P in product(range(1,n+1), repeat = n):\n",
    "  t = heap_sort_steps(list(P)) \n",
    "  times.append(t)  \n",
    "\n",
    "b = np.array(range(min(times)-1, max(times)+1))+0.5\n",
    "plt.hist(times, bins = b )\n",
    "plt.title(\"Heap Sort\")\n",
    "plt.xlabel(\"Steps\")\n",
    "plt.ylabel(\"Frequency\")\n",
    "plt.show()\n",
    "    \n",
    "print(\"n\",n)\n",
    "print(\"number of permutations with repetion =\",n**n) \n",
    "print(\"exp min =\",min(times))\n",
    "print(\"min formula 5*n-4 =\",5*n-4)\n",
    "print(\"exp max =\",max(times))\n",
    "print(\"max formula 3/2*n**2+7/2*n-4 =\",3/2*n**2+7/2*n-4)\n",
    "print(\"exp mean =\",np.mean(times))\n",
    "print(\"mean formula 3/4*n**2+17/4*n-4 =\",3/4*n**2+17/4*n-4)\n",
    "print(\"stdev\",np.std(times))"
   ]
  },
  {
   "cell_type": "code",
   "execution_count": null,
   "metadata": {
    "id": "Fk02wx5c-fb-"
   },
   "outputs": [],
   "source": [
    "from itertools import product\n",
    "import matplotlib.pyplot as plt\n",
    "import numpy as np \n",
    "\n",
    "n = 4\n",
    " \n",
    "times = []\n",
    "for P in product(range(1,n+1), repeat = n):\n",
    "  t = heap_sort_steps(list(P)) \n",
    "  times.append(t)  \n",
    "\n",
    "b = np.array(range(min(times)-1, max(times)+1))+0.5\n",
    "plt.hist(times, bins = b )\n",
    "plt.title(\"Heap Sort\")\n",
    "plt.xlabel(\"Steps\")\n",
    "plt.ylabel(\"Frequency\")\n",
    "plt.show()\n",
    "    \n",
    "print(\"n\",n)\n",
    "print(\"number of permutations with repetion =\",n**n) \n",
    "print(\"exp min =\",min(times))\n",
    "print(\"min formula 5*n-4 =\",5*n-4)\n",
    "print(\"exp max =\",max(times))\n",
    "print(\"max formula 3/2*n**2+7/2*n-4 =\",3/2*n**2+7/2*n-4)\n",
    "print(\"exp mean =\",np.mean(times))\n",
    "print(\"mean formula 3/4*n**2+7/2*n-13/4 =\",3/4*n**2+7/2*n-13/4)\n",
    "print(\"stdev\",np.std(times))"
   ]
  },
  {
   "cell_type": "code",
   "execution_count": null,
   "metadata": {
    "id": "_X_A0sC6-h8N"
   },
   "outputs": [],
   "source": [
    "from itertools import product\n",
    "import matplotlib.pyplot as plt\n",
    "import numpy as np \n",
    "\n",
    "n = 5\n",
    " \n",
    "times = []\n",
    "for P in product(range(1,n+1), repeat = n):\n",
    "  t = heap_sort_steps(list(P)) \n",
    "  times.append(t)  \n",
    "\n",
    "b = np.array(range(min(times)-1, max(times)+1))+0.5\n",
    "plt.hist(times, bins = b )\n",
    "plt.title(\"Heap Sort\")\n",
    "plt.xlabel(\"Steps\")\n",
    "plt.ylabel(\"Frequency\")\n",
    "plt.show()\n",
    "    \n",
    "print(\"n\",n)\n",
    "print(\"number of permutations with repetion =\",n**n) \n",
    "print(\"exp min =\",min(times))\n",
    "print(\"min formula 5*n-4 =\",5*n-4)\n",
    "print(\"exp max =\",max(times))\n",
    "print(\"max formula 3/2*n**2+7/2*n-4 =\",3/2*n**2+7/2*n-4)\n",
    "print(\"exp mean =\",np.mean(times))\n",
    "print(\"mean formula 3/4*n**2+7/2*n-13/4 =\",3/4*n**2+7/2*n-13/4)\n",
    "print(\"stdev\",np.std(times))"
   ]
  },
  {
   "cell_type": "code",
   "execution_count": null,
   "metadata": {
    "id": "Cwygx1D4ER9O"
   },
   "outputs": [],
   "source": [
    "from itertools import product\n",
    "import matplotlib.pyplot as plt\n",
    "import numpy as np \n",
    "\n",
    "n = 6\n",
    " \n",
    "times = []\n",
    "for P in product(range(1,n+1), repeat = n):\n",
    "  t = heap_sort_steps(list(P)) \n",
    "  times.append(t)  \n",
    "\n",
    "b = np.array(range(min(times)-1, max(times)+1))+0.5\n",
    "plt.hist(times, bins = b )\n",
    "plt.title(\"Heap Sort\")\n",
    "plt.xlabel(\"Steps\")\n",
    "plt.ylabel(\"Frequency\")\n",
    "plt.show()\n",
    "    \n",
    "print(\"n\",n)\n",
    "print(\"number of permutations with repetion =\",n**n) \n",
    "print(\"exp min =\",min(times))\n",
    "print(\"min formula 5*n-4 =\",5*n-4)\n",
    "print(\"exp max =\",max(times))\n",
    "print(\"max formula 3/2*n**2+7/2*n-4 =\",3/2*n**2+7/2*n-4)\n",
    "print(\"exp mean =\",np.mean(times))\n",
    "print(\"mean formula 3/4*n**2+7/2*n-13/4 =\",3/4*n**2+7/2*n-13/4)\n",
    "print(\"stdev\",np.std(times))"
   ]
  },
  {
   "cell_type": "code",
   "execution_count": null,
   "metadata": {
    "id": "nhIYAqUQFwjP"
   },
   "outputs": [],
   "source": [
    "from itertools import product\n",
    "import matplotlib.pyplot as plt\n",
    "import numpy as np \n",
    "\n",
    "n = 7\n",
    " \n",
    "times = []\n",
    "for P in product(range(1,n+1), repeat = n):\n",
    "  t = heap_sort_steps(list(P)) \n",
    "  times.append(t)  \n",
    "\n",
    "b = np.array(range(min(times)-1, max(times)+1))+0.5\n",
    "plt.hist(times, bins = b )\n",
    "plt.title(\"Heap Sort\")\n",
    "plt.xlabel(\"Steps\")\n",
    "plt.ylabel(\"Frequency\")\n",
    "plt.show()\n",
    "    \n",
    "print(\"n\",n)\n",
    "print(\"number of permutations with repetion =\",n**n) \n",
    "print(\"exp min =\",min(times))\n",
    "print(\"min formula 5*n-4 =\",5*n-4)\n",
    "print(\"exp max =\",max(times))\n",
    "print(\"max formula 3/2*n**2+7/2*n-4 =\",3/2*n**2+7/2*n-4)\n",
    "print(\"exp mean =\",np.mean(times))\n",
    "print(\"mean formula 3/4*n**2+7/2*n-13/4 =\",3/4*n**2+7/2*n-13/4)\n",
    "print(\"stdev\",np.std(times))"
   ]
  },
  {
   "cell_type": "code",
   "execution_count": null,
   "metadata": {
    "id": "m33aojDdF5rp"
   },
   "outputs": [],
   "source": [
    "from itertools import product\n",
    "import matplotlib.pyplot as plt\n",
    "import numpy as np \n",
    "\n",
    "n = 8\n",
    " \n",
    "times = []\n",
    "for P in product(range(1,n+1), repeat = n):\n",
    "  t = heap_sort_steps(list(P)) \n",
    "  times.append(t)  \n",
    "\n",
    "b = np.array(range(min(times)-1, max(times)+1))+0.5\n",
    "plt.hist(times, bins = b )\n",
    "plt.title(\"Heap Sort\")\n",
    "plt.xlabel(\"Steps\")\n",
    "plt.ylabel(\"Frequency\")\n",
    "plt.show()\n",
    "    \n",
    "print(\"n\",n)\n",
    "print(\"number of permutations with repetion =\",n**n) \n",
    "print(\"exp min =\",min(times))\n",
    "print(\"min formula 5*n-4 =\",5*n-4)\n",
    "print(\"exp max =\",max(times))\n",
    "print(\"max formula 3/2*n**2+7/2*n-4 =\",3/2*n**2+7/2*n-4)\n",
    "print(\"exp mean =\",np.mean(times))\n",
    "print(\"mean formula 3/4*n**2+7/2*n-13/4 =\",1/4*n**2+7/2*n-13/4)\n",
    "print(\"stdev\",np.std(times))"
   ]
  },
  {
   "cell_type": "code",
   "execution_count": null,
   "metadata": {
    "id": "RFWcVt39GBkd"
   },
   "outputs": [],
   "source": [
    "# https://towardsdatascience.com/an-easy-introduction-to-3d-plotting-with-matplotlib-801561999725\n",
    "from itertools import product\n",
    "import numpy as np\n",
    "import matplotlib.pyplot as plt\n",
    "from mpl_toolkits.mplot3d import Axes3D\n",
    "import random \n",
    "\n",
    "fig = plt.figure()\n",
    "ax = plt.axes(projection=\"3d\")\n",
    "\n",
    "N = 8\n",
    "\n",
    "x = []\n",
    "y = []\n",
    "z = []\n",
    "dx = []\n",
    "dy = []\n",
    "dz = []\n",
    "\n",
    "for n in np.arange(3,N+1,1):\n",
    "\n",
    "   times = []\n",
    "\n",
    "   for P in product(range(1,n+1), repeat = n):\n",
    "       t = heap_sort_steps(list(P)) \n",
    "       times.append(t)  \n",
    "\n",
    "   b = np.array(range(min(times)-1, max(times)+1))+0.5\n",
    "   H = np.array(np.histogram(times,b))\n",
    "   H[0] = H[0]/np.sum(H[0])\n",
    "   for i in range(len(H[0])):\n",
    "     x.append(n)\n",
    "     y.append(H[1][i])\n",
    "     z.append(0)\n",
    "     dx.append(0.1)\n",
    "     dy.append(0.1)\n",
    "     dz.append(H[0][i])\n",
    "\n",
    "ax.bar3d(x, y, z, dx, dy, dz, color='aqua', zsort='average')\n",
    "plt.show()"
   ]
  },
  {
   "cell_type": "code",
   "execution_count": null,
   "metadata": {
    "id": "zCIJ07GqklOx"
   },
   "outputs": [],
   "source": [
    "# https://towardsdatascience.com/an-easy-introduction-to-3d-plotting-with-matplotlib-801561999725\n",
    "from itertools import product\n",
    "import numpy as np\n",
    "import matplotlib.pyplot as plt\n",
    "from mpl_toolkits.mplot3d import Axes3D\n",
    "import random \n",
    "\n",
    "fig = plt.figure()\n",
    "ax = plt.axes(projection=\"3d\")\n",
    "\n",
    "N = 8\n",
    "\n",
    "x = []\n",
    "y = []\n",
    "z = []\n",
    "dx = []\n",
    "dy = []\n",
    "dz = []\n",
    "\n",
    "for n in np.arange(3,N+1,1):\n",
    "  \n",
    "   times = []\n",
    "\n",
    "   for P in product(range(1,n+1), repeat = n):\n",
    "       t = heap_sort_steps(list(P)) \n",
    "       times.append(t) \n",
    "\n",
    "   b = np.array(range(min(times)-1, max(times)+1))+0.5\n",
    "   H = np.array(np.histogram(times,b))\n",
    "   H[0] = H[0]/np.sum(H[0])\n",
    "   for i in range(len(H[0])):\n",
    "     x.append(n)\n",
    "     y.append(H[1][i])\n",
    "     z.append(0)\n",
    "     dx.append(0.1)\n",
    "     dy.append(0.1)\n",
    "     dz.append(H[0][i])\n",
    "\n",
    "ax.view_init(30, 10)\n",
    "ax.bar3d(x, y, z, dx, dy, dz, color='aqua', zsort='average')\n",
    "plt.show()"
   ]
  },
  {
   "cell_type": "markdown",
   "metadata": {
    "id": "IqEuFWlldGpL"
   },
   "source": [
    "### Worst case *Scenario*"
   ]
  },
  {
   "cell_type": "code",
   "execution_count": null,
   "metadata": {
    "id": "svzfDYWudfmb"
   },
   "outputs": [],
   "source": []
  },
  {
   "cell_type": "code",
   "execution_count": null,
   "metadata": {},
   "outputs": [],
   "source": []
  }
 ],
 "metadata": {
  "colab": {
   "collapsed_sections": [],
   "name": "HeapSortTimeComplexityHistograms.ipynb",
   "provenance": []
  },
  "kernelspec": {
   "display_name": "Python 3 (ipykernel)",
   "language": "python",
   "name": "python3"
  },
  "language_info": {
   "codemirror_mode": {
    "name": "ipython",
    "version": 3
   },
   "file_extension": ".py",
   "mimetype": "text/x-python",
   "name": "python",
   "nbconvert_exporter": "python",
   "pygments_lexer": "ipython3",
   "version": "3.8.10"
  }
 },
 "nbformat": 4,
 "nbformat_minor": 1
}
