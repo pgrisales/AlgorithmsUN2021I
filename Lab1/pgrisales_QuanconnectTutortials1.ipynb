{
 "cells": [
  {
   "cell_type": "markdown",
   "id": "8c7f275e-2927-41b6-a649-15e367085416",
   "metadata": {},
   "source": [
    "\n",
    "## **Introduction to the Research Environment**\n",
    "\n",
    "The research environment is powered by IPython notebooks, which allow one to perform a great deal of data analysis and statistical validation. We'll demonstrate a few simple techniques here.\n",
    "\n",
    "## **Code Cells vs. Text Cells**\n",
    "\n",
    "As you can see, each cell can be either code or text. To select between them, choose from the 'Cell Type' dropdown menu on the top left.\n",
    "\n",
    "## **Executing a Command**\n",
    "\n",
    "A code cell will be evaluated when you press play, or when you press the shortcut, shift-enter. Evaluating a cell evaluates each line of code in sequence, and prints the results of the last line below the cell.\n",
    "Introduction to the Research Environment\n",
    "The research environment is powered by IPython notebooks, which allow one to perform a great deal of data analysis and statistical validation. We'll demonstrate a few simple techniques here.\n",
    "\n",
    "## **Code Cells vs. Text Cells**\n",
    "\n",
    "As you can see, each cell can be either code or text. To select between them, choose from the 'Cell Type' dropdown menu on the top left.\n",
    "\n",
    "## **Executing a Command**\n",
    "\n",
    "A code cell will be evaluated when you press play, or when you press the shortcut, shift-enter. Evaluating a cell evaluates each line of code in sequence, and prints the results of the last line below the cell."
   ]
  },
  {
   "cell_type": "code",
   "execution_count": 44,
   "id": "3627ca52-0c4c-490c-89fb-27b962a64fe9",
   "metadata": {},
   "outputs": [
    {
     "data": {
      "text/plain": [
       "4"
      ]
     },
     "execution_count": 44,
     "metadata": {},
     "output_type": "execute_result"
    }
   ],
   "source": [
    "2 + 2"
   ]
  },
  {
   "cell_type": "markdown",
   "id": "e5d1f86a-60e3-4c62-b7ad-233a8055ee1c",
   "metadata": {},
   "source": [
    "Sometimes there is no result to be printed, as is the case with assignment."
   ]
  },
  {
   "cell_type": "code",
   "execution_count": 45,
   "id": "93b1075c-00bd-406b-ab57-d59013e67307",
   "metadata": {},
   "outputs": [],
   "source": [
    "X = 2"
   ]
  },
  {
   "cell_type": "markdown",
   "id": "3f9b62c6-389a-4424-9b97-087157a2a782",
   "metadata": {},
   "source": [
    "Remember that only the result from the last line is printed."
   ]
  },
  {
   "cell_type": "code",
   "execution_count": 46,
   "id": "82f6dce6-e0ee-49cc-9663-9497ccc1e5e1",
   "metadata": {},
   "outputs": [
    {
     "data": {
      "text/plain": [
       "6"
      ]
     },
     "execution_count": 46,
     "metadata": {},
     "output_type": "execute_result"
    }
   ],
   "source": [
    "2 + 2\n",
    "3 + 3"
   ]
  },
  {
   "cell_type": "markdown",
   "id": "7d3f75d3-3977-44c3-a682-fade8791b3c1",
   "metadata": {},
   "source": [
    "However, you can print whichever lines you want using the print statement."
   ]
  },
  {
   "cell_type": "code",
   "execution_count": 47,
   "id": "4f8ca87e-2bbc-410d-99be-bd0ed8c02cdf",
   "metadata": {},
   "outputs": [
    {
     "name": "stdout",
     "output_type": "stream",
     "text": [
      "4\n"
     ]
    },
    {
     "data": {
      "text/plain": [
       "6"
      ]
     },
     "execution_count": 47,
     "metadata": {},
     "output_type": "execute_result"
    }
   ],
   "source": [
    "print(2 + 2)\n",
    "3 + 3"
   ]
  },
  {
   "cell_type": "markdown",
   "id": "c99e73db-d794-4a0d-a322-13fb49a66c34",
   "metadata": {},
   "source": [
    "## **Knowing When a Cell is Running**\n",
    "\n",
    "While a cell is running, a `[*]` will display on the left. When a cell has yet to be executed, `[ ]` will display. When it has been run, a number will display indicating the order in which it was run during the execution of the notebook `[5]`. Try on this cell and note it happening."
   ]
  },
  {
   "cell_type": "code",
   "execution_count": 48,
   "id": "cfd3e179-f942-4aef-a014-02f3fb2658ca",
   "metadata": {},
   "outputs": [
    {
     "data": {
      "text/plain": [
       "49999995000000"
      ]
     },
     "execution_count": 48,
     "metadata": {},
     "output_type": "execute_result"
    }
   ],
   "source": [
    "# Take some time to run something\n",
    "c = 0\n",
    "for i in range(10000000):\n",
    "    c = c + i\n",
    "c"
   ]
  },
  {
   "cell_type": "markdown",
   "id": "c9e8a03a-8034-44d0-8ad8-55ee46159c4a",
   "metadata": {},
   "source": [
    "## **Importing Libraries**\n",
    "\n",
    "The vast majority of the time, you'll want to use functions from pre-built libraries. You can't import every library on Quantopian due to security issues, but you can import most of the common scientific ones. Here I import numpy and pandas, the two most common and useful libraries in quant finance. I recommend copying this import statement to every new notebook.\n",
    "\n",
    "Notice that you can rename libraries to whatever you want after importing. The as statement allows this. Here we use np and pd as aliases for numpy and pandas. This is a very common aliasing and will be found in most code snippets around the web. The point behind this is to allow you to type fewer characters when you are frequently accessing these libraries."
   ]
  },
  {
   "cell_type": "code",
   "execution_count": 49,
   "id": "6403039e-40f5-43a1-90e4-1d3022b78c4c",
   "metadata": {},
   "outputs": [],
   "source": [
    "import numpy as np\n",
    "import pandas as pd\n",
    "\n",
    "# This is a plotting library for pretty pictures.\n",
    "import matplotlib.pyplot as plt"
   ]
  },
  {
   "cell_type": "markdown",
   "id": "605149ea-ac1e-45aa-b6be-5c8ec7a5a58d",
   "metadata": {},
   "source": [
    "## **Tab Autocomplete**\n",
    "\n",
    "Pressing tab will give you a list of IPython's best guesses for what you might want to type next. This is incredibly valuable and will save you a lot of time. If there is only one possible option for what you could type next, IPython will fill that in for you. Try pressing tab very frequently, it will seldom fill in anything you don't want, as if there is ambiguity a list will be shown. This is a great way to see what functions are available in a library.\n",
    "\n",
    "Try placing your cursor after the . and pressing tab."
   ]
  },
  {
   "cell_type": "code",
   "execution_count": 50,
   "id": "82d8a70a-daaf-4229-864a-901fc0732e4a",
   "metadata": {},
   "outputs": [
    {
     "ename": "SyntaxError",
     "evalue": "invalid syntax (393120376.py, line 1)",
     "output_type": "error",
     "traceback": [
      "\u001b[0;36m  File \u001b[0;32m\"/tmp/ipykernel_49586/393120376.py\"\u001b[0;36m, line \u001b[0;32m1\u001b[0m\n\u001b[0;31m    np.random.\u001b[0m\n\u001b[0m              ^\u001b[0m\n\u001b[0;31mSyntaxError\u001b[0m\u001b[0;31m:\u001b[0m invalid syntax\n"
     ]
    }
   ],
   "source": [
    "np.random."
   ]
  },
  {
   "cell_type": "markdown",
   "id": "0ae7deb2-52e6-4d71-b07d-2ca7181ec42f",
   "metadata": {},
   "source": [
    "## **Getting Documentation Help**\n",
    "\n",
    "Placing a question mark after a function and executing that line of code will give you the documentation IPython has for that function. It's often best to do this in a new cell, as you avoid re-executing other code and running into bugs."
   ]
  },
  {
   "cell_type": "code",
   "execution_count": null,
   "id": "c1fbe52c-b8ff-45ef-ba6c-6d63bbc6761d",
   "metadata": {},
   "outputs": [],
   "source": [
    "np.random.normal?"
   ]
  },
  {
   "cell_type": "markdown",
   "id": "8c3c4e12-2de9-42d9-b1fd-1e06fc6d04fa",
   "metadata": {},
   "source": [
    "## **Sampling**\n",
    "We'll sample some random data using a function from numpy."
   ]
  },
  {
   "cell_type": "code",
   "execution_count": null,
   "id": "55ce3ba3-2dad-4453-bdf6-bbc9dcab1627",
   "metadata": {},
   "outputs": [],
   "source": [
    "# Sample 100 points with a mean of 0 and an std of 1. This is a standard normal distribution.\n",
    "X = np.random.normal(0, 1, 100)"
   ]
  },
  {
   "cell_type": "markdown",
   "id": "2b5655fc-2dba-464f-b9eb-a5f7e8121e72",
   "metadata": {},
   "source": [
    "## **Plotting**\n",
    "We can use the plotting library we imported as follows."
   ]
  },
  {
   "cell_type": "code",
   "execution_count": null,
   "id": "09058945-ae6e-4ee2-9ae6-adb825d034e6",
   "metadata": {},
   "outputs": [],
   "source": [
    "plt.plot(X)"
   ]
  },
  {
   "cell_type": "markdown",
   "id": "94ac4d17-9191-4c14-8d0c-46b8760f31af",
   "metadata": {},
   "source": [
    "### **Squelching Line Output**\n",
    "You might have noticed the annoying line of the form `[<matplotlib.lines.Line2D at 0x7f72fdbc1710>]` before the plots. This is because the .plot function actually produces output. Sometimes we wish not to display output, we can accomplish this with the semi-colon as follows."
   ]
  },
  {
   "cell_type": "code",
   "execution_count": null,
   "id": "393a6b44-412d-43df-a145-a5c8afaa0362",
   "metadata": {},
   "outputs": [],
   "source": [
    "plt.plot(X);"
   ]
  },
  {
   "cell_type": "markdown",
   "id": "f993a93b-1fd3-4ff9-bb8b-41409c61bc89",
   "metadata": {},
   "source": [
    "### **Adding Axis Labels**\n",
    "No self-respecting quant leaves a graph without labeled axes. Here are some commands to help with that."
   ]
  },
  {
   "cell_type": "code",
   "execution_count": null,
   "id": "c203dfc0-2ef3-4c6d-b581-adb831e3fb00",
   "metadata": {},
   "outputs": [],
   "source": [
    "X = np.random.normal(0, 1, 100)\n",
    "X2 = np.random.normal(0, 1, 100)\n",
    "\n",
    "plt.plot(X);\n",
    "plt.plot(X2);\n",
    "plt.xlabel('Time') # The data we generated is unitless, but don't forget units in general.\n",
    "plt.ylabel('Returns')\n",
    "plt.legend(['X', 'X2']);"
   ]
  },
  {
   "cell_type": "markdown",
   "id": "f32bba9c-69cb-41bc-aabc-d7430fce340b",
   "metadata": {},
   "source": [
    "## **Generating Statistics**\n",
    "Let's use numpy to take some simple statistics."
   ]
  },
  {
   "cell_type": "code",
   "execution_count": null,
   "id": "5ad918f3-90ef-4ea9-b4a3-0963eaac5713",
   "metadata": {},
   "outputs": [],
   "source": [
    "np.mean(X)"
   ]
  },
  {
   "cell_type": "code",
   "execution_count": null,
   "id": "843a9d3a-5af7-4949-bf92-bf3add3356b5",
   "metadata": {},
   "outputs": [],
   "source": [
    "np.std(X)"
   ]
  },
  {
   "cell_type": "markdown",
   "id": "3c0fe268-379e-4f60-91e9-a1d3cb99e912",
   "metadata": {},
   "source": [
    "## **Getting Real Pricing Data**\n",
    "\n",
    "Randomly sampled data can be great for testing ideas, but let's get some real data. We can use get_pricing to do that. You can use the ? syntax as discussed above to get more information on get_pricing's arguments."
   ]
  },
  {
   "cell_type": "code",
   "execution_count": null,
   "id": "515f440b-eae5-4273-80a8-b7ad68b66866",
   "metadata": {},
   "outputs": [],
   "source": [
    "# Taken from https://github.com/gjhernandezp/algorithms/blob/master/Python/Replacing_getpricing_with_Yahoo_Finance_data_ipny.ipynb\n",
    "import pandas_datareader as pdr\n",
    "import datetime \n",
    "data = pdr.get_data_yahoo('MSFT', start= datetime.datetime(2018,1,1), end= datetime.datetime(2019,1,1))\n",
    "data"
   ]
  },
  {
   "cell_type": "markdown",
   "id": "42abb08b-ca57-48f6-9024-45198691d86d",
   "metadata": {},
   "source": [
    "Our data is now a dataframe. You can see the datetime index and the colums with different pricing data."
   ]
  },
  {
   "cell_type": "code",
   "execution_count": null,
   "id": "085b0774-f188-4411-899d-f140ccc4fed9",
   "metadata": {},
   "outputs": [],
   "source": [
    "data"
   ]
  },
  {
   "cell_type": "markdown",
   "id": "73479a6d-9e52-4b5b-a74d-a59cc03570eb",
   "metadata": {},
   "source": [
    "This is a pandas dataframe, so we can index in to just get price like this. For more info on pandas, please click here."
   ]
  },
  {
   "cell_type": "code",
   "execution_count": null,
   "id": "9f4953fd-86ac-4774-b1fd-52f26863f5e1",
   "metadata": {},
   "outputs": [],
   "source": [
    "X = data['High']\n",
    "X"
   ]
  },
  {
   "cell_type": "markdown",
   "id": "3f8b8368-e28c-4004-8435-6230225c5fcd",
   "metadata": {},
   "source": [
    "Because there is now also date information in our data, we provide two series to .plot. X.index gives us the datetime index, and X.values gives us the pricing values. These are used as the X and Y coordinates to make a graph."
   ]
  },
  {
   "cell_type": "code",
   "execution_count": null,
   "id": "6d0d6d51-81ce-4485-a072-fb132c381718",
   "metadata": {},
   "outputs": [],
   "source": [
    "plt.plot(X.index, X.values)\n",
    "plt.ylabel('Price')\n",
    "plt.legend(['MSFT']);"
   ]
  },
  {
   "cell_type": "markdown",
   "id": "3a0b3baf-e83f-48d1-bef8-c0b180b25dec",
   "metadata": {},
   "source": [
    "We can get statistics again on real data."
   ]
  },
  {
   "cell_type": "code",
   "execution_count": null,
   "id": "ca51f608-d3ea-45eb-b787-2e18780a4d79",
   "metadata": {},
   "outputs": [],
   "source": [
    "np.mean(X)"
   ]
  },
  {
   "cell_type": "code",
   "execution_count": null,
   "id": "5e59eaee-5220-40e9-a427-875f64618afa",
   "metadata": {},
   "outputs": [],
   "source": [
    "np.std(X)"
   ]
  },
  {
   "cell_type": "markdown",
   "id": "f2c4e4e6-6924-4167-afc6-28df271053a2",
   "metadata": {},
   "source": [
    "## **Getting Returns from Prices**\n",
    "We can use the pct_change function to get returns. Notice how we drop the first element after doing this, as it will be NaN (nothing -> something results in a NaN percent change)."
   ]
  },
  {
   "cell_type": "code",
   "execution_count": null,
   "id": "456ee92e-d1d0-42f9-af87-b24a093a69f1",
   "metadata": {},
   "outputs": [],
   "source": [
    "R = X.pct_change()[1:]"
   ]
  },
  {
   "cell_type": "markdown",
   "id": "a6cf9a14-7997-44bc-bfda-937eea3fcf1c",
   "metadata": {},
   "source": [
    "We can plot the returns distribution as a histogram."
   ]
  },
  {
   "cell_type": "code",
   "execution_count": null,
   "id": "87781260-4699-49a6-8095-8ccf4a26b272",
   "metadata": {},
   "outputs": [],
   "source": [
    "plt.hist(R, bins=20)\n",
    "plt.xlabel('Return')\n",
    "plt.ylabel('Frequency')\n",
    "plt.legend(['MSFT Returns']);"
   ]
  },
  {
   "cell_type": "markdown",
   "id": "2151bcb2-155e-43b8-82a8-7af4fdc3a197",
   "metadata": {},
   "source": [
    "Get statistics again."
   ]
  },
  {
   "cell_type": "code",
   "execution_count": null,
   "id": "c11d2490-2bae-4896-b824-9435bad5f439",
   "metadata": {},
   "outputs": [],
   "source": [
    "np.mean(R)"
   ]
  },
  {
   "cell_type": "code",
   "execution_count": null,
   "id": "40387ea0-f707-487f-8433-6126735a518c",
   "metadata": {},
   "outputs": [],
   "source": [
    "np.std(R)"
   ]
  },
  {
   "cell_type": "markdown",
   "id": "593ad393-9c95-435a-b0a5-f532a1f556f5",
   "metadata": {},
   "source": [
    "Now let's go backwards and generate data out of a normal distribution using the statistics we estimated from Microsoft's returns. We'll see that we have good reason to suspect Microsoft's returns may not be normal, as the resulting normal distribution looks far different."
   ]
  },
  {
   "cell_type": "code",
   "execution_count": null,
   "id": "78aa81fa-26bb-4574-88e1-4dd81c6eb9c3",
   "metadata": {},
   "outputs": [],
   "source": [
    "plt.hist(np.random.normal(np.mean(R), np.std(R), 10000), bins=20)\n",
    "plt.xlabel('Return')\n",
    "plt.ylabel('Frequency')\n",
    "plt.legend(['Normally Distributed Returns']);"
   ]
  },
  {
   "cell_type": "markdown",
   "id": "994f0bbc-4269-4f86-90d3-4145037d793a",
   "metadata": {},
   "source": [
    "## **Generating a Moving Average**\n",
    "pandas has some nice tools to allow us to generate rolling statistics. Here's an example. Notice how there's no moving average for the first 60 days, as we don't have 60 days of data on which to generate the statistic."
   ]
  },
  {
   "cell_type": "code",
   "execution_count": null,
   "id": "2f063dde-ba9c-430b-ae54-7292c17359f7",
   "metadata": {},
   "outputs": [],
   "source": [
    "# Take the average of the last 60 days at each timepoint.\n",
    "MAVG = X.rolling(60).mean()\n",
    "plt.plot(X.index, X.values)\n",
    "plt.plot(MAVG.index, MAVG.values)\n",
    "plt.ylabel('Price')\n",
    "plt.legend(['MSFT', '60-day MAVG']);"
   ]
  }
 ],
 "metadata": {
  "kernelspec": {
   "display_name": "Python 3 (ipykernel)",
   "language": "python",
   "name": "python3"
  },
  "language_info": {
   "codemirror_mode": {
    "name": "ipython",
    "version": 3
   },
   "file_extension": ".py",
   "mimetype": "text/x-python",
   "name": "python",
   "nbconvert_exporter": "python",
   "pygments_lexer": "ipython3",
   "version": "3.8.10"
  }
 },
 "nbformat": 4,
 "nbformat_minor": 5
}
