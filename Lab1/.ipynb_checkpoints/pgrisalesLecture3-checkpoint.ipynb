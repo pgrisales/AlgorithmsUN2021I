{
 "cells": [
  {
   "cell_type": "markdown",
   "id": "bf22b6f4-4d0a-46d0-9f2d-a2e52352804a",
   "metadata": {},
   "source": [
    "# Introduction to NumPy\n",
    "by Maxwell Margenot\n",
    "\n",
    "Part of the Quantopian Lecture Series:\n",
    "\n",
    "* [www.quantopian.com/lectures](https://www.quantopian.com/lectures)\n",
    "* [github.com/quantopian/research_public](https://github.com/quantopian/research_public)\n",
    "\n",
    "Notebook released under the Creative Commons Attribution 4.0 License.\n",
    "\n",
    "NumPy is an incredibly powerful package in Python that is ubiquitous throughout the Quantopian platform. It has strong integration with Pandas, another tool we will be covering in the lecture series. NumPy adds support for multi-dimensional arrays and mathematical functions that allow you to easily perform linear algebra calculations. This lecture will be a collection of linear algebra examples computed using NumPy."
   ]
  },
  {
   "cell_type": "code",
   "execution_count": 1,
   "id": "62cf45fe-b6a5-408b-b0d5-92c8a1a3f0f2",
   "metadata": {
    "executionInfo": {
     "elapsed": 1092,
     "status": "ok",
     "timestamp": 1615150627911,
     "user": {
      "displayName": "Santiago Mondragón Gómez",
      "photoUrl": "https://lh3.googleusercontent.com/a-/AOh14Gh8R-q32gOlh13EiQTzmP34aJX7HrfLdR3-OyJVLg=s64",
      "userId": "04334286989014486685"
     },
     "user_tz": 300
    },
    "id": "7Fvgl8JutewI",
    "tags": []
   },
   "outputs": [],
   "source": [
    "import numpy as np\n",
    "import matplotlib.pyplot as plt"
   ]
  },
  {
   "cell_type": "markdown",
   "id": "cf6c06bd-787d-41bf-911a-8e34c8a51f30",
   "metadata": {
    "id": "oCV9HmDWtewJ"
   },
   "source": [
    "### Basic NumPy arrays"
   ]
  },
  {
   "cell_type": "markdown",
   "id": "86eb3381-fb6f-421c-b47c-d43bbecd2ba7",
   "metadata": {
    "id": "vFOKz6bWtewK"
   },
   "source": [
    "The most basic way that we could make use of NumPy in finance is calculating the mean return of a portfolio. Say that we have a list containing the historical return of several stocks."
   ]
  },
  {
   "cell_type": "code",
   "execution_count": 2,
   "id": "09bba304-5cc8-4280-a499-b8b155701289",
   "metadata": {
    "executionInfo": {
     "elapsed": 1081,
     "status": "ok",
     "timestamp": 1615150639734,
     "user": {
      "displayName": "Santiago Mondragón Gómez",
      "photoUrl": "https://lh3.googleusercontent.com/a-/AOh14Gh8R-q32gOlh13EiQTzmP34aJX7HrfLdR3-OyJVLg=s64",
      "userId": "04334286989014486685"
     },
     "user_tz": 300
    },
    "id": "iRjge14OtewL",
    "tags": []
   },
   "outputs": [],
   "source": [
    "stock_list = [3.5, 5, 2, 8, 4.2]"
   ]
  },
  {
   "cell_type": "markdown",
   "id": "12f0656c-f623-4c10-b691-f8ae465f2616",
   "metadata": {
    "id": "WcWAxnQxtewM"
   },
   "source": [
    "We can make an array by calling a function on the list:"
   ]
  },
  {
   "cell_type": "code",
   "execution_count": 3,
   "id": "33fd4c27-2a11-4f2d-957f-4e97366f9219",
   "metadata": {
    "colab": {
     "base_uri": "https://localhost:8080/"
    },
    "executionInfo": {
     "elapsed": 841,
     "status": "ok",
     "timestamp": 1615150646388,
     "user": {
      "displayName": "Santiago Mondragón Gómez",
      "photoUrl": "https://lh3.googleusercontent.com/a-/AOh14Gh8R-q32gOlh13EiQTzmP34aJX7HrfLdR3-OyJVLg=s64",
      "userId": "04334286989014486685"
     },
     "user_tz": 300
    },
    "id": "N7j00jn2tewM",
    "outputId": "4be93a6c-c42a-4b19-d30e-e75ef87b6e89"
   },
   "outputs": [
    {
     "name": "stdout",
     "output_type": "stream",
     "text": [
      "[3.5 5.  2.  8.  4.2] <class 'numpy.ndarray'>\n"
     ]
    }
   ],
   "source": [
    "returns = np.array(stock_list)\n",
    "print(returns, type(returns))"
   ]
  },
  {
   "cell_type": "markdown",
   "id": "a46a63b5-cda8-4c6f-9327-395348188be3",
   "metadata": {
    "id": "J2TQVsgHtewP"
   },
   "source": [
    "You'll notice that the type of our array is 'ndarray', not just 'array'. This is because NumPy arrays can be created with multiple dimensions. If we pass np.array() a list of lists, it will create a 2-dimensional array. If we pass a list of lists of lists, it will create a 3-dimensional array, and so on and so forth."
   ]
  },
  {
   "cell_type": "code",
   "execution_count": 4,
   "id": "f5f11cd6-7911-472b-80f8-8d59a43bc044",
   "metadata": {
    "colab": {
     "base_uri": "https://localhost:8080/"
    },
    "executionInfo": {
     "elapsed": 871,
     "status": "ok",
     "timestamp": 1615150649177,
     "user": {
      "displayName": "Santiago Mondragón Gómez",
      "photoUrl": "https://lh3.googleusercontent.com/a-/AOh14Gh8R-q32gOlh13EiQTzmP34aJX7HrfLdR3-OyJVLg=s64",
      "userId": "04334286989014486685"
     },
     "user_tz": 300
    },
    "id": "IPEcywlytewQ",
    "outputId": "0c61a1e0-843a-4ffb-fdd5-75f47dba393a"
   },
   "outputs": [
    {
     "name": "stdout",
     "output_type": "stream",
     "text": [
      "[[1 2]\n",
      " [3 4]] <class 'numpy.ndarray'>\n"
     ]
    }
   ],
   "source": [
    "A = np.array([[1, 2], [3, 4]])\n",
    "print(A, type(A))"
   ]
  },
  {
   "cell_type": "markdown",
   "id": "6961853d-7243-4bfe-9848-1c9af9cf8c44",
   "metadata": {
    "id": "l2k-OAsXtewQ"
   },
   "source": [
    "We can access the dimensions of an array by looking at its `shape` member variable."
   ]
  },
  {
   "cell_type": "code",
   "execution_count": 5,
   "id": "9707b8fb-5fc4-41fb-bc63-496e4f34d675",
   "metadata": {
    "colab": {
     "base_uri": "https://localhost:8080/"
    },
    "executionInfo": {
     "elapsed": 329,
     "status": "ok",
     "timestamp": 1615072002127,
     "user": {
      "displayName": "Santiago Mondragón Gómez",
      "photoUrl": "https://lh3.googleusercontent.com/a-/AOh14Gh8R-q32gOlh13EiQTzmP34aJX7HrfLdR3-OyJVLg=s64",
      "userId": "04334286989014486685"
     },
     "user_tz": 300
    },
    "id": "EjkBuBPrtewR",
    "outputId": "738fa26b-23ac-4bcf-bd3b-7f908115e531"
   },
   "outputs": [
    {
     "name": "stdout",
     "output_type": "stream",
     "text": [
      "(2, 2)\n"
     ]
    }
   ],
   "source": [
    "print(A.shape)"
   ]
  },
  {
   "cell_type": "markdown",
   "id": "59ad2435-69bb-424b-9912-bf38826d4fbd",
   "metadata": {
    "id": "fBe5MBkptewS"
   },
   "source": [
    "Arrays are indexed in much the same way as lists in Python. Elements of a list begin indexing from $0$ and end at $n - 1$, where $n$ is the length of the array."
   ]
  },
  {
   "cell_type": "code",
   "execution_count": 6,
   "id": "19dc16ea-72aa-4b85-894e-efeb097cb836",
   "metadata": {
    "colab": {
     "base_uri": "https://localhost:8080/"
    },
    "executionInfo": {
     "elapsed": 345,
     "status": "ok",
     "timestamp": 1615072011950,
     "user": {
      "displayName": "Santiago Mondragón Gómez",
      "photoUrl": "https://lh3.googleusercontent.com/a-/AOh14Gh8R-q32gOlh13EiQTzmP34aJX7HrfLdR3-OyJVLg=s64",
      "userId": "04334286989014486685"
     },
     "user_tz": 300
    },
    "id": "xXEYOxmWtewS",
    "outputId": "ce8539b5-8214-4f2f-8d8b-c22b0661a021"
   },
   "outputs": [
    {
     "name": "stdout",
     "output_type": "stream",
     "text": [
      "3.5 4.2\n"
     ]
    }
   ],
   "source": [
    "print(returns[0], returns[-1])"
   ]
  },
  {
   "cell_type": "markdown",
   "id": "2f1a7e38-17cd-4a23-8fdd-6bf3df317b01",
   "metadata": {
    "id": "2uP_ZR56tewT"
   },
   "source": [
    "We can take a slice of an array using a colon, just like in a list."
   ]
  },
  {
   "cell_type": "code",
   "execution_count": 7,
   "id": "116066ec-c722-4e37-84fc-645d680a33e2",
   "metadata": {
    "colab": {
     "base_uri": "https://localhost:8080/"
    },
    "executionInfo": {
     "elapsed": 1443,
     "status": "ok",
     "timestamp": 1615072022712,
     "user": {
      "displayName": "Santiago Mondragón Gómez",
      "photoUrl": "https://lh3.googleusercontent.com/a-/AOh14Gh8R-q32gOlh13EiQTzmP34aJX7HrfLdR3-OyJVLg=s64",
      "userId": "04334286989014486685"
     },
     "user_tz": 300
    },
    "id": "78XK4z7utewU",
    "outputId": "0b3bf0e3-8dd6-4fd2-b70d-9b30dd9c5d55"
   },
   "outputs": [
    {
     "name": "stdout",
     "output_type": "stream",
     "text": [
      "[5. 2.]\n"
     ]
    }
   ],
   "source": [
    "print(returns[1:3])"
   ]
  },
  {
   "cell_type": "markdown",
   "id": "cadbd6f4-1f6f-4b8d-bdb2-932e91231ae8",
   "metadata": {
    "id": "Npj3zXXTtewU"
   },
   "source": [
    "A slice of an array, like in a list, will select a group of elements in the array starting from the first element indicated and going up to (but not including) the last element indicated.\n",
    "\n",
    "In the case of multidimensional arrays, many of the same conventions with slicing and indexing hold. We can access the first column of a 2-dimensional array like so:"
   ]
  },
  {
   "cell_type": "code",
   "execution_count": 8,
   "id": "f24742a5-e322-49c4-9d64-9c9903e6abc2",
   "metadata": {
    "colab": {
     "base_uri": "https://localhost:8080/"
    },
    "executionInfo": {
     "elapsed": 317,
     "status": "ok",
     "timestamp": 1615072032235,
     "user": {
      "displayName": "Santiago Mondragón Gómez",
      "photoUrl": "https://lh3.googleusercontent.com/a-/AOh14Gh8R-q32gOlh13EiQTzmP34aJX7HrfLdR3-OyJVLg=s64",
      "userId": "04334286989014486685"
     },
     "user_tz": 300
    },
    "id": "LVA-eCvmtewV",
    "outputId": "eea62eb9-c7fd-4b41-82a4-8cd6367c78bf"
   },
   "outputs": [
    {
     "name": "stdout",
     "output_type": "stream",
     "text": [
      "[1 3]\n"
     ]
    }
   ],
   "source": [
    "print(A[:, 0])"
   ]
  },
  {
   "cell_type": "markdown",
   "id": "95aa615d-e35b-4921-aaa6-ad4fbe4c9fa0",
   "metadata": {
    "id": "qeazUMOjtewW"
   },
   "source": [
    "And the first row of a 2-dimensional array like so:"
   ]
  },
  {
   "cell_type": "code",
   "execution_count": 9,
   "id": "2537346e-7c47-4db6-acea-397d0d9b794e",
   "metadata": {
    "colab": {
     "base_uri": "https://localhost:8080/"
    },
    "executionInfo": {
     "elapsed": 721,
     "status": "ok",
     "timestamp": 1615151377558,
     "user": {
      "displayName": "Santiago Mondragón Gómez",
      "photoUrl": "https://lh3.googleusercontent.com/a-/AOh14Gh8R-q32gOlh13EiQTzmP34aJX7HrfLdR3-OyJVLg=s64",
      "userId": "04334286989014486685"
     },
     "user_tz": 300
    },
    "id": "_Aw5dIjvtewW",
    "outputId": "13d8e721-27be-4ccc-8e12-a1e67a610bf9"
   },
   "outputs": [
    {
     "name": "stdout",
     "output_type": "stream",
     "text": [
      "[1 2]\n"
     ]
    }
   ],
   "source": [
    "print(A[0, :])"
   ]
  },
  {
   "cell_type": "markdown",
   "id": "0bf37282-ffd2-4a99-846c-d47bcef15617",
   "metadata": {
    "id": "EkbLOrvYtewX"
   },
   "source": [
    "Notice that each slice of the array returns yet another array!"
   ]
  },
  {
   "cell_type": "code",
   "execution_count": 10,
   "id": "c9651b49-543c-4e11-8352-b135b934b0d7",
   "metadata": {
    "colab": {
     "base_uri": "https://localhost:8080/"
    },
    "executionInfo": {
     "elapsed": 701,
     "status": "ok",
     "timestamp": 1615151373754,
     "user": {
      "displayName": "Santiago Mondragón Gómez",
      "photoUrl": "https://lh3.googleusercontent.com/a-/AOh14Gh8R-q32gOlh13EiQTzmP34aJX7HrfLdR3-OyJVLg=s64",
      "userId": "04334286989014486685"
     },
     "user_tz": 300
    },
    "id": "G96tKvx7tewX",
    "outputId": "7fe90605-c90f-4abc-f3c6-49ea02373896"
   },
   "outputs": [
    {
     "name": "stdout",
     "output_type": "stream",
     "text": [
      "<class 'numpy.ndarray'>\n"
     ]
    }
   ],
   "source": [
    "print(type(A[0,:]))"
   ]
  },
  {
   "cell_type": "markdown",
   "id": "c6182be8-8bd0-4f35-8402-6d2b88470bdc",
   "metadata": {
    "id": "762tZu_AtewY"
   },
   "source": [
    "Passing only one index to a 2-dimensional array will result in returning the row with the given index as well, providing us with another way to access individual rows."
   ]
  },
  {
   "cell_type": "code",
   "execution_count": 11,
   "id": "4233db60-2312-4323-a925-04fce216fc94",
   "metadata": {
    "colab": {
     "base_uri": "https://localhost:8080/"
    },
    "executionInfo": {
     "elapsed": 672,
     "status": "ok",
     "timestamp": 1615151379964,
     "user": {
      "displayName": "Santiago Mondragón Gómez",
      "photoUrl": "https://lh3.googleusercontent.com/a-/AOh14Gh8R-q32gOlh13EiQTzmP34aJX7HrfLdR3-OyJVLg=s64",
      "userId": "04334286989014486685"
     },
     "user_tz": 300
    },
    "id": "vOfhIl3MtewY",
    "outputId": "4b09e6f0-63e8-4c97-e315-64211b603bd1"
   },
   "outputs": [
    {
     "name": "stdout",
     "output_type": "stream",
     "text": [
      "[1 2]\n"
     ]
    }
   ],
   "source": [
    "print(A[0])"
   ]
  },
  {
   "cell_type": "markdown",
   "id": "b0eeed96-7103-49b5-970d-6b5391b2c0ec",
   "metadata": {
    "id": "drkcYS4StewZ"
   },
   "source": [
    "Accessing the index of an individual element will return only the element."
   ]
  },
  {
   "cell_type": "code",
   "execution_count": 12,
   "id": "3239b897-f7cb-4cea-8a16-f58231746200",
   "metadata": {
    "colab": {
     "base_uri": "https://localhost:8080/"
    },
    "executionInfo": {
     "elapsed": 411,
     "status": "ok",
     "timestamp": 1615151381080,
     "user": {
      "displayName": "Santiago Mondragón Gómez",
      "photoUrl": "https://lh3.googleusercontent.com/a-/AOh14Gh8R-q32gOlh13EiQTzmP34aJX7HrfLdR3-OyJVLg=s64",
      "userId": "04334286989014486685"
     },
     "user_tz": 300
    },
    "id": "RnrG1CGstewZ",
    "outputId": "c8351fdd-fd9d-43a1-a179-32a31be2d0f8"
   },
   "outputs": [
    {
     "name": "stdout",
     "output_type": "stream",
     "text": [
      "4\n"
     ]
    }
   ],
   "source": [
    "print(A[1, 1])"
   ]
  },
  {
   "cell_type": "markdown",
   "id": "3f173a5c-c3e1-418b-8ecc-7583f37c7fbf",
   "metadata": {
    "id": "VgeNbdIUtewa"
   },
   "source": [
    "#### Array functions\n",
    "\n",
    "Functions built into NumPy can be easily called on arrays. Most functions are applied to an array element-wise (as scalar multiplication is). For example, if we call `log()` on an array, the logarithm will be taken of each element."
   ]
  },
  {
   "cell_type": "code",
   "execution_count": 13,
   "id": "f0f92e96-2bca-4941-b7a5-0c836d226fa4",
   "metadata": {
    "colab": {
     "base_uri": "https://localhost:8080/"
    },
    "executionInfo": {
     "elapsed": 672,
     "status": "ok",
     "timestamp": 1615151393612,
     "user": {
      "displayName": "Santiago Mondragón Gómez",
      "photoUrl": "https://lh3.googleusercontent.com/a-/AOh14Gh8R-q32gOlh13EiQTzmP34aJX7HrfLdR3-OyJVLg=s64",
      "userId": "04334286989014486685"
     },
     "user_tz": 300
    },
    "id": "lDU431Nvtewa",
    "outputId": "8a4b7433-6482-447b-e57d-3897a805ac7b"
   },
   "outputs": [
    {
     "name": "stdout",
     "output_type": "stream",
     "text": [
      "[1.25276297 1.60943791 0.69314718 2.07944154 1.43508453]\n"
     ]
    }
   ],
   "source": [
    "print(np.log(returns))"
   ]
  },
  {
   "cell_type": "markdown",
   "id": "778bc535-88cb-4725-aa72-068212b3446d",
   "metadata": {
    "id": "0sopuSnBfMTD"
   },
   "source": [
    "$$\\log{(3.5)} = 1.25276297$$\r\n",
    "$$\\log{(5)} = 1.60943791$$\r\n",
    "$$\\log{(2)} =  0.69314718$$\r\n",
    "$$\\log{(8)} =  2.07944154$$\r\n",
    "$$\\log{(4.2)} = 1.43508453$$"
   ]
  },
  {
   "cell_type": "markdown",
   "id": "f3424d0f-4b67-4c2c-90ea-8e3bd1acedc7",
   "metadata": {
    "id": "8iwSUH0Htewb"
   },
   "source": [
    "Some functions return a single value. This is because they treat the array as a collection (similar to a list), performing the designated function. For example, the `mean()` function will do exactly what you expect, calculating the mean of an array."
   ]
  },
  {
   "cell_type": "code",
   "execution_count": 14,
   "id": "7b9475bb-0bdb-4ab6-92a1-1d3b30f9b338",
   "metadata": {
    "colab": {
     "base_uri": "https://localhost:8080/"
    },
    "executionInfo": {
     "elapsed": 805,
     "status": "ok",
     "timestamp": 1615151405387,
     "user": {
      "displayName": "Santiago Mondragón Gómez",
      "photoUrl": "https://lh3.googleusercontent.com/a-/AOh14Gh8R-q32gOlh13EiQTzmP34aJX7HrfLdR3-OyJVLg=s64",
      "userId": "04334286989014486685"
     },
     "user_tz": 300
    },
    "id": "7yOzfoKdtewc",
    "outputId": "42a67d0b-acba-4ed7-ed53-f4bcd1b8b382"
   },
   "outputs": [
    {
     "name": "stdout",
     "output_type": "stream",
     "text": [
      "4.54\n"
     ]
    }
   ],
   "source": [
    "print(np.mean(returns))"
   ]
  },
  {
   "cell_type": "markdown",
   "id": "ea607bb9-38f8-45f1-8ada-d589a35a1cff",
   "metadata": {
    "id": "UpICamdztewd"
   },
   "source": [
    "Or the `max()` function will return the maximum element of an array."
   ]
  },
  {
   "cell_type": "code",
   "execution_count": 15,
   "id": "906b89fe-980a-4e43-bd51-2f2227355f65",
   "metadata": {
    "colab": {
     "base_uri": "https://localhost:8080/"
    },
    "executionInfo": {
     "elapsed": 622,
     "status": "ok",
     "timestamp": 1615151412844,
     "user": {
      "displayName": "Santiago Mondragón Gómez",
      "photoUrl": "https://lh3.googleusercontent.com/a-/AOh14Gh8R-q32gOlh13EiQTzmP34aJX7HrfLdR3-OyJVLg=s64",
      "userId": "04334286989014486685"
     },
     "user_tz": 300
    },
    "id": "M73phQZTtewe",
    "outputId": "dce3925b-958d-41bf-d614-1b97b5051fcc"
   },
   "outputs": [
    {
     "name": "stdout",
     "output_type": "stream",
     "text": [
      "8.0\n"
     ]
    }
   ],
   "source": [
    "print(np.max(returns))"
   ]
  },
  {
   "cell_type": "markdown",
   "id": "a98a99f4-1257-4544-8466-983d24400694",
   "metadata": {
    "id": "K1515_tMtewf"
   },
   "source": [
    "For further reading on the universal functions in NumPy, check out the [documentation](https://docs.scipy.org/doc/numpy/user/quickstart.html#universal-functions)."
   ]
  },
  {
   "cell_type": "markdown",
   "id": "b22a8139-1b4b-4eea-8f17-66f387629d4d",
   "metadata": {
    "id": "G9J3lLRWtewf"
   },
   "source": [
    "### Return to the returns\n",
    "\n",
    "Now let's modify our returns array with scalar values. If we add a scalar value to an array it will be added to every element of the array. If we multiply an array by a scalar value it will be multiplied against every element of the array. If we do both, both will happen!"
   ]
  },
  {
   "cell_type": "code",
   "execution_count": 17,
   "id": "55541c56-ad29-432a-835c-185c28cd137d",
   "metadata": {
    "colab": {
     "base_uri": "https://localhost:8080/"
    },
    "executionInfo": {
     "elapsed": 652,
     "status": "ok",
     "timestamp": 1615151420279,
     "user": {
      "displayName": "Santiago Mondragón Gómez",
      "photoUrl": "https://lh3.googleusercontent.com/a-/AOh14Gh8R-q32gOlh13EiQTzmP34aJX7HrfLdR3-OyJVLg=s64",
      "userId": "04334286989014486685"
     },
     "user_tz": 300
    },
    "id": "MBtXsffBtewg",
    "outputId": "308f6c64-38a7-4add-e582-6fdebf4adb2b"
   },
   "outputs": [
    {
     "data": {
      "text/plain": [
       "array([12. , 15. ,  9. , 21. , 13.4])"
      ]
     },
     "execution_count": 17,
     "metadata": {},
     "output_type": "execute_result"
    }
   ],
   "source": [
    "returns*2 + 5"
   ]
  },
  {
   "cell_type": "markdown",
   "id": "af17a34e-6f56-4f74-8a4e-189ea0a2537b",
   "metadata": {
    "id": "HKeC-3E2tewh"
   },
   "source": [
    "NumPy also has functions specifically built to operate on arrays. Let's take the mean and standard deviation of this group of returns."
   ]
  },
  {
   "cell_type": "code",
   "execution_count": 18,
   "id": "204803a0-0ee7-494f-ba52-d9a8f806fbc3",
   "metadata": {
    "colab": {
     "base_uri": "https://localhost:8080/"
    },
    "executionInfo": {
     "elapsed": 632,
     "status": "ok",
     "timestamp": 1615151430616,
     "user": {
      "displayName": "Santiago Mondragón Gómez",
      "photoUrl": "https://lh3.googleusercontent.com/a-/AOh14Gh8R-q32gOlh13EiQTzmP34aJX7HrfLdR3-OyJVLg=s64",
      "userId": "04334286989014486685"
     },
     "user_tz": 300
    },
    "id": "etWAispstewh",
    "outputId": "aa39d75e-d4ae-44e1-afdd-b04e3c2ee8df"
   },
   "outputs": [
    {
     "name": "stdout",
     "output_type": "stream",
     "text": [
      "Mean:  4.54 Std Dev:  1.9915822855207364\n"
     ]
    }
   ],
   "source": [
    "print(\"Mean: \", np.mean(returns), \"Std Dev: \", np.std(returns))"
   ]
  },
  {
   "cell_type": "markdown",
   "id": "81e81ce5-0b9e-4743-acb8-43ea06908484",
   "metadata": {
    "id": "iVjpqy6iighV"
   },
   "source": [
    "$$\\overline{x} = 4,54$$\r\n",
    "$$\\sigma = 1.9915822855207364$$"
   ]
  },
  {
   "cell_type": "markdown",
   "id": "a3faec19-33cb-44a0-9903-80ddba1a2b1f",
   "metadata": {
    "id": "sQf234Qttewi"
   },
   "source": [
    "Let's simulate a universe of stocks using NumPy's functions. First we need to create the arrays to hold the assets and returns that we will use to build a portfolio. This is because arrays are created with a fixed size. Their dimensions can't be changed without creating a new array."
   ]
  },
  {
   "cell_type": "code",
   "execution_count": 19,
   "id": "2fb68996-9b1d-458b-9369-be9c33382400",
   "metadata": {
    "executionInfo": {
     "elapsed": 834,
     "status": "ok",
     "timestamp": 1615151436837,
     "user": {
      "displayName": "Santiago Mondragón Gómez",
      "photoUrl": "https://lh3.googleusercontent.com/a-/AOh14Gh8R-q32gOlh13EiQTzmP34aJX7HrfLdR3-OyJVLg=s64",
      "userId": "04334286989014486685"
     },
     "user_tz": 300
    },
    "id": "zHd1lZHMtewi",
    "tags": []
   },
   "outputs": [],
   "source": [
    "N = 10\n",
    "assets = np.zeros((N, 100))\n",
    "returns = np.zeros((N, 100))"
   ]
  },
  {
   "cell_type": "markdown",
   "id": "4f633969-d05c-4fc3-8e27-0c5aff186e46",
   "metadata": {
    "id": "HpbFihDutewj"
   },
   "source": [
    "This function, `zeroes()`, creates a NumPy array with the given dimensions that is entirely filled in with $0$. We can pass a single value or a tuple of as many dimensions as we like. Passing in the tuple `(N, 100)`, will return a two-dimensional array with $N$ rows and $100$ columns. Our result is a $N \\times 100$ array.\n",
    "\n",
    "Now we will simulate a base asset. We want the universe of stocks to be correlated with each other so we will use this initial value to generate the others."
   ]
  },
  {
   "cell_type": "code",
   "execution_count": 20,
   "id": "4411b07b-307c-46b2-a29f-b713feaa805e",
   "metadata": {
    "executionInfo": {
     "elapsed": 733,
     "status": "ok",
     "timestamp": 1615151440739,
     "user": {
      "displayName": "Santiago Mondragón Gómez",
      "photoUrl": "https://lh3.googleusercontent.com/a-/AOh14Gh8R-q32gOlh13EiQTzmP34aJX7HrfLdR3-OyJVLg=s64",
      "userId": "04334286989014486685"
     },
     "user_tz": 300
    },
    "id": "AK8CbrrWtewj"
   },
   "outputs": [],
   "source": [
    "R_1 = np.random.normal(1.01, 0.03, 100)\n",
    "returns[0] = R_1\n",
    "assets[0] = np.cumprod(R_1)"
   ]
  },
  {
   "cell_type": "markdown",
   "id": "cef3450c-a2ff-4935-b9b1-b7c9fbf92c6a",
   "metadata": {
    "id": "3Z75ZRahtewk"
   },
   "source": [
    "The `random` module in NumPy is exceedingly useful. It contains methods for sampling from many different probability distributions, some of which are covered in the [random variables lecture](https://www.quantopian.com/lectures/random-variables) in the Quantopian lecture series. In this case we draw $N = 100$ random samples from a normal distribution with mean $1.01$ and standard deviation $0.03$. We treat these as the daily percentage returns of our asset and take the cumulative product of these samples to get the current price.\n",
    "\n",
    "The way we have generated our universe, the the individual $R_i$ vectors are each 1-dimensional arrays and the `returns` and `assets` variables contain 2-dimensional arrays. Above, we set the initial row of both `returns` and `assets` to be the first $R_i$ vector and the cumulative asset price based on those returns, respectively.\n",
    "\n",
    "We will now use this base asset to create a few other random assets that are correlated with it."
   ]
  },
  {
   "cell_type": "code",
   "execution_count": 21,
   "id": "3c87e829-e083-477a-86b2-a674c45ba344",
   "metadata": {
    "executionInfo": {
     "elapsed": 497,
     "status": "ok",
     "timestamp": 1615151531664,
     "user": {
      "displayName": "Santiago Mondragón Gómez",
      "photoUrl": "https://lh3.googleusercontent.com/a-/AOh14Gh8R-q32gOlh13EiQTzmP34aJX7HrfLdR3-OyJVLg=s64",
      "userId": "04334286989014486685"
     },
     "user_tz": 300
    },
    "id": "TiY0VbFGtewk"
   },
   "outputs": [],
   "source": [
    "# Generate assets that are correlated with R_1\n",
    "for i in range(1, N):\n",
    "    R_i = R_1 + np.random.normal(0.001, 0.02, 100)\n",
    "    returns[i] = R_i # Set each row of returns equal to the new R_i array\n",
    "    assets[i] = np.cumprod(R_i)\n",
    "    \n",
    "mean_returns = [(np.mean(R) - 1)*100 for R in returns]\n",
    "return_volatilities = [np.std(R) for R in returns]"
   ]
  },
  {
   "cell_type": "markdown",
   "id": "054f892a-def3-477b-9ed3-b100a0da46fb",
   "metadata": {
    "id": "6-vIs21Ntewl"
   },
   "source": [
    "Here we generate the remaining $N - 1$ securities that we want in our universe by adding random noise to $R_1$. This ensures that our $N - 1$ other assets will be correlated with the base asset because they have some underlying information that is shared.\n",
    "\n",
    "Let's plot what the mean return of each asset looks like:"
   ]
  },
  {
   "cell_type": "code",
   "execution_count": 22,
   "id": "9599cd82-9a14-4967-8734-da1a42f1b54c",
   "metadata": {
    "colab": {
     "base_uri": "https://localhost:8080/",
     "height": 295
    },
    "executionInfo": {
     "elapsed": 692,
     "status": "ok",
     "timestamp": 1615152138369,
     "user": {
      "displayName": "Santiago Mondragón Gómez",
      "photoUrl": "https://lh3.googleusercontent.com/a-/AOh14Gh8R-q32gOlh13EiQTzmP34aJX7HrfLdR3-OyJVLg=s64",
      "userId": "04334286989014486685"
     },
     "user_tz": 300
    },
    "id": "McJJXWO9tewl",
    "outputId": "23a04656-5bbe-4b96-ec71-468973338588"
   },
   "outputs": [
    {
     "data": {
      "image/png": "[encoded data removed]",
      "text/plain": [
       "<Figure size 432x288 with 1 Axes>"
      ]
     },
     "metadata": {
      "needs_background": "light"
     },
     "output_type": "display_data"
    }
   ],
   "source": [
    "plt.bar(np.arange(len(mean_returns)), mean_returns)\n",
    "plt.xlabel('Stock')\n",
    "plt.ylabel('Returns')\n",
    "plt.title('Returns for {0} Random Assets'.format(N));"
   ]
  },
  {
   "cell_type": "markdown",
   "id": "cf124b84-33f5-4e15-990e-458f1cb06328",
   "metadata": {
    "id": "0EFDosEJtewo"
   },
   "source": [
    "### Calculating Expected Return\n",
    "\n",
    "So we have a universe of stocks. Great! Now let's put them together in a portfolio and calculate its expected return and risk.\n",
    "\n",
    "We will start off by generating $N$ random weights for each asset in our portfolio."
   ]
  },
  {
   "cell_type": "code",
   "execution_count": 23,
   "id": "7ecabcea-6b3d-48ea-b4ad-5077baaa63bb",
   "metadata": {
    "executionInfo": {
     "elapsed": 631,
     "status": "ok",
     "timestamp": 1615152562141,
     "user": {
      "displayName": "Santiago Mondragón Gómez",
      "photoUrl": "https://lh3.googleusercontent.com/a-/AOh14Gh8R-q32gOlh13EiQTzmP34aJX7HrfLdR3-OyJVLg=s64",
      "userId": "04334286989014486685"
     },
     "user_tz": 300
    },
    "id": "vUG0UvvZtewp"
   },
   "outputs": [],
   "source": [
    "weights = np.random.uniform(0, 1, N)\n",
    "weights = weights/np.sum(weights)"
   ]
  },
  {
   "cell_type": "markdown",
   "id": "b67d13e0-0ab1-4f63-b05f-dc5f5cc4ef91",
   "metadata": {
    "id": "uUm29Vxstewp"
   },
   "source": [
    "We have to rescale the weights so that they all add up to $1$. We do this by scaling the weights vector by the sum total of all the weights. This step ensures that we will be using $100\\%$ of the portfolio's cash.\n",
    "\n",
    "To calculate the mean return of the portfolio, we have to scale each asset's return by its designated weight. We can pull each element of each array and multiply them individually, but it's quicker to use NumPy's linear algebra methods. The function that we want is `dot()`. This will calculate the dot product between two arrays for us. So if $v = \\left[ 1, 2, 3 \\right]$ and $w = \\left[4, 5, 6 \\right]$, then:\n",
    "\n",
    "$$ v \\cdot w = 1 \\times 4 + 2 \\times 5 + 3 \\times 6 $$\n",
    "\n",
    "For a one-dimensional vector, the dot product will multiply each element pointwise and add all the products together! In our case, we have a vector of weights, $\\omega = \\left[ \\omega_1, \\omega_2, \\dots \\omega_N\\right]$ and a vector of returns, $\\mu = \\left[ \\mu_1, \\mu_2, \\dots, \\mu_N\\right]$. If we take the dot product of these two we will get:\n",
    "\n",
    "$$ \\omega \\cdot \\mu = \\omega_1\\mu_1 + \\omega_2\\mu_2 + \\dots + \\omega_N\\mu_N = \\mu_P $$\n",
    "\n",
    "This yields the sum of all the asset returns scaled by their respective weights. This the the portfolio's overall expected return!"
   ]
  },
  {
   "cell_type": "code",
   "execution_count": 24,
   "id": "0e5a6582-2e32-4ea9-b641-f6bb4459fee1",
   "metadata": {
    "colab": {
     "base_uri": "https://localhost:8080/"
    },
    "executionInfo": {
     "elapsed": 927,
     "status": "ok",
     "timestamp": 1615153545249,
     "user": {
      "displayName": "Santiago Mondragón Gómez",
      "photoUrl": "https://lh3.googleusercontent.com/a-/AOh14Gh8R-q32gOlh13EiQTzmP34aJX7HrfLdR3-OyJVLg=s64",
      "userId": "04334286989014486685"
     },
     "user_tz": 300
    },
    "id": "FSTzj0Y0tewq",
    "outputId": "1341a8df-99b9-45f8-9b6d-02cc93a5d5df"
   },
   "outputs": [
    {
     "name": "stdout",
     "output_type": "stream",
     "text": [
      "Expected return of the portfolio:  1.173218049430246\n"
     ]
    }
   ],
   "source": [
    "p_returns = np.dot(weights, mean_returns)\n",
    "print(\"Expected return of the portfolio: \", p_returns)"
   ]
  },
  {
   "cell_type": "markdown",
   "id": "c1abd86b-667b-47e8-9d34-08cbf50b74f0",
   "metadata": {
    "id": "j2xtgne0tewr"
   },
   "source": [
    "Calculating the mean return is fairly intuitive and does not require too much explanation of linear algebra. However, calculating the variance of our portfolio requires a bit more background."
   ]
  },
  {
   "cell_type": "markdown",
   "id": "6f6b9fec-41a4-4ad5-aab2-2a21692cca37",
   "metadata": {
    "id": "g2KVhrC4tewr"
   },
   "source": [
    "#### Beware of NaN values\n",
    "\n",
    "Most of the time, all of these calculations will work without an issue. However, when working with real data we run the risk of having `nan` values in our arrays. This is NumPy's way of saying that the data there is missing or doesn't exist. These `nan` values can lead to errors in mathematical calculations so it is important to be aware of whether your array contains `nan` values and to know how to drop them."
   ]
  },
  {
   "cell_type": "code",
   "execution_count": 25,
   "id": "67d5ed7e-2283-4dd8-a3b6-3d88e391d567",
   "metadata": {
    "colab": {
     "base_uri": "https://localhost:8080/"
    },
    "executionInfo": {
     "elapsed": 641,
     "status": "ok",
     "timestamp": 1615153563740,
     "user": {
      "displayName": "Santiago Mondragón Gómez",
      "photoUrl": "https://lh3.googleusercontent.com/a-/AOh14Gh8R-q32gOlh13EiQTzmP34aJX7HrfLdR3-OyJVLg=s64",
      "userId": "04334286989014486685"
     },
     "user_tz": 300
    },
    "id": "CmZy8meDtews",
    "outputId": "f140c4e9-3c7b-4eb2-fe6d-fcc440af03f5"
   },
   "outputs": [
    {
     "name": "stdout",
     "output_type": "stream",
     "text": [
      "[ 1.  2. nan  4.  5.]\n"
     ]
    }
   ],
   "source": [
    "v = np.array([1, 2, np.nan, 4, 5])\n",
    "print(v)"
   ]
  },
  {
   "cell_type": "markdown",
   "id": "72def2bf-69f4-40ea-991a-306f21dc0afe",
   "metadata": {
    "id": "9_wKSF34tewt"
   },
   "source": [
    "Let's see what happens when we try to take the mean of this array."
   ]
  },
  {
   "cell_type": "code",
   "execution_count": 26,
   "id": "019c4a6b-bd8d-4538-a9f0-845585bc9435",
   "metadata": {
    "colab": {
     "base_uri": "https://localhost:8080/"
    },
    "executionInfo": {
     "elapsed": 667,
     "status": "ok",
     "timestamp": 1615153577316,
     "user": {
      "displayName": "Santiago Mondragón Gómez",
      "photoUrl": "https://lh3.googleusercontent.com/a-/AOh14Gh8R-q32gOlh13EiQTzmP34aJX7HrfLdR3-OyJVLg=s64",
      "userId": "04334286989014486685"
     },
     "user_tz": 300
    },
    "id": "7amBYsyGtewt",
    "outputId": "17ad3117-b681-4f39-a688-fe604d56f605"
   },
   "outputs": [
    {
     "name": "stdout",
     "output_type": "stream",
     "text": [
      "nan\n"
     ]
    }
   ],
   "source": [
    "print(np.mean(v))"
   ]
  },
  {
   "cell_type": "markdown",
   "id": "7b46b288-150f-4756-a429-2a929fe29a9b",
   "metadata": {
    "id": "JZgvAiDvtewu"
   },
   "source": [
    "Clearly, `nan` values can have a large impact on our calculations. Fortunately, we can check for `nan` values with the `isnan()` function."
   ]
  },
  {
   "cell_type": "code",
   "execution_count": 27,
   "id": "0f0ab012-0a03-427c-8f36-a5e77d5e4c51",
   "metadata": {
    "colab": {
     "base_uri": "https://localhost:8080/"
    },
    "executionInfo": {
     "elapsed": 664,
     "status": "ok",
     "timestamp": 1615153582029,
     "user": {
      "displayName": "Santiago Mondragón Gómez",
      "photoUrl": "https://lh3.googleusercontent.com/a-/AOh14Gh8R-q32gOlh13EiQTzmP34aJX7HrfLdR3-OyJVLg=s64",
      "userId": "04334286989014486685"
     },
     "user_tz": 300
    },
    "id": "LRAxfXwZtewu",
    "outputId": "3de841cf-4dd4-4909-d28c-042e8ee2ecbb"
   },
   "outputs": [
    {
     "data": {
      "text/plain": [
       "array([False, False,  True, False, False])"
      ]
     },
     "execution_count": 27,
     "metadata": {},
     "output_type": "execute_result"
    }
   ],
   "source": [
    "np.isnan(v)"
   ]
  },
  {
   "cell_type": "markdown",
   "id": "754ab85b-aaf0-4ec0-b519-976f9a2c9991",
   "metadata": {
    "id": "fO6Oxrjetewv"
   },
   "source": [
    "Calling `isnan()` on an array will call the function on each value of the array, returning a value of `True` if the element is `nan` and `False` if the element is valid. Now, knowing whether your array contains `nan` values is all well and good, but how do we remove `nan`s? Handily enough, NumPy arrays can be indexed by boolean values (`True` or `False`). If we use a boolean array to index an array, we will remove all values of the array that register as `False` under the condition. We use the `isnan()` function in create a boolean array, assigning a `True` value to everything that is *not* `nan` and a `False` to the `nan`s and we use that to index the same array."
   ]
  },
  {
   "cell_type": "code",
   "execution_count": 28,
   "id": "cc07852b-ef6a-427b-82ee-5456e1a4d3f0",
   "metadata": {
    "colab": {
     "base_uri": "https://localhost:8080/"
    },
    "executionInfo": {
     "elapsed": 658,
     "status": "ok",
     "timestamp": 1615153617224,
     "user": {
      "displayName": "Santiago Mondragón Gómez",
      "photoUrl": "https://lh3.googleusercontent.com/a-/AOh14Gh8R-q32gOlh13EiQTzmP34aJX7HrfLdR3-OyJVLg=s64",
      "userId": "04334286989014486685"
     },
     "user_tz": 300
    },
    "id": "VNAVz2mNtewv",
    "outputId": "cf185467-8e78-4661-f142-667f9930f73a"
   },
   "outputs": [
    {
     "name": "stdout",
     "output_type": "stream",
     "text": [
      "[1. 2. 4. 5.]\n"
     ]
    }
   ],
   "source": [
    "ix = ~np.isnan(v) # the ~ indicates a logical not, inverting the bools\n",
    "print(v[ix])# We can also just write v = v[~np.isnan(v)]"
   ]
  },
  {
   "cell_type": "code",
   "execution_count": 29,
   "id": "4e2d0db3-3c86-46e9-90dd-9f439d5ff05e",
   "metadata": {
    "colab": {
     "base_uri": "https://localhost:8080/"
    },
    "executionInfo": {
     "elapsed": 682,
     "status": "ok",
     "timestamp": 1615153646611,
     "user": {
      "displayName": "Santiago Mondragón Gómez",
      "photoUrl": "https://lh3.googleusercontent.com/a-/AOh14Gh8R-q32gOlh13EiQTzmP34aJX7HrfLdR3-OyJVLg=s64",
      "userId": "04334286989014486685"
     },
     "user_tz": 300
    },
    "id": "oULn_wbkteww",
    "outputId": "6197526a-4ec3-4db7-8a5f-a1222e746512"
   },
   "outputs": [
    {
     "name": "stdout",
     "output_type": "stream",
     "text": [
      "3.0\n"
     ]
    }
   ],
   "source": [
    "print(np.mean(v[ix]))"
   ]
  },
  {
   "cell_type": "markdown",
   "id": "90d6d65c-b43f-4f5c-8786-d2ce6d59ca7c",
   "metadata": {
    "id": "yFQVvENkteww"
   },
   "source": [
    "There are a few shortcuts to this process in the form of NumPy functions specifically built to handle them, such as `nanmean()`."
   ]
  },
  {
   "cell_type": "code",
   "execution_count": 30,
   "id": "6de924cb-8b5f-4e6c-bcd1-209bb57c28c8",
   "metadata": {
    "colab": {
     "base_uri": "https://localhost:8080/"
    },
    "executionInfo": {
     "elapsed": 660,
     "status": "ok",
     "timestamp": 1615153654878,
     "user": {
      "displayName": "Santiago Mondragón Gómez",
      "photoUrl": "https://lh3.googleusercontent.com/a-/AOh14Gh8R-q32gOlh13EiQTzmP34aJX7HrfLdR3-OyJVLg=s64",
      "userId": "04334286989014486685"
     },
     "user_tz": 300
    },
    "id": "uIBj6dgvtewx",
    "outputId": "860a900c-581a-4141-cf97-0b7a71439fc9"
   },
   "outputs": [
    {
     "name": "stdout",
     "output_type": "stream",
     "text": [
      "3.0\n"
     ]
    }
   ],
   "source": [
    "print(np.nanmean(v))"
   ]
  },
  {
   "cell_type": "markdown",
   "id": "eb6705aa-40f4-45a4-a758-8a7f273acad2",
   "metadata": {
    "id": "-6gIoH_7tewx"
   },
   "source": [
    "The `nanmean()` function simply calculates the mean of the array as if there were no `nan` values at all! There are a few more of these functions, so feel free to read more about them in the [documentation](https://docs.scipy.org/doc/numpy/user/index.html). These indeterminate values are more an issue with data than linear algebra itself so it is helpful that there are ways to handle them."
   ]
  },
  {
   "cell_type": "markdown",
   "id": "0b0c85e8-c9ba-49d7-be43-d14338771f8b",
   "metadata": {
    "id": "xKaDzIgMtewx"
   },
   "source": [
    "### Conclusion\n",
    "\n",
    "Linear algebra is pervasive in finance and in general. For example, the calculation of *optimal* weights according to modern portfolio theory is done using linear algebra techniques. The arrays and functions in NumPy allow us to handle these calculations in an intuitive way. For a quick intro to linear algebra and how to use NumPy to do more significant matrix calculations, proceed to the next section."
   ]
  },
  {
   "cell_type": "markdown",
   "id": "de8602bd-d1b2-461b-b127-815015bb754a",
   "metadata": {
    "id": "S0xwAB87tewy"
   },
   "source": [
    "## A brief foray into linear algebra\n",
    "\n",
    "Let's start with a basic overview of some linear algebra. Linear algebra comes down to the multiplication and composition of scalar and matrix values. A scalar value is just a real number that we multiply against an array. When we scale a matrix or array using a scalar, we multiply each individual element of that matrix or array by the scalar.\n",
    "\n",
    "A matrix is a collection of values, typically represented by an $m \\times n$ grid, where $m$ is the number of rows and $n$ is the number of columns. The edge lengths $m$ and $n$ do not necessarily have to be different. If we have $m = n$, we call this a square matrix. A particularly interesting case of a matrix is when $m = 1$ or $n = 1$. In this case we have a special case of a matrix that we call a vector. While there is a matrix object in NumPy we will be doing everything using NumPy arrays because they can have dimensions greater than $2$. For the purpose of this section, we will be using matrix and array interchangeably.\n",
    "\n",
    "We can express the matrix equation as:\n",
    "\n",
    "$$ y = A\\cdot x $$\n",
    "\n",
    "Where $A$ is an $m \\times n$ matrix, $y$ is a $m \\times 1$ vector, and $x$ is a $n \\times 1$ vector. On the right-hand side of the equation we are multiplying a matrix by a vector. This requires a little bit more clarification, lest we think that we can go about multiplying any matrices by any other matrices.\n",
    "\n",
    "#### Matrix multiplication\n",
    "\n",
    "With matrix multiplication, the order in which the matrices are multiplied matters. Multiplying a matrix on the left side by another matrix may be just fine, but multiplying on the right may be undefined."
   ]
  },
  {
   "cell_type": "code",
   "execution_count": 31,
   "id": "33cfeb92-d99c-4904-839e-1f353c1fc154",
   "metadata": {
    "executionInfo": {
     "elapsed": 756,
     "status": "ok",
     "timestamp": 1615153733256,
     "user": {
      "displayName": "Santiago Mondragón Gómez",
      "photoUrl": "https://lh3.googleusercontent.com/a-/AOh14Gh8R-q32gOlh13EiQTzmP34aJX7HrfLdR3-OyJVLg=s64",
      "userId": "04334286989014486685"
     },
     "user_tz": 300
    },
    "id": "kR2ispU0tewy",
    "tags": []
   },
   "outputs": [],
   "source": [
    "A = np.array([\n",
    "        [1, 2, 3, 12, 6],\n",
    "        [4, 5, 6, 15, 20],\n",
    "        [7, 8, 9, 10, 10]        \n",
    "    ])\n",
    "B = np.array([\n",
    "        [4, 4, 2],\n",
    "        [2, 3, 1],\n",
    "        [6, 5, 8],\n",
    "        [9, 9, 9]\n",
    "    ])"
   ]
  },
  {
   "cell_type": "markdown",
   "id": "b4f0f460-c0e5-49db-8f7e-ec7587875c6b",
   "metadata": {
    "id": "TlvWqVP4tewy"
   },
   "source": [
    "Notice that the above-defined matrices, $A$ and $B$, have different dimensions. $A$ is $3 \\times 5$ and $B$ is $4 \\times 3$. The general rule of what can and cannot be multiplied in which order is based on the dimensions of the matrices. Specifically, the number of columns in the matrix on the left must be equal to the number of rows in the matrix on the right. In super informal terms, let's say that we have an $m \\times n$ matrix and a $p \\times q$ matrix. If we multiply the first by the second on the right, we get the following:\n",
    "\n",
    "$$ (m \\times n) \\cdot (p \\times q) = (m \\times q) $$\n",
    "\n",
    "So the resultant product has the same number of rows as the left matrix and the same number of columns as the right matrix. This limitation of matrix multiplication with regards to dimensions is important to keep track of when writing code. To demonstrate this, we use the `dot()` function to multiply our matrices below:"
   ]
  },
  {
   "cell_type": "code",
   "execution_count": 33,
   "id": "39abdc4b-9537-463d-a436-d5d3ef9c2f4d",
   "metadata": {
    "colab": {
     "base_uri": "https://localhost:8080/",
     "height": 197
    },
    "executionInfo": {
     "elapsed": 664,
     "status": "error",
     "timestamp": 1615154222331,
     "user": {
      "displayName": "Santiago Mondragón Gómez",
      "photoUrl": "https://lh3.googleusercontent.com/a-/AOh14Gh8R-q32gOlh13EiQTzmP34aJX7HrfLdR3-OyJVLg=s64",
      "userId": "04334286989014486685"
     },
     "user_tz": 300
    },
    "id": "kFtwFm2Ytewy",
    "outputId": "d6d32e04-714d-4ce5-8e3e-2d0b012b76cf"
   },
   "outputs": [
    {
     "ename": "ValueError",
     "evalue": "shapes (3,5) and (4,3) not aligned: 5 (dim 1) != 4 (dim 0)",
     "output_type": "error",
     "traceback": [
      "\u001b[0;31m---------------------------------------------------------------------------\u001b[0m",
      "\u001b[0;31mValueError\u001b[0m                                Traceback (most recent call last)",
      "\u001b[0;32m/tmp/ipykernel_58164/2982046822.py\u001b[0m in \u001b[0;36m<module>\u001b[0;34m\u001b[0m\n\u001b[0;32m----> 1\u001b[0;31m \u001b[0mprint\u001b[0m\u001b[0;34m(\u001b[0m\u001b[0mnp\u001b[0m\u001b[0;34m.\u001b[0m\u001b[0mdot\u001b[0m\u001b[0;34m(\u001b[0m\u001b[0mA\u001b[0m\u001b[0;34m,\u001b[0m \u001b[0mB\u001b[0m\u001b[0;34m)\u001b[0m\u001b[0;34m)\u001b[0m\u001b[0;34m\u001b[0m\u001b[0;34m\u001b[0m\u001b[0m\n\u001b[0m",
      "\u001b[0;32m<__array_function__ internals>\u001b[0m in \u001b[0;36mdot\u001b[0;34m(*args, **kwargs)\u001b[0m\n",
      "\u001b[0;31mValueError\u001b[0m: shapes (3,5) and (4,3) not aligned: 5 (dim 1) != 4 (dim 0)"
     ]
    }
   ],
   "source": [
    "print(np.dot(A, B))"
   ]
  },
  {
   "cell_type": "markdown",
   "id": "51c0ce84-a606-49ea-aa03-0ba1c01be3da",
   "metadata": {
    "id": "z4CNubGatewz"
   },
   "source": [
    "These results make sense in accordance with our rule. Multiplying a $3 \\times 5$ matrix on the right by a $4 \\times 3$ matrix results in an error while multiplying a $4 \\times 3$ matrix on the right by a $3 \\times 5$ matrix results in a $4 \\times 5$ matrix."
   ]
  },
  {
   "cell_type": "code",
   "execution_count": 34,
   "id": "d6d8b90c-7e47-4526-9a80-d2ca1bc9e9a0",
   "metadata": {
    "colab": {
     "base_uri": "https://localhost:8080/"
    },
    "executionInfo": {
     "elapsed": 650,
     "status": "ok",
     "timestamp": 1615154225466,
     "user": {
      "displayName": "Santiago Mondragón Gómez",
      "photoUrl": "https://lh3.googleusercontent.com/a-/AOh14Gh8R-q32gOlh13EiQTzmP34aJX7HrfLdR3-OyJVLg=s64",
      "userId": "04334286989014486685"
     },
     "user_tz": 300
    },
    "id": "y0CU1u3jtewz",
    "outputId": "6ab7b678-1ac6-4508-8412-55fa9084c8ff"
   },
   "outputs": [
    {
     "name": "stdout",
     "output_type": "stream",
     "text": [
      "[[ 34  44  54 128 124]\n",
      " [ 21  27  33  79  82]\n",
      " [ 82 101 120 227 216]\n",
      " [108 135 162 333 324]]\n"
     ]
    }
   ],
   "source": [
    "print(np.dot(B, A))"
   ]
  },
  {
   "cell_type": "markdown",
   "id": "2fd5bd58-a2cd-478a-8aeb-98147046649f",
   "metadata": {
    "id": "v4sI7YUn4bx9"
   },
   "source": [
    "$$\\begin{equation}\r\n",
    "\\begin{pmatrix}\r\n",
    "34 & 44 & 54 & 128 & 124\\\\\r\n",
    "21 & 27 & 33 & 79 & 82\\\\\r\n",
    "82 & 101 & 120 & 227 & 216\\\\\r\n",
    "108 & 135 & 162 & 333 & 324\r\n",
    "\\end{pmatrix}\r\n",
    "\\end{equation}$$"
   ]
  },
  {
   "cell_type": "markdown",
   "id": "5174734c-b78f-4a7a-8d42-1665bf80ede5",
   "metadata": {
    "id": "dYLjlc0Utew0"
   },
   "source": [
    "### Portfolio Variance\n",
    "\n",
    "Let's return to our portfolio example from before. We calculated the expected return of the portfolio, but how do we calculate the variance? We start by trying to evaluate the portfolio as a sum of each individual asset, scaled by it's weight.\n",
    "\n",
    "$$ VAR[P] = VAR[\\omega_1 S_1 + \\omega_2 S_2 + \\cdots + \\omega_N S_N] $$\n",
    "\n",
    "Where $S_0, \\cdots, S_N$ are the assets contained within our universe. If all of our assets were independent of each other, we could simply evaluate this as\n",
    "\n",
    "$$ VAR[P] = VAR[\\omega_1 S_1] + VAR[\\omega_2 S_2] + \\cdots + VAR[\\omega_N S_N] = \\omega_1^2\\sigma_1^2 + \\omega_2^2\\sigma_2^2 + \\cdots + \\omega_N^2\\sigma_N^2 $$\n",
    "\n",
    "However, all of our assets depend on each other by their construction. They are all in some way related to our base asset and therefore each other. We thus have to calculate the variance of the portfolio by including the individual pairwise covariances of each asset. Our formula for the variance of the portfolio:\n",
    "\n",
    "$$ VAR[P] = \\sigma_P^2 = \\sum_i \\omega_i^2\\sigma_i^2 + \\sum_i\\sum_{i\\neq j} \\omega_i\\omega_j\\sigma_i\\sigma_j\\rho_{i, j}, \\ i, j \\in \\lbrace 1, 2, \\cdots, N \\rbrace $$\n",
    "\n",
    "Where $\\rho_{i,j}$ is the correlation between $S_i$ and $S_j$, $\\rho_{i, j} = \\frac{COV[S_i, S_j]}{\\sigma_i\\sigma_j}$. This seems exceedingly complicated, but we can easily handle all of this using NumPy arrays. First, we calculate the covariance matrix that relates all the individual stocks in our universe."
   ]
  },
  {
   "cell_type": "code",
   "execution_count": 36,
   "id": "c633a2dc-874d-4be4-abe6-89df80748367",
   "metadata": {
    "colab": {
     "base_uri": "https://localhost:8080/"
    },
    "executionInfo": {
     "elapsed": 675,
     "status": "ok",
     "timestamp": 1615154399748,
     "user": {
      "displayName": "Santiago Mondragón Gómez",
      "photoUrl": "https://lh3.googleusercontent.com/a-/AOh14Gh8R-q32gOlh13EiQTzmP34aJX7HrfLdR3-OyJVLg=s64",
      "userId": "04334286989014486685"
     },
     "user_tz": 300
    },
    "id": "D521N3LUtew0",
    "outputId": "78e4fc1a-5a29-4cd0-d071-8e2ae5b66802"
   },
   "outputs": [
    {
     "name": "stdout",
     "output_type": "stream",
     "text": [
      "[[0.0008958  0.00079892 0.0009417  0.00091943 0.00091793 0.00095307\n",
      "  0.0008149  0.00092754 0.000824   0.00093538]\n",
      " [0.00079892 0.00116148 0.00081728 0.00078885 0.00087718 0.00091305\n",
      "  0.00074561 0.00075242 0.00079665 0.00083118]\n",
      " [0.0009417  0.00081728 0.00140052 0.00096299 0.00088867 0.00102178\n",
      "  0.00085691 0.00093508 0.00082244 0.00096521]\n",
      " [0.00091943 0.00078885 0.00096299 0.00137796 0.00094029 0.00093771\n",
      "  0.00087628 0.00096127 0.00090804 0.00096067]\n",
      " [0.00091793 0.00087718 0.00088867 0.00094029 0.00133429 0.00102086\n",
      "  0.00078985 0.00094589 0.00090055 0.00101727]\n",
      " [0.00095307 0.00091305 0.00102178 0.00093771 0.00102086 0.00137234\n",
      "  0.00090314 0.00108052 0.00087896 0.00100435]\n",
      " [0.0008149  0.00074561 0.00085691 0.00087628 0.00078985 0.00090314\n",
      "  0.00117086 0.00086764 0.00082277 0.00080363]\n",
      " [0.00092754 0.00075242 0.00093508 0.00096127 0.00094589 0.00108052\n",
      "  0.00086764 0.00136537 0.00086842 0.00089441]\n",
      " [0.000824   0.00079665 0.00082244 0.00090804 0.00090055 0.00087896\n",
      "  0.00082277 0.00086842 0.00114437 0.00089181]\n",
      " [0.00093538 0.00083118 0.00096521 0.00096067 0.00101727 0.00100435\n",
      "  0.00080363 0.00089441 0.00089181 0.00130999]]\n"
     ]
    }
   ],
   "source": [
    "cov_mat = np.cov(returns)\n",
    "print(cov_mat)"
   ]
  },
  {
   "cell_type": "markdown",
   "id": "7d97941a-94fb-414b-b4e1-88a0d293ab69",
   "metadata": {
    "id": "a_mq9mgbtew0"
   },
   "source": [
    "This array is not formatted particularly nicely, but a covariance matrix is a very important concept. The covariance matrix is of the form:\n",
    "\n",
    "$$ \\left[\\begin{matrix}\n",
    "VAR[S_1] & COV[S_1, S_2] & \\cdots & COV[S_1, S_N] \\\\\n",
    "COV[S_2, S_1] & VAR[S_2] & \\cdots & COV[S_2, S_N] \\\\\n",
    "\\vdots & \\vdots & \\ddots & \\vdots \\\\\n",
    "COV[S_N, S_1] & COV[S_N, S_2] & \\cdots & VAR[S_N]\n",
    "\\end{matrix}\\right] $$\n",
    "\n",
    "So each diagonal entry is the variance of that asset at that index and each off-diagonal holds the covariance of two assets indexed by the column and row number. What is important is that once we have the covariance matrix we are able to do some very quick linear algebra to calculate the variance of the overall portfolio. We can represent the variance of the portfolio in array form as:\n",
    "\n",
    "$$ \\sigma_p^2 = \\omega \\ C \\ \\omega^\\intercal$$\n",
    "\n",
    "Where $C$ is the covariance matrix of all the assets and $\\omega$ is the array containing the weights of each individual asset. The superscript $\\intercal$ on the second $\\omega$ listed above denotes the **transpose** of $\\omega$. For a reference on the evaluation of the variance of a portfolio as a matrix equation, please see the Wikipedia article on [modern portfolio theory](https://en.wikipedia.org/wiki/Modern_portfolio_theory).\n",
    "\n",
    "The transpose of an array is what you get when you switch the rows and columns of an array. This has the effect of reflecting an array across what you might imagine as a diagonal. For example, take our array $A$ from before:"
   ]
  },
  {
   "cell_type": "code",
   "execution_count": 37,
   "id": "dee52479-9d4b-41fb-b27e-a30152b11517",
   "metadata": {
    "colab": {
     "base_uri": "https://localhost:8080/"
    },
    "executionInfo": {
     "elapsed": 643,
     "status": "ok",
     "timestamp": 1615154429185,
     "user": {
      "displayName": "Santiago Mondragón Gómez",
      "photoUrl": "https://lh3.googleusercontent.com/a-/AOh14Gh8R-q32gOlh13EiQTzmP34aJX7HrfLdR3-OyJVLg=s64",
      "userId": "04334286989014486685"
     },
     "user_tz": 300
    },
    "id": "yE3S7uzjtew0",
    "outputId": "0e62441d-71c7-49a3-a78d-658e2ff76c9c"
   },
   "outputs": [
    {
     "name": "stdout",
     "output_type": "stream",
     "text": [
      "[[ 1  2  3 12  6]\n",
      " [ 4  5  6 15 20]\n",
      " [ 7  8  9 10 10]]\n"
     ]
    }
   ],
   "source": [
    "print(A)"
   ]
  },
  {
   "cell_type": "markdown",
   "id": "efc4493d-ae39-4e63-a923-441846bc632e",
   "metadata": {
    "id": "75oWiQ5f4-Ml"
   },
   "source": [
    "$$\\begin{equation}\r\n",
    "\\begin{pmatrix}\r\n",
    "1 & 2 & 3 & 12 & 6\\\\\r\n",
    "4 & 5 & 6 & 15 & 20\\\\\r\n",
    "7 & 8 & 9 & 10 & 10\r\n",
    "\\end{pmatrix}\r\n",
    "\\end{equation}$$"
   ]
  },
  {
   "cell_type": "markdown",
   "id": "080c7df5-917f-456e-8f19-14522a6bad8e",
   "metadata": {
    "id": "FeE7TKAktew1"
   },
   "source": [
    "The transpose looks like a mirror image of the same array."
   ]
  },
  {
   "cell_type": "code",
   "execution_count": 38,
   "id": "d701500b-1ada-4200-99d6-f2595d4c62bf",
   "metadata": {
    "colab": {
     "base_uri": "https://localhost:8080/"
    },
    "executionInfo": {
     "elapsed": 827,
     "status": "ok",
     "timestamp": 1615154437558,
     "user": {
      "displayName": "Santiago Mondragón Gómez",
      "photoUrl": "https://lh3.googleusercontent.com/a-/AOh14Gh8R-q32gOlh13EiQTzmP34aJX7HrfLdR3-OyJVLg=s64",
      "userId": "04334286989014486685"
     },
     "user_tz": 300
    },
    "id": "cCe2ZkFPtew1",
    "outputId": "de66dcba-b33a-43ec-9edb-5c70eea7c698"
   },
   "outputs": [
    {
     "name": "stdout",
     "output_type": "stream",
     "text": [
      "[[ 1  4  7]\n",
      " [ 2  5  8]\n",
      " [ 3  6  9]\n",
      " [12 15 10]\n",
      " [ 6 20 10]]\n"
     ]
    }
   ],
   "source": [
    "print(np.transpose(A))"
   ]
  },
  {
   "cell_type": "markdown",
   "id": "bc358447-9771-4cdf-8a1d-919ef34e42d5",
   "metadata": {
    "id": "pJlGlK575Vx0"
   },
   "source": [
    "$$\\begin{equation}\r\n",
    "\\begin{pmatrix}\r\n",
    "1 & 4 & 7\\\\\r\n",
    "2 & 5 & 8\\\\\r\n",
    "3 & 6 & 9\\\\\r\n",
    "12 & 15 & 10\\\\\r\n",
    "6 & 20 & 10\\\\\r\n",
    "\\end{pmatrix}\r\n",
    "\\end{equation}$$"
   ]
  },
  {
   "cell_type": "markdown",
   "id": "533a7be6-a799-44bd-803a-3d75127686fa",
   "metadata": {
    "id": "JG7MCAiatew2"
   },
   "source": [
    "But $\\omega$ here is a 1-dimensional array, a vector! It makes perfect to take the transpose of $A$, a $3 \\times 5$ array, as the output will be a $5 \\times 3$ array, but a 1-dimensional array is not quite as intuitive. A typical 1-dimensional array can be thought of as a $1 \\times n$ horizontal vector. Thus, taking the tranpose of this array essentially means changing it into a $n \\times 1$ vertical vector. This makes sense because 1-dimensional arrays are still arrays and any multiplication done between 1-dimensional and higher dimensional arrays must keep in line with our dimensionality issue of matrix multiplication.\n",
    "\n",
    "To make a long story short, we think of $\\omega$ as $1 \\times N$ since we have $N$ securities. This makes it so that $\\omega^\\intercal$ is $N \\times 1$. Again, our covariance matrix is $N \\times N$. So the overall multiplication works out like so, in informal terms:\n",
    "\n",
    "$$ \\text{Dimensions}(\\sigma_p^2) = \\text{Dimensions}(\\omega C \\omega^\\intercal) = (1 \\times N)\\cdot (N \\times N)\\cdot (N \\times 1) = (1 \\times 1)$$\n",
    "\n",
    "Multiplying the covariance matrix on the left by the plain horizontal vector and on the right by that vector's transpose results in the calculation of a single scalar ($1 \\times 1$) value, our portfolio's variance.\n",
    "\n",
    "So knowing this, let's proceed and calculate the portfolio variance! We can easily calculate the product of these arrays by using `dot()` for matrix multiplication, though this time we have to do it twice."
   ]
  },
  {
   "cell_type": "code",
   "execution_count": 39,
   "id": "6c8a766d-c33b-4668-bb0b-bc8afc3a1cd4",
   "metadata": {
    "colab": {
     "base_uri": "https://localhost:8080/"
    },
    "executionInfo": {
     "elapsed": 764,
     "status": "ok",
     "timestamp": 1615154461491,
     "user": {
      "displayName": "Santiago Mondragón Gómez",
      "photoUrl": "https://lh3.googleusercontent.com/a-/AOh14Gh8R-q32gOlh13EiQTzmP34aJX7HrfLdR3-OyJVLg=s64",
      "userId": "04334286989014486685"
     },
     "user_tz": 300
    },
    "id": "_J4ds4Actew2",
    "outputId": "b0b32b74-ac84-4c43-ba03-e265c770e9cb"
   },
   "outputs": [
    {
     "name": "stdout",
     "output_type": "stream",
     "text": [
      "Portfolio volatility:  0.03066150521350029\n"
     ]
    }
   ],
   "source": [
    "# Calculating the portfolio volatility\n",
    "var_p = np.dot(np.dot(weights, cov_mat), weights.T)\n",
    "vol_p = np.sqrt(var_p)\n",
    "print(\"Portfolio volatility: \", vol_p)"
   ]
  },
  {
   "cell_type": "markdown",
   "id": "e867697a-f4a7-45d7-93e7-871f2981369d",
   "metadata": {
    "id": "J-qSV-hbtew2"
   },
   "source": [
    "To confirm this calculation, let's simply evaluate the volatility of the portfolio using only NumPy functions."
   ]
  },
  {
   "cell_type": "code",
   "execution_count": 40,
   "id": "63ad6b8b-215d-4762-8ade-510466543030",
   "metadata": {
    "colab": {
     "base_uri": "https://localhost:8080/"
    },
    "executionInfo": {
     "elapsed": 781,
     "status": "ok",
     "timestamp": 1615154473525,
     "user": {
      "displayName": "Santiago Mondragón Gómez",
      "photoUrl": "https://lh3.googleusercontent.com/a-/AOh14Gh8R-q32gOlh13EiQTzmP34aJX7HrfLdR3-OyJVLg=s64",
      "userId": "04334286989014486685"
     },
     "user_tz": 300
    },
    "id": "iBk40ChAtew3",
    "outputId": "6632fce2-de8d-4df1-b662-32fe66b740a8"
   },
   "outputs": [
    {
     "name": "stdout",
     "output_type": "stream",
     "text": [
      "Portfolio volatility:  0.030661505213500286\n"
     ]
    }
   ],
   "source": [
    "# Confirming calculation\n",
    "vol_p_alt = np.sqrt(np.var(np.dot(weights, returns), ddof=1))\n",
    "print(\"Portfolio volatility: \", vol_p_alt)"
   ]
  }
 ],
 "metadata": {
  "kernelspec": {
   "display_name": "Python 3 (ipykernel)",
   "language": "python",
   "name": "python3"
  },
  "language_info": {
   "codemirror_mode": {
    "name": "ipython",
    "version": 3
   },
   "file_extension": ".py",
   "mimetype": "text/x-python",
   "name": "python",
   "nbconvert_exporter": "python",
   "pygments_lexer": "ipython3",
   "version": "3.8.10"
  }
 },
 "nbformat": 4,
 "nbformat_minor": 5
}
