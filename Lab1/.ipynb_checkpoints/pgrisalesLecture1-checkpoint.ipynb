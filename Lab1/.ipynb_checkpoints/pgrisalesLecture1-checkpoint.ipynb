{
 "cells": [
  {
   "cell_type": "markdown",
   "id": "8c7f275e-2927-41b6-a649-15e367085416",
   "metadata": {},
   "source": [
    "\n",
    "## **Introduction to the Research Environment**\n",
    "\n",
    "The research environment is powered by IPython notebooks, which allow one to perform a great deal of data analysis and statistical validation. We'll demonstrate a few simple techniques here.\n",
    "\n",
    "## **Code Cells vs. Text Cells**\n",
    "\n",
    "As you can see, each cell can be either code or text. To select between them, choose from the 'Cell Type' dropdown menu on the top left.\n",
    "\n",
    "## **Executing a Command**\n",
    "\n",
    "A code cell will be evaluated when you press play, or when you press the shortcut, shift-enter. Evaluating a cell evaluates each line of code in sequence, and prints the results of the last line below the cell.\n",
    "Introduction to the Research Environment\n",
    "The research environment is powered by IPython notebooks, which allow one to perform a great deal of data analysis and statistical validation. We'll demonstrate a few simple techniques here.\n",
    "\n",
    "## **Code Cells vs. Text Cells**\n",
    "\n",
    "As you can see, each cell can be either code or text. To select between them, choose from the 'Cell Type' dropdown menu on the top left.\n",
    "\n",
    "## **Executing a Command**\n",
    "\n",
    "A code cell will be evaluated when you press play, or when you press the shortcut, shift-enter. Evaluating a cell evaluates each line of code in sequence, and prints the results of the last line below the cell."
   ]
  },
  {
   "cell_type": "code",
   "execution_count": 1,
   "id": "3627ca52-0c4c-490c-89fb-27b962a64fe9",
   "metadata": {},
   "outputs": [
    {
     "data": {
      "text/plain": [
       "4"
      ]
     },
     "execution_count": 1,
     "metadata": {},
     "output_type": "execute_result"
    }
   ],
   "source": [
    "2 + 2"
   ]
  },
  {
   "cell_type": "markdown",
   "id": "e5d1f86a-60e3-4c62-b7ad-233a8055ee1c",
   "metadata": {},
   "source": [
    "Sometimes there is no result to be printed, as is the case with assignment."
   ]
  },
  {
   "cell_type": "code",
   "execution_count": 2,
   "id": "93b1075c-00bd-406b-ab57-d59013e67307",
   "metadata": {},
   "outputs": [],
   "source": [
    "X = 2"
   ]
  },
  {
   "cell_type": "markdown",
   "id": "3f9b62c6-389a-4424-9b97-087157a2a782",
   "metadata": {},
   "source": [
    "Remember that only the result from the last line is printed."
   ]
  },
  {
   "cell_type": "code",
   "execution_count": 3,
   "id": "82f6dce6-e0ee-49cc-9663-9497ccc1e5e1",
   "metadata": {},
   "outputs": [
    {
     "data": {
      "text/plain": [
       "6"
      ]
     },
     "execution_count": 3,
     "metadata": {},
     "output_type": "execute_result"
    }
   ],
   "source": [
    "2 + 2\n",
    "3 + 3"
   ]
  },
  {
   "cell_type": "markdown",
   "id": "7d3f75d3-3977-44c3-a682-fade8791b3c1",
   "metadata": {},
   "source": [
    "However, you can print whichever lines you want using the print statement."
   ]
  },
  {
   "cell_type": "code",
   "execution_count": 4,
   "id": "4f8ca87e-2bbc-410d-99be-bd0ed8c02cdf",
   "metadata": {},
   "outputs": [
    {
     "name": "stdout",
     "output_type": "stream",
     "text": [
      "4\n"
     ]
    },
    {
     "data": {
      "text/plain": [
       "6"
      ]
     },
     "execution_count": 4,
     "metadata": {},
     "output_type": "execute_result"
    }
   ],
   "source": [
    "print(2 + 2)\n",
    "3 + 3"
   ]
  },
  {
   "cell_type": "markdown",
   "id": "c99e73db-d794-4a0d-a322-13fb49a66c34",
   "metadata": {},
   "source": [
    "## **Knowing When a Cell is Running**\n",
    "\n",
    "While a cell is running, a `[*]` will display on the left. When a cell has yet to be executed, `[ ]` will display. When it has been run, a number will display indicating the order in which it was run during the execution of the notebook `[5]`. Try on this cell and note it happening."
   ]
  },
  {
   "cell_type": "code",
   "execution_count": 6,
   "id": "cfd3e179-f942-4aef-a014-02f3fb2658ca",
   "metadata": {},
   "outputs": [
    {
     "data": {
      "text/plain": [
       "49999995000000"
      ]
     },
     "execution_count": 6,
     "metadata": {},
     "output_type": "execute_result"
    }
   ],
   "source": [
    "# Take some time to run something\n",
    "c = 0\n",
    "for i in range(10000000):\n",
    "    c = c + i\n",
    "c"
   ]
  },
  {
   "cell_type": "markdown",
   "id": "c9e8a03a-8034-44d0-8ad8-55ee46159c4a",
   "metadata": {},
   "source": [
    "## **Importing Libraries**\n",
    "\n",
    "The vast majority of the time, you'll want to use functions from pre-built libraries. You can't import every library on Quantopian due to security issues, but you can import most of the common scientific ones. Here I import numpy and pandas, the two most common and useful libraries in quant finance. I recommend copying this import statement to every new notebook.\n",
    "\n",
    "Notice that you can rename libraries to whatever you want after importing. The as statement allows this. Here we use np and pd as aliases for numpy and pandas. This is a very common aliasing and will be found in most code snippets around the web. The point behind this is to allow you to type fewer characters when you are frequently accessing these libraries."
   ]
  },
  {
   "cell_type": "code",
   "execution_count": 7,
   "id": "6403039e-40f5-43a1-90e4-1d3022b78c4c",
   "metadata": {},
   "outputs": [],
   "source": [
    "import numpy as np\n",
    "import pandas as pd\n",
    "\n",
    "# This is a plotting library for pretty pictures.\n",
    "import matplotlib.pyplot as plt"
   ]
  },
  {
   "cell_type": "markdown",
   "id": "605149ea-ac1e-45aa-b6be-5c8ec7a5a58d",
   "metadata": {},
   "source": [
    "## **Tab Autocomplete**\n",
    "\n",
    "Pressing tab will give you a list of IPython's best guesses for what you might want to type next. This is incredibly valuable and will save you a lot of time. If there is only one possible option for what you could type next, IPython will fill that in for you. Try pressing tab very frequently, it will seldom fill in anything you don't want, as if there is ambiguity a list will be shown. This is a great way to see what functions are available in a library.\n",
    "\n",
    "Try placing your cursor after the . and pressing tab."
   ]
  },
  {
   "cell_type": "code",
   "execution_count": null,
   "id": "82d8a70a-daaf-4229-864a-901fc0732e4a",
   "metadata": {},
   "outputs": [],
   "source": [
    "np.random."
   ]
  },
  {
   "cell_type": "markdown",
   "id": "0ae7deb2-52e6-4d71-b07d-2ca7181ec42f",
   "metadata": {},
   "source": [
    "## **Getting Documentation Help**\n",
    "\n",
    "Placing a question mark after a function and executing that line of code will give you the documentation IPython has for that function. It's often best to do this in a new cell, as you avoid re-executing other code and running into bugs."
   ]
  },
  {
   "cell_type": "code",
   "execution_count": 9,
   "id": "c1fbe52c-b8ff-45ef-ba6c-6d63bbc6761d",
   "metadata": {},
   "outputs": [
    {
     "data": {
      "text/plain": [
       "\u001b[0;31mDocstring:\u001b[0m\n",
       "normal(loc=0.0, scale=1.0, size=None)\n",
       "\n",
       "Draw random samples from a normal (Gaussian) distribution.\n",
       "\n",
       "The probability density function of the normal distribution, first\n",
       "derived by De Moivre and 200 years later by both Gauss and Laplace\n",
       "independently [2]_, is often called the bell curve because of\n",
       "its characteristic shape (see the example below).\n",
       "\n",
       "The normal distributions occurs often in nature.  For example, it\n",
       "describes the commonly occurring distribution of samples influenced\n",
       "by a large number of tiny, random disturbances, each with its own\n",
       "unique distribution [2]_.\n",
       "\n",
       ".. note::\n",
       "    New code should use the ``normal`` method of a ``default_rng()``\n",
       "    instance instead; please see the :ref:`random-quick-start`.\n",
       "\n",
       "Parameters\n",
       "----------\n",
       "loc : float or array_like of floats\n",
       "    Mean (\"centre\") of the distribution.\n",
       "scale : float or array_like of floats\n",
       "    Standard deviation (spread or \"width\") of the distribution. Must be\n",
       "    non-negative.\n",
       "size : int or tuple of ints, optional\n",
       "    Output shape.  If the given shape is, e.g., ``(m, n, k)``, then\n",
       "    ``m * n * k`` samples are drawn.  If size is ``None`` (default),\n",
       "    a single value is returned if ``loc`` and ``scale`` are both scalars.\n",
       "    Otherwise, ``np.broadcast(loc, scale).size`` samples are drawn.\n",
       "\n",
       "Returns\n",
       "-------\n",
       "out : ndarray or scalar\n",
       "    Drawn samples from the parameterized normal distribution.\n",
       "\n",
       "See Also\n",
       "--------\n",
       "scipy.stats.norm : probability density function, distribution or\n",
       "    cumulative density function, etc.\n",
       "Generator.normal: which should be used for new code.\n",
       "\n",
       "Notes\n",
       "-----\n",
       "The probability density for the Gaussian distribution is\n",
       "\n",
       ".. math:: p(x) = \\frac{1}{\\sqrt{ 2 \\pi \\sigma^2 }}\n",
       "                 e^{ - \\frac{ (x - \\mu)^2 } {2 \\sigma^2} },\n",
       "\n",
       "where :math:`\\mu` is the mean and :math:`\\sigma` the standard\n",
       "deviation. The square of the standard deviation, :math:`\\sigma^2`,\n",
       "is called the variance.\n",
       "\n",
       "The function has its peak at the mean, and its \"spread\" increases with\n",
       "the standard deviation (the function reaches 0.607 times its maximum at\n",
       ":math:`x + \\sigma` and :math:`x - \\sigma` [2]_).  This implies that\n",
       "normal is more likely to return samples lying close to the mean, rather\n",
       "than those far away.\n",
       "\n",
       "References\n",
       "----------\n",
       ".. [1] Wikipedia, \"Normal distribution\",\n",
       "       https://en.wikipedia.org/wiki/Normal_distribution\n",
       ".. [2] P. R. Peebles Jr., \"Central Limit Theorem\" in \"Probability,\n",
       "       Random Variables and Random Signal Principles\", 4th ed., 2001,\n",
       "       pp. 51, 51, 125.\n",
       "\n",
       "Examples\n",
       "--------\n",
       "Draw samples from the distribution:\n",
       "\n",
       ">>> mu, sigma = 0, 0.1 # mean and standard deviation\n",
       ">>> s = np.random.normal(mu, sigma, 1000)\n",
       "\n",
       "Verify the mean and the variance:\n",
       "\n",
       ">>> abs(mu - np.mean(s))\n",
       "0.0  # may vary\n",
       "\n",
       ">>> abs(sigma - np.std(s, ddof=1))\n",
       "0.1  # may vary\n",
       "\n",
       "Display the histogram of the samples, along with\n",
       "the probability density function:\n",
       "\n",
       ">>> import matplotlib.pyplot as plt\n",
       ">>> count, bins, ignored = plt.hist(s, 30, density=True)\n",
       ">>> plt.plot(bins, 1/(sigma * np.sqrt(2 * np.pi)) *\n",
       "...                np.exp( - (bins - mu)**2 / (2 * sigma**2) ),\n",
       "...          linewidth=2, color='r')\n",
       ">>> plt.show()\n",
       "\n",
       "Two-by-four array of samples from N(3, 6.25):\n",
       "\n",
       ">>> np.random.normal(3, 2.5, size=(2, 4))\n",
       "array([[-4.49401501,  4.00950034, -1.81814867,  7.29718677],   # random\n",
       "       [ 0.39924804,  4.68456316,  4.99394529,  4.84057254]])  # random\n",
       "\u001b[0;31mType:\u001b[0m      builtin_function_or_method\n"
      ]
     },
     "metadata": {},
     "output_type": "display_data"
    }
   ],
   "source": [
    "np.random.normal?"
   ]
  },
  {
   "cell_type": "markdown",
   "id": "8c3c4e12-2de9-42d9-b1fd-1e06fc6d04fa",
   "metadata": {},
   "source": [
    "## **Sampling**\n",
    "We'll sample some random data using a function from numpy."
   ]
  },
  {
   "cell_type": "code",
   "execution_count": 10,
   "id": "55ce3ba3-2dad-4453-bdf6-bbc9dcab1627",
   "metadata": {},
   "outputs": [],
   "source": [
    "# Sample 100 points with a mean of 0 and an std of 1. This is a standard normal distribution.\n",
    "X = np.random.normal(0, 1, 100)"
   ]
  },
  {
   "cell_type": "markdown",
   "id": "2b5655fc-2dba-464f-b9eb-a5f7e8121e72",
   "metadata": {},
   "source": [
    "## **Plotting**\n",
    "We can use the plotting library we imported as follows."
   ]
  },
  {
   "cell_type": "code",
   "execution_count": 11,
   "id": "09058945-ae6e-4ee2-9ae6-adb825d034e6",
   "metadata": {},
   "outputs": [
    {
     "data": {
      "text/plain": [
       "[<matplotlib.lines.Line2D at 0x7f325b0a41f0>]"
      ]
     },
     "execution_count": 11,
     "metadata": {},
     "output_type": "execute_result"
    },
    {
     "data": {
      "image/png": "[encoded data removed]",
      "text/plain": [
       "<Figure size 432x288 with 1 Axes>"
      ]
     },
     "metadata": {
      "needs_background": "light"
     },
     "output_type": "display_data"
    }
   ],
   "source": [
    "plt.plot(X)"
   ]
  },
  {
   "cell_type": "markdown",
   "id": "94ac4d17-9191-4c14-8d0c-46b8760f31af",
   "metadata": {},
   "source": [
    "### **Squelching Line Output**\n",
    "You might have noticed the annoying line of the form `[<matplotlib.lines.Line2D at 0x7f72fdbc1710>]` before the plots. This is because the .plot function actually produces output. Sometimes we wish not to display output, we can accomplish this with the semi-colon as follows."
   ]
  },
  {
   "cell_type": "code",
   "execution_count": 12,
   "id": "393a6b44-412d-43df-a145-a5c8afaa0362",
   "metadata": {},
   "outputs": [
    {
     "data": {
      "image/png": "[encoded data removed]",
      "text/plain": [
       "<Figure size 432x288 with 1 Axes>"
      ]
     },
     "metadata": {
      "needs_background": "light"
     },
     "output_type": "display_data"
    }
   ],
   "source": [
    "plt.plot(X);"
   ]
  },
  {
   "cell_type": "markdown",
   "id": "f993a93b-1fd3-4ff9-bb8b-41409c61bc89",
   "metadata": {},
   "source": [
    "### **Adding Axis Labels**\n",
    "No self-respecting quant leaves a graph without labeled axes. Here are some commands to help with that."
   ]
  },
  {
   "cell_type": "code",
   "execution_count": 13,
   "id": "c203dfc0-2ef3-4c6d-b581-adb831e3fb00",
   "metadata": {},
   "outputs": [
    {
     "data": {
      "image/png": "[encoded data removed]",
      "text/plain": [
       "<Figure size 432x288 with 1 Axes>"
      ]
     },
     "metadata": {
      "needs_background": "light"
     },
     "output_type": "display_data"
    }
   ],
   "source": [
    "X = np.random.normal(0, 1, 100)\n",
    "X2 = np.random.normal(0, 1, 100)\n",
    "\n",
    "plt.plot(X);\n",
    "plt.plot(X2);\n",
    "plt.xlabel('Time') # The data we generated is unitless, but don't forget units in general.\n",
    "plt.ylabel('Returns')\n",
    "plt.legend(['X', 'X2']);"
   ]
  },
  {
   "cell_type": "markdown",
   "id": "f32bba9c-69cb-41bc-aabc-d7430fce340b",
   "metadata": {},
   "source": [
    "## **Generating Statistics**\n",
    "Let's use numpy to take some simple statistics."
   ]
  },
  {
   "cell_type": "code",
   "execution_count": 15,
   "id": "5ad918f3-90ef-4ea9-b4a3-0963eaac5713",
   "metadata": {},
   "outputs": [
    {
     "data": {
      "text/plain": [
       "0.05255189286276188"
      ]
     },
     "execution_count": 15,
     "metadata": {},
     "output_type": "execute_result"
    }
   ],
   "source": [
    "np.mean(X)"
   ]
  },
  {
   "cell_type": "code",
   "execution_count": 16,
   "id": "843a9d3a-5af7-4949-bf92-bf3add3356b5",
   "metadata": {},
   "outputs": [
    {
     "data": {
      "text/plain": [
       "0.864759350952568"
      ]
     },
     "execution_count": 16,
     "metadata": {},
     "output_type": "execute_result"
    }
   ],
   "source": [
    "np.std(X)"
   ]
  },
  {
   "cell_type": "markdown",
   "id": "3c0fe268-379e-4f60-91e9-a1d3cb99e912",
   "metadata": {},
   "source": [
    "## **Getting Real Pricing Data**\n",
    "\n",
    "Randomly sampled data can be great for testing ideas, but let's get some real data. We can use get_pricing to do that. You can use the ? syntax as discussed above to get more information on get_pricing's arguments."
   ]
  },
  {
   "cell_type": "code",
   "execution_count": 18,
   "id": "515f440b-eae5-4273-80a8-b7ad68b66866",
   "metadata": {},
   "outputs": [
    {
     "data": {
      "text/html": [
       "<div>\n",
       "<style scoped>\n",
       "    .dataframe tbody tr th:only-of-type {\n",
       "        vertical-align: middle;\n",
       "    }\n",
       "\n",
       "    .dataframe tbody tr th {\n",
       "        vertical-align: top;\n",
       "    }\n",
       "\n",
       "    .dataframe thead th {\n",
       "        text-align: right;\n",
       "    }\n",
       "</style>\n",
       "<table border=\"1\" class=\"dataframe\">\n",
       "  <thead>\n",
       "    <tr style=\"text-align: right;\">\n",
       "      <th></th>\n",
       "      <th>High</th>\n",
       "      <th>Low</th>\n",
       "      <th>Open</th>\n",
       "      <th>Close</th>\n",
       "      <th>Volume</th>\n",
       "      <th>Adj Close</th>\n",
       "    </tr>\n",
       "    <tr>\n",
       "      <th>Date</th>\n",
       "      <th></th>\n",
       "      <th></th>\n",
       "      <th></th>\n",
       "      <th></th>\n",
       "      <th></th>\n",
       "      <th></th>\n",
       "    </tr>\n",
       "  </thead>\n",
       "  <tbody>\n",
       "    <tr>\n",
       "      <th>2018-01-02</th>\n",
       "      <td>86.309998</td>\n",
       "      <td>85.500000</td>\n",
       "      <td>86.129997</td>\n",
       "      <td>85.949997</td>\n",
       "      <td>22483800.0</td>\n",
       "      <td>81.848274</td>\n",
       "    </tr>\n",
       "    <tr>\n",
       "      <th>2018-01-03</th>\n",
       "      <td>86.510002</td>\n",
       "      <td>85.970001</td>\n",
       "      <td>86.059998</td>\n",
       "      <td>86.349998</td>\n",
       "      <td>26061400.0</td>\n",
       "      <td>82.229195</td>\n",
       "    </tr>\n",
       "    <tr>\n",
       "      <th>2018-01-04</th>\n",
       "      <td>87.660004</td>\n",
       "      <td>86.570000</td>\n",
       "      <td>86.589996</td>\n",
       "      <td>87.110001</td>\n",
       "      <td>21912000.0</td>\n",
       "      <td>82.952934</td>\n",
       "    </tr>\n",
       "    <tr>\n",
       "      <th>2018-01-05</th>\n",
       "      <td>88.410004</td>\n",
       "      <td>87.430000</td>\n",
       "      <td>87.660004</td>\n",
       "      <td>88.190002</td>\n",
       "      <td>23407100.0</td>\n",
       "      <td>83.981384</td>\n",
       "    </tr>\n",
       "    <tr>\n",
       "      <th>2018-01-08</th>\n",
       "      <td>88.580002</td>\n",
       "      <td>87.599998</td>\n",
       "      <td>88.199997</td>\n",
       "      <td>88.279999</td>\n",
       "      <td>22113000.0</td>\n",
       "      <td>84.067078</td>\n",
       "    </tr>\n",
       "    <tr>\n",
       "      <th>...</th>\n",
       "      <td>...</td>\n",
       "      <td>...</td>\n",
       "      <td>...</td>\n",
       "      <td>...</td>\n",
       "      <td>...</td>\n",
       "      <td>...</td>\n",
       "    </tr>\n",
       "    <tr>\n",
       "      <th>2018-12-24</th>\n",
       "      <td>97.970001</td>\n",
       "      <td>93.980003</td>\n",
       "      <td>97.680000</td>\n",
       "      <td>94.129997</td>\n",
       "      <td>43935200.0</td>\n",
       "      <td>91.189659</td>\n",
       "    </tr>\n",
       "    <tr>\n",
       "      <th>2018-12-26</th>\n",
       "      <td>100.690002</td>\n",
       "      <td>93.959999</td>\n",
       "      <td>95.139999</td>\n",
       "      <td>100.559998</td>\n",
       "      <td>51634800.0</td>\n",
       "      <td>97.418808</td>\n",
       "    </tr>\n",
       "    <tr>\n",
       "      <th>2018-12-27</th>\n",
       "      <td>101.190002</td>\n",
       "      <td>96.400002</td>\n",
       "      <td>99.300003</td>\n",
       "      <td>101.180000</td>\n",
       "      <td>49498500.0</td>\n",
       "      <td>98.019455</td>\n",
       "    </tr>\n",
       "    <tr>\n",
       "      <th>2018-12-28</th>\n",
       "      <td>102.410004</td>\n",
       "      <td>99.519997</td>\n",
       "      <td>102.089996</td>\n",
       "      <td>100.389999</td>\n",
       "      <td>38196300.0</td>\n",
       "      <td>97.254128</td>\n",
       "    </tr>\n",
       "    <tr>\n",
       "      <th>2018-12-31</th>\n",
       "      <td>102.400002</td>\n",
       "      <td>100.440002</td>\n",
       "      <td>101.290001</td>\n",
       "      <td>101.570000</td>\n",
       "      <td>33173800.0</td>\n",
       "      <td>98.397263</td>\n",
       "    </tr>\n",
       "  </tbody>\n",
       "</table>\n",
       "<p>251 rows × 6 columns</p>\n",
       "</div>"
      ],
      "text/plain": [
       "                  High         Low        Open       Close      Volume  \\\n",
       "Date                                                                     \n",
       "2018-01-02   86.309998   85.500000   86.129997   85.949997  22483800.0   \n",
       "2018-01-03   86.510002   85.970001   86.059998   86.349998  26061400.0   \n",
       "2018-01-04   87.660004   86.570000   86.589996   87.110001  21912000.0   \n",
       "2018-01-05   88.410004   87.430000   87.660004   88.190002  23407100.0   \n",
       "2018-01-08   88.580002   87.599998   88.199997   88.279999  22113000.0   \n",
       "...                ...         ...         ...         ...         ...   \n",
       "2018-12-24   97.970001   93.980003   97.680000   94.129997  43935200.0   \n",
       "2018-12-26  100.690002   93.959999   95.139999  100.559998  51634800.0   \n",
       "2018-12-27  101.190002   96.400002   99.300003  101.180000  49498500.0   \n",
       "2018-12-28  102.410004   99.519997  102.089996  100.389999  38196300.0   \n",
       "2018-12-31  102.400002  100.440002  101.290001  101.570000  33173800.0   \n",
       "\n",
       "            Adj Close  \n",
       "Date                   \n",
       "2018-01-02  81.848274  \n",
       "2018-01-03  82.229195  \n",
       "2018-01-04  82.952934  \n",
       "2018-01-05  83.981384  \n",
       "2018-01-08  84.067078  \n",
       "...               ...  \n",
       "2018-12-24  91.189659  \n",
       "2018-12-26  97.418808  \n",
       "2018-12-27  98.019455  \n",
       "2018-12-28  97.254128  \n",
       "2018-12-31  98.397263  \n",
       "\n",
       "[251 rows x 6 columns]"
      ]
     },
     "execution_count": 18,
     "metadata": {},
     "output_type": "execute_result"
    }
   ],
   "source": [
    "# Taken from https://github.com/gjhernandezp/algorithms/blob/master/Python/Replacing_getpricing_with_Yahoo_Finance_data_ipny.ipynb\n",
    "import pandas_datareader as pdr\n",
    "import datetime \n",
    "data = pdr.get_data_yahoo('MSFT', start= datetime.datetime(2018,1,1), end= datetime.datetime(2019,1,1))\n",
    "data"
   ]
  },
  {
   "cell_type": "markdown",
   "id": "42abb08b-ca57-48f6-9024-45198691d86d",
   "metadata": {},
   "source": [
    "Our data is now a dataframe. You can see the datetime index and the colums with different pricing data."
   ]
  },
  {
   "cell_type": "code",
   "execution_count": 19,
   "id": "085b0774-f188-4411-899d-f140ccc4fed9",
   "metadata": {},
   "outputs": [
    {
     "data": {
      "text/html": [
       "<div>\n",
       "<style scoped>\n",
       "    .dataframe tbody tr th:only-of-type {\n",
       "        vertical-align: middle;\n",
       "    }\n",
       "\n",
       "    .dataframe tbody tr th {\n",
       "        vertical-align: top;\n",
       "    }\n",
       "\n",
       "    .dataframe thead th {\n",
       "        text-align: right;\n",
       "    }\n",
       "</style>\n",
       "<table border=\"1\" class=\"dataframe\">\n",
       "  <thead>\n",
       "    <tr style=\"text-align: right;\">\n",
       "      <th></th>\n",
       "      <th>High</th>\n",
       "      <th>Low</th>\n",
       "      <th>Open</th>\n",
       "      <th>Close</th>\n",
       "      <th>Volume</th>\n",
       "      <th>Adj Close</th>\n",
       "    </tr>\n",
       "    <tr>\n",
       "      <th>Date</th>\n",
       "      <th></th>\n",
       "      <th></th>\n",
       "      <th></th>\n",
       "      <th></th>\n",
       "      <th></th>\n",
       "      <th></th>\n",
       "    </tr>\n",
       "  </thead>\n",
       "  <tbody>\n",
       "    <tr>\n",
       "      <th>2018-01-02</th>\n",
       "      <td>86.309998</td>\n",
       "      <td>85.500000</td>\n",
       "      <td>86.129997</td>\n",
       "      <td>85.949997</td>\n",
       "      <td>22483800.0</td>\n",
       "      <td>81.848274</td>\n",
       "    </tr>\n",
       "    <tr>\n",
       "      <th>2018-01-03</th>\n",
       "      <td>86.510002</td>\n",
       "      <td>85.970001</td>\n",
       "      <td>86.059998</td>\n",
       "      <td>86.349998</td>\n",
       "      <td>26061400.0</td>\n",
       "      <td>82.229195</td>\n",
       "    </tr>\n",
       "    <tr>\n",
       "      <th>2018-01-04</th>\n",
       "      <td>87.660004</td>\n",
       "      <td>86.570000</td>\n",
       "      <td>86.589996</td>\n",
       "      <td>87.110001</td>\n",
       "      <td>21912000.0</td>\n",
       "      <td>82.952934</td>\n",
       "    </tr>\n",
       "    <tr>\n",
       "      <th>2018-01-05</th>\n",
       "      <td>88.410004</td>\n",
       "      <td>87.430000</td>\n",
       "      <td>87.660004</td>\n",
       "      <td>88.190002</td>\n",
       "      <td>23407100.0</td>\n",
       "      <td>83.981384</td>\n",
       "    </tr>\n",
       "    <tr>\n",
       "      <th>2018-01-08</th>\n",
       "      <td>88.580002</td>\n",
       "      <td>87.599998</td>\n",
       "      <td>88.199997</td>\n",
       "      <td>88.279999</td>\n",
       "      <td>22113000.0</td>\n",
       "      <td>84.067078</td>\n",
       "    </tr>\n",
       "    <tr>\n",
       "      <th>...</th>\n",
       "      <td>...</td>\n",
       "      <td>...</td>\n",
       "      <td>...</td>\n",
       "      <td>...</td>\n",
       "      <td>...</td>\n",
       "      <td>...</td>\n",
       "    </tr>\n",
       "    <tr>\n",
       "      <th>2018-12-24</th>\n",
       "      <td>97.970001</td>\n",
       "      <td>93.980003</td>\n",
       "      <td>97.680000</td>\n",
       "      <td>94.129997</td>\n",
       "      <td>43935200.0</td>\n",
       "      <td>91.189659</td>\n",
       "    </tr>\n",
       "    <tr>\n",
       "      <th>2018-12-26</th>\n",
       "      <td>100.690002</td>\n",
       "      <td>93.959999</td>\n",
       "      <td>95.139999</td>\n",
       "      <td>100.559998</td>\n",
       "      <td>51634800.0</td>\n",
       "      <td>97.418808</td>\n",
       "    </tr>\n",
       "    <tr>\n",
       "      <th>2018-12-27</th>\n",
       "      <td>101.190002</td>\n",
       "      <td>96.400002</td>\n",
       "      <td>99.300003</td>\n",
       "      <td>101.180000</td>\n",
       "      <td>49498500.0</td>\n",
       "      <td>98.019455</td>\n",
       "    </tr>\n",
       "    <tr>\n",
       "      <th>2018-12-28</th>\n",
       "      <td>102.410004</td>\n",
       "      <td>99.519997</td>\n",
       "      <td>102.089996</td>\n",
       "      <td>100.389999</td>\n",
       "      <td>38196300.0</td>\n",
       "      <td>97.254128</td>\n",
       "    </tr>\n",
       "    <tr>\n",
       "      <th>2018-12-31</th>\n",
       "      <td>102.400002</td>\n",
       "      <td>100.440002</td>\n",
       "      <td>101.290001</td>\n",
       "      <td>101.570000</td>\n",
       "      <td>33173800.0</td>\n",
       "      <td>98.397263</td>\n",
       "    </tr>\n",
       "  </tbody>\n",
       "</table>\n",
       "<p>251 rows × 6 columns</p>\n",
       "</div>"
      ],
      "text/plain": [
       "                  High         Low        Open       Close      Volume  \\\n",
       "Date                                                                     \n",
       "2018-01-02   86.309998   85.500000   86.129997   85.949997  22483800.0   \n",
       "2018-01-03   86.510002   85.970001   86.059998   86.349998  26061400.0   \n",
       "2018-01-04   87.660004   86.570000   86.589996   87.110001  21912000.0   \n",
       "2018-01-05   88.410004   87.430000   87.660004   88.190002  23407100.0   \n",
       "2018-01-08   88.580002   87.599998   88.199997   88.279999  22113000.0   \n",
       "...                ...         ...         ...         ...         ...   \n",
       "2018-12-24   97.970001   93.980003   97.680000   94.129997  43935200.0   \n",
       "2018-12-26  100.690002   93.959999   95.139999  100.559998  51634800.0   \n",
       "2018-12-27  101.190002   96.400002   99.300003  101.180000  49498500.0   \n",
       "2018-12-28  102.410004   99.519997  102.089996  100.389999  38196300.0   \n",
       "2018-12-31  102.400002  100.440002  101.290001  101.570000  33173800.0   \n",
       "\n",
       "            Adj Close  \n",
       "Date                   \n",
       "2018-01-02  81.848274  \n",
       "2018-01-03  82.229195  \n",
       "2018-01-04  82.952934  \n",
       "2018-01-05  83.981384  \n",
       "2018-01-08  84.067078  \n",
       "...               ...  \n",
       "2018-12-24  91.189659  \n",
       "2018-12-26  97.418808  \n",
       "2018-12-27  98.019455  \n",
       "2018-12-28  97.254128  \n",
       "2018-12-31  98.397263  \n",
       "\n",
       "[251 rows x 6 columns]"
      ]
     },
     "execution_count": 19,
     "metadata": {},
     "output_type": "execute_result"
    }
   ],
   "source": [
    "data"
   ]
  },
  {
   "cell_type": "markdown",
   "id": "73479a6d-9e52-4b5b-a74d-a59cc03570eb",
   "metadata": {},
   "source": [
    "This is a pandas dataframe, so we can index in to just get price like this. For more info on pandas, please click here."
   ]
  },
  {
   "cell_type": "code",
   "execution_count": 21,
   "id": "9f4953fd-86ac-4774-b1fd-52f26863f5e1",
   "metadata": {},
   "outputs": [
    {
     "data": {
      "text/plain": [
       "Date\n",
       "2018-01-02     86.309998\n",
       "2018-01-03     86.510002\n",
       "2018-01-04     87.660004\n",
       "2018-01-05     88.410004\n",
       "2018-01-08     88.580002\n",
       "                 ...    \n",
       "2018-12-24     97.970001\n",
       "2018-12-26    100.690002\n",
       "2018-12-27    101.190002\n",
       "2018-12-28    102.410004\n",
       "2018-12-31    102.400002\n",
       "Name: High, Length: 251, dtype: float64"
      ]
     },
     "execution_count": 21,
     "metadata": {},
     "output_type": "execute_result"
    }
   ],
   "source": [
    "X = data['High']\n",
    "X"
   ]
  },
  {
   "cell_type": "markdown",
   "id": "3f8b8368-e28c-4004-8435-6230225c5fcd",
   "metadata": {},
   "source": [
    "Because there is now also date information in our data, we provide two series to .plot. X.index gives us the datetime index, and X.values gives us the pricing values. These are used as the X and Y coordinates to make a graph."
   ]
  },
  {
   "cell_type": "code",
   "execution_count": 22,
   "id": "6d0d6d51-81ce-4485-a072-fb132c381718",
   "metadata": {},
   "outputs": [
    {
     "data": {
      "image/png": "[encoded data removed]",
      "text/plain": [
       "<Figure size 432x288 with 1 Axes>"
      ]
     },
     "metadata": {
      "needs_background": "light"
     },
     "output_type": "display_data"
    }
   ],
   "source": [
    "plt.plot(X.index, X.values)\n",
    "plt.ylabel('Price')\n",
    "plt.legend(['MSFT']);"
   ]
  },
  {
   "cell_type": "markdown",
   "id": "3a0b3baf-e83f-48d1-bef8-c0b180b25dec",
   "metadata": {},
   "source": [
    "We can get statistics again on real data."
   ]
  },
  {
   "cell_type": "code",
   "execution_count": 23,
   "id": "ca51f608-d3ea-45eb-b787-2e18780a4d79",
   "metadata": {},
   "outputs": [
    {
     "data": {
      "text/plain": [
       "102.11406370368137"
      ]
     },
     "execution_count": 23,
     "metadata": {},
     "output_type": "execute_result"
    }
   ],
   "source": [
    "np.mean(X)"
   ]
  },
  {
   "cell_type": "code",
   "execution_count": 24,
   "id": "5e59eaee-5220-40e9-a427-875f64618afa",
   "metadata": {},
   "outputs": [
    {
     "data": {
      "text/plain": [
       "7.889753837946643"
      ]
     },
     "execution_count": 24,
     "metadata": {},
     "output_type": "execute_result"
    }
   ],
   "source": [
    "np.std(X)"
   ]
  },
  {
   "cell_type": "markdown",
   "id": "f2c4e4e6-6924-4167-afc6-28df271053a2",
   "metadata": {},
   "source": [
    "## **Getting Returns from Prices**\n",
    "We can use the pct_change function to get returns. Notice how we drop the first element after doing this, as it will be NaN (nothing -> something results in a NaN percent change)."
   ]
  },
  {
   "cell_type": "code",
   "execution_count": 26,
   "id": "456ee92e-d1d0-42f9-af87-b24a093a69f1",
   "metadata": {},
   "outputs": [],
   "source": [
    "R = X.pct_change()[1:]"
   ]
  },
  {
   "cell_type": "markdown",
   "id": "a6cf9a14-7997-44bc-bfda-937eea3fcf1c",
   "metadata": {},
   "source": [
    "We can plot the returns distribution as a histogram."
   ]
  },
  {
   "cell_type": "code",
   "execution_count": 27,
   "id": "87781260-4699-49a6-8095-8ccf4a26b272",
   "metadata": {},
   "outputs": [
    {
     "data": {
      "image/png": "[encoded data removed]",
      "text/plain": [
       "<Figure size 432x288 with 1 Axes>"
      ]
     },
     "metadata": {
      "needs_background": "light"
     },
     "output_type": "display_data"
    }
   ],
   "source": [
    "plt.hist(R, bins=20)\n",
    "plt.xlabel('Return')\n",
    "plt.ylabel('Frequency')\n",
    "plt.legend(['MSFT Returns']);"
   ]
  },
  {
   "cell_type": "markdown",
   "id": "2151bcb2-155e-43b8-82a8-7af4fdc3a197",
   "metadata": {},
   "source": [
    "Get statistics again."
   ]
  },
  {
   "cell_type": "code",
   "execution_count": 28,
   "id": "c11d2490-2bae-4896-b824-9435bad5f439",
   "metadata": {},
   "outputs": [
    {
     "data": {
      "text/plain": [
       "0.0007711474019386575"
      ]
     },
     "execution_count": 28,
     "metadata": {},
     "output_type": "execute_result"
    }
   ],
   "source": [
    "np.mean(R)"
   ]
  },
  {
   "cell_type": "code",
   "execution_count": 29,
   "id": "40387ea0-f707-487f-8433-6126735a518c",
   "metadata": {},
   "outputs": [
    {
     "data": {
      "text/plain": [
       "0.013179028414868633"
      ]
     },
     "execution_count": 29,
     "metadata": {},
     "output_type": "execute_result"
    }
   ],
   "source": [
    "np.std(R)"
   ]
  },
  {
   "cell_type": "markdown",
   "id": "593ad393-9c95-435a-b0a5-f532a1f556f5",
   "metadata": {},
   "source": [
    "Now let's go backwards and generate data out of a normal distribution using the statistics we estimated from Microsoft's returns. We'll see that we have good reason to suspect Microsoft's returns may not be normal, as the resulting normal distribution looks far different."
   ]
  },
  {
   "cell_type": "code",
   "execution_count": 30,
   "id": "78aa81fa-26bb-4574-88e1-4dd81c6eb9c3",
   "metadata": {},
   "outputs": [
    {
     "data": {
      "image/png": "[encoded data removed]",
      "text/plain": [
       "<Figure size 432x288 with 1 Axes>"
      ]
     },
     "metadata": {
      "needs_background": "light"
     },
     "output_type": "display_data"
    }
   ],
   "source": [
    "plt.hist(np.random.normal(np.mean(R), np.std(R), 10000), bins=20)\n",
    "plt.xlabel('Return')\n",
    "plt.ylabel('Frequency')\n",
    "plt.legend(['Normally Distributed Returns']);"
   ]
  },
  {
   "cell_type": "markdown",
   "id": "994f0bbc-4269-4f86-90d3-4145037d793a",
   "metadata": {},
   "source": [
    "## **Generating a Moving Average**\n",
    "pandas has some nice tools to allow us to generate rolling statistics. Here's an example. Notice how there's no moving average for the first 60 days, as we don't have 60 days of data on which to generate the statistic."
   ]
  },
  {
   "cell_type": "code",
   "execution_count": 32,
   "id": "2f063dde-ba9c-430b-ae54-7292c17359f7",
   "metadata": {},
   "outputs": [
    {
     "data": {
      "image/png": "[encoded data removed]",
      "text/plain": [
       "<Figure size 432x288 with 1 Axes>"
      ]
     },
     "metadata": {
      "needs_background": "light"
     },
     "output_type": "display_data"
    }
   ],
   "source": [
    "# Take the average of the last 60 days at each timepoint.\n",
    "MAVG = X.rolling(60).mean()\n",
    "plt.plot(X.index, X.values)\n",
    "plt.plot(MAVG.index, MAVG.values)\n",
    "plt.ylabel('Price')\n",
    "plt.legend(['MSFT', '60-day MAVG']);"
   ]
  }
 ],
 "metadata": {
  "kernelspec": {
   "display_name": "Python 3 (ipykernel)",
   "language": "python",
   "name": "python3"
  },
  "language_info": {
   "codemirror_mode": {
    "name": "ipython",
    "version": 3
   },
   "file_extension": ".py",
   "mimetype": "text/x-python",
   "name": "python",
   "nbconvert_exporter": "python",
   "pygments_lexer": "ipython3",
   "version": "3.8.10"
  }
 },
 "nbformat": 4,
 "nbformat_minor": 5
}
