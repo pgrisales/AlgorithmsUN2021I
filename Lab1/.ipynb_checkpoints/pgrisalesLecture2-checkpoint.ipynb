{
 "cells": [
  {
   "cell_type": "markdown",
   "id": "7a92614f-d668-4122-949f-e49a3eceddb2",
   "metadata": {
    "tags": []
   },
   "source": [
    "# **Introduction to Python**\n",
    "by Maxwell Margenot\n",
    "\n",
    "Part of the Quantopian Lecture Series:\n",
    "\n",
    "* [www.quantopian.com/lectures](https://www.quantopian.com/lectures)\n",
    "* [github.com/quantopian/research_public](https://github.com/quantopian/research_public)\n",
    "\n",
    "\n",
    "---\n",
    "\n",
    "All of the coding that you will do on the Quantopian platform will be in Python. It is also just a good, jack-of-all-trades language to know! Here we will provide you with the basics so that you can feel confident going through our other lectures and understanding what is happening.\n",
    "\n",
    "## **Code Comments**\n",
    "\n",
    "A comment is a note made by a programmer in the source code of a program. Its purpose is to clarify the source code and make it easier for people to follow along with what is happening. Anything in a comment is generally ignored when the code is actually run, making comments useful for including explanations and reasoning as well as removing specific lines of code that you may be unsure about. Comments in Python are created by using the pound symbol (#Insert Text Here). Including a # in a line of code will comment out anything that follows it.\n"
   ]
  },
  {
   "cell_type": "code",
   "execution_count": 1,
   "id": "cbabc7dd-1968-4ba6-900f-226d5aa6a01b",
   "metadata": {},
   "outputs": [],
   "source": [
    "# This is a comment\n",
    "# These lines of code will not change any values\n",
    "# Anything following the first # is not run as code"
   ]
  },
  {
   "cell_type": "markdown",
   "id": "51737eb8-d334-4999-8402-662ae2af24e9",
   "metadata": {},
   "source": [
    "You may hear text enclosed in triple quotes (\"\"\" Insert Text Here \"\"\") referred to as multi-line comments, but this is not entirely accurate. This is a special type of string (a data type we will cover), called a docstring, used to explain the purpose of a function."
   ]
  },
  {
   "cell_type": "code",
   "execution_count": 2,
   "id": "49d92c62-f5b4-4335-85c0-119e425f0efb",
   "metadata": {},
   "outputs": [
    {
     "data": {
      "text/plain": [
       "' This is a special string '"
      ]
     },
     "execution_count": 2,
     "metadata": {},
     "output_type": "execute_result"
    }
   ],
   "source": [
    "\"\"\" This is a special string \"\"\""
   ]
  },
  {
   "cell_type": "markdown",
   "id": "76641c6b-1677-4f47-8f90-0dc649c74180",
   "metadata": {},
   "source": [
    "Make sure you read the comments within each code cell (if they are there). They will provide more real-time explanations of what is going on as you look at each line of code.\n",
    "\n",
    "\n",
    "## **Variables**\n",
    "\n",
    "Variables provide names for values in programming. If you want to save a value for later or repeated use, you give the value a name, storing the contents in a variable. Variables in programming work in a fundamentally similar way to variables in algebra, but in Python they can take on various different data types.\n",
    "\n",
    "The basic variable types that we will cover in this section are integers, floating point numbers, booleans, and strings.\n",
    "\n",
    "An integer in programming is the same as in mathematics, a round number with no values after the decimal point. We use the built-in print function here to display the values of our variables as well as their types!"
   ]
  },
  {
   "cell_type": "code",
   "execution_count": 4,
   "id": "e65ca96f-b585-4f36-8393-718203e1f180",
   "metadata": {},
   "outputs": [
    {
     "name": "stdout",
     "output_type": "stream",
     "text": [
      "50 <class 'int'>\n"
     ]
    }
   ],
   "source": [
    "my_integer = 50\n",
    "print(my_integer, type(my_integer))"
   ]
  },
  {
   "cell_type": "markdown",
   "id": "0670cd3c-8ba9-44dc-9161-d55d875dd183",
   "metadata": {},
   "source": [
    "Variables, regardless of type, are assigned by using a single equals sign (=). Variables are case-sensitive so any changes in variation in the capitals of a variable name will reference a different variable entirely."
   ]
  },
  {
   "cell_type": "code",
   "execution_count": 7,
   "id": "5c8b4d2b-9816-4222-9488-94b84a32f78e",
   "metadata": {},
   "outputs": [
    {
     "name": "stdout",
     "output_type": "stream",
     "text": [
      "1\n"
     ]
    }
   ],
   "source": [
    "one = 1\n",
    "print(one)"
   ]
  },
  {
   "cell_type": "markdown",
   "id": "b015094e-b590-4c08-b20b-f8732858a769",
   "metadata": {},
   "source": [
    "A floating point number, or a float is a fancy name for a real number (again as in mathematics). To define a float, we need to either include a decimal point or specify that the value is a float."
   ]
  },
  {
   "cell_type": "code",
   "execution_count": 9,
   "id": "a0b601fc-155b-49b5-8726-3d58f6a237f7",
   "metadata": {},
   "outputs": [
    {
     "name": "stdout",
     "output_type": "stream",
     "text": [
      "1.0 <class 'float'>\n",
      "1.0 <class 'float'>\n"
     ]
    }
   ],
   "source": [
    "my_float = 1.0\n",
    "print(my_float, type(my_float))\n",
    "my_float = float(1)\n",
    "print(my_float, type(my_float))"
   ]
  },
  {
   "cell_type": "markdown",
   "id": "7e8b7898-e265-4f92-99ba-d66b4a35a300",
   "metadata": {},
   "source": [
    "A variable of type float will not round the number that you store in it, while a variable of type integer will. This makes floats more suitable for mathematical calculations where you want more than just integers.\n",
    "\n",
    "Note that as we used the float() function to force an number to be considered a float, we can use the int() function to force a number to be considered an int."
   ]
  },
  {
   "cell_type": "code",
   "execution_count": 11,
   "id": "ac2b3431-08c5-4411-9205-13d9d4776f68",
   "metadata": {},
   "outputs": [
    {
     "name": "stdout",
     "output_type": "stream",
     "text": [
      "3 <class 'int'>\n"
     ]
    }
   ],
   "source": [
    "my_int = int(3.14159)\n",
    "print(my_int, type(my_int))"
   ]
  },
  {
   "cell_type": "code",
   "execution_count": null,
   "id": "316b08da-2113-49a9-bd8a-25613e2c029e",
   "metadata": {},
   "outputs": [],
   "source": [
    "The int() function will also truncate any digits that a number may have after the decimal point!\n",
    "\n",
    "Strings allow you to include text as a variable to operate on. They are defined using either single quotes ('') or double quotes (\"\")."
   ]
  },
  {
   "cell_type": "code",
   "execution_count": 13,
   "id": "a233ba32-8aff-4006-a9b0-6ac15c2b01e4",
   "metadata": {},
   "outputs": [
    {
     "name": "stdout",
     "output_type": "stream",
     "text": [
      "This is a string with single quotes\n",
      "This is a string with double quotes\n"
     ]
    }
   ],
   "source": [
    "my_string = 'This is a string with single quotes'\n",
    "print(my_string)\n",
    "my_string = \"This is a string with double quotes\"\n",
    "print(my_string)"
   ]
  },
  {
   "cell_type": "markdown",
   "id": "4a2c8e7f-ca7c-4ace-a3dd-1662cbb9edfb",
   "metadata": {},
   "source": [
    "Both are allowed so that we can include apostrophes or quotation marks in a string if we so choose."
   ]
  },
  {
   "cell_type": "code",
   "execution_count": 14,
   "id": "3d7c7476-5138-4e5f-85be-966e9497d19e",
   "metadata": {},
   "outputs": [
    {
     "name": "stdout",
     "output_type": "stream",
     "text": [
      "\"Jabberwocky\", by Lewis Carroll\n",
      "'Twas brillig, and the slithy toves / Did gyre and gimble in the wabe;\n"
     ]
    }
   ],
   "source": [
    "my_string = '\"Jabberwocky\", by Lewis Carroll'\n",
    "print(my_string)\n",
    "my_string = \"'Twas brillig, and the slithy toves / Did gyre and gimble in the wabe;\"\n",
    "print(my_string)"
   ]
  },
  {
   "cell_type": "markdown",
   "id": "c034220c-d084-4cc3-b157-6ae693a0a0e8",
   "metadata": {},
   "source": [
    "\n",
    "Booleans, or bools are binary variable types. A bool can only take on one of two values, these being True or False. There is much more to this idea of truth values when it comes to programming, which we cover later in the [Logical Operators](#id-section5) of this notebook."
   ]
  },
  {
   "cell_type": "code",
   "execution_count": 15,
   "id": "93e3d0ca-1d95-41ad-a386-888b54cbaf29",
   "metadata": {},
   "outputs": [
    {
     "name": "stdout",
     "output_type": "stream",
     "text": [
      "True <class 'bool'>\n"
     ]
    }
   ],
   "source": [
    "my_bool = True\n",
    "print(my_bool, type(my_bool))"
   ]
  },
  {
   "cell_type": "markdown",
   "id": "0716fab2-2237-4396-9924-672ea10ed2e0",
   "metadata": {},
   "source": [
    "There are many more data types that you can assign as variables in Python, but these are the basic ones! We will cover a few more later as we move through this tutorial.\n",
    "\n",
    "## **Basic Math**\n",
    "Python has a number of built-in math functions. These can be extended even further by importing the math package or by including any number of other calculation-based packages.\n",
    "\n",
    "All of the basic arithmetic operations are supported: +, -, /, and *. You can create exponents by using ** and modular arithmetic is introduced with the mod operator, %."
   ]
  },
  {
   "cell_type": "code",
   "execution_count": 16,
   "id": "5a76fe36-a267-4d86-b572-4062c7e463e1",
   "metadata": {},
   "outputs": [
    {
     "name": "stdout",
     "output_type": "stream",
     "text": [
      "Addition:  4\n",
      "Subtraction:  3\n",
      "Multiplication:  10\n",
      "Division:  5.0\n",
      "Exponentiation:  9\n"
     ]
    }
   ],
   "source": [
    "print('Addition: ', 2 + 2)\n",
    "print('Subtraction: ', 7 - 4)\n",
    "print('Multiplication: ', 2 * 5)\n",
    "print('Division: ', 10 / 2)\n",
    "print('Exponentiation: ', 3**2)"
   ]
  },
  {
   "cell_type": "markdown",
   "id": "ea3c0372-49f0-43c6-a9c5-33790b1cc250",
   "metadata": {},
   "source": [
    "If you are not familiar with the the mod operator, it operates like a remainder function. If we type $15 \\ \\% \\ 4$, it will return the remainder after dividing $15$ by $4$."
   ]
  },
  {
   "cell_type": "markdown",
   "id": "30733516-66c5-43ad-86ee-3eb0c9cc35b9",
   "metadata": {},
   "source": [
    "print('Modulo: ', 15 % 4)"
   ]
  },
  {
   "cell_type": "markdown",
   "id": "eeb215a6-ce42-4b04-b6eb-355546a28b12",
   "metadata": {},
   "source": [
    "Mathematical functions also work on variables!"
   ]
  },
  {
   "cell_type": "code",
   "execution_count": 18,
   "id": "089ff15c-88ba-4cb8-8fa4-3492596e829c",
   "metadata": {},
   "outputs": [
    {
     "name": "stdout",
     "output_type": "stream",
     "text": [
      "20\n"
     ]
    }
   ],
   "source": [
    "first_integer = 4\n",
    "second_integer = 5\n",
    "print(first_integer * second_integer)"
   ]
  },
  {
   "cell_type": "markdown",
   "id": "e34375ff-68d3-4e2b-a700-8a05bbafa229",
   "metadata": {},
   "source": [
    "Make sure that your variables are floats if you want to have decimal points in your answer. If you perform math exclusively with integers, you get an integer. Including any float in the calculation will make the result a float."
   ]
  },
  {
   "cell_type": "code",
   "execution_count": 19,
   "id": "b2339857-1f82-4397-8f27-3a0692ea38b0",
   "metadata": {},
   "outputs": [
    {
     "name": "stdout",
     "output_type": "stream",
     "text": [
      "3.6666666666666665\n"
     ]
    }
   ],
   "source": [
    "first_integer = 11\n",
    "second_integer = 3\n",
    "print(first_integer / second_integer)"
   ]
  },
  {
   "cell_type": "code",
   "execution_count": 20,
   "id": "fe463e7f-c46d-4a19-a9a7-f888d409d232",
   "metadata": {},
   "outputs": [
    {
     "name": "stdout",
     "output_type": "stream",
     "text": [
      "3.6666666666666665\n"
     ]
    }
   ],
   "source": [
    "first_integer = 11.0\n",
    "second_integer = 3.0\n",
    "print(first_integer / second_integer)"
   ]
  },
  {
   "cell_type": "markdown",
   "id": "c47737b4-cd7c-48bc-96b8-1967bf827614",
   "metadata": {},
   "source": [
    "Python has a few built-in math functions. The most notable of these are:\n",
    "\n",
    "* `abs()`\n",
    "* `round()`\n",
    "* `max()`\n",
    "* `min()`\n",
    "* `sum()`\n",
    "\n",
    "These functions all act as you would expect, given their names. Calling `abs()` on a number will return its absolute value. The `round()` function will round a number to a specified number of the decimal points (the default is $0$). Calling `max()` or `min()` on a collection of numbers will return, respectively, the maximum or minimum value in the collection. Calling `sum()` on a collection of numbers will add them all up. If you're not familiar with how collections of values in Python work, don't worry! We will cover collections in-depth in the next section. \n",
    "\n",
    "Additional math functionality can be added in with the `math` package."
   ]
  },
  {
   "cell_type": "code",
   "execution_count": 22,
   "id": "7c94fe23-4a99-4e48-b98c-f9a6aed164e3",
   "metadata": {},
   "outputs": [],
   "source": [
    "import math"
   ]
  },
  {
   "cell_type": "markdown",
   "id": "df01bf11-f9ec-4a58-89b8-3f1f065c5164",
   "metadata": {
    "id": "pimVV500oaTQ"
   },
   "source": [
    "The math library adds a long list of new mathematical functions to Python. Feel free to check out the [documentation](https://docs.python.org/2/library/math.html) for the full list and details. It concludes some mathematical constants"
   ]
  },
  {
   "cell_type": "code",
   "execution_count": null,
   "id": "dd9eff55-7cad-4034-aedc-8dc72a67a19f",
   "metadata": {
    "colab": {
     "base_uri": "https://localhost:8080/"
    },
    "executionInfo": {
     "elapsed": 356,
     "status": "ok",
     "timestamp": 1615052869485,
     "user": {
      "displayName": "Santiago Mondragón Gómez",
      "photoUrl": "https://lh3.googleusercontent.com/a-/AOh14Gh8R-q32gOlh13EiQTzmP34aJX7HrfLdR3-OyJVLg=s64",
      "userId": "04334286989014486685"
     },
     "user_tz": 300
    },
    "id": "-Er2F7z2oaTQ",
    "outputId": "04da5b8c-ba64-4c9c-b908-34fff9151389"
   },
   "outputs": [
    {
     "name": "stdout",
     "output_type": "stream",
     "text": [
      "Pi:  3.141592653589793\n",
      "Euler's Constant:  2.718281828459045\n"
     ]
    }
   ],
   "source": [
    "print('Pi: ', math.pi)\n",
    "print(\"Euler's Constant: \", math.e)"
   ]
  },
  {
   "cell_type": "markdown",
   "id": "371d3e7b-3cc2-49fa-a4b2-b3ae8b984717",
   "metadata": {},
   "source": [
    "As well as some commonly used math functions"
   ]
  },
  {
   "cell_type": "code",
   "execution_count": 24,
   "id": "d7ac5531-2bfa-4247-9e27-f6b933c7d24c",
   "metadata": {},
   "outputs": [
    {
     "name": "stdout",
     "output_type": "stream",
     "text": [
      "Cosine of pi:  -1.0\n"
     ]
    }
   ],
   "source": [
    "print('Cosine of pi: ', math.cos(math.pi))"
   ]
  },
  {
   "cell_type": "markdown",
   "id": "bea49e80-8cf7-48f2-b9b0-7fa2d3485962",
   "metadata": {
    "id": "MPOPIQ-RoaTR"
   },
   "source": [
    "## Collections\n",
    "### Lists\n",
    "\n",
    "A `list` in Python is an ordered collection of objects that can contain any data type. We define a `list` using brackets (`[]`)."
   ]
  },
  {
   "cell_type": "code",
   "execution_count": 25,
   "id": "e59dc911-5400-462d-8c61-3006aef22866",
   "metadata": {
    "colab": {
     "base_uri": "https://localhost:8080/"
    },
    "executionInfo": {
     "elapsed": 390,
     "status": "ok",
     "timestamp": 1615052898131,
     "user": {
      "displayName": "Santiago Mondragón Gómez",
      "photoUrl": "https://lh3.googleusercontent.com/a-/AOh14Gh8R-q32gOlh13EiQTzmP34aJX7HrfLdR3-OyJVLg=s64",
      "userId": "04334286989014486685"
     },
     "user_tz": 300
    },
    "id": "d6Ik4rIvoaTR",
    "outputId": "26b1a3c0-d596-40b9-ce69-dd2baefb2d61"
   },
   "outputs": [
    {
     "name": "stdout",
     "output_type": "stream",
     "text": [
      "[1, 2, 3]\n"
     ]
    }
   ],
   "source": [
    "my_list = [1, 2, 3]\n",
    "print(my_list)"
   ]
  },
  {
   "cell_type": "markdown",
   "id": "4ea38a62-6af0-4619-8b67-67eaf1b05560",
   "metadata": {
    "id": "cfKZwfznoaTS"
   },
   "source": [
    "We can access and index the list by using brackets as well. In order to select an individual element, simply type the list name followed by the index of the item you are looking for in braces."
   ]
  },
  {
   "cell_type": "code",
   "execution_count": 26,
   "id": "3a239f93-e9ed-4751-a558-7611b62a0460",
   "metadata": {
    "colab": {
     "base_uri": "https://localhost:8080/"
    },
    "executionInfo": {
     "elapsed": 423,
     "status": "ok",
     "timestamp": 1615052909036,
     "user": {
      "displayName": "Santiago Mondragón Gómez",
      "photoUrl": "https://lh3.googleusercontent.com/a-/AOh14Gh8R-q32gOlh13EiQTzmP34aJX7HrfLdR3-OyJVLg=s64",
      "userId": "04334286989014486685"
     },
     "user_tz": 300
    },
    "id": "PWA03AIUoaTS",
    "outputId": "08fafe02-ff17-40ed-ce4e-82e17a1e211b"
   },
   "outputs": [
    {
     "name": "stdout",
     "output_type": "stream",
     "text": [
      "1\n",
      "3\n"
     ]
    }
   ],
   "source": [
    "print(my_list[0])\n",
    "print(my_list[2])"
   ]
  },
  {
   "cell_type": "markdown",
   "id": "86570332-bd0c-473e-bf0d-0342b023dbd6",
   "metadata": {
    "id": "SKxGEliroaTS"
   },
   "source": [
    "Indexing in Python starts from $0$. If you have a list of length $n$, the first element of the list is at index $0$, the second element is at index $1$, and so on and so forth. The final element of the list will be at index $n-1$. Be careful! Trying to access a non-existent index will cause an error."
   ]
  },
  {
   "cell_type": "code",
   "execution_count": 27,
   "id": "82d83101-f0b1-4445-b8ea-54882033df25",
   "metadata": {},
   "outputs": [
    {
     "name": "stdout",
     "output_type": "stream",
     "text": [
      "The first, second, and third list elements:  1 2 3\n"
     ]
    },
    {
     "ename": "IndexError",
     "evalue": "list index out of range",
     "output_type": "error",
     "traceback": [
      "\u001b[0;31m---------------------------------------------------------------------------\u001b[0m",
      "\u001b[0;31mIndexError\u001b[0m                                Traceback (most recent call last)",
      "\u001b[0;32m/tmp/ipykernel_55553/3827806451.py\u001b[0m in \u001b[0;36m<module>\u001b[0;34m\u001b[0m\n\u001b[1;32m      1\u001b[0m \u001b[0mprint\u001b[0m\u001b[0;34m(\u001b[0m\u001b[0;34m'The first, second, and third list elements: '\u001b[0m\u001b[0;34m,\u001b[0m \u001b[0mmy_list\u001b[0m\u001b[0;34m[\u001b[0m\u001b[0;36m0\u001b[0m\u001b[0;34m]\u001b[0m\u001b[0;34m,\u001b[0m \u001b[0mmy_list\u001b[0m\u001b[0;34m[\u001b[0m\u001b[0;36m1\u001b[0m\u001b[0;34m]\u001b[0m\u001b[0;34m,\u001b[0m \u001b[0mmy_list\u001b[0m\u001b[0;34m[\u001b[0m\u001b[0;36m2\u001b[0m\u001b[0;34m]\u001b[0m\u001b[0;34m)\u001b[0m\u001b[0;34m\u001b[0m\u001b[0;34m\u001b[0m\u001b[0m\n\u001b[0;32m----> 2\u001b[0;31m \u001b[0mprint\u001b[0m\u001b[0;34m(\u001b[0m\u001b[0;34m'Accessing outside the list bounds causes an error: '\u001b[0m\u001b[0;34m,\u001b[0m \u001b[0mmy_list\u001b[0m\u001b[0;34m[\u001b[0m\u001b[0;36m3\u001b[0m\u001b[0;34m]\u001b[0m\u001b[0;34m)\u001b[0m\u001b[0;34m\u001b[0m\u001b[0;34m\u001b[0m\u001b[0m\n\u001b[0m",
      "\u001b[0;31mIndexError\u001b[0m: list index out of range"
     ]
    }
   ],
   "source": [
    "print('The first, second, and third list elements: ', my_list[0], my_list[1], my_list[2])\n",
    "print('Accessing outside the list bounds causes an error: ', my_list[3])"
   ]
  },
  {
   "cell_type": "markdown",
   "id": "4c4ac39e-dd1f-41f5-94f0-7915210ad041",
   "metadata": {
    "id": "rSdUy3HIoaTT"
   },
   "source": [
    "We can see the number of elements in a list by calling the `len()` function."
   ]
  },
  {
   "cell_type": "code",
   "execution_count": 28,
   "id": "f9d215d2-60b9-4909-82ce-94ceeb6368e4",
   "metadata": {
    "colab": {
     "base_uri": "https://localhost:8080/"
    },
    "executionInfo": {
     "elapsed": 460,
     "status": "ok",
     "timestamp": 1615052945275,
     "user": {
      "displayName": "Santiago Mondragón Gómez",
      "photoUrl": "https://lh3.googleusercontent.com/a-/AOh14Gh8R-q32gOlh13EiQTzmP34aJX7HrfLdR3-OyJVLg=s64",
      "userId": "04334286989014486685"
     },
     "user_tz": 300
    },
    "id": "xCV6ybqDoaTT",
    "outputId": "54805729-7eec-4be9-8a01-69c1057a0522"
   },
   "outputs": [
    {
     "name": "stdout",
     "output_type": "stream",
     "text": [
      "3\n"
     ]
    }
   ],
   "source": [
    "print(len(my_list))"
   ]
  },
  {
   "cell_type": "markdown",
   "id": "dfa7d2ef-f7e9-456f-a6d5-bb305d77a158",
   "metadata": {
    "id": "eDVhTfCGoaTT"
   },
   "source": [
    "We can update and change a list by accessing an index and assigning new value."
   ]
  },
  {
   "cell_type": "code",
   "execution_count": 29,
   "id": "f6312cfe-3d4a-4924-b82b-e9816f8ba4a6",
   "metadata": {
    "colab": {
     "base_uri": "https://localhost:8080/"
    },
    "executionInfo": {
     "elapsed": 460,
     "status": "ok",
     "timestamp": 1615052959784,
     "user": {
      "displayName": "Santiago Mondragón Gómez",
      "photoUrl": "https://lh3.googleusercontent.com/a-/AOh14Gh8R-q32gOlh13EiQTzmP34aJX7HrfLdR3-OyJVLg=s64",
      "userId": "04334286989014486685"
     },
     "user_tz": 300
    },
    "id": "RnPwm152oaTT",
    "outputId": "a47091d9-26d7-4c98-cfd9-6d5adc433e39"
   },
   "outputs": [
    {
     "name": "stdout",
     "output_type": "stream",
     "text": [
      "[1, 2, 3]\n",
      "[42, 2, 3]\n"
     ]
    }
   ],
   "source": [
    "print(my_list)\n",
    "my_list[0] = 42\n",
    "print(my_list)"
   ]
  },
  {
   "cell_type": "markdown",
   "id": "3681ec0b-e271-4303-a437-6935cfb0b4ec",
   "metadata": {
    "id": "DPyVWDhxoaTU"
   },
   "source": [
    "This is fundamentally different from how strings are handled. A `list` is mutable, meaning that you can change a `list`'s elements without changing the list itself. Some data types, like `strings`, are immutable, meaning you cannot change them at all. Once a `string` or other immutable data type has been created, it cannot be directly modified without creating an entirely new object."
   ]
  },
  {
   "cell_type": "code",
   "execution_count": 30,
   "id": "c3e17b30-a6f7-4874-ae2b-07a9b4a99a79",
   "metadata": {
    "colab": {
     "base_uri": "https://localhost:8080/",
     "height": 180
    },
    "executionInfo": {
     "elapsed": 426,
     "status": "error",
     "timestamp": 1615052963314,
     "user": {
      "displayName": "Santiago Mondragón Gómez",
      "photoUrl": "https://lh3.googleusercontent.com/a-/AOh14Gh8R-q32gOlh13EiQTzmP34aJX7HrfLdR3-OyJVLg=s64",
      "userId": "04334286989014486685"
     },
     "user_tz": 300
    },
    "id": "DFXuavLqoaTU",
    "outputId": "12fe55f3-472d-4753-9084-ecc654fcd724"
   },
   "outputs": [
    {
     "ename": "TypeError",
     "evalue": "'str' object does not support item assignment",
     "output_type": "error",
     "traceback": [
      "\u001b[0;31m---------------------------------------------------------------------------\u001b[0m",
      "\u001b[0;31mTypeError\u001b[0m                                 Traceback (most recent call last)",
      "\u001b[0;32m/tmp/ipykernel_55553/3343853788.py\u001b[0m in \u001b[0;36m<module>\u001b[0;34m\u001b[0m\n\u001b[1;32m      1\u001b[0m \u001b[0mmy_string\u001b[0m \u001b[0;34m=\u001b[0m \u001b[0;34m\"Strings never change\"\u001b[0m\u001b[0;34m\u001b[0m\u001b[0;34m\u001b[0m\u001b[0m\n\u001b[0;32m----> 2\u001b[0;31m \u001b[0mmy_string\u001b[0m\u001b[0;34m[\u001b[0m\u001b[0;36m0\u001b[0m\u001b[0;34m]\u001b[0m \u001b[0;34m=\u001b[0m \u001b[0;34m'Z'\u001b[0m\u001b[0;34m\u001b[0m\u001b[0;34m\u001b[0m\u001b[0m\n\u001b[0m",
      "\u001b[0;31mTypeError\u001b[0m: 'str' object does not support item assignment"
     ]
    }
   ],
   "source": [
    "my_string = \"Strings never change\"\n",
    "my_string[0] = 'Z'"
   ]
  },
  {
   "cell_type": "markdown",
   "id": "e721b9de-8b9b-4993-85e1-6a8ee3804b8c",
   "metadata": {
    "id": "m1MgqsfloaTU"
   },
   "source": [
    "As we stated before, a list can contain any data type. Thus, lists can also contain strings."
   ]
  },
  {
   "cell_type": "code",
   "execution_count": 31,
   "id": "a7416fd0-562a-45cb-b36e-9ff3d4d61af4",
   "metadata": {
    "colab": {
     "base_uri": "https://localhost:8080/"
    },
    "executionInfo": {
     "elapsed": 496,
     "status": "ok",
     "timestamp": 1615053006717,
     "user": {
      "displayName": "Santiago Mondragón Gómez",
      "photoUrl": "https://lh3.googleusercontent.com/a-/AOh14Gh8R-q32gOlh13EiQTzmP34aJX7HrfLdR3-OyJVLg=s64",
      "userId": "04334286989014486685"
     },
     "user_tz": 300
    },
    "id": "z0JQM5NuoaTU",
    "outputId": "fefc8eb8-034a-4691-8018-f1e1259040f6"
   },
   "outputs": [
    {
     "name": "stdout",
     "output_type": "stream",
     "text": [
      "['one', 'two', 'three']\n"
     ]
    }
   ],
   "source": [
    "my_list_2 = ['one', 'two', 'three']\n",
    "print(my_list_2)"
   ]
  },
  {
   "cell_type": "markdown",
   "id": "90e668fe-e42d-4224-a7b4-d2afab6c4cca",
   "metadata": {
    "id": "tVc2bMUaoaTV"
   },
   "source": [
    "Lists can also contain multiple different data types at once!"
   ]
  },
  {
   "cell_type": "code",
   "execution_count": 32,
   "id": "0f26689b-09ce-4dc2-9b37-159ef9037fa2",
   "metadata": {
    "id": "Ot85DpA9oaTV"
   },
   "outputs": [],
   "source": [
    "my_list_3 = [True, 'False', 42]"
   ]
  },
  {
   "cell_type": "markdown",
   "id": "ec3e4a04-c16e-4ec5-b6d2-ef0f11f0ccba",
   "metadata": {
    "id": "0NZg-C_IoaTW"
   },
   "source": [
    "If you want to put two lists together, they can be combined with a `+` symbol."
   ]
  },
  {
   "cell_type": "code",
   "execution_count": 33,
   "id": "361be731-f782-4e09-8772-0f50e837417b",
   "metadata": {
    "colab": {
     "base_uri": "https://localhost:8080/"
    },
    "executionInfo": {
     "elapsed": 362,
     "status": "ok",
     "timestamp": 1615053021371,
     "user": {
      "displayName": "Santiago Mondragón Gómez",
      "photoUrl": "https://lh3.googleusercontent.com/a-/AOh14Gh8R-q32gOlh13EiQTzmP34aJX7HrfLdR3-OyJVLg=s64",
      "userId": "04334286989014486685"
     },
     "user_tz": 300
    },
    "id": "zJrxeFtloaTW",
    "outputId": "9e0dd3bf-ba6c-44f5-8869-f6d1adf77cd3"
   },
   "outputs": [
    {
     "name": "stdout",
     "output_type": "stream",
     "text": [
      "[42, 2, 3, 'one', 'two', 'three', True, 'False', 42]\n"
     ]
    }
   ],
   "source": [
    "my_list_4 = my_list + my_list_2 + my_list_3\n",
    "print(my_list_4)"
   ]
  },
  {
   "cell_type": "markdown",
   "id": "63c84696-9014-4561-9708-cddba5eb1123",
   "metadata": {
    "id": "4CuYZdvBoaTW"
   },
   "source": [
    "In addition to accessing individual elements of a list, we can access groups of elements through slicing."
   ]
  },
  {
   "cell_type": "code",
   "execution_count": 34,
   "id": "b352214c-a49a-4691-897a-c507d86d5fb6",
   "metadata": {
    "id": "n_6P_mHYoaTW"
   },
   "outputs": [],
   "source": [
    "my_list = ['friends', 'romans', 'countrymen', 'lend', 'me', 'your', 'ears']"
   ]
  },
  {
   "cell_type": "markdown",
   "id": "3186d098-ede6-4468-a9d1-8f1fc6916a53",
   "metadata": {},
   "source": [
    "### **Slicing**\n",
    "We use the colon (:) to slice lists."
   ]
  },
  {
   "cell_type": "code",
   "execution_count": 35,
   "id": "a222fc02-c735-4a52-943d-21b93155cf25",
   "metadata": {
    "colab": {
     "base_uri": "https://localhost:8080/"
    },
    "executionInfo": {
     "elapsed": 402,
     "status": "ok",
     "timestamp": 1615053037641,
     "user": {
      "displayName": "Santiago Mondragón Gómez",
      "photoUrl": "https://lh3.googleusercontent.com/a-/AOh14Gh8R-q32gOlh13EiQTzmP34aJX7HrfLdR3-OyJVLg=s64",
      "userId": "04334286989014486685"
     },
     "user_tz": 300
    },
    "id": "dns3g7JEoaTX",
    "outputId": "4fc10bc0-bf40-423c-94c6-7b78293624a7",
    "scrolled": true,
    "tags": []
   },
   "outputs": [
    {
     "name": "stdout",
     "output_type": "stream",
     "text": [
      "['countrymen', 'lend']\n"
     ]
    }
   ],
   "source": [
    "print(my_list[2:4])"
   ]
  },
  {
   "cell_type": "markdown",
   "id": "03e56b28-70b5-4083-ab73-4261946ec883",
   "metadata": {
    "id": "l7aN0TaKoaTX"
   },
   "source": [
    "Using `:` we can select a group of elements in the list starting from the first element indicated and going up to  (but not including) the last element indicated.\n",
    "\n",
    "We can also select everything after a certain point"
   ]
  },
  {
   "cell_type": "code",
   "execution_count": 36,
   "id": "0f597a65-ae87-4f9e-90c5-803a8096812d",
   "metadata": {
    "colab": {
     "base_uri": "https://localhost:8080/"
    },
    "executionInfo": {
     "elapsed": 551,
     "status": "ok",
     "timestamp": 1615053079118,
     "user": {
      "displayName": "Santiago Mondragón Gómez",
      "photoUrl": "https://lh3.googleusercontent.com/a-/AOh14Gh8R-q32gOlh13EiQTzmP34aJX7HrfLdR3-OyJVLg=s64",
      "userId": "04334286989014486685"
     },
     "user_tz": 300
    },
    "id": "11PrRoV2oaTX",
    "outputId": "21e78a58-5c3c-4530-8a1c-18c4b852b5a2",
    "scrolled": true
   },
   "outputs": [
    {
     "name": "stdout",
     "output_type": "stream",
     "text": [
      "['romans', 'countrymen', 'lend', 'me', 'your', 'ears']\n"
     ]
    }
   ],
   "source": [
    "print(my_list[1:])"
   ]
  },
  {
   "cell_type": "markdown",
   "id": "dac4be71-f185-4f47-a859-d6ce237385a3",
   "metadata": {
    "id": "HkaeUcDcoaTY"
   },
   "source": [
    "And everything before a certain point"
   ]
  },
  {
   "cell_type": "code",
   "execution_count": 37,
   "id": "af887547-cbc9-410f-b3cc-134108b3fc6c",
   "metadata": {
    "colab": {
     "base_uri": "https://localhost:8080/"
    },
    "executionInfo": {
     "elapsed": 472,
     "status": "ok",
     "timestamp": 1615053089157,
     "user": {
      "displayName": "Santiago Mondragón Gómez",
      "photoUrl": "https://lh3.googleusercontent.com/a-/AOh14Gh8R-q32gOlh13EiQTzmP34aJX7HrfLdR3-OyJVLg=s64",
      "userId": "04334286989014486685"
     },
     "user_tz": 300
    },
    "id": "opH_mll1oaTY",
    "outputId": "02f2e0cd-eeb2-41b9-dc6e-7d4876e5b52b",
    "scrolled": true
   },
   "outputs": [
    {
     "name": "stdout",
     "output_type": "stream",
     "text": [
      "['friends', 'romans', 'countrymen', 'lend']\n"
     ]
    }
   ],
   "source": [
    "print(my_list[:4])"
   ]
  },
  {
   "cell_type": "markdown",
   "id": "5990a4aa-82f2-4c30-9b74-fbab6803e294",
   "metadata": {
    "id": "YdPE8IN_oaTZ"
   },
   "source": [
    "Using negative numbers will count from the end of the indices instead of from the beginning. For example, an index of `-1` indicates the last element of the list."
   ]
  },
  {
   "cell_type": "code",
   "execution_count": 38,
   "id": "e845a5de-4247-43c4-9e86-9ceed24a2134",
   "metadata": {
    "colab": {
     "base_uri": "https://localhost:8080/"
    },
    "executionInfo": {
     "elapsed": 481,
     "status": "ok",
     "timestamp": 1615053108198,
     "user": {
      "displayName": "Santiago Mondragón Gómez",
      "photoUrl": "https://lh3.googleusercontent.com/a-/AOh14Gh8R-q32gOlh13EiQTzmP34aJX7HrfLdR3-OyJVLg=s64",
      "userId": "04334286989014486685"
     },
     "user_tz": 300
    },
    "id": "kpQPftfAoaTZ",
    "outputId": "6c09ad6a-bf5f-4c26-89f7-436c57437da4"
   },
   "outputs": [
    {
     "name": "stdout",
     "output_type": "stream",
     "text": [
      "ears\n"
     ]
    }
   ],
   "source": [
    "print(my_list[-1])"
   ]
  },
  {
   "cell_type": "markdown",
   "id": "c64ae8d0-ce5f-464e-bc6a-87ae4674560d",
   "metadata": {
    "id": "vd1Ozu7woaTZ"
   },
   "source": [
    "You can also add a third component to slicing. Instead of simply indicating the first and final parts of your slice, you can specify the step size that you want to take. So instead of taking every single element, you can take every other element."
   ]
  },
  {
   "cell_type": "code",
   "execution_count": 40,
   "id": "28a7a8ed-2028-424f-a7d9-6c5379579c50",
   "metadata": {
    "colab": {
     "base_uri": "https://localhost:8080/"
    },
    "executionInfo": {
     "elapsed": 382,
     "status": "ok",
     "timestamp": 1615053116154,
     "user": {
      "displayName": "Santiago Mondragón Gómez",
      "photoUrl": "https://lh3.googleusercontent.com/a-/AOh14Gh8R-q32gOlh13EiQTzmP34aJX7HrfLdR3-OyJVLg=s64",
      "userId": "04334286989014486685"
     },
     "user_tz": 300
    },
    "id": "yjpsMdSRoaTa",
    "outputId": "794ce076-4043-4b0a-cc4e-87d71267d060"
   },
   "outputs": [
    {
     "name": "stdout",
     "output_type": "stream",
     "text": [
      "['friends', 'countrymen', 'me', 'ears']\n"
     ]
    }
   ],
   "source": [
    "print(my_list[0:7:2])"
   ]
  },
  {
   "cell_type": "markdown",
   "id": "79361fc4-8c34-48c7-a929-14fd50ed3c93",
   "metadata": {
    "id": "RcEsLG_foaTa"
   },
   "source": [
    "Here we have selected the entire list (because `0:7` will yield elements `0` through `6`) and we have selected a step size of `2`. So this will spit out element `0` , element `2`, element `4`, and so on through the list element selected. We can skip indicated the beginning and end of our slice, only indicating the step, if we like."
   ]
  },
  {
   "cell_type": "code",
   "execution_count": 41,
   "id": "dbc27a62-8aef-4386-bf3e-49b836fe743f",
   "metadata": {
    "colab": {
     "base_uri": "https://localhost:8080/"
    },
    "executionInfo": {
     "elapsed": 504,
     "status": "ok",
     "timestamp": 1615053190502,
     "user": {
      "displayName": "Santiago Mondragón Gómez",
      "photoUrl": "https://lh3.googleusercontent.com/a-/AOh14Gh8R-q32gOlh13EiQTzmP34aJX7HrfLdR3-OyJVLg=s64",
      "userId": "04334286989014486685"
     },
     "user_tz": 300
    },
    "id": "-EjtUXRCoaTa",
    "outputId": "db937510-0bef-4639-8d9c-dd36c9c3bdf5"
   },
   "outputs": [
    {
     "name": "stdout",
     "output_type": "stream",
     "text": [
      "['friends', 'countrymen', 'me', 'ears']\n"
     ]
    }
   ],
   "source": [
    "print(my_list[::2])"
   ]
  },
  {
   "cell_type": "markdown",
   "id": "173ae273-6a51-48c6-b40a-875957807b51",
   "metadata": {
    "id": "vj7W0c3YoaTb"
   },
   "source": [
    "Lists implictly select the beginning and end of the list when not otherwise specified."
   ]
  },
  {
   "cell_type": "code",
   "execution_count": 42,
   "id": "33c39804-61f6-4c38-8cd1-c1ec057b65a5",
   "metadata": {
    "colab": {
     "base_uri": "https://localhost:8080/"
    },
    "executionInfo": {
     "elapsed": 476,
     "status": "ok",
     "timestamp": 1615053213449,
     "user": {
      "displayName": "Santiago Mondragón Gómez",
      "photoUrl": "https://lh3.googleusercontent.com/a-/AOh14Gh8R-q32gOlh13EiQTzmP34aJX7HrfLdR3-OyJVLg=s64",
      "userId": "04334286989014486685"
     },
     "user_tz": 300
    },
    "id": "CFw1oR0ZoaTb",
    "outputId": "29239a64-bdfa-458d-994c-b401ebffea91"
   },
   "outputs": [
    {
     "name": "stdout",
     "output_type": "stream",
     "text": [
      "['friends', 'romans', 'countrymen', 'lend', 'me', 'your', 'ears']\n"
     ]
    }
   ],
   "source": [
    "print(my_list[:])"
   ]
  },
  {
   "cell_type": "markdown",
   "id": "be0e7540-795e-4e24-b418-aa9d8dad50e7",
   "metadata": {
    "id": "iLRODmReoaTb"
   },
   "source": [
    "With a negative step size we can even reverse the list!"
   ]
  },
  {
   "cell_type": "code",
   "execution_count": 43,
   "id": "1b4c59c2-3db9-47e3-99ab-3ca7c4d20c81",
   "metadata": {
    "colab": {
     "base_uri": "https://localhost:8080/"
    },
    "executionInfo": {
     "elapsed": 497,
     "status": "ok",
     "timestamp": 1615053232415,
     "user": {
      "displayName": "Santiago Mondragón Gómez",
      "photoUrl": "https://lh3.googleusercontent.com/a-/AOh14Gh8R-q32gOlh13EiQTzmP34aJX7HrfLdR3-OyJVLg=s64",
      "userId": "04334286989014486685"
     },
     "user_tz": 300
    },
    "id": "6wKSL5TWoaTb",
    "outputId": "bcc05b7d-7708-40e1-e28f-a0ea00dffc70"
   },
   "outputs": [
    {
     "name": "stdout",
     "output_type": "stream",
     "text": [
      "['ears', 'your', 'me', 'lend', 'countrymen', 'romans', 'friends']\n"
     ]
    }
   ],
   "source": [
    "print(my_list[::-1])"
   ]
  },
  {
   "cell_type": "markdown",
   "id": "2eb45a67-e746-46bb-bc50-c120b11d38fa",
   "metadata": {
    "id": "ol6Zg8pGoaTc"
   },
   "source": [
    "Python does not have native matrices, but with lists we can produce a working fascimile. Other packages, such as `numpy`, add matrices as a separate data type, but in base Python the best way to create a matrix is to use a list of lists."
   ]
  },
  {
   "cell_type": "markdown",
   "id": "c31fb46d-8d79-4e99-a05e-99b5367a0e8c",
   "metadata": {
    "id": "Uv6WDkHioaTc"
   },
   "source": [
    "We can also use built-in functions to generate lists. In particular we will look at `range()` (because we will be using it later!). Range can take several different inputs and will return a list."
   ]
  },
  {
   "cell_type": "code",
   "execution_count": 44,
   "id": "18d9905f-f2ec-4895-b00c-63da11d32f81",
   "metadata": {
    "colab": {
     "base_uri": "https://localhost:8080/"
    },
    "executionInfo": {
     "elapsed": 771,
     "status": "ok",
     "timestamp": 1615055195814,
     "user": {
      "displayName": "Santiago Mondragón Gómez",
      "photoUrl": "https://lh3.googleusercontent.com/a-/AOh14Gh8R-q32gOlh13EiQTzmP34aJX7HrfLdR3-OyJVLg=s64",
      "userId": "04334286989014486685"
     },
     "user_tz": 300
    },
    "id": "4TNDJAf0oaTc",
    "outputId": "ebfbcd72-6fb4-41aa-8c46-aa63e477f7c6"
   },
   "outputs": [
    {
     "name": "stdout",
     "output_type": "stream",
     "text": [
      "range(0, 10)\n"
     ]
    }
   ],
   "source": [
    "b = 10\n",
    "my_list = range(b)\n",
    "print(my_list)"
   ]
  },
  {
   "cell_type": "markdown",
   "id": "c28dca17-0f8f-4808-84a1-6e17fc5b85d7",
   "metadata": {
    "id": "SwLG3BPeoaTc"
   },
   "source": [
    "Similar to our list-slicing methods from before, we can define both a start and an end for our range. This will return a list that is includes the start and excludes the end, just like a slice."
   ]
  },
  {
   "cell_type": "code",
   "execution_count": 45,
   "id": "d79ae43e-7764-4301-b49e-980b76bec0e3",
   "metadata": {
    "colab": {
     "base_uri": "https://localhost:8080/"
    },
    "executionInfo": {
     "elapsed": 422,
     "status": "ok",
     "timestamp": 1615055239023,
     "user": {
      "displayName": "Santiago Mondragón Gómez",
      "photoUrl": "https://lh3.googleusercontent.com/a-/AOh14Gh8R-q32gOlh13EiQTzmP34aJX7HrfLdR3-OyJVLg=s64",
      "userId": "04334286989014486685"
     },
     "user_tz": 300
    },
    "id": "rU6XX8NxoaTd",
    "outputId": "883ec083-0ff9-428d-a02d-947826e37727"
   },
   "outputs": [
    {
     "name": "stdout",
     "output_type": "stream",
     "text": [
      "range(0, 10)\n"
     ]
    }
   ],
   "source": [
    "a = 0\n",
    "b = 10\n",
    "my_list = range(a, b)\n",
    "print(my_list)"
   ]
  },
  {
   "cell_type": "markdown",
   "id": "d8eb1243-2378-4b2d-9603-9755954072c4",
   "metadata": {
    "id": "UNtPgn-koaTd"
   },
   "source": [
    "We can also specify a step size. This again has the same behavior as a slice."
   ]
  },
  {
   "cell_type": "code",
   "execution_count": 46,
   "id": "7353d757-d43b-4a97-ab79-3b04b6f24d31",
   "metadata": {
    "colab": {
     "base_uri": "https://localhost:8080/"
    },
    "executionInfo": {
     "elapsed": 490,
     "status": "ok",
     "timestamp": 1615055246597,
     "user": {
      "displayName": "Santiago Mondragón Gómez",
      "photoUrl": "https://lh3.googleusercontent.com/a-/AOh14Gh8R-q32gOlh13EiQTzmP34aJX7HrfLdR3-OyJVLg=s64",
      "userId": "04334286989014486685"
     },
     "user_tz": 300
    },
    "id": "FnN0P-KvoaTd",
    "outputId": "9734b369-0d49-4710-ba69-88c42cc1fe37",
    "scrolled": true
   },
   "outputs": [
    {
     "name": "stdout",
     "output_type": "stream",
     "text": [
      "range(0, 10, 2)\n"
     ]
    }
   ],
   "source": [
    "a = 0\n",
    "b = 10\n",
    "step = 2\n",
    "my_list = range(a, b, step)\n",
    "print(my_list)"
   ]
  },
  {
   "cell_type": "markdown",
   "id": "59e4c8a9-8b66-4fb3-bfa2-948b85ea4584",
   "metadata": {
    "id": "QmLOSs51oaTd"
   },
   "source": [
    "### Tuples\n",
    "\n",
    "A `tuple` is a data type similar to a list in that it can hold different kinds of data types. The key difference here is that a `tuple` is immutable. We define a `tuple` by separating the elements we want to include by commas. It is conventional to surround a `tuple` with parentheses."
   ]
  },
  {
   "cell_type": "code",
   "execution_count": 47,
   "id": "e9033244-a1f0-4226-b3fa-46ab3e1c6d25",
   "metadata": {
    "colab": {
     "base_uri": "https://localhost:8080/"
    },
    "executionInfo": {
     "elapsed": 510,
     "status": "ok",
     "timestamp": 1615055274256,
     "user": {
      "displayName": "Santiago Mondragón Gómez",
      "photoUrl": "https://lh3.googleusercontent.com/a-/AOh14Gh8R-q32gOlh13EiQTzmP34aJX7HrfLdR3-OyJVLg=s64",
      "userId": "04334286989014486685"
     },
     "user_tz": 300
    },
    "id": "vimhE8SuoaTe",
    "outputId": "617def3f-1b97-41ca-e0b8-7fe6024b12f2"
   },
   "outputs": [
    {
     "name": "stdout",
     "output_type": "stream",
     "text": [
      "('I', 'have', 30, 'cats')\n"
     ]
    }
   ],
   "source": [
    "my_tuple = 'I', 'have', 30, 'cats'\n",
    "print(my_tuple)"
   ]
  },
  {
   "cell_type": "code",
   "execution_count": 48,
   "id": "1f825147-11be-4c4b-a90d-23bbf5b944f2",
   "metadata": {
    "colab": {
     "base_uri": "https://localhost:8080/"
    },
    "executionInfo": {
     "elapsed": 484,
     "status": "ok",
     "timestamp": 1615055281830,
     "user": {
      "displayName": "Santiago Mondragón Gómez",
      "photoUrl": "https://lh3.googleusercontent.com/a-/AOh14Gh8R-q32gOlh13EiQTzmP34aJX7HrfLdR3-OyJVLg=s64",
      "userId": "04334286989014486685"
     },
     "user_tz": 300
    },
    "id": "v4AvoX_ZoaTe",
    "outputId": "8a6cc6f0-6850-4e75-9b6e-2c48e4904393"
   },
   "outputs": [
    {
     "name": "stdout",
     "output_type": "stream",
     "text": [
      "('I', 'have', 30, 'cats')\n"
     ]
    }
   ],
   "source": [
    "my_tuple = ('I', 'have', 30, 'cats')\n",
    "print(my_tuple)"
   ]
  },
  {
   "cell_type": "markdown",
   "id": "b616f68e-70a3-476e-84e8-ec161f9c63f4",
   "metadata": {
    "id": "B6s3JpORoaTe"
   },
   "source": [
    "As mentioned before, tuples are immutable. You can't change any part of them without defining a new tuple."
   ]
  },
  {
   "cell_type": "code",
   "execution_count": 49,
   "id": "9f829ef4-bd87-4998-afab-95dc3d015a29",
   "metadata": {
    "colab": {
     "base_uri": "https://localhost:8080/",
     "height": 163
    },
    "executionInfo": {
     "elapsed": 411,
     "status": "error",
     "timestamp": 1615055287055,
     "user": {
      "displayName": "Santiago Mondragón Gómez",
      "photoUrl": "https://lh3.googleusercontent.com/a-/AOh14Gh8R-q32gOlh13EiQTzmP34aJX7HrfLdR3-OyJVLg=s64",
      "userId": "04334286989014486685"
     },
     "user_tz": 300
    },
    "id": "selvQO05oaTe",
    "outputId": "02089eac-aff4-40fa-f3a6-294b25d64e87"
   },
   "outputs": [
    {
     "ename": "TypeError",
     "evalue": "'tuple' object does not support item assignment",
     "output_type": "error",
     "traceback": [
      "\u001b[0;31m---------------------------------------------------------------------------\u001b[0m",
      "\u001b[0;31mTypeError\u001b[0m                                 Traceback (most recent call last)",
      "\u001b[0;32m/tmp/ipykernel_55553/860524466.py\u001b[0m in \u001b[0;36m<module>\u001b[0;34m\u001b[0m\n\u001b[0;32m----> 1\u001b[0;31m \u001b[0mmy_tuple\u001b[0m\u001b[0;34m[\u001b[0m\u001b[0;36m3\u001b[0m\u001b[0;34m]\u001b[0m \u001b[0;34m=\u001b[0m \u001b[0;34m'dogs'\u001b[0m \u001b[0;31m# Attempts to change the 'cats' value stored in the the tuple to 'dogs'\u001b[0m\u001b[0;34m\u001b[0m\u001b[0;34m\u001b[0m\u001b[0m\n\u001b[0m",
      "\u001b[0;31mTypeError\u001b[0m: 'tuple' object does not support item assignment"
     ]
    }
   ],
   "source": [
    "my_tuple[3] = 'dogs' # Attempts to change the 'cats' value stored in the the tuple to 'dogs'"
   ]
  },
  {
   "cell_type": "markdown",
   "id": "388666a0-7603-40f2-b1f4-5f20ade9e8e0",
   "metadata": {
    "id": "ON12-xNZoaTf"
   },
   "source": [
    "You can slice tuples the same way that you slice lists!"
   ]
  },
  {
   "cell_type": "code",
   "execution_count": 50,
   "id": "321ac48c-0b78-41f9-9e70-ab069d17d0a0",
   "metadata": {
    "colab": {
     "base_uri": "https://localhost:8080/"
    },
    "executionInfo": {
     "elapsed": 357,
     "status": "ok",
     "timestamp": 1615055317794,
     "user": {
      "displayName": "Santiago Mondragón Gómez",
      "photoUrl": "https://lh3.googleusercontent.com/a-/AOh14Gh8R-q32gOlh13EiQTzmP34aJX7HrfLdR3-OyJVLg=s64",
      "userId": "04334286989014486685"
     },
     "user_tz": 300
    },
    "id": "XaY14ZeXoaTf",
    "outputId": "e393455c-dcee-4e0d-b355-621796c444a2"
   },
   "outputs": [
    {
     "name": "stdout",
     "output_type": "stream",
     "text": [
      "('have', 30)\n"
     ]
    }
   ],
   "source": [
    "print(my_tuple[1:3])"
   ]
  },
  {
   "cell_type": "markdown",
   "id": "f7b948c3-777e-48e7-8cd8-0356e51c1677",
   "metadata": {
    "id": "a7Ck7BDzoaTf"
   },
   "source": [
    "And concatenate them the way that you would with strings!"
   ]
  },
  {
   "cell_type": "code",
   "execution_count": 51,
   "id": "d3f4773b-6294-4c71-ae05-6aa970746542",
   "metadata": {
    "colab": {
     "base_uri": "https://localhost:8080/"
    },
    "executionInfo": {
     "elapsed": 376,
     "status": "ok",
     "timestamp": 1615055328260,
     "user": {
      "displayName": "Santiago Mondragón Gómez",
      "photoUrl": "https://lh3.googleusercontent.com/a-/AOh14Gh8R-q32gOlh13EiQTzmP34aJX7HrfLdR3-OyJVLg=s64",
      "userId": "04334286989014486685"
     },
     "user_tz": 300
    },
    "id": "qv-rqOp9oaTf",
    "outputId": "7f0f67cd-208c-4731-e13a-a0dc43af99ca"
   },
   "outputs": [
    {
     "name": "stdout",
     "output_type": "stream",
     "text": [
      "('I', 'have', 30, 'cats', 'make', 'that', 50)\n"
     ]
    }
   ],
   "source": [
    "my_other_tuple = ('make', 'that', 50)\n",
    "print(my_tuple + my_other_tuple)"
   ]
  },
  {
   "cell_type": "markdown",
   "id": "518e810c-c40f-4be9-8820-a2a1e8a4bceb",
   "metadata": {
    "id": "rNNa8GSsoaTg"
   },
   "source": [
    "We can 'pack' values together, creating a tuple (as above), or we can 'unpack' values from a tuple, taking them out."
   ]
  },
  {
   "cell_type": "code",
   "execution_count": 52,
   "id": "22d9fc4c-76c6-4d84-9487-9abc8a6f82ec",
   "metadata": {
    "colab": {
     "base_uri": "https://localhost:8080/"
    },
    "executionInfo": {
     "elapsed": 417,
     "status": "ok",
     "timestamp": 1615055339073,
     "user": {
      "displayName": "Santiago Mondragón Gómez",
      "photoUrl": "https://lh3.googleusercontent.com/a-/AOh14Gh8R-q32gOlh13EiQTzmP34aJX7HrfLdR3-OyJVLg=s64",
      "userId": "04334286989014486685"
     },
     "user_tz": 300
    },
    "id": "oBNJDZRLoaTg",
    "outputId": "32d2aa50-8952-4909-9a68-ae704678b8c5"
   },
   "outputs": [
    {
     "name": "stdout",
     "output_type": "stream",
     "text": [
      "make that 50\n"
     ]
    }
   ],
   "source": [
    "str_1, str_2, int_1 = my_other_tuple\n",
    "print(str_1, str_2, int_1)"
   ]
  },
  {
   "cell_type": "markdown",
   "id": "32e4a17a-864b-4e49-acc2-8317fb388a9c",
   "metadata": {
    "id": "7-0hk9dCoaTg"
   },
   "source": [
    "Unpacking assigns each value of the tuple in order to each variable on the left hand side of the equals sign. Some functions, including user-defined functions, may return tuples, so we can use this to directly unpack them and access the values that we want."
   ]
  },
  {
   "cell_type": "markdown",
   "id": "254d8545-61be-441c-9a23-a77a9b550af6",
   "metadata": {
    "id": "3ZcZeBzPoaTg"
   },
   "source": [
    "### Sets\n",
    "\n",
    "A `set` is a collection of unordered, unique elements. It works almost exactly as you would expect a normal set of things in mathematics to work and is defined using braces (`{}`)."
   ]
  },
  {
   "cell_type": "code",
   "execution_count": 53,
   "id": "fc3e0855-56c4-4048-a247-c382ce24232b",
   "metadata": {
    "colab": {
     "base_uri": "https://localhost:8080/"
    },
    "executionInfo": {
     "elapsed": 484,
     "status": "ok",
     "timestamp": 1615055370809,
     "user": {
      "displayName": "Santiago Mondragón Gómez",
      "photoUrl": "https://lh3.googleusercontent.com/a-/AOh14Gh8R-q32gOlh13EiQTzmP34aJX7HrfLdR3-OyJVLg=s64",
      "userId": "04334286989014486685"
     },
     "user_tz": 300
    },
    "id": "_q1xupY6oaTh",
    "outputId": "75c7a557-c6a2-4922-b83a-8816ccbc4f69"
   },
   "outputs": [
    {
     "name": "stdout",
     "output_type": "stream",
     "text": [
      "{'the number 4', 4, 7, 'lizards', 42, 'dogs', 'man I just LOVE the number 4'} <class 'set'>\n"
     ]
    }
   ],
   "source": [
    "things_i_like = {'dogs', 7, 'the number 4', 4, 4, 4, 42, 'lizards', 'man I just LOVE the number 4'}\n",
    "print(things_i_like, type(things_i_like))"
   ]
  },
  {
   "cell_type": "markdown",
   "id": "8e8d56b5-abc1-4ad2-b685-203c4e3be452",
   "metadata": {
    "id": "Rqr4o_gyoaTh"
   },
   "source": [
    "Note how any extra instances of the same item are removed in the final set. We can also create a `set` from a list, using the `set()` function."
   ]
  },
  {
   "cell_type": "code",
   "execution_count": 54,
   "id": "1989a56c-d005-4120-83a3-ef272dd0fb0b",
   "metadata": {
    "colab": {
     "base_uri": "https://localhost:8080/"
    },
    "executionInfo": {
     "elapsed": 435,
     "status": "ok",
     "timestamp": 1615055392834,
     "user": {
      "displayName": "Santiago Mondragón Gómez",
      "photoUrl": "https://lh3.googleusercontent.com/a-/AOh14Gh8R-q32gOlh13EiQTzmP34aJX7HrfLdR3-OyJVLg=s64",
      "userId": "04334286989014486685"
     },
     "user_tz": 300
    },
    "id": "FtJ3tgDpoaTh",
    "outputId": "c8db5aec-6c46-454d-951c-31816a78c467"
   },
   "outputs": [
    {
     "name": "stdout",
     "output_type": "stream",
     "text": [
      "{'lizards', 'sponges', 'dogs', 'cows', 'cats', 'bats'}\n"
     ]
    }
   ],
   "source": [
    "animal_list = ['cats', 'dogs', 'dogs', 'dogs', 'lizards', 'sponges', 'cows', 'bats', 'sponges']\n",
    "animal_set = set(animal_list)\n",
    "print(animal_set) # Removes all extra instances from the list"
   ]
  },
  {
   "cell_type": "markdown",
   "id": "1fa70e29-91ea-4a94-9224-f71ce69a53c1",
   "metadata": {
    "id": "Oj315VhZoaTh"
   },
   "source": [
    "Calling `len()` on a set will tell you how many elements are in it."
   ]
  },
  {
   "cell_type": "code",
   "execution_count": 55,
   "id": "56547757-4816-4f30-a119-1af033e8725d",
   "metadata": {
    "colab": {
     "base_uri": "https://localhost:8080/"
    },
    "executionInfo": {
     "elapsed": 407,
     "status": "ok",
     "timestamp": 1615055404404,
     "user": {
      "displayName": "Santiago Mondragón Gómez",
      "photoUrl": "https://lh3.googleusercontent.com/a-/AOh14Gh8R-q32gOlh13EiQTzmP34aJX7HrfLdR3-OyJVLg=s64",
      "userId": "04334286989014486685"
     },
     "user_tz": 300
    },
    "id": "6EdyCrc_oaTi",
    "outputId": "2eca8cb5-f347-4290-9b62-6751aed17340"
   },
   "outputs": [
    {
     "name": "stdout",
     "output_type": "stream",
     "text": [
      "6\n"
     ]
    }
   ],
   "source": [
    "print(len(animal_set))"
   ]
  },
  {
   "cell_type": "markdown",
   "id": "042c3d1c-22db-4505-8f91-cc88002e9fea",
   "metadata": {
    "id": "mMN51ZO9oaTi"
   },
   "source": [
    "Because a `set` is unordered, we can't access individual elements using an index. We can, however, easily check for membership (to see if something is contained in a set) and take the unions and intersections of sets by using the built-in set functions."
   ]
  },
  {
   "cell_type": "code",
   "execution_count": 58,
   "id": "97d960e7-7982-4984-85cb-93f397016195",
   "metadata": {
    "colab": {
     "base_uri": "https://localhost:8080/"
    },
    "executionInfo": {
     "elapsed": 470,
     "status": "ok",
     "timestamp": 1615055408291,
     "user": {
      "displayName": "Santiago Mondragón Gómez",
      "photoUrl": "https://lh3.googleusercontent.com/a-/AOh14Gh8R-q32gOlh13EiQTzmP34aJX7HrfLdR3-OyJVLg=s64",
      "userId": "04334286989014486685"
     },
     "user_tz": 300
    },
    "id": "oiCWALdioaTi",
    "outputId": "a2009688-b789-495b-d104-637c8ff9229a"
   },
   "outputs": [
    {
     "data": {
      "text/plain": [
       "True"
      ]
     },
     "execution_count": 58,
     "metadata": {},
     "output_type": "execute_result"
    }
   ],
   "source": [
    "'cats' in animal_set # Here we check for membership using the `in` keyword."
   ]
  },
  {
   "cell_type": "markdown",
   "id": "37691794-aa4d-4ce9-ac27-eb9f08a47454",
   "metadata": {
    "id": "IL2jkH4ToaTi"
   },
   "source": [
    "Here we checked to see whether the string 'cats' was contained within our `animal_set` and it returned `True`, telling us that it is indeed in our set.\n",
    "\n",
    "We can connect sets by using typical mathematical set operators, namely `|`, for union, and `&`, for intersection. Using `|` or `&` will return exactly what you would expect if you are familiar with sets in mathematics."
   ]
  },
  {
   "cell_type": "code",
   "execution_count": 60,
   "id": "ee457d87-8c28-4fa6-9777-25f31a8d9334",
   "metadata": {
    "colab": {
     "base_uri": "https://localhost:8080/"
    },
    "executionInfo": {
     "elapsed": 436,
     "status": "ok",
     "timestamp": 1615055427120,
     "user": {
      "displayName": "Santiago Mondragón Gómez",
      "photoUrl": "https://lh3.googleusercontent.com/a-/AOh14Gh8R-q32gOlh13EiQTzmP34aJX7HrfLdR3-OyJVLg=s64",
      "userId": "04334286989014486685"
     },
     "user_tz": 300
    },
    "id": "RzN91rX_oaTi",
    "outputId": "b364dc2f-f9bd-42ae-cadc-7d3e5c472906"
   },
   "outputs": [
    {
     "name": "stdout",
     "output_type": "stream",
     "text": [
      "{'the number 4', 4, 'lizards', 7, 'sponges', 42, 'dogs', 'man I just LOVE the number 4', 'cows', 'cats', 'bats'}\n"
     ]
    }
   ],
   "source": [
    "print(animal_set | things_i_like) # You can also write things_i_like | animal_set with no difference"
   ]
  },
  {
   "cell_type": "markdown",
   "id": "67f59f8a-4049-4b14-9c7d-cf0e75cdbc7f",
   "metadata": {
    "id": "LU7agZK-oaTj"
   },
   "source": [
    "Pairing two sets together with `|` combines the sets, removing any repetitions to make every set element unique."
   ]
  },
  {
   "cell_type": "code",
   "execution_count": 59,
   "id": "b3b8ac21-1530-4f08-a49e-6b35cde55e0c",
   "metadata": {
    "id": "y9nzoxekoaTj"
   },
   "outputs": [
    {
     "name": "stdout",
     "output_type": "stream",
     "text": [
      "{'dogs', 'lizards'}\n"
     ]
    }
   ],
   "source": [
    "print(animal_set & things_i_like) # You can also write things_i_like & animal_set with no difference"
   ]
  },
  {
   "cell_type": "markdown",
   "id": "215fb24c-55ef-4e66-9b47-3f84b4c838e2",
   "metadata": {
    "id": "RSzaaNbzoaTj"
   },
   "source": [
    "Pairing two sets together with `&` will calculate the intersection of both sets, returning a set that only contains what they have in common.\n",
    "\n",
    "If you are interested in learning more about the built-in functions for sets, feel free to check out the [documentation](https://docs.python.org/2/library/sets.html)."
   ]
  },
  {
   "cell_type": "markdown",
   "id": "0e219aad-84f7-4609-8ee8-21c18734f3a7",
   "metadata": {
    "id": "0dD28YL7oaTj"
   },
   "source": [
    "### Dictionaries\n",
    "\n",
    "Another essential data structure in Python is the dictionary. Dictionaries are defined with a combination of curly braces (`{}`) and colons (`:`). The braces define the beginning and end of a dictionary and the colons indicate key-value pairs. A dictionary is essentially a set of key-value pairs. The key of any entry must be an immutable data type. This makes both strings and tuples candidates. Keys can be both added and deleted.\n",
    "\n",
    "In the following example, we have a dictionary composed of key-value pairs where the key is a genre of fiction (`string`) and the value is a list of books (`list`) within that genre. Since a collection is still considered a single entity, we can use one to collect multiple variables or values into one key-value pair."
   ]
  },
  {
   "cell_type": "code",
   "execution_count": 61,
   "id": "be3f0f14-432b-4e30-a2af-c1a3145aa21d",
   "metadata": {
    "id": "2x8a0kX3oaTk"
   },
   "outputs": [],
   "source": [
    "my_dict = {\"High Fantasy\": [\"Wheel of Time\", \"Lord of the Rings\"], \n",
    "           \"Sci-fi\": [\"Book of the New Sun\", \"Neuromancer\", \"Snow Crash\"],\n",
    "           \"Weird Fiction\": [\"At the Mountains of Madness\", \"The House on the Borderland\"]}"
   ]
  },
  {
   "cell_type": "markdown",
   "id": "b58c010b-332a-4c0f-832c-74189884c9a2",
   "metadata": {
    "id": "VqxD5vJwoaTk"
   },
   "source": [
    "After defining a dictionary, we can access any individual value by indicating its key in brackets."
   ]
  },
  {
   "cell_type": "code",
   "execution_count": 62,
   "id": "1e0c43eb-075d-420b-a4eb-dc652f0fa7bc",
   "metadata": {
    "colab": {
     "base_uri": "https://localhost:8080/"
    },
    "executionInfo": {
     "elapsed": 351,
     "status": "ok",
     "timestamp": 1615057007110,
     "user": {
      "displayName": "Santiago Mondragón Gómez",
      "photoUrl": "https://lh3.googleusercontent.com/a-/AOh14Gh8R-q32gOlh13EiQTzmP34aJX7HrfLdR3-OyJVLg=s64",
      "userId": "04334286989014486685"
     },
     "user_tz": 300
    },
    "id": "l6wly4lCoaTk",
    "outputId": "c36466a8-d748-447d-d00f-60111c890b08"
   },
   "outputs": [
    {
     "name": "stdout",
     "output_type": "stream",
     "text": [
      "['Book of the New Sun', 'Neuromancer', 'Snow Crash']\n"
     ]
    }
   ],
   "source": [
    "print(my_dict[\"Sci-fi\"])"
   ]
  },
  {
   "cell_type": "markdown",
   "id": "3a1a9f34-b1b4-4e2d-b452-ae7940b7152b",
   "metadata": {
    "id": "qwkRCQrwoaTk"
   },
   "source": [
    "We can also change the value associated with a given key"
   ]
  },
  {
   "cell_type": "code",
   "execution_count": 63,
   "id": "f43ee092-bce2-4270-bbe0-f22e4e071562",
   "metadata": {
    "colab": {
     "base_uri": "https://localhost:8080/"
    },
    "executionInfo": {
     "elapsed": 357,
     "status": "ok",
     "timestamp": 1615057020414,
     "user": {
      "displayName": "Santiago Mondragón Gómez",
      "photoUrl": "https://lh3.googleusercontent.com/a-/AOh14Gh8R-q32gOlh13EiQTzmP34aJX7HrfLdR3-OyJVLg=s64",
      "userId": "04334286989014486685"
     },
     "user_tz": 300
    },
    "id": "QNN37FsdoaTl",
    "outputId": "8fe249c7-156d-422f-cd23-e5de0ed399fb"
   },
   "outputs": [
    {
     "name": "stdout",
     "output_type": "stream",
     "text": [
      "I can't read\n"
     ]
    }
   ],
   "source": [
    "my_dict[\"Sci-fi\"] = \"I can't read\"\n",
    "print(my_dict[\"Sci-fi\"])"
   ]
  },
  {
   "cell_type": "markdown",
   "id": "3f54631d-34be-49ff-ae62-3b1c8834bbb0",
   "metadata": {
    "id": "qs0nmBnRoaTl"
   },
   "source": [
    "Adding a new key-value pair is as simple as defining it."
   ]
  },
  {
   "cell_type": "code",
   "execution_count": 64,
   "id": "f32d3f6a-9b39-472a-8709-b0537a53f8e8",
   "metadata": {
    "colab": {
     "base_uri": "https://localhost:8080/"
    },
    "executionInfo": {
     "elapsed": 412,
     "status": "ok",
     "timestamp": 1615057029175,
     "user": {
      "displayName": "Santiago Mondragón Gómez",
      "photoUrl": "https://lh3.googleusercontent.com/a-/AOh14Gh8R-q32gOlh13EiQTzmP34aJX7HrfLdR3-OyJVLg=s64",
      "userId": "04334286989014486685"
     },
     "user_tz": 300
    },
    "id": "yHdNEywQoaTl",
    "outputId": "6952e106-45df-4c9f-a964-f1b29f4b7b6d"
   },
   "outputs": [
    {
     "name": "stdout",
     "output_type": "stream",
     "text": [
      "['Pillars of the Earth']\n"
     ]
    }
   ],
   "source": [
    "my_dict[\"Historical Fiction\"] = [\"Pillars of the Earth\"]\n",
    "print(my_dict[\"Historical Fiction\"])"
   ]
  },
  {
   "cell_type": "code",
   "execution_count": 65,
   "id": "25aa269b-37d5-413f-a8c1-b9b6321f6030",
   "metadata": {
    "colab": {
     "base_uri": "https://localhost:8080/"
    },
    "executionInfo": {
     "elapsed": 346,
     "status": "ok",
     "timestamp": 1615057037291,
     "user": {
      "displayName": "Santiago Mondragón Gómez",
      "photoUrl": "https://lh3.googleusercontent.com/a-/AOh14Gh8R-q32gOlh13EiQTzmP34aJX7HrfLdR3-OyJVLg=s64",
      "userId": "04334286989014486685"
     },
     "user_tz": 300
    },
    "id": "Vd1RDJDuoaTm",
    "outputId": "c07f3877-e736-4c8d-9e46-918805407568"
   },
   "outputs": [
    {
     "name": "stdout",
     "output_type": "stream",
     "text": [
      "{'High Fantasy': ['Wheel of Time', 'Lord of the Rings'], 'Sci-fi': \"I can't read\", 'Weird Fiction': ['At the Mountains of Madness', 'The House on the Borderland'], 'Historical Fiction': ['Pillars of the Earth']}\n"
     ]
    }
   ],
   "source": [
    "print(my_dict)"
   ]
  },
  {
   "cell_type": "markdown",
   "id": "2ecdca08-959b-4814-8288-4889689ad167",
   "metadata": {
    "id": "qFEH4kFPoaTm"
   },
   "source": [
    "## String Shenanigans\n",
    "\n",
    "We already know that strings are generally used for text. We can used built-in operations to combine, split, and format strings easily, depending on our needs.\n",
    "\n",
    "The `+` symbol indicates concatenation in string language. It will combine two strings into a longer string."
   ]
  },
  {
   "cell_type": "code",
   "execution_count": 66,
   "id": "0dbeca8a-7275-4905-8032-7661b34575eb",
   "metadata": {
    "colab": {
     "base_uri": "https://localhost:8080/"
    },
    "executionInfo": {
     "elapsed": 372,
     "status": "ok",
     "timestamp": 1615057049419,
     "user": {
      "displayName": "Santiago Mondragón Gómez",
      "photoUrl": "https://lh3.googleusercontent.com/a-/AOh14Gh8R-q32gOlh13EiQTzmP34aJX7HrfLdR3-OyJVLg=s64",
      "userId": "04334286989014486685"
     },
     "user_tz": 300
    },
    "id": "FpOLPNrAoaTn",
    "outputId": "101aac32-fe29-4acf-9282-050fd51766f4"
   },
   "outputs": [
    {
     "name": "stdout",
     "output_type": "stream",
     "text": [
      "\"Beware the Jabberwock, my son! /The jaws that bite, the claws that catch! /Beware the Jubjub bird, and shun /The frumious Bandersnatch!\"/\n"
     ]
    }
   ],
   "source": [
    "first_string = '\"Beware the Jabberwock, my son! /The jaws that bite, the claws that catch! /'\n",
    "second_string = 'Beware the Jubjub bird, and shun /The frumious Bandersnatch!\"/'\n",
    "third_string = first_string + second_string\n",
    "print(third_string)"
   ]
  },
  {
   "cell_type": "markdown",
   "id": "8f9599bc-bb27-4348-bd76-60a29cdbeeb3",
   "metadata": {
    "id": "5ouqPAfyoaTn"
   },
   "source": [
    "Strings are also indexed much in the same way that lists are."
   ]
  },
  {
   "cell_type": "code",
   "execution_count": 67,
   "id": "11f0749d-f50c-4af8-aba8-8719cb21ddb3",
   "metadata": {
    "id": "fr24STM2oaTo"
   },
   "outputs": [
    {
     "name": "stdout",
     "output_type": "stream",
     "text": [
      "The first letter is:  S\n",
      "The last letter is:  s\n",
      "The second to last letter is:  u\n",
      "The first five characters are:  Super\n",
      "Reverse it!:  suoicodilaipxecitsiligarfilacrepuS\n"
     ]
    }
   ],
   "source": [
    "my_string = 'Supercalifragilisticexpialidocious'\n",
    "print('The first letter is: ', my_string[0]) # Uppercase S\n",
    "print('The last letter is: ', my_string[-1]) # lowercase s\n",
    "print('The second to last letter is: ', my_string[-2]) # lowercase u\n",
    "print('The first five characters are: ', my_string[0:5]) # Remember: slicing doesn't include the final element!\n",
    "print('Reverse it!: ', my_string[::-1])"
   ]
  },
  {
   "cell_type": "markdown",
   "id": "98823f20-9df1-4e82-bc1e-abff565391e6",
   "metadata": {
    "id": "JvQ0mXyYoaTo"
   },
   "source": [
    "Built-in objects and classes often have special functions associated with them that are called methods. We access these methods by using a period ('.'). We will cover objects and their associated methods more in another lecture!\n",
    "\n",
    "Using string methods we can count instances of a character or group of characters."
   ]
  },
  {
   "cell_type": "code",
   "execution_count": 68,
   "id": "31fdaf27-78f8-4823-8dbe-cb351d1e1360",
   "metadata": {
    "colab": {
     "base_uri": "https://localhost:8080/"
    },
    "executionInfo": {
     "elapsed": 358,
     "status": "ok",
     "timestamp": 1615057129742,
     "user": {
      "displayName": "Santiago Mondragón Gómez",
      "photoUrl": "https://lh3.googleusercontent.com/a-/AOh14Gh8R-q32gOlh13EiQTzmP34aJX7HrfLdR3-OyJVLg=s64",
      "userId": "04334286989014486685"
     },
     "user_tz": 300
    },
    "id": "wo7kjUPKoaTp",
    "outputId": "0ab6f8ba-2a66-496e-aced-7ff9154a414d",
    "scrolled": true
   },
   "outputs": [
    {
     "name": "stdout",
     "output_type": "stream",
     "text": [
      "Count of the letter i in Supercalifragilisticexpialidocious:  7\n",
      "Count of \"li\" in the same word:  3\n"
     ]
    }
   ],
   "source": [
    "print('Count of the letter i in Supercalifragilisticexpialidocious: ', my_string.count('i'))\n",
    "print('Count of \"li\" in the same word: ', my_string.count('li'))"
   ]
  },
  {
   "cell_type": "markdown",
   "id": "c49eec8a-473f-457a-a5d9-e586412c6f6f",
   "metadata": {
    "id": "fAs-zSJdoaTq"
   },
   "source": [
    "We can also find the first instance of a character or group of characters in a string."
   ]
  },
  {
   "cell_type": "code",
   "execution_count": 69,
   "id": "792048d8-e485-4cfe-9b5c-24ad03ba92f3",
   "metadata": {
    "colab": {
     "base_uri": "https://localhost:8080/"
    },
    "executionInfo": {
     "elapsed": 359,
     "status": "ok",
     "timestamp": 1615057143295,
     "user": {
      "displayName": "Santiago Mondragón Gómez",
      "photoUrl": "https://lh3.googleusercontent.com/a-/AOh14Gh8R-q32gOlh13EiQTzmP34aJX7HrfLdR3-OyJVLg=s64",
      "userId": "04334286989014486685"
     },
     "user_tz": 300
    },
    "id": "0ZoNlCxQoaTq",
    "outputId": "b045bd3c-0e8f-45fe-cceb-8880a841ea2d"
   },
   "outputs": [
    {
     "name": "stdout",
     "output_type": "stream",
     "text": [
      "The first time i appears is at index:  8\n"
     ]
    }
   ],
   "source": [
    "print('The first time i appears is at index: ', my_string.find('i'))"
   ]
  },
  {
   "cell_type": "markdown",
   "id": "42d99432-4eb6-4255-a7d8-50c0d31a4565",
   "metadata": {
    "id": "G9I3nDeJoaTr"
   },
   "source": [
    "As well as replace characters in a string."
   ]
  },
  {
   "cell_type": "code",
   "execution_count": 70,
   "id": "0dd76d2f-151d-4c45-a5bf-48022b95b3a1",
   "metadata": {
    "colab": {
     "base_uri": "https://localhost:8080/"
    },
    "executionInfo": {
     "elapsed": 341,
     "status": "ok",
     "timestamp": 1615057150637,
     "user": {
      "displayName": "Santiago Mondragón Gómez",
      "photoUrl": "https://lh3.googleusercontent.com/a-/AOh14Gh8R-q32gOlh13EiQTzmP34aJX7HrfLdR3-OyJVLg=s64",
      "userId": "04334286989014486685"
     },
     "user_tz": 300
    },
    "id": "I7pahbqgoaTr",
    "outputId": "8f19c2b1-8c40-442f-ffbf-901036f89901"
   },
   "outputs": [
    {
     "name": "stdout",
     "output_type": "stream",
     "text": [
      "All i's are now a's:  Supercalafragalastacexpaaladocaous\n"
     ]
    }
   ],
   "source": [
    "print(\"All i's are now a's: \", my_string.replace('i', 'a'))"
   ]
  },
  {
   "cell_type": "code",
   "execution_count": 71,
   "id": "7f4c87df-9a91-4364-83cd-82fc64da2cf4",
   "metadata": {
    "colab": {
     "base_uri": "https://localhost:8080/"
    },
    "executionInfo": {
     "elapsed": 385,
     "status": "ok",
     "timestamp": 1615057159437,
     "user": {
      "displayName": "Santiago Mondragón Gómez",
      "photoUrl": "https://lh3.googleusercontent.com/a-/AOh14Gh8R-q32gOlh13EiQTzmP34aJX7HrfLdR3-OyJVLg=s64",
      "userId": "04334286989014486685"
     },
     "user_tz": 300
    },
    "id": "ilQMxgMyoaTs",
    "outputId": "35df13c8-879b-4a6e-adac-21e695a14635"
   },
   "outputs": [
    {
     "name": "stdout",
     "output_type": "stream",
     "text": [
      "It's raining cats and more cats\n"
     ]
    }
   ],
   "source": [
    "print(\"It's raining cats and dogs\".replace('dogs', 'more cats'))"
   ]
  },
  {
   "cell_type": "markdown",
   "id": "de186eee-587e-4183-baeb-7b9190942058",
   "metadata": {
    "id": "ayuClULBoaTs"
   },
   "source": [
    "There are also some methods that are unique to strings. The function `upper()` will convert all characters in a string to uppercase, while `lower()` will convert all characters in a string to lowercase!"
   ]
  },
  {
   "cell_type": "code",
   "execution_count": 72,
   "id": "c48295f9-28f5-4726-b931-b46f2360adb0",
   "metadata": {
    "colab": {
     "base_uri": "https://localhost:8080/"
    },
    "executionInfo": {
     "elapsed": 360,
     "status": "ok",
     "timestamp": 1615057178983,
     "user": {
      "displayName": "Santiago Mondragón Gómez",
      "photoUrl": "https://lh3.googleusercontent.com/a-/AOh14Gh8R-q32gOlh13EiQTzmP34aJX7HrfLdR3-OyJVLg=s64",
      "userId": "04334286989014486685"
     },
     "user_tz": 300
    },
    "id": "8mpg5gVAoaTt",
    "outputId": "6d79837c-cf90-476f-ad01-8f38f622b772"
   },
   "outputs": [
    {
     "name": "stdout",
     "output_type": "stream",
     "text": [
      "I CAN'T HEAR YOU\n",
      "i said hello\n"
     ]
    }
   ],
   "source": [
    "my_string = \"I can't hear you\"\n",
    "print(my_string.upper())\n",
    "my_string = \"I said HELLO\"\n",
    "print(my_string.lower())"
   ]
  },
  {
   "cell_type": "markdown",
   "id": "99ce141c-2937-4822-9454-7b83f39d0061",
   "metadata": {
    "id": "tpKeDtTcoaTt"
   },
   "source": [
    "### String Formatting\n",
    "\n",
    "Using the `format()` method we can add in variable values and generally format our strings."
   ]
  },
  {
   "cell_type": "code",
   "execution_count": 73,
   "id": "d64a8c71-3a3a-46d2-ac05-39a6f88c5823",
   "metadata": {
    "colab": {
     "base_uri": "https://localhost:8080/"
    },
    "executionInfo": {
     "elapsed": 345,
     "status": "ok",
     "timestamp": 1615057304547,
     "user": {
      "displayName": "Santiago Mondragón Gómez",
      "photoUrl": "https://lh3.googleusercontent.com/a-/AOh14Gh8R-q32gOlh13EiQTzmP34aJX7HrfLdR3-OyJVLg=s64",
      "userId": "04334286989014486685"
     },
     "user_tz": 300
    },
    "id": "OeP9VgvFoaTt",
    "outputId": "a7a19014-6986-47a7-9931-cb2a253a0ee9"
   },
   "outputs": [
    {
     "name": "stdout",
     "output_type": "stream",
     "text": [
      "Marco Polo\n"
     ]
    }
   ],
   "source": [
    "my_string = \"{0} {1}\".format('Marco', 'Polo')\n",
    "print(my_string)"
   ]
  },
  {
   "cell_type": "code",
   "execution_count": 74,
   "id": "fcdf4999-5b22-493c-8591-fa57dcb1aaac",
   "metadata": {
    "colab": {
     "base_uri": "https://localhost:8080/"
    },
    "executionInfo": {
     "elapsed": 363,
     "status": "ok",
     "timestamp": 1615057305622,
     "user": {
      "displayName": "Santiago Mondragón Gómez",
      "photoUrl": "https://lh3.googleusercontent.com/a-/AOh14Gh8R-q32gOlh13EiQTzmP34aJX7HrfLdR3-OyJVLg=s64",
      "userId": "04334286989014486685"
     },
     "user_tz": 300
    },
    "id": "DQowcss8oaTu",
    "outputId": "0b4b53f0-e2e4-490b-a787-bf83bdebc863"
   },
   "outputs": [
    {
     "name": "stdout",
     "output_type": "stream",
     "text": [
      "Polo Marco\n"
     ]
    }
   ],
   "source": [
    "my_string = \"{1} {0}\".format('Marco', 'Polo')\n",
    "print(my_string)"
   ]
  },
  {
   "cell_type": "markdown",
   "id": "5ca20e15-b05f-43bb-a8a6-13965862e433",
   "metadata": {
    "id": "5WW3xlxdoaTu"
   },
   "source": [
    "We use braces (`{}`) to indicate parts of the string that will be filled in later and we use the arguments of the `format()` function to provide the values to substitute. The numbers within the braces indicate the index of the value in the `format()` arguments."
   ]
  },
  {
   "cell_type": "markdown",
   "id": "3367e8bf-2697-451f-816a-6c1159a8274e",
   "metadata": {
    "id": "2rXjquVWoaTv"
   },
   "source": [
    "See the `format()` [documentation](https://docs.python.org/2/library/string.html#format-examples) for additional examples."
   ]
  },
  {
   "cell_type": "markdown",
   "id": "5e448c11-e277-4d00-89fc-ad17c43b8895",
   "metadata": {
    "id": "qUfZWbGFoaTv"
   },
   "source": [
    "If you need some quick and dirty formatting, you can instead use the `%` symbol, called the string formatting operator. "
   ]
  },
  {
   "cell_type": "code",
   "execution_count": 75,
   "id": "21276494-acd0-4ae5-acaf-e1d9321654de",
   "metadata": {
    "colab": {
     "base_uri": "https://localhost:8080/"
    },
    "executionInfo": {
     "elapsed": 379,
     "status": "ok",
     "timestamp": 1615057320778,
     "user": {
      "displayName": "Santiago Mondragón Gómez",
      "photoUrl": "https://lh3.googleusercontent.com/a-/AOh14Gh8R-q32gOlh13EiQTzmP34aJX7HrfLdR3-OyJVLg=s64",
      "userId": "04334286989014486685"
     },
     "user_tz": 300
    },
    "id": "i9RWas2woaTw",
    "outputId": "f4bb4862-ff8b-4d55-e5c6-715351c138ef"
   },
   "outputs": [
    {
     "name": "stdout",
     "output_type": "stream",
     "text": [
      "insert value here\n"
     ]
    }
   ],
   "source": [
    "print('insert %s here' % 'value')"
   ]
  },
  {
   "cell_type": "markdown",
   "id": "b62a1d42-1321-4ca8-b1e3-cb9298bde8e1",
   "metadata": {
    "id": "WVuozTDooaTw"
   },
   "source": [
    "The `%` symbol basically cues Python to create a placeholder. Whatever character follows the `%` (in the string) indicates what sort of type the value put into the placeholder will have. This character is called a *conversion type*. Once the string has been closed, we need another `%` that will be followed by the values to insert. In the case of one value, you can just put it there. If you are inserting more than one value, they must be enclosed in a tuple."
   ]
  },
  {
   "cell_type": "code",
   "execution_count": 76,
   "id": "ca1ef45f-7c72-4096-9366-14d1de3bf236",
   "metadata": {
    "colab": {
     "base_uri": "https://localhost:8080/"
    },
    "executionInfo": {
     "elapsed": 354,
     "status": "ok",
     "timestamp": 1615057364518,
     "user": {
      "displayName": "Santiago Mondragón Gómez",
      "photoUrl": "https://lh3.googleusercontent.com/a-/AOh14Gh8R-q32gOlh13EiQTzmP34aJX7HrfLdR3-OyJVLg=s64",
      "userId": "04334286989014486685"
     },
     "user_tz": 300
    },
    "id": "YvTubQiooaTw",
    "outputId": "97dcc43a-9bac-4213-99f5-9d9ddcb65c45"
   },
   "outputs": [
    {
     "name": "stdout",
     "output_type": "stream",
     "text": [
      "There are 13 cats in my apartment\n"
     ]
    }
   ],
   "source": [
    "print('There are %s cats in my %s' % (13, 'apartment'))"
   ]
  },
  {
   "cell_type": "markdown",
   "id": "d6beb94b-6452-44de-bdd1-d023b32a2b63",
   "metadata": {
    "id": "aZ7bkmkWoaTw"
   },
   "source": [
    "In these examples, the `%s` indicates that Python should convert the values into strings. There are multiple conversion types that you can use to get more specific with the the formatting. See the string formatting [documentation](https://docs.python.org/2/library/stdtypes.html#string-formatting) for additional examples and more complete details on use."
   ]
  },
  {
   "cell_type": "markdown",
   "id": "10b8b9b0-5563-4566-925c-463f85d324aa",
   "metadata": {
    "id": "3jqP6f_goaTx"
   },
   "source": [
    "## Logical Operators\n",
    "### Basic Logic\n",
    "\n",
    "Logical operators deal with `boolean` values, as we briefly covered before. If you recall, a `bool` takes on one of two values, `True` or `False` (or $1$ or $0$). The basic logical statements that we can make are defined using the built-in comparators. These are `==` (equal), `!=` (not equal), `<` (less than), `>` (greater than), `<=` (less than or equal to), and `>=` (greater than or equal to)."
   ]
  },
  {
   "cell_type": "code",
   "execution_count": 77,
   "id": "25e1f424-7c5e-43b9-8135-9bc3f4e37be5",
   "metadata": {
    "colab": {
     "base_uri": "https://localhost:8080/"
    },
    "executionInfo": {
     "elapsed": 625,
     "status": "ok",
     "timestamp": 1615061274959,
     "user": {
      "displayName": "Santiago Mondragón Gómez",
      "photoUrl": "https://lh3.googleusercontent.com/a-/AOh14Gh8R-q32gOlh13EiQTzmP34aJX7HrfLdR3-OyJVLg=s64",
      "userId": "04334286989014486685"
     },
     "user_tz": 300
    },
    "id": "hkgqmnCuoaTx",
    "outputId": "5b6e6f29-f14d-4679-aa0c-ab28d12a75ce"
   },
   "outputs": [
    {
     "name": "stdout",
     "output_type": "stream",
     "text": [
      "True\n"
     ]
    }
   ],
   "source": [
    "print(5 == 5)"
   ]
  },
  {
   "cell_type": "code",
   "execution_count": 78,
   "id": "26726ac6-806f-4039-97bc-7d58d1ea92b7",
   "metadata": {
    "colab": {
     "base_uri": "https://localhost:8080/"
    },
    "executionInfo": {
     "elapsed": 602,
     "status": "ok",
     "timestamp": 1615061281613,
     "user": {
      "displayName": "Santiago Mondragón Gómez",
      "photoUrl": "https://lh3.googleusercontent.com/a-/AOh14Gh8R-q32gOlh13EiQTzmP34aJX7HrfLdR3-OyJVLg=s64",
      "userId": "04334286989014486685"
     },
     "user_tz": 300
    },
    "id": "-weOYKLZoaTx",
    "outputId": "91889bb2-9cbc-43ac-e978-9828422d0516"
   },
   "outputs": [
    {
     "name": "stdout",
     "output_type": "stream",
     "text": [
      "False\n"
     ]
    }
   ],
   "source": [
    "print(5 > 5)"
   ]
  },
  {
   "cell_type": "markdown",
   "id": "14dd8c1a-d9ac-41aa-897a-82081f7d0cb4",
   "metadata": {
    "id": "M1ILLSv0oaTx"
   },
   "source": [
    "These comparators also work in conjunction with variables."
   ]
  },
  {
   "cell_type": "code",
   "execution_count": 79,
   "id": "2e8fc003-acd0-4ab9-9c29-f9ec96ab0617",
   "metadata": {
    "colab": {
     "base_uri": "https://localhost:8080/"
    },
    "executionInfo": {
     "elapsed": 624,
     "status": "ok",
     "timestamp": 1615061290358,
     "user": {
      "displayName": "Santiago Mondragón Gómez",
      "photoUrl": "https://lh3.googleusercontent.com/a-/AOh14Gh8R-q32gOlh13EiQTzmP34aJX7HrfLdR3-OyJVLg=s64",
      "userId": "04334286989014486685"
     },
     "user_tz": 300
    },
    "id": "Su2sxjr_oaTy",
    "outputId": "8cc7fbc2-97e0-469f-b64f-2d68e2932a6c"
   },
   "outputs": [
    {
     "name": "stdout",
     "output_type": "stream",
     "text": [
      "True\n"
     ]
    }
   ],
   "source": [
    "m = 2\n",
    "n = 23\n",
    "print(m < n)"
   ]
  },
  {
   "cell_type": "markdown",
   "id": "370925e4-dba7-4c29-999f-6568dc788d12",
   "metadata": {
    "id": "SAs9jie3oaTy"
   },
   "source": [
    "We can string these comparators together to make more complex logical statements using the logical operators `or`, `and`, and `not`. "
   ]
  },
  {
   "cell_type": "code",
   "execution_count": 80,
   "id": "8d4cb5ef-72bd-46bd-890b-af022aff56b8",
   "metadata": {
    "colab": {
     "base_uri": "https://localhost:8080/"
    },
    "executionInfo": {
     "elapsed": 374,
     "status": "ok",
     "timestamp": 1615061866299,
     "user": {
      "displayName": "Santiago Mondragón Gómez",
      "photoUrl": "https://lh3.googleusercontent.com/a-/AOh14Gh8R-q32gOlh13EiQTzmP34aJX7HrfLdR3-OyJVLg=s64",
      "userId": "04334286989014486685"
     },
     "user_tz": 300
    },
    "id": "xxZu52NHoaTy",
    "outputId": "19653670-1a5b-4e2b-9b95-c2f40117a50d"
   },
   "outputs": [
    {
     "name": "stdout",
     "output_type": "stream",
     "text": [
      "Statement 1 truth value: True\n",
      "Statement 2 truth value: True\n",
      "Statement 1 and Statement 2: True\n"
     ]
    }
   ],
   "source": [
    "statement_1 = 10 > 2\n",
    "statement_2 = 4 <= 6\n",
    "print(\"Statement 1 truth value: {0}\".format(statement_1))\n",
    "print(\"Statement 2 truth value: {0}\".format(statement_2))\n",
    "print(\"Statement 1 and Statement 2: {0}\".format(statement_1 and statement_2))"
   ]
  },
  {
   "cell_type": "markdown",
   "id": "6227c006-c89c-4899-b315-d5cc1d4bb731",
   "metadata": {
    "id": "-LhLNO4loaTz"
   },
   "source": [
    "The `or` operator performs a logical `or` calculation. This is an inclusive `or`, so if either component paired together by `or` is `True`, the whole statement will be `True`. The `and` statement only outputs `True` if all components that are `and`ed together are True. Otherwise it will output `False`. The `not` statement simply inverts the truth value of whichever statement follows it. So a `True` statement will be evaluated as `False` when a `not` is placed in front of it. Similarly, a `False` statement will become `True` when a `not` is in front of it.\n",
    "\n",
    "Say that we have two logical statements, or assertions, $P$ and $Q$. The truth table for the basic logical operators is as follows:\n",
    "\n",
    "|  P  |  Q  | `not` P| P `and` Q | P `or` Q|\n",
    "|:-----:|:-----:|:---:|:---:|:---:|\n",
    "| True | True | False | True | True |\n",
    "| False | True | True | False | True |\n",
    "| True | False | False | False | True |\n",
    "| False | False | True | False | False |\n",
    "\n",
    "We can string multiple logical statements together using the logical operators."
   ]
  },
  {
   "cell_type": "code",
   "execution_count": 81,
   "id": "ebf5ec34-e4e9-45d6-9a29-23787142d040",
   "metadata": {
    "colab": {
     "base_uri": "https://localhost:8080/"
    },
    "executionInfo": {
     "elapsed": 393,
     "status": "ok",
     "timestamp": 1615061894177,
     "user": {
      "displayName": "Santiago Mondragón Gómez",
      "photoUrl": "https://lh3.googleusercontent.com/a-/AOh14Gh8R-q32gOlh13EiQTzmP34aJX7HrfLdR3-OyJVLg=s64",
      "userId": "04334286989014486685"
     },
     "user_tz": 300
    },
    "id": "9RwCUAXloaTz",
    "outputId": "fbc43a0e-1f26-4640-bc15-7cac920d2e02"
   },
   "outputs": [
    {
     "name": "stdout",
     "output_type": "stream",
     "text": [
      "True\n"
     ]
    }
   ],
   "source": [
    "print(((2 < 3) and (3 > 0)) or ((5 > 6) and not (4 < 2)))"
   ]
  },
  {
   "cell_type": "markdown",
   "id": "ff483eee-3f7b-4211-bd2c-faeeb9913fc2",
   "metadata": {
    "id": "1sM0cqgeipDZ"
   },
   "source": [
    "$$((0) \\wedge (1)) \\lor ((1) \\wedge \\neg(0)) $$\r\n",
    "$$(0) \\lor ((1) \\wedge (1)) $$\r\n",
    "$$(0) \\lor (1) $$\r\n",
    "$$1$$ "
   ]
  },
  {
   "cell_type": "markdown",
   "id": "764e0383-ba5e-4324-8ea1-972f21b95b52",
   "metadata": {
    "id": "VEOf__AqoaTz"
   },
   "source": [
    "Logical statements can be as simple or complex as we like, depending on what we need to express. Evaluating the above logical statement step by step we see that we are evaluating (`True and True`) `or` (`False and not False`). This becomes `True or (False and True`), subsequently becoming `True or False`, ultimately being evaluated as `True`."
   ]
  },
  {
   "cell_type": "markdown",
   "id": "f01aec77-9016-48e1-aabf-dd234507cb6a",
   "metadata": {
    "id": "ifTXkBOZoaTz"
   },
   "source": [
    "#### Truthiness\n",
    "\n",
    "Data types in Python have a fun characteristic called truthiness. What this means is that most built-in types will evaluate as either `True` or `False` when a boolean value is needed (such as with an if-statement). As a general rule, containers like strings, tuples, dictionaries, lists, and sets, will return `True` if they contain anything at all and `False` if they contain nothing."
   ]
  },
  {
   "cell_type": "code",
   "execution_count": 82,
   "id": "612fd8fc-513f-451e-9993-05b5a186e735",
   "metadata": {
    "colab": {
     "base_uri": "https://localhost:8080/"
    },
    "executionInfo": {
     "elapsed": 406,
     "status": "ok",
     "timestamp": 1615061916480,
     "user": {
      "displayName": "Santiago Mondragón Gómez",
      "photoUrl": "https://lh3.googleusercontent.com/a-/AOh14Gh8R-q32gOlh13EiQTzmP34aJX7HrfLdR3-OyJVLg=s64",
      "userId": "04334286989014486685"
     },
     "user_tz": 300
    },
    "id": "NcLI2ihwoaT2",
    "outputId": "cf9afe18-c12e-40b4-a13a-e4b7a2dbe3c9"
   },
   "outputs": [
    {
     "name": "stdout",
     "output_type": "stream",
     "text": [
      "False\n"
     ]
    }
   ],
   "source": [
    "# Similar to how float() and int() work, bool() forces a value to be considered a boolean!\n",
    "print(bool(''))"
   ]
  },
  {
   "cell_type": "code",
   "execution_count": 83,
   "id": "a8537628-b192-4fc7-af4f-0ca34ad1e6c3",
   "metadata": {
    "colab": {
     "base_uri": "https://localhost:8080/"
    },
    "executionInfo": {
     "elapsed": 376,
     "status": "ok",
     "timestamp": 1615061926306,
     "user": {
      "displayName": "Santiago Mondragón Gómez",
      "photoUrl": "https://lh3.googleusercontent.com/a-/AOh14Gh8R-q32gOlh13EiQTzmP34aJX7HrfLdR3-OyJVLg=s64",
      "userId": "04334286989014486685"
     },
     "user_tz": 300
    },
    "id": "NvJedx46oaT3",
    "outputId": "7d35fe6c-5f3d-4581-d55e-90e551b271e3"
   },
   "outputs": [
    {
     "name": "stdout",
     "output_type": "stream",
     "text": [
      "True\n"
     ]
    }
   ],
   "source": [
    "print(bool('I have character!'))"
   ]
  },
  {
   "cell_type": "code",
   "execution_count": 84,
   "id": "f2c8926a-fa3a-4880-bd7c-c02e2866d614",
   "metadata": {
    "colab": {
     "base_uri": "https://localhost:8080/"
    },
    "executionInfo": {
     "elapsed": 418,
     "status": "ok",
     "timestamp": 1615061936456,
     "user": {
      "displayName": "Santiago Mondragón Gómez",
      "photoUrl": "https://lh3.googleusercontent.com/a-/AOh14Gh8R-q32gOlh13EiQTzmP34aJX7HrfLdR3-OyJVLg=s64",
      "userId": "04334286989014486685"
     },
     "user_tz": 300
    },
    "id": "OX-BeLk3oaT3",
    "outputId": "bb06a88c-3a85-4580-b530-1c2327434756"
   },
   "outputs": [
    {
     "name": "stdout",
     "output_type": "stream",
     "text": [
      "False\n"
     ]
    }
   ],
   "source": [
    "print(bool([]))"
   ]
  },
  {
   "cell_type": "code",
   "execution_count": 85,
   "id": "cfdae33c-b318-4578-9b6b-9c4a027d6e3e",
   "metadata": {
    "colab": {
     "base_uri": "https://localhost:8080/"
    },
    "executionInfo": {
     "elapsed": 361,
     "status": "ok",
     "timestamp": 1615061956926,
     "user": {
      "displayName": "Santiago Mondragón Gómez",
      "photoUrl": "https://lh3.googleusercontent.com/a-/AOh14Gh8R-q32gOlh13EiQTzmP34aJX7HrfLdR3-OyJVLg=s64",
      "userId": "04334286989014486685"
     },
     "user_tz": 300
    },
    "id": "imcrPtHRoaT3",
    "outputId": "65142857-01f7-48a3-d1d9-332da65cc798"
   },
   "outputs": [
    {
     "name": "stdout",
     "output_type": "stream",
     "text": [
      "True\n"
     ]
    }
   ],
   "source": [
    "print(bool([1, 2, 3]))"
   ]
  },
  {
   "cell_type": "markdown",
   "id": "1e183e05-0983-46ef-9983-ba39560fbc75",
   "metadata": {
    "id": "A68SnLD8oaT3"
   },
   "source": [
    "And so on, for the other collections and containers. `None` also evaluates as `False`. The number `1` is equivalent to `True` and the number `0` is equivalent to `False` as well, in a boolean context."
   ]
  },
  {
   "cell_type": "markdown",
   "id": "1e14159b-505f-43a4-a227-929afba8f186",
   "metadata": {
    "id": "4hxZRccVoaT4"
   },
   "source": [
    "### If-statements\n",
    "\n",
    "We can create segments of code that only execute if a set of conditions is met. We use if-statements in conjunction with logical statements in order to create branches in our code. \n",
    "\n",
    "An `if` block gets entered when the condition is considered to be `True`. If condition is evaluated as `False`, the `if` block will simply be skipped unless there is an `else` block to accompany it. Conditions are made using either logical operators or by using the truthiness of values in Python. An if-statement is defined with a colon and a block of indented text."
   ]
  },
  {
   "cell_type": "code",
   "execution_count": 87,
   "id": "52afa9b0-c86c-4c9b-82f1-ad333e35bf3a",
   "metadata": {
    "colab": {
     "base_uri": "https://localhost:8080/"
    },
    "executionInfo": {
     "elapsed": 444,
     "status": "ok",
     "timestamp": 1615062003582,
     "user": {
      "displayName": "Santiago Mondragón Gómez",
      "photoUrl": "https://lh3.googleusercontent.com/a-/AOh14Gh8R-q32gOlh13EiQTzmP34aJX7HrfLdR3-OyJVLg=s64",
      "userId": "04334286989014486685"
     },
     "user_tz": 300
    },
    "id": "ZFuV-PWtoaT4",
    "outputId": "fbccb9c1-d09f-45e5-c97f-1d5409d77c3a"
   },
   "outputs": [
    {
     "name": "stdout",
     "output_type": "stream",
     "text": [
      "True\n"
     ]
    }
   ],
   "source": [
    "# This is the basic format of an if statement. This is a vacuous example. \n",
    "# The string \"Condition\" will always evaluated as True because it is a\n",
    "# non-empty string. he purpose of this code is to show the formatting of\n",
    "# an if-statement.\n",
    "if \"Condition\": \n",
    "    # This block of code will execute because the string is non-empty\n",
    "    # Everything on these indented lines\n",
    "    print(True)\n",
    "else:\n",
    "    # So if the condition that we examined with if is in fact False\n",
    "    # This block of code will execute INSTEAD of the first block of code\n",
    "    # Everything on these indented lines\n",
    "    print(False)\n",
    "# The else block here will never execute because \"Condition\" is a non-empty string."
   ]
  },
  {
   "cell_type": "code",
   "execution_count": 88,
   "id": "43a35824-3d25-497c-8503-7eb75ccd4c4f",
   "metadata": {
    "id": "EUG3dhtdoaT4"
   },
   "outputs": [],
   "source": [
    "i = 4\n",
    "if i == 5:\n",
    "    print('The variable i has a value of 5')"
   ]
  },
  {
   "cell_type": "markdown",
   "id": "2fc6c63c-e594-43ec-9760-d12a2cc38508",
   "metadata": {
    "id": "oqmy7cvEiirY"
   },
   "source": [
    "$$i = 5$$"
   ]
  },
  {
   "cell_type": "markdown",
   "id": "0254baf5-7db5-4e3d-b279-4bc5da12f9cc",
   "metadata": {
    "id": "Ppm6ehfxoaT4"
   },
   "source": [
    "Because in this example `i = 4` and the if-statement is only looking for whether `i` is equal to `5`, the print statement will never be executed. We can add in an `else` statement to create a contingency block of code in case the condition in the if-statement is not evaluated as `True`."
   ]
  },
  {
   "cell_type": "code",
   "execution_count": 89,
   "id": "25e50a16-f070-4bba-906a-889988fcc33f",
   "metadata": {
    "colab": {
     "base_uri": "https://localhost:8080/"
    },
    "executionInfo": {
     "elapsed": 418,
     "status": "ok",
     "timestamp": 1615062047245,
     "user": {
      "displayName": "Santiago Mondragón Gómez",
      "photoUrl": "https://lh3.googleusercontent.com/a-/AOh14Gh8R-q32gOlh13EiQTzmP34aJX7HrfLdR3-OyJVLg=s64",
      "userId": "04334286989014486685"
     },
     "user_tz": 300
    },
    "id": "vq6Xf15goaT5",
    "outputId": "77b3028c-7182-4e0e-c1cf-add2ff682278"
   },
   "outputs": [
    {
     "name": "stdout",
     "output_type": "stream",
     "text": [
      "All lines in this indented block are part of this block\n",
      "The variable i is not equal to 5\n"
     ]
    }
   ],
   "source": [
    "i = 4\n",
    "if i == 5:\n",
    "    print(\"All lines in this indented block are part of this block\")\n",
    "    print('The variable i has a value of 5')\n",
    "else:\n",
    "    print(\"All lines in this indented block are part of this block\")\n",
    "    print('The variable i is not equal to 5')"
   ]
  },
  {
   "cell_type": "markdown",
   "id": "bd3cfc69-58eb-4be4-94ae-5da4c7a083c3",
   "metadata": {
    "id": "OuIb7GzdidiL"
   },
   "source": [
    "$$i \\neq 5$$"
   ]
  },
  {
   "cell_type": "markdown",
   "id": "f4934904-60a1-44c1-804b-1e0f963f4ffd",
   "metadata": {
    "id": "KNMQiah2oaT5"
   },
   "source": [
    "We can implement other branches off of the same if-statement by using `elif`, an abbreviation of \"else if\". We can include as many `elifs` as we like until we have exhausted all the logical branches of a condition."
   ]
  },
  {
   "cell_type": "code",
   "execution_count": 90,
   "id": "cb08229b-3419-47d0-8efa-3f7ede22899d",
   "metadata": {
    "colab": {
     "base_uri": "https://localhost:8080/"
    },
    "executionInfo": {
     "elapsed": 383,
     "status": "ok",
     "timestamp": 1615062070467,
     "user": {
      "displayName": "Santiago Mondragón Gómez",
      "photoUrl": "https://lh3.googleusercontent.com/a-/AOh14Gh8R-q32gOlh13EiQTzmP34aJX7HrfLdR3-OyJVLg=s64",
      "userId": "04334286989014486685"
     },
     "user_tz": 300
    },
    "id": "J52uOHZfoaT6",
    "outputId": "ade8c58e-79fd-4e2c-a532-32a1819ec7bf"
   },
   "outputs": [
    {
     "name": "stdout",
     "output_type": "stream",
     "text": [
      "The variable i has a value of 1\n"
     ]
    }
   ],
   "source": [
    "i = 1\n",
    "if i == 1:\n",
    "    print('The variable i has a value of 1')\n",
    "elif i == 2:\n",
    "    print('The variable i has a value of 2')\n",
    "elif i == 3:\n",
    "    print('The variable i has a value of 3')\n",
    "else:\n",
    "    print(\"I don't care what i is\")"
   ]
  },
  {
   "cell_type": "markdown",
   "id": "06bc9e9a-86d7-4e01-9cee-7ecab53f7776",
   "metadata": {
    "id": "WtwAJkAQoaT6"
   },
   "source": [
    "You can also nest if-statements within if-statements to check for further conditions."
   ]
  },
  {
   "cell_type": "code",
   "execution_count": 91,
   "id": "4f1f9941-b280-4a1e-bc73-533dd8978a87",
   "metadata": {
    "colab": {
     "base_uri": "https://localhost:8080/"
    },
    "executionInfo": {
     "elapsed": 419,
     "status": "ok",
     "timestamp": 1615062107875,
     "user": {
      "displayName": "Santiago Mondragón Gómez",
      "photoUrl": "https://lh3.googleusercontent.com/a-/AOh14Gh8R-q32gOlh13EiQTzmP34aJX7HrfLdR3-OyJVLg=s64",
      "userId": "04334286989014486685"
     },
     "user_tz": 300
    },
    "id": "h-KY6mgQoaT7",
    "outputId": "dafe1fa6-0f49-4081-8eba-0edc5466a3c0"
   },
   "outputs": [
    {
     "name": "stdout",
     "output_type": "stream",
     "text": [
      "i is divisible by both 2 and 5! Wow!\n"
     ]
    }
   ],
   "source": [
    "i = 10\n",
    "if i % 2 == 0:\n",
    "    if i % 3 == 0:\n",
    "        print('i is divisible by both 2 and 3! Wow!')\n",
    "    elif i % 5 == 0:\n",
    "        print('i is divisible by both 2 and 5! Wow!')\n",
    "    else:\n",
    "        print('i is divisible by 2, but not 3 or 5. Meh.')\n",
    "else:\n",
    "    print('I guess that i is an odd number. Boring.')"
   ]
  },
  {
   "cell_type": "markdown",
   "id": "e66d0022-43da-4aa9-867f-f6901624dab9",
   "metadata": {
    "id": "z532QbzUiPDl"
   },
   "source": [
    "$$2 \\ | \\ i \\ \\cap \\ 5 \\ | \\ i$$"
   ]
  },
  {
   "cell_type": "markdown",
   "id": "d99c167a-83d5-4ddb-a12f-3e497b4e9c17",
   "metadata": {
    "id": "v3XTAzDnoaT7"
   },
   "source": [
    "Remember that we can group multiple conditions together by using the logical operators!"
   ]
  },
  {
   "cell_type": "code",
   "execution_count": 92,
   "id": "89246ea6-cc37-49f0-9c55-12432787ddc2",
   "metadata": {
    "colab": {
     "base_uri": "https://localhost:8080/"
    },
    "executionInfo": {
     "elapsed": 397,
     "status": "ok",
     "timestamp": 1615062120017,
     "user": {
      "displayName": "Santiago Mondragón Gómez",
      "photoUrl": "https://lh3.googleusercontent.com/a-/AOh14Gh8R-q32gOlh13EiQTzmP34aJX7HrfLdR3-OyJVLg=s64",
      "userId": "04334286989014486685"
     },
     "user_tz": 300
    },
    "id": "7bZwH45OoaT8",
    "outputId": "20e4e1e1-d58c-4925-bdd1-8162be3bf80e"
   },
   "outputs": [
    {
     "name": "stdout",
     "output_type": "stream",
     "text": [
      "5 is less than 10 and 12 is greater than 11! How novel and interesting!\n"
     ]
    }
   ],
   "source": [
    "i = 5\n",
    "j = 12\n",
    "if i < 10 and j > 11:\n",
    "    print('{0} is less than 10 and {1} is greater than 11! How novel and interesting!'.format(i, j))"
   ]
  },
  {
   "cell_type": "markdown",
   "id": "07533f5d-1a1c-4267-8d41-21631c8fe9c1",
   "metadata": {
    "id": "DgyxiRIcoaT8"
   },
   "source": [
    "You can use the logical comparators to compare strings!"
   ]
  },
  {
   "cell_type": "code",
   "execution_count": 93,
   "id": "506b69d0-110d-46c7-a390-5fda3ff64dad",
   "metadata": {
    "colab": {
     "base_uri": "https://localhost:8080/"
    },
    "executionInfo": {
     "elapsed": 393,
     "status": "ok",
     "timestamp": 1615062138902,
     "user": {
      "displayName": "Santiago Mondragón Gómez",
      "photoUrl": "https://lh3.googleusercontent.com/a-/AOh14Gh8R-q32gOlh13EiQTzmP34aJX7HrfLdR3-OyJVLg=s64",
      "userId": "04334286989014486685"
     },
     "user_tz": 300
    },
    "id": "npiFE_PhoaT9",
    "outputId": "37e8dbbd-ad49-4136-dd99-98f56441b831"
   },
   "outputs": [
    {
     "name": "stdout",
     "output_type": "stream",
     "text": [
      "And so it was! For the glory of Rome!\n"
     ]
    }
   ],
   "source": [
    "my_string = \"Carthago delenda est\"\n",
    "if my_string == \"Carthago delenda est\":\n",
    "    print('And so it was! For the glory of Rome!')\n",
    "else:\n",
    "    print('War elephants are TERRIFYING. I am staying home.')"
   ]
  },
  {
   "cell_type": "markdown",
   "id": "f13be351-56d0-4f34-8dc6-e29150571615",
   "metadata": {
    "id": "U4nbMGfgoaT9"
   },
   "source": [
    "As with other data types, `==` will check for whether the two things on either side of it have the same value. In this case, we compare whether the value of the strings are the same. Using `>` or `<` or any of the other comparators is not quite so intuitive, however, so we will stay from using comparators with strings in this lecture. Comparators will examine the [lexicographical order](https://en.wikipedia.org/wiki/Lexicographical_order) of the strings, which might be a bit more in-depth than you might like."
   ]
  },
  {
   "cell_type": "markdown",
   "id": "d4ba1a6c-321d-4d0f-8930-ecc310ff534e",
   "metadata": {
    "id": "14Llq4aqoaT-"
   },
   "source": [
    "Some built-in functions return a boolean value, so they can be used as conditions in an if-statement. User-defined functions can also be constructed so that they return a boolean value. This will be covered later with function definition!\n",
    "\n",
    "The `in` keyword is generally used to check membership of a value within another value. We can check memebership in the context of an if-statement and use it to output a truth value."
   ]
  },
  {
   "cell_type": "code",
   "execution_count": 94,
   "id": "43abdf4e-e2c0-416c-ad49-26f648412821",
   "metadata": {
    "colab": {
     "base_uri": "https://localhost:8080/"
    },
    "executionInfo": {
     "elapsed": 392,
     "status": "ok",
     "timestamp": 1615062149535,
     "user": {
      "displayName": "Santiago Mondragón Gómez",
      "photoUrl": "https://lh3.googleusercontent.com/a-/AOh14Gh8R-q32gOlh13EiQTzmP34aJX7HrfLdR3-OyJVLg=s64",
      "userId": "04334286989014486685"
     },
     "user_tz": 300
    },
    "id": "-Kd5kVLuoaT-",
    "outputId": "649b964e-46d4-4fdd-d4c0-8b3e2a60c673"
   },
   "outputs": [
    {
     "name": "stdout",
     "output_type": "stream",
     "text": [
      "Those are my favorite vowels!\n"
     ]
    }
   ],
   "source": [
    "if 'a' in my_string or 'e' in my_string:\n",
    "    print('Those are my favorite vowels!')"
   ]
  },
  {
   "cell_type": "markdown",
   "id": "d9d1f6fb-d3b7-4ebb-bb2b-3b77d61a6379",
   "metadata": {
    "id": "YoLOwi8YoaT_"
   },
   "source": [
    "Here we use `in` to check whether the variable `my_string` contains any particular letters. We will later use `in` to iterate through lists!"
   ]
  },
  {
   "cell_type": "markdown",
   "id": "a9287cf5-f6c0-413a-a998-af5f972fa52c",
   "metadata": {
    "id": "72OJTwsUoaT_"
   },
   "source": [
    "## Loop Structures\n",
    "\n",
    "Loop structures are one of the most important parts of programming. The `for` loop and the `while` loop provide a way to repeatedly run a block of code repeatedly. A `while` loop will iterate until a certain condition has been met. If at any point after an iteration that condition is no longer satisfied, the loop terminates. A `for` loop will iterate over a sequence of values and terminate when the sequence has ended. You can instead include conditions within the `for` loop to decide whether it should terminate early or you could simply let it run its course."
   ]
  },
  {
   "cell_type": "code",
   "execution_count": 95,
   "id": "4366e853-4f63-4047-8ec4-1f5582c29869",
   "metadata": {
    "colab": {
     "base_uri": "https://localhost:8080/"
    },
    "executionInfo": {
     "elapsed": 410,
     "status": "ok",
     "timestamp": 1615062399134,
     "user": {
      "displayName": "Santiago Mondragón Gómez",
      "photoUrl": "https://lh3.googleusercontent.com/a-/AOh14Gh8R-q32gOlh13EiQTzmP34aJX7HrfLdR3-OyJVLg=s64",
      "userId": "04334286989014486685"
     },
     "user_tz": 300
    },
    "id": "99HIvPdioaUA",
    "outputId": "5edd1a23-f7ca-4f34-ea24-596262fa342e"
   },
   "outputs": [
    {
     "name": "stdout",
     "output_type": "stream",
     "text": [
      "I am looping! 4 more to go!\n",
      "I am looping! 3 more to go!\n",
      "I am looping! 2 more to go!\n",
      "I am looping! 1 more to go!\n",
      "I am looping! 0 more to go!\n"
     ]
    }
   ],
   "source": [
    "i = 5\n",
    "while i > 0: # We can write this as 'while i:' because 0 is False!\n",
    "    i -= 1\n",
    "    print('I am looping! {0} more to go!'.format(i))"
   ]
  },
  {
   "cell_type": "markdown",
   "id": "fad1f957-7efe-42c6-9732-c2da259aeb1e",
   "metadata": {
    "id": "riSen5TfoaUA"
   },
   "source": [
    "\n",
    "With `while` loops we need to make sure that something actually changes from iteration to iteration so that that the loop actually terminates. In this case, we use the shorthand `i -= 1` (short for `i = i - 1`) so that the value of `i` gets smaller with each iteration. Eventually `i` will be reduced to `0`, rendering the condition `False` and exiting the loop."
   ]
  },
  {
   "cell_type": "markdown",
   "id": "104a966f-2390-49bd-8f89-2b814f946a9e",
   "metadata": {
    "id": "NIGiewe6oaUA"
   },
   "source": [
    "A `for` loop iterates a set number of times, determined when you state the entry into the loop. In this case we are iterating over the list returned from `range()`. The `for` loop selects a value from the list, in order, and temporarily assigns the value of `i` to it so that operations can be performed with the value."
   ]
  },
  {
   "cell_type": "code",
   "execution_count": 96,
   "id": "1d1c8b21-5d00-45a4-8183-1865fae4048e",
   "metadata": {
    "colab": {
     "base_uri": "https://localhost:8080/"
    },
    "executionInfo": {
     "elapsed": 393,
     "status": "ok",
     "timestamp": 1615062411564,
     "user": {
      "displayName": "Santiago Mondragón Gómez",
      "photoUrl": "https://lh3.googleusercontent.com/a-/AOh14Gh8R-q32gOlh13EiQTzmP34aJX7HrfLdR3-OyJVLg=s64",
      "userId": "04334286989014486685"
     },
     "user_tz": 300
    },
    "id": "OEd8IEa8oaUB",
    "outputId": "a39ac8bb-6ec4-4cff-8953-dfd443ae922f"
   },
   "outputs": [
    {
     "name": "stdout",
     "output_type": "stream",
     "text": [
      "I am looping! I have looped 1 times!\n",
      "I am looping! I have looped 2 times!\n",
      "I am looping! I have looped 3 times!\n",
      "I am looping! I have looped 4 times!\n",
      "I am looping! I have looped 5 times!\n"
     ]
    }
   ],
   "source": [
    "for i in range(5):\n",
    "    print('I am looping! I have looped {0} times!'.format(i + 1))"
   ]
  },
  {
   "cell_type": "markdown",
   "id": "9e1d9285-544d-4ac1-b5e9-6f4cb02aa431",
   "metadata": {
    "id": "Vv7BXns2oaUB"
   },
   "source": [
    "Note that in this `for` loop we use the `in` keyword. Use of the `in` keyword is not limited to checking for membership as in the if-statement example. You can iterate over any collection with a `for` loop by using the `in` keyword.\n",
    "\n",
    "In this next example, we will iterate over a `set` because we want to check for containment and add to a new set."
   ]
  },
  {
   "cell_type": "code",
   "execution_count": 97,
   "id": "6c1b1fb8-d24e-443c-9685-bc8176469621",
   "metadata": {
    "colab": {
     "base_uri": "https://localhost:8080/"
    },
    "executionInfo": {
     "elapsed": 2634,
     "status": "ok",
     "timestamp": 1615062463632,
     "user": {
      "displayName": "Santiago Mondragón Gómez",
      "photoUrl": "https://lh3.googleusercontent.com/a-/AOh14Gh8R-q32gOlh13EiQTzmP34aJX7HrfLdR3-OyJVLg=s64",
      "userId": "04334286989014486685"
     },
     "user_tz": 300
    },
    "id": "yrkqNgQqoaUC",
    "outputId": "a44aade7-c06e-46ba-f6a4-51468fbbe46b"
   },
   "outputs": [
    {
     "name": "stdout",
     "output_type": "stream",
     "text": [
      "{'dogs', 'cows', 'cats', 'bats', 'humans'}\n"
     ]
    }
   ],
   "source": [
    "my_list = {'cats', 'dogs', 'lizards', 'cows', 'bats', 'sponges', 'humans'} # Lists all the animals in the world\n",
    "mammal_list = {'cats', 'dogs', 'cows', 'bats', 'humans'} # Lists all the mammals in the world\n",
    "my_new_list = set()\n",
    "for animal in my_list:\n",
    "    if animal in mammal_list:\n",
    "        # This adds any animal that is both in my_list and mammal_list to my_new_list\n",
    "        my_new_list.add(animal)\n",
    "        \n",
    "print(my_new_list)"
   ]
  },
  {
   "cell_type": "markdown",
   "id": "3222cff7-c26e-4897-b455-b25fc0f0d18d",
   "metadata": {
    "id": "Z9i0GknooaUC"
   },
   "source": [
    "There are two statements that are very helpful in dealing with both `for` and `while` loops. These are `break` and `continue`. If `break` is encountered at any point while a loop is executing, the loop will immediately end."
   ]
  },
  {
   "cell_type": "code",
   "execution_count": 98,
   "id": "2fa69598-44e8-4ac2-baac-51754794486b",
   "metadata": {
    "colab": {
     "base_uri": "https://localhost:8080/"
    },
    "executionInfo": {
     "elapsed": 415,
     "status": "ok",
     "timestamp": 1615062546219,
     "user": {
      "displayName": "Santiago Mondragón Gómez",
      "photoUrl": "https://lh3.googleusercontent.com/a-/AOh14Gh8R-q32gOlh13EiQTzmP34aJX7HrfLdR3-OyJVLg=s64",
      "userId": "04334286989014486685"
     },
     "user_tz": 300
    },
    "id": "_NdzH4svoaUD",
    "outputId": "de874715-57e9-4cb9-8778-c0ff1c8f10ea"
   },
   "outputs": [
    {
     "name": "stdout",
     "output_type": "stream",
     "text": [
      "11\n",
      "12\n",
      "13\n",
      "14\n"
     ]
    }
   ],
   "source": [
    "i = 10\n",
    "while True:\n",
    "    if i == 14:\n",
    "        break\n",
    "    i += 1 # This is shorthand for i = i + 1. It increments i with each iteration.\n",
    "    print(i)"
   ]
  },
  {
   "cell_type": "code",
   "execution_count": 99,
   "id": "ca462ce3-9b50-4455-89dc-3dc21273b962",
   "metadata": {
    "colab": {
     "base_uri": "https://localhost:8080/"
    },
    "executionInfo": {
     "elapsed": 384,
     "status": "ok",
     "timestamp": 1615062553485,
     "user": {
      "displayName": "Santiago Mondragón Gómez",
      "photoUrl": "https://lh3.googleusercontent.com/a-/AOh14Gh8R-q32gOlh13EiQTzmP34aJX7HrfLdR3-OyJVLg=s64",
      "userId": "04334286989014486685"
     },
     "user_tz": 300
    },
    "id": "ua2hH3lZoaUD",
    "outputId": "d4687488-71d8-410e-8c2e-044ee9543cb0"
   },
   "outputs": [
    {
     "name": "stdout",
     "output_type": "stream",
     "text": [
      "0\n",
      "1\n"
     ]
    }
   ],
   "source": [
    "for i in range(5):\n",
    "    if i == 2:\n",
    "        break\n",
    "    print(i)"
   ]
  },
  {
   "cell_type": "markdown",
   "id": "76332261-030c-41c1-be08-1d86e03ed8f8",
   "metadata": {
    "id": "lMs97pX-oaUE"
   },
   "source": [
    "The `continue` statement will tell the loop to immediately end this iteration and continue onto the next iteration of the loop."
   ]
  },
  {
   "cell_type": "code",
   "execution_count": 100,
   "id": "ce0145b3-8d4e-479d-8b26-c4f9a2e1df01",
   "metadata": {
    "colab": {
     "base_uri": "https://localhost:8080/"
    },
    "executionInfo": {
     "elapsed": 411,
     "status": "ok",
     "timestamp": 1615062585400,
     "user": {
      "displayName": "Santiago Mondragón Gómez",
      "photoUrl": "https://lh3.googleusercontent.com/a-/AOh14Gh8R-q32gOlh13EiQTzmP34aJX7HrfLdR3-OyJVLg=s64",
      "userId": "04334286989014486685"
     },
     "user_tz": 300
    },
    "id": "aq6D3pGfoaUE",
    "outputId": "c0f25c98-68ce-49aa-cd5a-46c55299d4fa"
   },
   "outputs": [
    {
     "name": "stdout",
     "output_type": "stream",
     "text": [
      "1\n",
      "2\n",
      "4\n",
      "5\n"
     ]
    }
   ],
   "source": [
    "i = 0\n",
    "while i < 5:\n",
    "    i += 1\n",
    "    if i == 3:\n",
    "        continue\n",
    "    print(i)"
   ]
  },
  {
   "cell_type": "markdown",
   "id": "ad1c7d3c-b25f-4a6a-b529-bbe63141b93a",
   "metadata": {
    "id": "shzHUAa0oaUE"
   },
   "source": [
    "This loop skips printing the number $3$ because of the `continue` statement that executes when we enter the if-statement. The code never sees the command to print the number $3$ because it has already moved to the next iteration. The `break` and `continue` statements are further tools to help you control the flow of your loops and, as a result, your code."
   ]
  },
  {
   "cell_type": "markdown",
   "id": "0729f803-0eaf-4d72-99c0-a13e65ac6080",
   "metadata": {
    "id": "OwViJC6KoaUF"
   },
   "source": [
    "The variable that we use to iterate over a loop will retain its value when the loop exits. Similarly, any variables defined within the context of the loop will continue to exist outside of it."
   ]
  },
  {
   "cell_type": "code",
   "execution_count": 101,
   "id": "d7146014-82fc-4064-9565-09e8d786b730",
   "metadata": {
    "colab": {
     "base_uri": "https://localhost:8080/"
    },
    "executionInfo": {
     "elapsed": 409,
     "status": "ok",
     "timestamp": 1615062614197,
     "user": {
      "displayName": "Santiago Mondragón Gómez",
      "photoUrl": "https://lh3.googleusercontent.com/a-/AOh14Gh8R-q32gOlh13EiQTzmP34aJX7HrfLdR3-OyJVLg=s64",
      "userId": "04334286989014486685"
     },
     "user_tz": 300
    },
    "id": "8H2r7TMaoaUF",
    "outputId": "44704217-14e8-46a0-9112-afba48bf82c9"
   },
   "outputs": [
    {
     "name": "stdout",
     "output_type": "stream",
     "text": [
      "I am eternal! I am 0 and I exist everywhere!\n",
      "I am eternal! I am 1 and I exist everywhere!\n",
      "I am eternal! I am 2 and I exist everywhere!\n",
      "I am eternal! I am 3 and I exist everywhere!\n",
      "I am eternal! I am 4 and I exist everywhere!\n",
      "I persist! My value is 4\n",
      "I transcend the loop!\n"
     ]
    }
   ],
   "source": [
    "for i in range(5):\n",
    "    loop_string = 'I transcend the loop!'\n",
    "    print('I am eternal! I am {0} and I exist everywhere!'.format(i))\n",
    "\n",
    "print('I persist! My value is {0}'.format(i))\n",
    "print(loop_string)"
   ]
  },
  {
   "cell_type": "markdown",
   "id": "03921435-4f53-484e-ad29-1ac0941c11e9",
   "metadata": {
    "id": "r_N947TCoaUF"
   },
   "source": [
    "We can also iterate over a dictionary!"
   ]
  },
  {
   "cell_type": "code",
   "execution_count": 102,
   "id": "330fd6fa-5fa2-4e12-97e1-f1f12c8518c6",
   "metadata": {
    "id": "LJeKzTgBoaUF"
   },
   "outputs": [],
   "source": [
    "my_dict = {'firstname' : 'Inigo', 'lastname' : 'Montoya', 'nemesis' : 'Rugen'}"
   ]
  },
  {
   "cell_type": "code",
   "execution_count": 103,
   "id": "3a421947-9696-4050-b77c-c7239ee9f430",
   "metadata": {
    "colab": {
     "base_uri": "https://localhost:8080/"
    },
    "executionInfo": {
     "elapsed": 372,
     "status": "ok",
     "timestamp": 1615062677435,
     "user": {
      "displayName": "Santiago Mondragón Gómez",
      "photoUrl": "https://lh3.googleusercontent.com/a-/AOh14Gh8R-q32gOlh13EiQTzmP34aJX7HrfLdR3-OyJVLg=s64",
      "userId": "04334286989014486685"
     },
     "user_tz": 300
    },
    "id": "-AwMGT5IoaUG",
    "outputId": "9ab923d5-c95b-4a82-dc8e-aeeae734644d"
   },
   "outputs": [
    {
     "name": "stdout",
     "output_type": "stream",
     "text": [
      "firstname\n",
      "lastname\n",
      "nemesis\n"
     ]
    }
   ],
   "source": [
    "for key in my_dict:\n",
    "    print(key)"
   ]
  },
  {
   "cell_type": "markdown",
   "id": "dba8c858-38e7-40d9-a5dd-249f9bd4d6ae",
   "metadata": {
    "id": "3pX-N7WioaUG"
   },
   "source": [
    "If we just iterate over a dictionary without doing anything else, we will only get the keys. We can either use the keys to get the values, like so:"
   ]
  },
  {
   "cell_type": "code",
   "execution_count": 104,
   "id": "4b757532-0c93-4ef1-9d10-8f3cded25692",
   "metadata": {
    "colab": {
     "base_uri": "https://localhost:8080/"
    },
    "executionInfo": {
     "elapsed": 388,
     "status": "ok",
     "timestamp": 1615062687854,
     "user": {
      "displayName": "Santiago Mondragón Gómez",
      "photoUrl": "https://lh3.googleusercontent.com/a-/AOh14Gh8R-q32gOlh13EiQTzmP34aJX7HrfLdR3-OyJVLg=s64",
      "userId": "04334286989014486685"
     },
     "user_tz": 300
    },
    "id": "fBZdcUJToaUG",
    "outputId": "64072dea-76fc-457c-ed54-b8dd2cd6a36a"
   },
   "outputs": [
    {
     "name": "stdout",
     "output_type": "stream",
     "text": [
      "Inigo\n",
      "Montoya\n",
      "Rugen\n"
     ]
    }
   ],
   "source": [
    "for key in my_dict:\n",
    "    print(my_dict[key])"
   ]
  },
  {
   "cell_type": "markdown",
   "id": "b1a88cfd-90e8-4069-a4ae-903205befaac",
   "metadata": {
    "id": "GvxnlKsIoaUG"
   },
   "source": [
    "Or we can use the `items()` function to get both key and value at the same time."
   ]
  },
  {
   "cell_type": "code",
   "execution_count": 105,
   "id": "1cb46ef2-e365-4f9f-82a5-0c566696246e",
   "metadata": {
    "colab": {
     "base_uri": "https://localhost:8080/"
    },
    "executionInfo": {
     "elapsed": 382,
     "status": "ok",
     "timestamp": 1615062695575,
     "user": {
      "displayName": "Santiago Mondragón Gómez",
      "photoUrl": "https://lh3.googleusercontent.com/a-/AOh14Gh8R-q32gOlh13EiQTzmP34aJX7HrfLdR3-OyJVLg=s64",
      "userId": "04334286989014486685"
     },
     "user_tz": 300
    },
    "id": "8rtTmbCzoaUH",
    "outputId": "b34dbd56-a88d-4a4b-8978-0d9bda946f56"
   },
   "outputs": [
    {
     "name": "stdout",
     "output_type": "stream",
     "text": [
      "firstname : Inigo\n",
      "lastname : Montoya\n",
      "nemesis : Rugen\n"
     ]
    }
   ],
   "source": [
    "for key, value in my_dict.items():\n",
    "    print(key, ':', value)"
   ]
  },
  {
   "cell_type": "markdown",
   "id": "f7893e98-a61b-4ef8-9020-8cde80c2c64d",
   "metadata": {
    "id": "RR9coz-foaUH"
   },
   "source": [
    "The `items()` function creates a tuple of each key-value pair and the for loop unpacks that tuple into `key, value` on each separate execution of the loop!"
   ]
  },
  {
   "cell_type": "markdown",
   "id": "92e7858c-7fb7-425f-8016-3023d8fb2acc",
   "metadata": {},
   "source": [
    "## **Functions**\n",
    "\n",
    "A function is a reusable block of code that you can call repeatedly to make calculations, output data, or really do anything that you want. This is one of the key aspects of using a programming language. To add to the built-in functions in Python, you can define your own!"
   ]
  },
  {
   "cell_type": "code",
   "execution_count": 107,
   "id": "4998a9fc-1e10-4c8c-ba49-f6cdf338e599",
   "metadata": {},
   "outputs": [
    {
     "name": "stdout",
     "output_type": "stream",
     "text": [
      "Hello, world!\n"
     ]
    }
   ],
   "source": [
    "def hello_world():\n",
    "    \"\"\" Prints Hello, world! \"\"\"\n",
    "    print('Hello, world!')\n",
    "\n",
    "hello_world()"
   ]
  },
  {
   "cell_type": "code",
   "execution_count": 108,
   "id": "46aead27-6fe0-4b55-acde-4c16b469349f",
   "metadata": {},
   "outputs": [
    {
     "name": "stdout",
     "output_type": "stream",
     "text": [
      "Hello, world!\n",
      "Hello, world!\n",
      "Hello, world!\n",
      "Hello, world!\n",
      "Hello, world!\n"
     ]
    }
   ],
   "source": [
    "for i in range(5):\n",
    "    hello_world()"
   ]
  },
  {
   "cell_type": "markdown",
   "id": "2a032935-ce42-4360-8c77-0cb2b4ebb95a",
   "metadata": {},
   "source": [
    "\n",
    "Functions are defined with def, a function name, a list of parameters, and a colon. Everything indented below the colon will be included in the definition of the function.\n",
    "\n",
    "We can have our functions do anything that you can do with a normal block of code. For example, our hello_world() function prints a string every time it is called. If we want to keep a value that a function calculates, we can define the function so that it will return the value we want. This is a very important feature of functions, as any variable defined purely within a function will not exist outside of it."
   ]
  },
  {
   "cell_type": "code",
   "execution_count": 109,
   "id": "f7223ba3-74af-4fc4-919f-d6e97a361774",
   "metadata": {},
   "outputs": [
    {
     "ename": "NameError",
     "evalue": "name 'in_function_string' is not defined",
     "output_type": "error",
     "traceback": [
      "\u001b[0;31m---------------------------------------------------------------------------\u001b[0m",
      "\u001b[0;31mNameError\u001b[0m                                 Traceback (most recent call last)",
      "\u001b[0;32m/tmp/ipykernel_55553/221794566.py\u001b[0m in \u001b[0;36m<module>\u001b[0;34m\u001b[0m\n\u001b[1;32m      3\u001b[0m \u001b[0;34m\u001b[0m\u001b[0m\n\u001b[1;32m      4\u001b[0m \u001b[0msee_the_scope\u001b[0m\u001b[0;34m(\u001b[0m\u001b[0;34m)\u001b[0m\u001b[0;34m\u001b[0m\u001b[0;34m\u001b[0m\u001b[0m\n\u001b[0;32m----> 5\u001b[0;31m \u001b[0mprint\u001b[0m\u001b[0;34m(\u001b[0m\u001b[0min_function_string\u001b[0m\u001b[0;34m)\u001b[0m\u001b[0;34m\u001b[0m\u001b[0;34m\u001b[0m\u001b[0m\n\u001b[0m",
      "\u001b[0;31mNameError\u001b[0m: name 'in_function_string' is not defined"
     ]
    }
   ],
   "source": [
    "def see_the_scope():\n",
    "    in_function_string = \"I'm stuck in here!\"\n",
    "\n",
    "see_the_scope()\n",
    "print(in_function_string)"
   ]
  },
  {
   "cell_type": "markdown",
   "id": "172c080e-6bde-48a7-aee7-a2e0e968bcd8",
   "metadata": {},
   "source": [
    "The **scope** of a variable is the part of a block of code where that variable is tied to a particular value. Functions in Python have an enclosed scope, making it so that variables defined within them can only be accessed directly within them. If we pass those values to a return statement we can get them out of the function. This makes it so that the function call returns values so that you can store them in variables that have a greater scope.\n",
    "\n",
    "In this case specifically, including a return statement allows us to keep the string value that we define in the function."
   ]
  },
  {
   "cell_type": "code",
   "execution_count": 110,
   "id": "213a44eb-5b1f-4cc8-bf8a-aa31bcbfba78",
   "metadata": {
    "colab": {
     "base_uri": "https://localhost:8080/"
    },
    "executionInfo": {
     "elapsed": 441,
     "status": "ok",
     "timestamp": 1615062900790,
     "user": {
      "displayName": "Santiago Mondragón Gómez",
      "photoUrl": "https://lh3.googleusercontent.com/a-/AOh14Gh8R-q32gOlh13EiQTzmP34aJX7HrfLdR3-OyJVLg=s64",
      "userId": "04334286989014486685"
     },
     "user_tz": 300
    },
    "id": "rN1Z7d5koaUJ",
    "outputId": "1472e420-d75d-4ff0-9cab-319bf17f70ef"
   },
   "outputs": [
    {
     "name": "stdout",
     "output_type": "stream",
     "text": [
      "Anything you can do I can do better!\n"
     ]
    }
   ],
   "source": [
    "def free_the_scope():\n",
    "    in_function_string = \"Anything you can do I can do better!\"\n",
    "    return in_function_string\n",
    "my_string = free_the_scope()\n",
    "print(my_string)"
   ]
  },
  {
   "cell_type": "markdown",
   "id": "eb0d2f3c-a5ef-4094-8780-3ab04c5b9ef5",
   "metadata": {
    "id": "O__3h9hLoaUJ"
   },
   "source": [
    "Just as we can get values out of a function, we can also put values into a function. We do this by defining our function with parameters."
   ]
  },
  {
   "cell_type": "code",
   "execution_count": 111,
   "id": "23834623-a95c-43b9-8fb2-4e47740dca51",
   "metadata": {
    "colab": {
     "base_uri": "https://localhost:8080/"
    },
    "executionInfo": {
     "elapsed": 432,
     "status": "ok",
     "timestamp": 1615063041856,
     "user": {
      "displayName": "Santiago Mondragón Gómez",
      "photoUrl": "https://lh3.googleusercontent.com/a-/AOh14Gh8R-q32gOlh13EiQTzmP34aJX7HrfLdR3-OyJVLg=s64",
      "userId": "04334286989014486685"
     },
     "user_tz": 300
    },
    "id": "CCgufZa2oaUJ",
    "outputId": "5e550fa4-4764-455b-9b06-36d3eec2e23e"
   },
   "outputs": [
    {
     "name": "stdout",
     "output_type": "stream",
     "text": [
      "4\n",
      "20\n"
     ]
    }
   ],
   "source": [
    "def multiply_by_five(x):\n",
    "    \"\"\" Multiplies an input number by 5 \"\"\"\n",
    "    return x * 5\n",
    "\n",
    "n = 4\n",
    "print(n)\n",
    "print(multiply_by_five(n))"
   ]
  },
  {
   "cell_type": "markdown",
   "id": "c4c8b953-719c-4b9f-b369-81d66bc72063",
   "metadata": {
    "id": "7PoXOxQCoaUJ"
   },
   "source": [
    "In this example we only had one parameter for our function, `x`. We can easily add more parameters, separating everything with a comma."
   ]
  },
  {
   "cell_type": "code",
   "execution_count": 112,
   "id": "2b0b186e-299c-4e92-82e8-362dd8a70158",
   "metadata": {
    "id": "-9NRu56LoaUK"
   },
   "outputs": [],
   "source": [
    "def calculate_area(length, width):\n",
    "    \"\"\" Calculates the area of a rectangle \"\"\"\n",
    "    return length * width"
   ]
  },
  {
   "cell_type": "code",
   "execution_count": 113,
   "id": "1825e9cc-b34b-40da-b4b3-5be75a81fd3d",
   "metadata": {
    "colab": {
     "base_uri": "https://localhost:8080/"
    },
    "executionInfo": {
     "elapsed": 293,
     "status": "ok",
     "timestamp": 1615063073278,
     "user": {
      "displayName": "Santiago Mondragón Gómez",
      "photoUrl": "https://lh3.googleusercontent.com/a-/AOh14Gh8R-q32gOlh13EiQTzmP34aJX7HrfLdR3-OyJVLg=s64",
      "userId": "04334286989014486685"
     },
     "user_tz": 300
    },
    "id": "ZoIcHZWvoaUK",
    "outputId": "8ca99849-2448-4efb-8d00-343087b904a2"
   },
   "outputs": [
    {
     "name": "stdout",
     "output_type": "stream",
     "text": [
      "Area:  50\n",
      "Length:  5\n",
      "Width:  10\n"
     ]
    }
   ],
   "source": [
    "l = 5\n",
    "w = 10\n",
    "print('Area: ', calculate_area(l, w))\n",
    "print('Length: ', l)\n",
    "print('Width: ', w)"
   ]
  },
  {
   "cell_type": "code",
   "execution_count": 114,
   "id": "59f328c7-2dff-48d9-be11-e99e7535d8cc",
   "metadata": {
    "colab": {
     "base_uri": "https://localhost:8080/"
    },
    "executionInfo": {
     "elapsed": 3375,
     "status": "ok",
     "timestamp": 1615067149334,
     "user": {
      "displayName": "Santiago Mondragón Gómez",
      "photoUrl": "https://lh3.googleusercontent.com/a-/AOh14Gh8R-q32gOlh13EiQTzmP34aJX7HrfLdR3-OyJVLg=s64",
      "userId": "04334286989014486685"
     },
     "user_tz": 300
    },
    "id": "-6dbGnRwoaUK",
    "outputId": "cdeeed48-49fb-45e3-884b-88987db5b770"
   },
   "outputs": [
    {
     "data": {
      "text/plain": [
       "1000"
      ]
     },
     "execution_count": 114,
     "metadata": {},
     "output_type": "execute_result"
    }
   ],
   "source": [
    "def calculate_volume(length, width, depth):\n",
    "    \"\"\" Calculates the volume of a rectangular prism \"\"\"\n",
    "    return length * width * depth\n",
    "\n",
    "calculate_volume(l, w, 20)"
   ]
  },
  {
   "cell_type": "markdown",
   "id": "3ee30de9-3f82-421c-ba66-4ee4376c6ee3",
   "metadata": {
    "id": "kLlEO-BSgQDl"
   },
   "source": [
    "$$5 \\times 10 \\times 20 = 1000$$"
   ]
  },
  {
   "cell_type": "markdown",
   "id": "f159d8f7-f5f7-4326-8bee-18e274a00245",
   "metadata": {
    "id": "_JQa-1QEoaUL"
   },
   "source": [
    "If we want to, we can define a function so that it takes an arbitrary number of parameters. We tell Python that we want this by using an asterisk (`*`)."
   ]
  },
  {
   "cell_type": "code",
   "execution_count": 115,
   "id": "960eeb70-219b-42b5-bb2a-6a37acb23463",
   "metadata": {
    "id": "zj_iB1kloaUL"
   },
   "outputs": [],
   "source": [
    "def sum_values(*args):\n",
    "    sum_val = 0\n",
    "    for i in args:\n",
    "        sum_val += i\n",
    "    return sum_val"
   ]
  },
  {
   "cell_type": "code",
   "execution_count": 116,
   "id": "df87f9b1-7278-4c0f-96ed-4404f3541325",
   "metadata": {
    "colab": {
     "base_uri": "https://localhost:8080/"
    },
    "executionInfo": {
     "elapsed": 379,
     "status": "ok",
     "timestamp": 1615063102666,
     "user": {
      "displayName": "Santiago Mondragón Gómez",
      "photoUrl": "https://lh3.googleusercontent.com/a-/AOh14Gh8R-q32gOlh13EiQTzmP34aJX7HrfLdR3-OyJVLg=s64",
      "userId": "04334286989014486685"
     },
     "user_tz": 300
    },
    "id": "HarkxAwhoaUL",
    "outputId": "e6d401c4-7eba-4508-f6a9-cf5a9a94bf0a"
   },
   "outputs": [
    {
     "name": "stdout",
     "output_type": "stream",
     "text": [
      "6\n",
      "150\n",
      "343\n"
     ]
    }
   ],
   "source": [
    "print(sum_values(1, 2, 3))\n",
    "print(sum_values(10, 20, 30, 40, 50))\n",
    "print(sum_values(4, 2, 5, 1, 10, 249, 25, 24, 13, 6, 4))"
   ]
  },
  {
   "cell_type": "markdown",
   "id": "04cf2fd5-52ca-4483-8765-0d5872ef02f2",
   "metadata": {
    "id": "wqj9fvCRoaUN"
   },
   "source": [
    "The time to use `*args` as a parameter for your function is when you do not know how many values may be passed to it, as in the case of our sum function. The asterisk in this case is the syntax that tells Python that you are going to pass an arbitrary number of parameters into your function. These parameters are stored in the form of a tuple."
   ]
  },
  {
   "cell_type": "code",
   "execution_count": 118,
   "id": "d080f0ec-b230-4da6-a4ea-8e0612afb671",
   "metadata": {
    "colab": {
     "base_uri": "https://localhost:8080/"
    },
    "executionInfo": {
     "elapsed": 482,
     "status": "ok",
     "timestamp": 1615063114876,
     "user": {
      "displayName": "Santiago Mondragón Gómez",
      "photoUrl": "https://lh3.googleusercontent.com/a-/AOh14Gh8R-q32gOlh13EiQTzmP34aJX7HrfLdR3-OyJVLg=s64",
      "userId": "04334286989014486685"
     },
     "user_tz": 300
    },
    "id": "Qc4kGh11oaUN",
    "outputId": "a0b24bfe-6ae8-499a-c4b6-4fbda90c3bd5"
   },
   "outputs": [
    {
     "name": "stdout",
     "output_type": "stream",
     "text": [
      "<class 'tuple'>\n"
     ]
    }
   ],
   "source": [
    "def test_args(*args):\n",
    "    print(type(args))\n",
    "\n",
    "test_args(1, 2, 3, 4, 5, 6)"
   ]
  },
  {
   "cell_type": "markdown",
   "id": "111062f8-c6e5-4013-942c-741113465191",
   "metadata": {
    "id": "8o7CUolwoaUN"
   },
   "source": [
    "We can put as many elements into the `args` tuple as we want to when we call the function. However, because `args` is a tuple, we cannot modify it after it has been created.\n",
    "\n",
    "The `args` name of the variable is purely by convention. You could just as easily name your parameter `*vars` or `*things`. You can treat the `args` tuple like you would any other tuple, easily accessing `arg`'s values and iterating over it, as in the above `sum_values(*args)` function."
   ]
  },
  {
   "cell_type": "markdown",
   "id": "300f18af-149f-4af7-8317-7391bd96fa71",
   "metadata": {
    "id": "cMSgmRlSoaUO"
   },
   "source": [
    "Our functions can return any data type. This makes it easy for us to create functions that check for conditions that we might want to monitor.\n",
    "\n",
    "Here we define a function that returns a boolean value. We can easily use this in conjunction with if-statements and  other situations that require a boolean."
   ]
  },
  {
   "cell_type": "code",
   "execution_count": 119,
   "id": "a0e1d6c4-61d2-40b0-8074-8c40069bd4ed",
   "metadata": {
    "id": "1erTvEjBoaUO"
   },
   "outputs": [],
   "source": [
    "def has_a_vowel(word):\n",
    "    \"\"\" \n",
    "    Checks to see whether a word contains a vowel \n",
    "    If it doesn't contain a conventional vowel, it\n",
    "    will check for the presence of 'y' or 'w'. Does\n",
    "    not check to see whether those are in the word\n",
    "    in a vowel context.\n",
    "    \"\"\"\n",
    "    vowel_list = ['a', 'e', 'i', 'o', 'u']\n",
    "    \n",
    "    for vowel in vowel_list:\n",
    "        if vowel in word:\n",
    "            return True\n",
    "    # If there is a vowel in the word, the function returns, preventing anything after this loop from running\n",
    "    return False"
   ]
  },
  {
   "cell_type": "code",
   "execution_count": 120,
   "id": "790b2577-f1c9-4937-b5dd-344621f4265c",
   "metadata": {
    "colab": {
     "base_uri": "https://localhost:8080/"
    },
    "executionInfo": {
     "elapsed": 403,
     "status": "ok",
     "timestamp": 1615063145652,
     "user": {
      "displayName": "Santiago Mondragón Gómez",
      "photoUrl": "https://lh3.googleusercontent.com/a-/AOh14Gh8R-q32gOlh13EiQTzmP34aJX7HrfLdR3-OyJVLg=s64",
      "userId": "04334286989014486685"
     },
     "user_tz": 300
    },
    "id": "ScDSvaPtoaUO",
    "outputId": "84513eaf-6390-4e8b-e6fe-3bbac8980f71"
   },
   "outputs": [
    {
     "name": "stdout",
     "output_type": "stream",
     "text": [
      "How surprising, an english word contains a vowel.\n"
     ]
    }
   ],
   "source": [
    "my_word = 'catnapping'\n",
    "if has_a_vowel(my_word):\n",
    "    print('How surprising, an english word contains a vowel.')\n",
    "else:\n",
    "    print('This is actually surprising.')"
   ]
  },
  {
   "cell_type": "code",
   "execution_count": 121,
   "id": "b2244d2d-cfbe-4d5e-b3bb-f266e77ac5ff",
   "metadata": {
    "id": "8dMvsy9xoaUO"
   },
   "outputs": [],
   "source": [
    "def point_maker(x, y):\n",
    "    \"\"\" Groups x and y values into a point, technically a tuple \"\"\"\n",
    "    return x, y"
   ]
  },
  {
   "cell_type": "markdown",
   "id": "a4fab8aa-6be8-47ca-9ab0-76d6e97fda5d",
   "metadata": {
    "id": "OUZxuhQ_oaUP"
   },
   "source": [
    "This above function returns an ordered pair of the input parameters, stored as a tuple."
   ]
  },
  {
   "cell_type": "code",
   "execution_count": 122,
   "id": "323b8ad2-8c67-4138-858b-60c91a9e56b8",
   "metadata": {
    "colab": {
     "base_uri": "https://localhost:8080/"
    },
    "executionInfo": {
     "elapsed": 410,
     "status": "ok",
     "timestamp": 1615063725233,
     "user": {
      "displayName": "Santiago Mondragón Gómez",
      "photoUrl": "https://lh3.googleusercontent.com/a-/AOh14Gh8R-q32gOlh13EiQTzmP34aJX7HrfLdR3-OyJVLg=s64",
      "userId": "04334286989014486685"
     },
     "user_tz": 300
    },
    "id": "r_xLNwdooaUP",
    "outputId": "54f9685c-1078-4ec1-9d06-38497376b418",
    "scrolled": true
   },
   "outputs": [
    {
     "name": "stdout",
     "output_type": "stream",
     "text": [
      "The slope between a and b is -1.4\n"
     ]
    }
   ],
   "source": [
    "a = point_maker(0, 10)\n",
    "b = point_maker(5, 3)\n",
    "def calculate_slope(point_a, point_b):\n",
    "    \"\"\" Calculates the linear slope between two points \"\"\"\n",
    "    return (point_b[1] - point_a[1])/(point_b[0] - point_a[0])\n",
    "print(\"The slope between a and b is {0}\".format(calculate_slope(a, b)))"
   ]
  },
  {
   "cell_type": "markdown",
   "id": "63953c5d-3ac0-4044-b2fb-8ed6ec435cf2",
   "metadata": {
    "id": "WuGcKqRFoaUP"
   },
   "source": [
    "And that one calculates the slope between two points!"
   ]
  },
  {
   "cell_type": "code",
   "execution_count": 123,
   "id": "0601ca20-3307-4725-b897-e6a978efa8fc",
   "metadata": {
    "colab": {
     "base_uri": "https://localhost:8080/"
    },
    "executionInfo": {
     "elapsed": 390,
     "status": "ok",
     "timestamp": 1615063748269,
     "user": {
      "displayName": "Santiago Mondragón Gómez",
      "photoUrl": "https://lh3.googleusercontent.com/a-/AOh14Gh8R-q32gOlh13EiQTzmP34aJX7HrfLdR3-OyJVLg=s64",
      "userId": "04334286989014486685"
     },
     "user_tz": 300
    },
    "id": "_IfGkkeGoaUP",
    "outputId": "93dd76e1-c23a-47c9-9add-9da97a647b37"
   },
   "outputs": [
    {
     "name": "stdout",
     "output_type": "stream",
     "text": [
      "The slope-intercept form of the line between a and b, using point a, is: y - 10 = -1.4(x - 0)\n"
     ]
    }
   ],
   "source": [
    "print(\"The slope-intercept form of the line between a and b, using point a, is: y - {0} = {2}(x - {1})\".format(a[1], a[0], calculate_slope(a, b)))"
   ]
  },
  {
   "cell_type": "markdown",
   "id": "9b186f34-4e2e-47ce-8ded-d2b89a0b54c8",
   "metadata": {
    "id": "dfRhGPdBfzUR"
   },
   "source": [
    "$$y - 10 = -1.4(x - 0)$$"
   ]
  },
  {
   "cell_type": "markdown",
   "id": "0b9cd6fe-ef9d-41f5-9183-743f74e2c612",
   "metadata": {
    "id": "7o-9yj5PoaUQ"
   },
   "source": [
    "With the proper syntax, you can define functions to do whatever calculations you want. This makes them an indispensible part of programming in any language."
   ]
  }
 ],
 "metadata": {
  "kernelspec": {
   "display_name": "Python 3 (ipykernel)",
   "language": "python",
   "name": "python3"
  },
  "language_info": {
   "codemirror_mode": {
    "name": "ipython",
    "version": 3
   },
   "file_extension": ".py",
   "mimetype": "text/x-python",
   "name": "python",
   "nbconvert_exporter": "python",
   "pygments_lexer": "ipython3",
   "version": "3.8.10"
  }
 },
 "nbformat": 4,
 "nbformat_minor": 5
}
