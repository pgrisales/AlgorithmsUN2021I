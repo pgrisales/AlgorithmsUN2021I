{
 "cells": [
  {
   "cell_type": "code",
   "execution_count": 29,
   "id": "de991222-426a-4cd3-b016-87915892c14f",
   "metadata": {},
   "outputs": [
    {
     "name": "stdout",
     "output_type": "stream",
     "text": [
      "Requirement already satisfied: fortran-magic in /home/batman/.local/lib/python3.8/site-packages (0.7)\n",
      "Requirement already satisfied: ipython in /home/batman/.local/lib/python3.8/site-packages (from fortran-magic) (7.27.0)\n",
      "Requirement already satisfied: numpy in /home/batman/.local/lib/python3.8/site-packages (from fortran-magic) (1.21.2)\n",
      "Requirement already satisfied: decorator in /home/batman/.local/lib/python3.8/site-packages (from ipython->fortran-magic) (5.1.0)\n",
      "Requirement already satisfied: setuptools>=18.5 in /usr/lib/python3/dist-packages (from ipython->fortran-magic) (45.2.0)\n",
      "Requirement already satisfied: pygments in /home/batman/.local/lib/python3.8/site-packages (from ipython->fortran-magic) (2.10.0)\n",
      "Requirement already satisfied: pexpect>4.3; sys_platform != \"win32\" in /usr/lib/python3/dist-packages (from ipython->fortran-magic) (4.6.0)\n",
      "Requirement already satisfied: prompt-toolkit!=3.0.0,!=3.0.1,<3.1.0,>=2.0.0 in /home/batman/.local/lib/python3.8/site-packages (from ipython->fortran-magic) (3.0.20)\n",
      "Requirement already satisfied: pickleshare in /home/batman/.local/lib/python3.8/site-packages (from ipython->fortran-magic) (0.7.5)\n",
      "Requirement already satisfied: traitlets>=4.2 in /home/batman/.local/lib/python3.8/site-packages (from ipython->fortran-magic) (5.1.0)\n",
      "Requirement already satisfied: jedi>=0.16 in /home/batman/.local/lib/python3.8/site-packages (from ipython->fortran-magic) (0.18.0)\n",
      "Requirement already satisfied: backcall in /home/batman/.local/lib/python3.8/site-packages (from ipython->fortran-magic) (0.2.0)\n",
      "Requirement already satisfied: matplotlib-inline in /home/batman/.local/lib/python3.8/site-packages (from ipython->fortran-magic) (0.1.3)\n",
      "Requirement already satisfied: wcwidth in /home/batman/.local/lib/python3.8/site-packages (from prompt-toolkit!=3.0.0,!=3.0.1,<3.1.0,>=2.0.0->ipython->fortran-magic) (0.2.5)\n",
      "Requirement already satisfied: parso<0.9.0,>=0.8.0 in /home/batman/.local/lib/python3.8/site-packages (from jedi>=0.16->ipython->fortran-magic) (0.8.2)\n"
     ]
    }
   ],
   "source": [
    "!pip3 install fortran-magic"
   ]
  },
  {
   "cell_type": "code",
   "execution_count": 30,
   "id": "a6af706c-d7f7-4d9e-beaf-1c8b5a263441",
   "metadata": {},
   "outputs": [
    {
     "data": {
      "application/javascript": [
       "new Promise(function(resolve, reject) {\n",
       "\tvar script = document.createElement(\"script\");\n",
       "\tscript.onload = resolve;\n",
       "\tscript.onerror = reject;\n",
       "\tscript.src = \"https://raw.github.com/marijnh/CodeMirror/master/mode/fortran/fortran.js\";\n",
       "\tdocument.head.appendChild(script);\n",
       "}).then(() => {\n",
       "IPython.config.cell_magic_highlight['magic_fortran'] = {'reg':[/^%%fortran/]};\n",
       "});"
      ]
     },
     "metadata": {},
     "output_type": "display_data"
    }
   ],
   "source": [
    "%matplotlib inline\n",
    "%load_ext fortranmagic\n",
    "\n",
    "import sys; sys.path.append('..')\n",
    "\n",
    "import pandas as pd\n",
    "import numpy as np\n",
    "import matplotlib as mpl\n",
    "import matplotlib.pyplot as plt\n",
    "import seaborn as sns\n",
    "\n",
    "mpl.rc('figure', figsize=(12, 7))\n",
    "\n",
    "ran_the_first_cell = True\n",
    "\n",
    "jan2017 = pd.to_datetime(['2017-01-03 00:00:00+00:00',\n",
    " '2017-01-04 00:00:00+00:00',\n",
    " '2017-01-05 00:00:00+00:00',\n",
    " '2017-01-06 00:00:00+00:00',\n",
    " '2017-01-09 00:00:00+00:00',\n",
    " '2017-01-10 00:00:00+00:00',\n",
    " '2017-01-11 00:00:00+00:00',\n",
    " '2017-01-12 00:00:00+00:00',\n",
    " '2017-01-13 00:00:00+00:00',\n",
    " '2017-01-17 00:00:00+00:00',\n",
    " '2017-01-18 00:00:00+00:00',\n",
    " '2017-01-19 00:00:00+00:00',\n",
    " '2017-01-20 00:00:00+00:00',\n",
    " '2017-01-23 00:00:00+00:00',\n",
    " '2017-01-24 00:00:00+00:00',\n",
    " '2017-01-25 00:00:00+00:00',\n",
    " '2017-01-26 00:00:00+00:00',\n",
    " '2017-01-27 00:00:00+00:00',\n",
    " '2017-01-30 00:00:00+00:00',\n",
    " '2017-01-31 00:00:00+00:00',\n",
    " '2017-02-01 00:00:00+00:00'])\n",
    "calendar = jan2017.values.astype('datetime64[D]')\n",
    "\n",
    "event_dates = pd.to_datetime(['2017-01-06 00:00:00+00:00', \n",
    "                             '2017-01-07 00:00:00+00:00', \n",
    "                             '2017-01-08 00:00:00+00:00']).values.astype('datetime64[D]')\n",
    "event_values = np.array([10, 15, 20])"
   ]
  },
  {
   "cell_type": "markdown",
   "id": "da558d51-f3f3-4591-bbdf-cdef24abfa0c",
   "metadata": {
    "ein.tags": "worksheet-0",
    "id": "00Nb74rNPKH3"
   },
   "source": [
    "<center>\n",
    "  <h1>The PyData Toolbox</h1>\n",
    "  <h3>Scott Sanderson (Twitter: @scottbsanderson, GitHub: ssanderson)</h3>\n",
    "  <h3><a href=\"https://github.com/ssanderson/pydata-toolbox\">https://github.com/ssanderson/pydata-toolbox</a></h3>\n",
    "</center>\n",
    "\n",
    "# About Me:\n",
    "\n",
    "<img src=\"images/me.jpg\" alt=\"Drawing\" style=\"width: 300px;\"/>\n",
    "\n",
    "- Senior Engineer at [Quantopian](www.quantopian.com)\n",
    "- Background in Mathematics and Philosophy\n",
    "- **Twitter:** [@scottbsanderson](https://twitter.com/scottbsanderson)\n",
    "- **GitHub:** [ssanderson](github.com/ssanderson)\n",
    "\n",
    "## Outline\n",
    "\n",
    "- Built-in Data Structures\n",
    "- Numpy `array`\n",
    "- Pandas `Series`/`DataFrame`\n",
    "- Plotting and \"Real-World\" Analyses\n",
    "\n",
    "# Data Structures\n",
    "\n",
    "> Rule 5. Data dominates. If you've chosen the right data structures and organized things well, the algorithms\n",
    "will almost always be self-evident. Data structures, not algorithms, are central to programming.\n",
    "\n",
    "- *Notes on Programming in C*, by Rob Pike.\n",
    "\n",
    "# Lists"
   ]
  },
  {
   "cell_type": "code",
   "execution_count": 31,
   "id": "6efa8bc0-6707-457a-bc9e-e8aca00247fc",
   "metadata": {
    "id": "ex6-zaIcPKH7"
   },
   "outputs": [],
   "source": [
    "assert ran_the_first_cell, \"Oh noes!\""
   ]
  },
  {
   "cell_type": "code",
   "execution_count": 32,
   "id": "a040da6e-51fe-473e-bce2-39bfaa30a5f6",
   "metadata": {
    "colab": {
     "base_uri": "https://localhost:8080/"
    },
    "id": "eJAlKzLsPKH8",
    "outputId": "d8dac3ec-c15d-4aa8-bc87-3f1a69bda181"
   },
   "outputs": [
    {
     "data": {
      "text/plain": [
       "[1, 'two', 3.0, 4, 5.0, 'six']"
      ]
     },
     "execution_count": 32,
     "metadata": {},
     "output_type": "execute_result"
    }
   ],
   "source": [
    "l = [1, 'two', 3.0, 4, 5.0, \"six\"]\n",
    "l"
   ]
  },
  {
   "cell_type": "code",
   "execution_count": 33,
   "id": "502712e9-a795-48b5-b7d7-1f4c17167b60",
   "metadata": {
    "colab": {
     "base_uri": "https://localhost:8080/"
    },
    "id": "D5vuVk1wNNR4",
    "outputId": "bfa79445-6f93-4e3e-e9ce-1d55b74c3008"
   },
   "outputs": [
    {
     "data": {
      "text/plain": [
       "[1, 2, 'tres', 4.0, 'seis']"
      ]
     },
     "execution_count": 33,
     "metadata": {},
     "output_type": "execute_result"
    }
   ],
   "source": [
    "# MI EJEMPLO\n",
    "\n",
    "lista = [1, 2, 'tres', 4.0, 'seis']\n",
    "lista"
   ]
  },
  {
   "cell_type": "code",
   "execution_count": 34,
   "id": "e6f2397b-3e6d-4bd2-8b87-568422f6d2ed",
   "metadata": {
    "colab": {
     "base_uri": "https://localhost:8080/"
    },
    "id": "iLXUybwEPKH9",
    "outputId": "28b9e296-440f-4b99-b517-67f937a971ba"
   },
   "outputs": [
    {
     "name": "stdout",
     "output_type": "stream",
     "text": [
      "first: 1\n",
      "second: two\n"
     ]
    }
   ],
   "source": [
    "# Lists can be indexed like C-style arrays.\n",
    "first = l[0]\n",
    "second = l[1]\n",
    "print(\"first:\", first)\n",
    "print(\"second:\", second)"
   ]
  },
  {
   "cell_type": "code",
   "execution_count": 35,
   "id": "a7317962-4922-44ed-94cf-b36a87be4552",
   "metadata": {
    "colab": {
     "base_uri": "https://localhost:8080/"
    },
    "id": "9W9dOpdGNT_8",
    "outputId": "9a512bf0-1318-43fb-9a07-013fd8edb34b"
   },
   "outputs": [
    {
     "name": "stdout",
     "output_type": "stream",
     "text": [
      "primero 1\n",
      "segundo 2\n"
     ]
    }
   ],
   "source": [
    "# MI EJEMPLO\n",
    "\n",
    "primero = lista[0]\n",
    "segundo = lista[1]\n",
    "\n",
    "print('primero', lista[0])\n",
    "print('segundo', lista[1])"
   ]
  },
  {
   "cell_type": "code",
   "execution_count": 36,
   "id": "c4c949fc-d6e6-45a0-b5cb-f26addfab043",
   "metadata": {
    "colab": {
     "base_uri": "https://localhost:8080/"
    },
    "id": "kItNQLQAPKH9",
    "outputId": "8b4b7c7a-d41d-4d9f-ff75-34f503df115f"
   },
   "outputs": [
    {
     "name": "stdout",
     "output_type": "stream",
     "text": [
      "last: six\n",
      "second to last: 5.0\n"
     ]
    }
   ],
   "source": [
    "# Negative indexing gives elements relative to the end of the list.\n",
    "last = l[-1]\n",
    "penultimate = l[-2]\n",
    "print(\"last:\", last)\n",
    "print(\"second to last:\", penultimate)"
   ]
  },
  {
   "cell_type": "code",
   "execution_count": 37,
   "id": "6b3b931b-2f84-4077-8973-6a1249bf33dd",
   "metadata": {
    "colab": {
     "base_uri": "https://localhost:8080/"
    },
    "id": "-XY1zNT2Nrw2",
    "outputId": "99c43837-10dd-4471-93e7-168eac1235ef"
   },
   "outputs": [
    {
     "name": "stdout",
     "output_type": "stream",
     "text": [
      "ultimo:  seis\n",
      "penultimo:  4.0\n"
     ]
    }
   ],
   "source": [
    "# MI EJEMPLO\n",
    "\n",
    "ultimo = lista[-1]\n",
    "penultimo = lista[-2]\n",
    "\n",
    "print(\"ultimo: \", ultimo)\n",
    "print(\"penultimo: \", penultimo)"
   ]
  },
  {
   "cell_type": "code",
   "execution_count": 38,
   "id": "85006cf3-9a8a-4ce6-834d-2f7e142f5509",
   "metadata": {
    "colab": {
     "base_uri": "https://localhost:8080/"
    },
    "id": "tnUsN0nbPKH-",
    "outputId": "8c884d5c-f0c0-492c-baa1-c1cf34466556"
   },
   "outputs": [
    {
     "data": {
      "text/plain": [
       "['two', 3.0]"
      ]
     },
     "execution_count": 38,
     "metadata": {},
     "output_type": "execute_result"
    }
   ],
   "source": [
    "# Lists can also be sliced, which makes a copy of elements between \n",
    "# start (inclusive) and stop (exclusive)\n",
    "sublist = l[1:3]\n",
    "sublist"
   ]
  },
  {
   "cell_type": "code",
   "execution_count": 121,
   "id": "0c2d966c-1234-4ed3-9d18-a9a18cc28f12",
   "metadata": {
    "colab": {
     "base_uri": "https://localhost:8080/"
    },
    "id": "QttKnUpjN-c1",
    "outputId": "1406e326-7515-427a-900a-1199abb5a689"
   },
   "outputs": [
    {
     "data": {
      "text/plain": [
       "[2, 'tres', 4.0]"
      ]
     },
     "execution_count": 121,
     "metadata": {},
     "output_type": "execute_result"
    }
   ],
   "source": [
    "# MI EJEMPLO\n",
    "\n",
    "subL = lista[1:4]\n",
    "subL"
   ]
  },
  {
   "cell_type": "code",
   "execution_count": 122,
   "id": "61f718fe-3c21-4c19-bead-46b02e22db10",
   "metadata": {
    "colab": {
     "base_uri": "https://localhost:8080/"
    },
    "id": "b9kBCj2JPKH-",
    "outputId": "c5e6fa62-c10d-4e19-9891-9969f8738b39"
   },
   "outputs": [
    {
     "data": {
      "text/plain": [
       "[1, 'two', 3.0]"
      ]
     },
     "execution_count": 122,
     "metadata": {},
     "output_type": "execute_result"
    }
   ],
   "source": [
    "# l[:N] is equivalent to l[0:N].\n",
    "first_three = l[:3]\n",
    "first_three"
   ]
  },
  {
   "cell_type": "code",
   "execution_count": 123,
   "id": "c83a9ae6-415a-4568-9fe6-ef31f1d5cc7c",
   "metadata": {
    "colab": {
     "base_uri": "https://localhost:8080/"
    },
    "id": "LXsuoxMLOCOs",
    "outputId": "c3820abd-f80f-4352-f310-32c5ed57be5f"
   },
   "outputs": [
    {
     "data": {
      "text/plain": [
       "[1, 2, 'tres']"
      ]
     },
     "execution_count": 123,
     "metadata": {},
     "output_type": "execute_result"
    }
   ],
   "source": [
    "# MI EJEMPLO\n",
    "\n",
    "primerosTres = lista[:3]\n",
    "primerosTres"
   ]
  },
  {
   "cell_type": "code",
   "execution_count": 124,
   "id": "c087cab8-4ea0-41c8-a5f6-3befb7421ffb",
   "metadata": {
    "colab": {
     "base_uri": "https://localhost:8080/"
    },
    "id": "YS2al_OqPKH_",
    "outputId": "3d9ff0b8-7187-409a-94e3-6b8f6310287b"
   },
   "outputs": [
    {
     "data": {
      "text/plain": [
       "[4, 5.0, 'six']"
      ]
     },
     "execution_count": 124,
     "metadata": {},
     "output_type": "execute_result"
    }
   ],
   "source": [
    "# l[3:] is equivalent to l[3:len(l)].\n",
    "after_three = l[3:]\n",
    "after_three"
   ]
  },
  {
   "cell_type": "code",
   "execution_count": 125,
   "id": "65556af0-2ed9-487d-bef9-5ff3c1c9120c",
   "metadata": {
    "colab": {
     "base_uri": "https://localhost:8080/"
    },
    "id": "mDmAdjoXOP10",
    "outputId": "8aace0fe-4dae-44c4-db79-ea3066607281"
   },
   "outputs": [
    {
     "data": {
      "text/plain": [
       "[4.0, 'seis']"
      ]
     },
     "execution_count": 125,
     "metadata": {},
     "output_type": "execute_result"
    }
   ],
   "source": [
    "# MI EJEMPLO\n",
    "\n",
    "ultimosDos = lista[3:]\n",
    "ultimosDos"
   ]
  },
  {
   "cell_type": "code",
   "execution_count": 126,
   "id": "01ef75a3-5c33-4c7c-b25f-fc50044d82b7",
   "metadata": {
    "colab": {
     "base_uri": "https://localhost:8080/"
    },
    "id": "kiBW94OaPKH_",
    "outputId": "afefdfd0-25b8-4ff9-f184-da8b9c06fbfa"
   },
   "outputs": [
    {
     "data": {
      "text/plain": [
       "['b', 'd', 'f']"
      ]
     },
     "execution_count": 126,
     "metadata": {},
     "output_type": "execute_result"
    }
   ],
   "source": [
    "# There's also a third parameter, \"step\", which gets every Nth element.\n",
    "l = ['a', 'b', 'c', 'd', 'e', 'f', 'g','h']\n",
    "l[1:7:2]"
   ]
  },
  {
   "cell_type": "code",
   "execution_count": 127,
   "id": "7219ed62-0ac3-432d-ad81-8172086beb4b",
   "metadata": {
    "colab": {
     "base_uri": "https://localhost:8080/"
    },
    "id": "fF967F5gOeMt",
    "outputId": "0b38c05c-4197-4bcb-a7d4-14447944c1ef"
   },
   "outputs": [
    {
     "data": {
      "text/plain": [
       "['o', 'a']"
      ]
     },
     "execution_count": 127,
     "metadata": {},
     "output_type": "execute_result"
    }
   ],
   "source": [
    "# MI EJEMPLO\n",
    "\n",
    "lista_2 = ['h', 'o', 'l', 'a']\n",
    "lista_2[1:4:2]"
   ]
  },
  {
   "cell_type": "code",
   "execution_count": 128,
   "id": "5d98b128-984b-47a5-a40c-a3d91addcf8e",
   "metadata": {
    "id": "BVv9lWjjPKIA",
    "outputId": "110caa39-0a55-4519-b42a-1604bb89ac4f"
   },
   "outputs": [
    {
     "data": {
      "text/plain": [
       "['h', 'g', 'f', 'e', 'd', 'c', 'b', 'a']"
      ]
     },
     "execution_count": 128,
     "metadata": {},
     "output_type": "execute_result"
    }
   ],
   "source": [
    "# This is a cute way to reverse a list.\n",
    "l[::-1]"
   ]
  },
  {
   "cell_type": "code",
   "execution_count": 129,
   "id": "f33a83aa-b14d-45f3-87ba-15a97b3d3eed",
   "metadata": {
    "colab": {
     "base_uri": "https://localhost:8080/"
    },
    "id": "rWGD6Ofgc7sG",
    "outputId": "94e26ac3-db19-4959-8fca-e1a3ebaa3b93"
   },
   "outputs": [
    {
     "data": {
      "text/plain": [
       "['a', 'l', 'o', 'h']"
      ]
     },
     "execution_count": 129,
     "metadata": {},
     "output_type": "execute_result"
    }
   ],
   "source": [
    "# MI EJEMPLO\n",
    "\n",
    "lista_2[::-1]"
   ]
  },
  {
   "cell_type": "code",
   "execution_count": 130,
   "id": "e0d2c31f-c587-4270-b2c6-267b2dc5044d",
   "metadata": {
    "id": "9yQpmZkxPKIA",
    "outputId": "052638af-d3a7-4a13-ceff-c7eaf7c51e1e"
   },
   "outputs": [
    {
     "name": "stdout",
     "output_type": "stream",
     "text": [
      "Before: [1, 2, 3, 4, 5]\n",
      "After: [1, 2, 3, 4, 5, 'six']\n"
     ]
    }
   ],
   "source": [
    "# Lists can be grown efficiently (in O(1) amortized time).\n",
    "l = [1, 2, 3, 4, 5]\n",
    "print(\"Before:\", l)\n",
    "l.append('six')\n",
    "print(\"After:\", l)"
   ]
  },
  {
   "cell_type": "code",
   "execution_count": 131,
   "id": "c556f9c2-1a1f-4afa-af12-c34fba66b1b1",
   "metadata": {
    "colab": {
     "base_uri": "https://localhost:8080/"
    },
    "id": "WEjsFr27dLZm",
    "outputId": "b47c2db4-0b58-4866-a26f-6e7572622d23"
   },
   "outputs": [
    {
     "name": "stdout",
     "output_type": "stream",
     "text": [
      "['h', 'o', 'l', 'a']\n",
      "['h', 'o', 'l', 'a', 'asdf']\n"
     ]
    }
   ],
   "source": [
    "# MI EJEMPLO\n",
    "\n",
    "print(lista_2)\n",
    "lista_2.append('asdf')\n",
    "print(lista_2)"
   ]
  },
  {
   "cell_type": "code",
   "execution_count": 132,
   "id": "77fbd8e5-db49-488d-a69a-75b001a58c59",
   "metadata": {
    "id": "ECECMxHAPKIB",
    "outputId": "bd8cc561-89b1-470a-ddd0-258b803f71d7"
   },
   "outputs": [
    {
     "data": {
      "text/plain": [
       "[2, 4, 6, 8, 10]"
      ]
     },
     "execution_count": 132,
     "metadata": {},
     "output_type": "execute_result"
    }
   ],
   "source": [
    "# Comprehensions let us perform elementwise computations.\n",
    "l = [1, 2, 3, 4, 5]\n",
    "[x * 2 for x in l]"
   ]
  },
  {
   "cell_type": "code",
   "execution_count": 133,
   "id": "4017f3d8-1073-4ca8-9585-77a32317ebd6",
   "metadata": {
    "colab": {
     "base_uri": "https://localhost:8080/"
    },
    "id": "DZl5K5qmdTCm",
    "outputId": "a0868a87-7a08-4964-ad1f-452e567b1b55"
   },
   "outputs": [
    {
     "data": {
      "text/plain": [
       "[6, 7, 12, 105]"
      ]
     },
     "execution_count": 133,
     "metadata": {},
     "output_type": "execute_result"
    }
   ],
   "source": [
    "# MI EJEMPLO\n",
    "\n",
    "lista_3 = [2, 3, 8, 101]\n",
    "[x + 4 for x in lista_3]"
   ]
  },
  {
   "cell_type": "markdown",
   "id": "18a2df6d-8f26-4cfb-a4c4-fefb5d25659c",
   "metadata": {
    "ein.tags": "worksheet-0",
    "id": "5psDvjrkPKIB"
   },
   "source": [
    "## Review: Python Lists\n",
    "\n",
    "- Zero-indexed sequence of arbitrary Python values.\n",
    "- Slicing syntax: `l[start:stop:step]` copies elements at regular intervals from `start` to `stop`.\n",
    "- Efficient (`O(1)`) appends and removes from end.\n",
    "- Comprehension syntax: `[f(x) for x in l if cond(x)]`."
   ]
  },
  {
   "cell_type": "markdown",
   "id": "9115df7f-3d1f-4ae0-abb8-0fe74a70810c",
   "metadata": {
    "id": "Az2lDmojPKIC"
   },
   "source": [
    "# Dictionaries"
   ]
  },
  {
   "cell_type": "code",
   "execution_count": 134,
   "id": "0f6d5d65-f113-403d-a514-273a8b0af2b4",
   "metadata": {
    "id": "htlEHHwsPKIC",
    "outputId": "d8d64297-2b61-4ea8-c21f-3193eec42ee7"
   },
   "outputs": [
    {
     "data": {
      "text/plain": [
       "{'David': 'Hume', 'Immanuel': 'Kant', 'Bertrand': 'Russell'}"
      ]
     },
     "execution_count": 134,
     "metadata": {},
     "output_type": "execute_result"
    }
   ],
   "source": [
    "# Dictionaries are key-value mappings.\n",
    "philosophers = {'David': 'Hume', 'Immanuel': 'Kant', 'Bertrand': 'Russell'}\n",
    "philosophers"
   ]
  },
  {
   "cell_type": "code",
   "execution_count": 135,
   "id": "37d8e395-ade9-435e-b574-1898949328b6",
   "metadata": {
    "colab": {
     "base_uri": "https://localhost:8080/"
    },
    "id": "Ud-pfcnee4zv",
    "outputId": "17992c20-e2eb-4589-fe9a-b56545d73fa3"
   },
   "outputs": [
    {
     "data": {
      "text/plain": [
       "{'manaus': 'brasil', 'lima': 'peru'}"
      ]
     },
     "execution_count": 135,
     "metadata": {},
     "output_type": "execute_result"
    }
   ],
   "source": [
    "# MI EJEMPLO\n",
    "\n",
    "ciudades = {'manaus' : 'brasil', 'lima' : 'peru'}\n",
    "ciudades"
   ]
  },
  {
   "cell_type": "code",
   "execution_count": 136,
   "id": "a1f18c84-5f0c-4839-a72e-a155d31b09f0",
   "metadata": {
    "id": "GWX56vrJPKIC",
    "outputId": "2a00b0eb-1438-4616-e203-f9634d676979"
   },
   "outputs": [
    {
     "data": {
      "text/plain": [
       "{'David': 'Hume',\n",
       " 'Immanuel': 'Kant',\n",
       " 'Bertrand': 'Russell',\n",
       " 'Ludwig': 'Wittgenstein'}"
      ]
     },
     "execution_count": 136,
     "metadata": {},
     "output_type": "execute_result"
    }
   ],
   "source": [
    "# Like lists, dictionaries are size-mutable.\n",
    "philosophers['Ludwig'] = 'Wittgenstein'\n",
    "philosophers"
   ]
  },
  {
   "cell_type": "code",
   "execution_count": 137,
   "id": "7a369fcf-7e80-4da3-bc52-df10c011e449",
   "metadata": {
    "colab": {
     "base_uri": "https://localhost:8080/"
    },
    "id": "ru_FsZe2fl52",
    "outputId": "bf73e082-b5b4-4d62-8743-eefc68ea45be"
   },
   "outputs": [
    {
     "data": {
      "text/plain": [
       "{'manaus': 'brasil', 'lima': 'peru', 'caracas': 'venezuela'}"
      ]
     },
     "execution_count": 137,
     "metadata": {},
     "output_type": "execute_result"
    }
   ],
   "source": [
    "# MI EJEMPLO\n",
    "\n",
    "ciudades['caracas'] = 'venezuela'\n",
    "ciudades"
   ]
  },
  {
   "cell_type": "code",
   "execution_count": 138,
   "id": "bc2cd024-4eb4-4ffa-b855-7e5ed5b4b055",
   "metadata": {
    "id": "BDrU5mIaPKID",
    "outputId": "34f8b636-7de4-475e-b75f-10a647b32f01"
   },
   "outputs": [
    {
     "data": {
      "text/plain": [
       "{'Immanuel': 'Kant', 'Bertrand': 'Russell', 'Ludwig': 'Wittgenstein'}"
      ]
     },
     "execution_count": 138,
     "metadata": {},
     "output_type": "execute_result"
    }
   ],
   "source": [
    "del philosophers['David']\n",
    "philosophers"
   ]
  },
  {
   "cell_type": "code",
   "execution_count": 139,
   "id": "1ce9a0d5-6785-4f9e-95eb-7441f0f07b6a",
   "metadata": {
    "colab": {
     "base_uri": "https://localhost:8080/"
    },
    "id": "pVxEyg5TglAa",
    "outputId": "892f437d-ec73-43f0-a32e-a459a47713c5"
   },
   "outputs": [
    {
     "data": {
      "text/plain": [
       "{'manaus': 'brasil', 'lima': 'peru'}"
      ]
     },
     "execution_count": 139,
     "metadata": {},
     "output_type": "execute_result"
    }
   ],
   "source": [
    "# MI EJEMPLO\n",
    "\n",
    "del ciudades['caracas']\n",
    "ciudades"
   ]
  },
  {
   "cell_type": "code",
   "execution_count": 140,
   "id": "a635602f-e5b3-47ed-9005-4907eeae83e0",
   "metadata": {
    "colab": {
     "base_uri": "https://localhost:8080/",
     "height": 180
    },
    "id": "NxUSjv4mPKID",
    "outputId": "8445dca4-03f6-43a6-dc27-1d7cb9859b5c"
   },
   "outputs": [
    {
     "ename": "TypeError",
     "evalue": "unhashable type: 'slice'",
     "output_type": "error",
     "traceback": [
      "\u001b[0;31m---------------------------------------------------------------------------\u001b[0m",
      "\u001b[0;31mTypeError\u001b[0m                                 Traceback (most recent call last)",
      "\u001b[0;32m/tmp/ipykernel_67215/140634352.py\u001b[0m in \u001b[0;36m<module>\u001b[0;34m\u001b[0m\n\u001b[1;32m      1\u001b[0m \u001b[0;31m# No slicing.\u001b[0m\u001b[0;34m\u001b[0m\u001b[0;34m\u001b[0m\u001b[0;34m\u001b[0m\u001b[0m\n\u001b[0;32m----> 2\u001b[0;31m \u001b[0mphilosophers\u001b[0m\u001b[0;34m[\u001b[0m\u001b[0;34m'Bertrand'\u001b[0m\u001b[0;34m:\u001b[0m\u001b[0;34m'Immanuel'\u001b[0m\u001b[0;34m]\u001b[0m\u001b[0;34m\u001b[0m\u001b[0;34m\u001b[0m\u001b[0m\n\u001b[0m",
      "\u001b[0;31mTypeError\u001b[0m: unhashable type: 'slice'"
     ]
    }
   ],
   "source": [
    "# No slicing.\n",
    "philosophers['Bertrand':'Immanuel']"
   ]
  },
  {
   "cell_type": "markdown",
   "id": "2b032f35-4402-41dc-93b8-b7789ad2f511",
   "metadata": {
    "ein.tags": "worksheet-0",
    "id": "Iig5BXsKPKIE"
   },
   "source": [
    "## Review: Python Dictionaries\n",
    "\n",
    "- Unordered key-value mapping from (almost) arbitrary keys to arbitrary values.\n",
    "- Efficient (`O(1)`) lookup, insertion, and deletion.\n",
    "- No slicing (would require a notion of order)."
   ]
  },
  {
   "cell_type": "markdown",
   "id": "d8c84f72-4ff9-4ec2-a6bd-d368807581e9",
   "metadata": {
    "id": "vqQ2qKvcPKIE"
   },
   "source": [
    "<center><img src=\"images/pacino.gif\" alt=\"Drawing\" style=\"width: 100%;\"/></center>\n"
   ]
  },
  {
   "cell_type": "code",
   "execution_count": 39,
   "id": "d2ed005f-a412-4c35-b945-6362c8cd6423",
   "metadata": {
    "id": "r5Y5RIaDPKIE"
   },
   "outputs": [],
   "source": [
    "# Suppose we have some matrices...\n",
    "a = [[1, 2, 3],\n",
    "     [2, 3, 4],\n",
    "     [5, 6, 7],\n",
    "     [1, 1, 1]]\n",
    "\n",
    "b = [[1, 2, 3, 4],\n",
    "     [2, 3, 4, 5]]"
   ]
  },
  {
   "cell_type": "code",
   "execution_count": 41,
   "id": "940a5f19-c950-469b-9d8e-0d72e792e904",
   "metadata": {
    "id": "wEc-o8jVPKIE"
   },
   "outputs": [],
   "source": [
    "def matmul(A, B):\n",
    "    \"\"\"Multiply matrix A by matrix B.\"\"\"\n",
    "    rows_out = len(A)\n",
    "    cols_out = len(B[0])\n",
    "    out = [[0 for col in range(cols_out)] for row in range(rows_out)]\n",
    "    \n",
    "    for i in range(rows_out):\n",
    "        for j in range(cols_out):\n",
    "            for k in range(len(B)):\n",
    "                out[i][j] += A[i][k] * B[k][j]\n",
    "    return out"
   ]
  },
  {
   "cell_type": "markdown",
   "id": "3592b671-84be-4197-8d01-d201ba074c16",
   "metadata": {
    "id": "KpIZJbXPPKIE"
   },
   "source": [
    "<center><img src=\"images/gross.gif\" alt=\"Drawing\" style=\"width: 50%;\"/></center>\n"
   ]
  },
  {
   "cell_type": "code",
   "execution_count": 42,
   "id": "4b2ea5c9-6edb-46fa-8d4b-3e01ad492c80",
   "metadata": {
    "colab": {
     "base_uri": "https://localhost:8080/"
    },
    "id": "TxoRKt9rPKIF",
    "outputId": "51078b58-aaf1-446a-faad-6007cbcf2703"
   },
   "outputs": [
    {
     "name": "stdout",
     "output_type": "stream",
     "text": [
      "CPU times: user 14 µs, sys: 10 µs, total: 24 µs\n",
      "Wall time: 27.7 µs\n"
     ]
    },
    {
     "data": {
      "text/plain": [
       "[[5, 8, 11, 14], [8, 13, 18, 23], [17, 28, 39, 50], [3, 5, 7, 9]]"
      ]
     },
     "execution_count": 42,
     "metadata": {},
     "output_type": "execute_result"
    }
   ],
   "source": [
    "%%time\n",
    "\n",
    "matmul(a, b)"
   ]
  },
  {
   "cell_type": "code",
   "execution_count": 43,
   "id": "436c7e08-3a13-4280-b47c-0a067d72ab82",
   "metadata": {
    "colab": {
     "base_uri": "https://localhost:8080/"
    },
    "id": "I7FACsMbPKIF",
    "outputId": "0581ecbd-28bb-421b-af57-70fcfdec92d6"
   },
   "outputs": [
    {
     "data": {
      "text/plain": [
       "[[0.06171987809090129, 0.8666868651360503, 0.5855126713575336],\n",
       " [0.4085650190763007, 0.24715684237604618, 0.40467646547057945]]"
      ]
     },
     "execution_count": 43,
     "metadata": {},
     "output_type": "execute_result"
    }
   ],
   "source": [
    "import random\n",
    "def random_matrix(m, n):\n",
    "    out = []\n",
    "    for row in range(m):\n",
    "        out.append([random.random() for _ in range(n)])\n",
    "    return out\n",
    "\n",
    "randm = random_matrix(2, 3)\n",
    "randm"
   ]
  },
  {
   "cell_type": "code",
   "execution_count": 44,
   "id": "c5fae2f3-deb1-414d-932f-3c3736a36ce1",
   "metadata": {
    "colab": {
     "base_uri": "https://localhost:8080/"
    },
    "id": "A-LukLxtPKIF",
    "outputId": "12c95fff-04d9-4e47-bff2-35f03f69278c",
    "scrolled": true
   },
   "outputs": [
    {
     "name": "stdout",
     "output_type": "stream",
     "text": [
      "CPU times: user 3.57 s, sys: 0 ns, total: 3.57 s\n",
      "Wall time: 3.57 s\n"
     ]
    }
   ],
   "source": [
    "%%time\n",
    "randa = random_matrix(600, 100)\n",
    "randb = random_matrix(100, 600)\n",
    "x = matmul(randa, randb)"
   ]
  },
  {
   "cell_type": "code",
   "execution_count": 45,
   "id": "bca57b15-8886-4408-9c4f-9315658c9bc8",
   "metadata": {
    "id": "KQD0kwVtPKIG"
   },
   "outputs": [],
   "source": [
    "# Maybe that's not that bad?  Let's try a simpler case.\n",
    "def python_dot_product(xs, ys):\n",
    "    return sum(x * y for x, y in zip(xs, ys))"
   ]
  },
  {
   "cell_type": "code",
   "execution_count": null,
   "id": "848f9469-4d2c-46e2-ad72-852069263c37",
   "metadata": {
    "id": "dNr310V9PKIG"
   },
   "outputs": [],
   "source": [
    "%%fortran\n",
    "subroutine fortran_dot_product(xs, ys, result)\n",
    "    double precision, intent(in) :: xs(:)\n",
    "    double precision, intent(in) :: ys(:)\n",
    "    double precision, intent(out) :: result\n",
    "    \n",
    "    result = sum(xs * ys)\n",
    "end"
   ]
  },
  {
   "cell_type": "code",
   "execution_count": null,
   "id": "4b02671d-a67d-4971-9103-91051d8ae36c",
   "metadata": {
    "id": "COXp-ZlMPKIG"
   },
   "outputs": [],
   "source": [
    "list_data = [float(i) for i in range(100000)]\n",
    "array_data = np.array(list_data)"
   ]
  },
  {
   "cell_type": "code",
   "execution_count": null,
   "id": "247f47a9-d958-4727-b7f4-8aac6e0ed2f2",
   "metadata": {
    "colab": {
     "base_uri": "https://localhost:8080/"
    },
    "id": "PFCycHnXPKIG",
    "outputId": "be16f1e2-d43f-469c-e6a4-387ab5eb5fb1"
   },
   "outputs": [],
   "source": [
    "%%time\n",
    "python_dot_product(list_data, list_data)"
   ]
  },
  {
   "cell_type": "code",
   "execution_count": null,
   "id": "fbdd29ab-87c1-45a4-a76a-9c811cad05c1",
   "metadata": {
    "colab": {
     "base_uri": "https://localhost:8080/"
    },
    "id": "RZMPD5D6PKIH",
    "outputId": "698b02df-237a-4da7-e1fa-757ac7720cb6"
   },
   "outputs": [],
   "source": [
    "%%time\n",
    "fortran_dot_product(array_data, array_data)"
   ]
  },
  {
   "cell_type": "markdown",
   "id": "20e0adb6-e76e-4974-b49b-cc2e109cc5fd",
   "metadata": {
    "id": "in4-J9GaPKIH"
   },
   "source": [
    "<center><img src=\"images/sloth.gif\" alt=\"Drawing\" style=\"width: 1080px;\"/></center>\n"
   ]
  },
  {
   "cell_type": "markdown",
   "id": "be2de392-eed9-4f4c-ad50-638f020add3b",
   "metadata": {
    "id": "DixBoL6aPKIH"
   },
   "source": [
    "## Why is the Python Version so Much Slower?"
   ]
  },
  {
   "cell_type": "code",
   "execution_count": 47,
   "id": "8ac02022-522e-479a-b0fe-89e6351c2d00",
   "metadata": {
    "colab": {
     "base_uri": "https://localhost:8080/"
    },
    "id": "Pd7t-HoRPKIH",
    "outputId": "a4d90000-4693-474a-93b2-dd5b54422c8f"
   },
   "outputs": [
    {
     "data": {
      "text/plain": [
       "[1, (4+0j), 9.0, 'fourfourfourfour']"
      ]
     },
     "execution_count": 47,
     "metadata": {},
     "output_type": "execute_result"
    }
   ],
   "source": [
    "# Dynamic typing.\n",
    "def mul_elemwise(xs, ys):\n",
    "    return [x * y for x, y in zip(xs, ys)]\n",
    "\n",
    "mul_elemwise([1, 2, 3, 4], [1, 2 + 0j, 3.0, 'four'])\n",
    "#[type(x) for x in _]"
   ]
  },
  {
   "cell_type": "code",
   "execution_count": 48,
   "id": "c6c1c0cc-ecde-42b4-bdae-4df818180170",
   "metadata": {
    "colab": {
     "base_uri": "https://localhost:8080/"
    },
    "id": "YJxVHYngPKIH",
    "outputId": "03c379cd-e289-4563-aaaa-e9fc3689b15f"
   },
   "outputs": [
    {
     "name": "stdout",
     "output_type": "stream",
     "text": [
      "  1           0 LOAD_NAME                0 (a)\n",
      "              2 LOAD_NAME                1 (b)\n",
      "              4 LOAD_NAME                2 (c)\n",
      "              6 BINARY_MULTIPLY\n",
      "              8 BINARY_ADD\n",
      "             10 RETURN_VALUE\n"
     ]
    }
   ],
   "source": [
    "# Interpretation overhead.\n",
    "source_code = 'a + b * c'\n",
    "bytecode = compile(source_code, '', 'eval')\n",
    "import dis; dis.dis(bytecode)"
   ]
  },
  {
   "cell_type": "markdown",
   "id": "26b1e739-9f36-4a86-ab73-6d2a845c3a6c",
   "metadata": {
    "id": "DO3AqiyBPKII"
   },
   "source": [
    "## Why is the Python Version so Slow?\n",
    "- Dynamic typing means that every single operation requires dispatching on the input type.\n",
    "- Having an interpreter means that every instruction is fetched and dispatched at runtime.\n",
    "- Other overheads:\n",
    "  - Arbitrary-size integers.\n",
    "  - Reference-counted garbage collection."
   ]
  },
  {
   "cell_type": "markdown",
   "id": "bc342193-6c89-43d6-a587-85abe20852be",
   "metadata": {
    "id": "mK1CFcUpPKII"
   },
   "source": [
    "> This is the paradox that we have to work with when we're doing scientific or numerically-intensive Python. What makes Python fast for development -- this high-level, interpreted, and dynamically-typed aspect of the language -- is exactly what makes it slow for code execution.\n",
    "\n",
    "- Jake VanderPlas, [*Losing Your Loops: Fast Numerical Computing with NumPy*](https://www.youtube.com/watch?v=EEUXKG97YRw)"
   ]
  },
  {
   "cell_type": "markdown",
   "id": "c684d2fc-841a-419a-b3ca-de146f1d90b0",
   "metadata": {
    "id": "b387s0KyPKII"
   },
   "source": [
    "# What Do We Do?"
   ]
  },
  {
   "cell_type": "markdown",
   "id": "a75961b7-3ee8-49c8-8035-20749ba427e0",
   "metadata": {
    "id": "MtturLlwPKII"
   },
   "source": [
    "<center><img src=\"images/runaway.gif\" alt=\"Drawing\" style=\"width: 50%;\"/></center>"
   ]
  },
  {
   "cell_type": "markdown",
   "id": "7fc26b78-36bf-4a4a-9882-142ee3dd6569",
   "metadata": {
    "id": "l6GDRVktPKIJ"
   },
   "source": [
    "<center><img src=\"images/thisisfine.gif\" alt=\"Drawing\" style=\"width: 1080px;\"/></center>"
   ]
  },
  {
   "cell_type": "markdown",
   "id": "082c79c8-42f3-4ffd-8bf5-6060f2d20088",
   "metadata": {
    "id": "ekSCkJLgPKIJ"
   },
   "source": [
    "- Python is slow for numerical computation because it performs dynamic dispatch on every operation we perform..."
   ]
  },
  {
   "cell_type": "markdown",
   "id": "3249bfd8-49b1-4c47-8dd9-951844911868",
   "metadata": {
    "id": "DxHcxQA9PKIJ"
   },
   "source": [
    "- ...but often, we just want to do the same thing over and over in a loop!"
   ]
  },
  {
   "cell_type": "markdown",
   "id": "bb2af5cb-13f9-4088-bea1-c716b860f6dc",
   "metadata": {
    "id": "qlvacTLIPKIK"
   },
   "source": [
    "- If we don't need Python's dynamicism, we don't want to pay (much) for it."
   ]
  },
  {
   "cell_type": "markdown",
   "id": "23a45061-bf4a-4be6-bb65-18b1740aeec0",
   "metadata": {
    "id": "cbxWXaWxPKIK"
   },
   "source": [
    "- **Idea:** Dispatch **once per operation** instead of **once per element**."
   ]
  },
  {
   "cell_type": "code",
   "execution_count": 49,
   "id": "a13670db-84de-475a-9218-50c13fd9a81b",
   "metadata": {
    "colab": {
     "base_uri": "https://localhost:8080/"
    },
    "id": "WY6ilH-LPKIK",
    "outputId": "8d12def3-7e6b-4934-bc2b-dedb464ce3e0"
   },
   "outputs": [
    {
     "data": {
      "text/plain": [
       "array([1, 2, 3, 4])"
      ]
     },
     "execution_count": 49,
     "metadata": {},
     "output_type": "execute_result"
    }
   ],
   "source": [
    "import numpy as np\n",
    "\n",
    "data = np.array([1, 2, 3, 4])\n",
    "data"
   ]
  },
  {
   "cell_type": "code",
   "execution_count": 142,
   "id": "b53faea9-48ce-4082-b7bf-dd29e37441f8",
   "metadata": {
    "colab": {
     "base_uri": "https://localhost:8080/"
    },
    "id": "B8TrP9xGPKIL",
    "outputId": "6e55cdaf-bbe9-4bd3-dc62-c574727748e7"
   },
   "outputs": [
    {
     "data": {
      "text/plain": [
       "array([2, 4, 6, 8])"
      ]
     },
     "execution_count": 142,
     "metadata": {},
     "output_type": "execute_result"
    }
   ],
   "source": [
    "data + data"
   ]
  },
  {
   "cell_type": "code",
   "execution_count": 143,
   "id": "e233cc3b-8a1d-49ae-a966-411abce6813b",
   "metadata": {
    "colab": {
     "base_uri": "https://localhost:8080/"
    },
    "id": "Q0YBFhYEeWea",
    "outputId": "0295ff6f-f8d5-41ab-eb49-a67aecf692f8"
   },
   "outputs": [
    {
     "name": "stdout",
     "output_type": "stream",
     "text": [
      "[ 3 10 31 33]\n",
      "[3 4 5 6]\n"
     ]
    }
   ],
   "source": [
    "# MI EJEMPLO\n",
    "\n",
    "data_2 = np.array([3, 10, 31, 33])\n",
    "print(data_2)\n",
    "print(data + 2)"
   ]
  },
  {
   "cell_type": "code",
   "execution_count": null,
   "id": "289b5210-1d42-4da0-8170-3415397e0cb1",
   "metadata": {
    "colab": {
     "base_uri": "https://localhost:8080/"
    },
    "id": "0eEGpjSzPKIM",
    "outputId": "238374ce-eeae-4cb2-92cf-faa1ebf585cb"
   },
   "outputs": [],
   "source": [
    "%%time\n",
    "# Naive dot product\n",
    "(array_data * array_data).sum()"
   ]
  },
  {
   "cell_type": "code",
   "execution_count": null,
   "id": "1f0bfcff-c4a6-44fe-bec2-0c5c46705e32",
   "metadata": {
    "colab": {
     "base_uri": "https://localhost:8080/"
    },
    "id": "PL6lwa8wPKIM",
    "outputId": "070dcb03-3cec-4347-c51c-ddc667f39490"
   },
   "outputs": [],
   "source": [
    "%%time\n",
    "# Built-in dot product.\n",
    "array_data.dot(array_data)"
   ]
  },
  {
   "cell_type": "code",
   "execution_count": null,
   "id": "bfbe02fb-809e-4678-96ce-cb690a225dc8",
   "metadata": {
    "colab": {
     "base_uri": "https://localhost:8080/"
    },
    "id": "Hvyqp_3aPKIN",
    "outputId": "dcc565b6-e9cb-4757-8982-5c317b05984b"
   },
   "outputs": [],
   "source": [
    "%%time\n",
    "fortran_dot_product(array_data, array_data)"
   ]
  },
  {
   "cell_type": "code",
   "execution_count": null,
   "id": "8426eab9-509f-4f08-bf79-591a056ed9da",
   "metadata": {
    "colab": {
     "base_uri": "https://localhost:8080/",
     "height": 180
    },
    "id": "Q12yQYuDPKIO",
    "outputId": "f55aa2b3-4b9f-4169-b9da-d8064fa31dec"
   },
   "outputs": [],
   "source": [
    "# Numpy won't allow us to write a string into an int array.\n",
    "data[0] = \"foo\""
   ]
  },
  {
   "cell_type": "code",
   "execution_count": null,
   "id": "5a1512eb-db6d-4f24-b973-4b55fe77d7ae",
   "metadata": {
    "colab": {
     "base_uri": "https://localhost:8080/",
     "height": 180
    },
    "id": "ycX_Ds3uPKIO",
    "outputId": "e8c94f05-975e-4aaf-e0da-71fc3b5a57b8"
   },
   "outputs": [],
   "source": [
    "# We also can't grow an array once it's created.\n",
    "data.append(3)"
   ]
  },
  {
   "cell_type": "code",
   "execution_count": 51,
   "id": "f1167444-02fc-4f87-9415-9b1e99ce0042",
   "metadata": {
    "colab": {
     "base_uri": "https://localhost:8080/"
    },
    "id": "eQQ3i7EZPKIO",
    "outputId": "9d1f6751-3dd1-4348-8993-7dbfec6d4605"
   },
   "outputs": [
    {
     "data": {
      "text/plain": [
       "array([[1, 2],\n",
       "       [3, 4]])"
      ]
     },
     "execution_count": 51,
     "metadata": {},
     "output_type": "execute_result"
    }
   ],
   "source": [
    "# We **can** reshape an array though.\n",
    "two_by_two = data.reshape(2, 2)\n",
    "two_by_two"
   ]
  },
  {
   "cell_type": "code",
   "execution_count": 52,
   "id": "bbe63ffb-b853-41c4-b9dd-1c36281575f4",
   "metadata": {
    "colab": {
     "base_uri": "https://localhost:8080/"
    },
    "id": "L5BVpPyxetwx",
    "outputId": "8df2eb8b-4b26-4c51-a946-805792c76fc0"
   },
   "outputs": [
    {
     "data": {
      "text/plain": [
       "array([[1, 3],\n",
       "       [5, 7]])"
      ]
     },
     "execution_count": 52,
     "metadata": {},
     "output_type": "execute_result"
    }
   ],
   "source": [
    "arr_dos = np.array([1, 3, 5, 7])\n",
    "arr_tres = arr_dos.reshape(2, 2)\n",
    "arr_tres"
   ]
  },
  {
   "cell_type": "markdown",
   "id": "9e2a53b4-1f13-4422-a1d0-8a16ef91e559",
   "metadata": {
    "id": "pnpmtji3PKIP"
   },
   "source": [
    "Numpy arrays are:\n",
    "\n",
    "- Fixed-type"
   ]
  },
  {
   "cell_type": "markdown",
   "id": "2763dbe7-4fe9-4ff6-b4d4-f8cfc0a49d46",
   "metadata": {
    "id": "KdEJ4OF0PKIP"
   },
   "source": [
    "- Size-immutable"
   ]
  },
  {
   "cell_type": "markdown",
   "id": "d72dbc00-ee79-43f6-809d-a7a3c315ce0c",
   "metadata": {
    "id": "11QcAD1YPKIP"
   },
   "source": [
    "- Multi-dimensional"
   ]
  },
  {
   "cell_type": "markdown",
   "id": "0dfc2b09-2c97-484d-9d79-80a38eec6406",
   "metadata": {
    "id": "ExL3WvDcPKIP"
   },
   "source": [
    "- Fast\\*"
   ]
  },
  {
   "cell_type": "markdown",
   "id": "781e755c-18f3-424d-b45e-7ff8ca4a2da2",
   "metadata": {
    "id": "8fB2ZVjGPKIP"
   },
   "source": [
    "\\* If you use them correctly."
   ]
  },
  {
   "cell_type": "markdown",
   "id": "89ee2414-da09-4bf4-b728-4eb92ff21207",
   "metadata": {
    "id": "KxwDKpDSPKIP"
   },
   "source": [
    "# What's in an Array?"
   ]
  },
  {
   "cell_type": "code",
   "execution_count": 54,
   "id": "e90ba41a-a9b2-4c80-a407-1e5033941f33",
   "metadata": {
    "colab": {
     "base_uri": "https://localhost:8080/"
    },
    "id": "s5O9VZTXPKIQ",
    "outputId": "3e79d378-c1fe-4854-d456-4ae6a8dc2b94"
   },
   "outputs": [
    {
     "name": "stdout",
     "output_type": "stream",
     "text": [
      "Array:\n",
      "[[1 2 3]\n",
      " [4 5 6]]\n",
      "===========\n",
      "DType: int16\n",
      "Shape: (2, 3)\n",
      "Strides: (6, 2)\n",
      "Data: b'\\x01\\x00\\x02\\x00\\x03\\x00\\x04\\x00\\x05\\x00\\x06\\x00'\n"
     ]
    }
   ],
   "source": [
    "arr = np.array([1, 2, 3, 4, 5, 6], dtype='int16').reshape(2, 3)\n",
    "print(\"Array:\\n\", arr, sep='')\n",
    "print(\"===========\")\n",
    "print(\"DType:\", arr.dtype)\n",
    "print(\"Shape:\", arr.shape)\n",
    "print(\"Strides:\", arr.strides)\n",
    "print(\"Data:\", arr.data.tobytes())"
   ]
  },
  {
   "cell_type": "markdown",
   "id": "7509c238-89e8-4d73-aa60-1248ee982593",
   "metadata": {
    "id": "onXROSF8PKIQ"
   },
   "source": [
    "# Core Operations\n",
    "\n",
    "- Vectorized **ufuncs** for elementwise operations.\n",
    "- Fancy indexing and masking for selection and filtering.\n",
    "- Aggregations across axes.\n",
    "- Broadcasting"
   ]
  },
  {
   "cell_type": "markdown",
   "id": "0d347269-e61b-41ec-aa7f-49402ff32b8d",
   "metadata": {
    "id": "8Ng0U_92PKIQ"
   },
   "source": [
    "# UFuncs\n",
    "\n",
    "UFuncs (universal functions) are functions that operate elementwise on one or more arrays."
   ]
  },
  {
   "cell_type": "code",
   "execution_count": 55,
   "id": "364a59e2-4534-484d-9925-36b9362f6def",
   "metadata": {
    "colab": {
     "base_uri": "https://localhost:8080/"
    },
    "id": "w6aFFpcIPKIQ",
    "outputId": "2c5e5051-2245-477d-c18b-8a902187c189"
   },
   "outputs": [
    {
     "data": {
      "text/plain": [
       "array([[ 0,  1,  2,  3,  4],\n",
       "       [ 5,  6,  7,  8,  9],\n",
       "       [10, 11, 12, 13, 14]])"
      ]
     },
     "execution_count": 55,
     "metadata": {},
     "output_type": "execute_result"
    }
   ],
   "source": [
    "data = np.arange(15).reshape(3, 5)\n",
    "data"
   ]
  },
  {
   "cell_type": "code",
   "execution_count": 57,
   "id": "6285c307-db44-4aeb-b114-d83421743bce",
   "metadata": {
    "colab": {
     "base_uri": "https://localhost:8080/"
    },
    "id": "67hk32UTgSLq",
    "outputId": "d99fac67-0e02-44cc-f8ba-2dac87d78379"
   },
   "outputs": [
    {
     "data": {
      "text/plain": [
       "array([[ 0,  1,  2],\n",
       "       [ 3,  4,  5],\n",
       "       [ 6,  7,  8],\n",
       "       [ 9, 10, 11]])"
      ]
     },
     "execution_count": 57,
     "metadata": {},
     "output_type": "execute_result"
    }
   ],
   "source": [
    "# MI EJEMPLO\n",
    "\n",
    "datos = np.arange(12).reshape(4,3)\n",
    "datos"
   ]
  },
  {
   "cell_type": "code",
   "execution_count": 58,
   "id": "6ebb5430-d54d-4d6a-8a60-53ccf107a859",
   "metadata": {
    "id": "VwpbkaSkPKIR",
    "outputId": "16a11419-c361-4d89-d6a3-af09d45340c6"
   },
   "outputs": [
    {
     "data": {
      "text/plain": [
       "array([[  0,   1,   4,   9,  16],\n",
       "       [ 25,  36,  49,  64,  81],\n",
       "       [100, 121, 144, 169, 196]])"
      ]
     },
     "execution_count": 58,
     "metadata": {},
     "output_type": "execute_result"
    }
   ],
   "source": [
    "# Binary operators.\n",
    "data * data"
   ]
  },
  {
   "cell_type": "code",
   "execution_count": 59,
   "id": "735ea822-8b67-4cde-97ad-69c2024bad3c",
   "metadata": {
    "colab": {
     "base_uri": "https://localhost:8080/"
    },
    "id": "Dc9pw1f8gbrR",
    "outputId": "00d24fe2-a11b-4493-9cce-074bd3b3bcaa"
   },
   "outputs": [
    {
     "data": {
      "text/plain": [
       "array([[  0,   1,   4],\n",
       "       [  9,  16,  25],\n",
       "       [ 36,  49,  64],\n",
       "       [ 81, 100, 121]])"
      ]
     },
     "execution_count": 59,
     "metadata": {},
     "output_type": "execute_result"
    }
   ],
   "source": [
    "# MI EJEMPLO\n",
    "\n",
    "datos * datos"
   ]
  },
  {
   "cell_type": "code",
   "execution_count": 60,
   "id": "8773937c-7ae8-492f-ba92-01731b426f83",
   "metadata": {
    "colab": {
     "base_uri": "https://localhost:8080/"
    },
    "id": "JRerBK8_PKIR",
    "outputId": "6e395a03-81bf-4c88-f92e-b202eae8e6df"
   },
   "outputs": [
    {
     "data": {
      "text/plain": [
       "array([[0.        , 1.        , 1.41421356, 1.73205081, 2.        ],\n",
       "       [2.23606798, 2.44948974, 2.64575131, 2.82842712, 3.        ],\n",
       "       [3.16227766, 3.31662479, 3.46410162, 3.60555128, 3.74165739]])"
      ]
     },
     "execution_count": 60,
     "metadata": {},
     "output_type": "execute_result"
    }
   ],
   "source": [
    "# Unary functions.\n",
    "np.sqrt(data)"
   ]
  },
  {
   "cell_type": "code",
   "execution_count": 61,
   "id": "2c39f94e-524d-4263-af06-fdfbd65a34c4",
   "metadata": {
    "colab": {
     "base_uri": "https://localhost:8080/"
    },
    "id": "NDarUJXIg9ts",
    "outputId": "72b60793-b16c-41a2-975d-d50a235a4643"
   },
   "outputs": [
    {
     "data": {
      "text/plain": [
       "array([[0.        , 1.        , 1.41421356],\n",
       "       [1.73205081, 2.        , 2.23606798],\n",
       "       [2.44948974, 2.64575131, 2.82842712],\n",
       "       [3.        , 3.16227766, 3.31662479]])"
      ]
     },
     "execution_count": 61,
     "metadata": {},
     "output_type": "execute_result"
    }
   ],
   "source": [
    "# MI EJEMPLO\n",
    "\n",
    "np.sqrt(datos)"
   ]
  },
  {
   "cell_type": "code",
   "execution_count": 62,
   "id": "2edb0c87-f133-453c-8124-52b206b78c3b",
   "metadata": {
    "id": "D4hfrZVTPKIR",
    "outputId": "e368242d-57b2-4c88-9225-2f7f88392aab"
   },
   "outputs": [
    {
     "data": {
      "text/plain": [
       "array([[ True, False, False,  True, False],\n",
       "       [False,  True, False, False,  True],\n",
       "       [False, False,  True, False, False]])"
      ]
     },
     "execution_count": 62,
     "metadata": {},
     "output_type": "execute_result"
    }
   ],
   "source": [
    "# Comparison operations\n",
    "(data % 3) == 0"
   ]
  },
  {
   "cell_type": "code",
   "execution_count": 63,
   "id": "58b018fd-fa35-4d92-a37a-2dbae914b18e",
   "metadata": {
    "colab": {
     "base_uri": "https://localhost:8080/"
    },
    "id": "GwNxnXZshC9h",
    "outputId": "6d22a0d8-cc41-4d94-e910-f5c7ad33e062"
   },
   "outputs": [
    {
     "data": {
      "text/plain": [
       "array([[ True, False,  True],\n",
       "       [False,  True, False],\n",
       "       [ True, False,  True],\n",
       "       [False,  True, False]])"
      ]
     },
     "execution_count": 63,
     "metadata": {},
     "output_type": "execute_result"
    }
   ],
   "source": [
    "# MI EJEMPLO\n",
    "\n",
    "datos % 2 == 0"
   ]
  },
  {
   "cell_type": "code",
   "execution_count": 64,
   "id": "a6b1873c-dd98-4b5c-ab95-18cb7d6996b2",
   "metadata": {
    "id": "SmqoV8kIPKIR",
    "outputId": "86623b2b-b69c-4444-ed0a-c9327b5c3312"
   },
   "outputs": [
    {
     "data": {
      "text/plain": [
       "array([[ True, False, False, False, False],\n",
       "       [False,  True, False, False, False],\n",
       "       [False, False,  True, False, False]])"
      ]
     },
     "execution_count": 64,
     "metadata": {},
     "output_type": "execute_result"
    }
   ],
   "source": [
    "# Boolean combinators.\n",
    "((data % 2) == 0) & ((data % 3) == 0)"
   ]
  },
  {
   "cell_type": "code",
   "execution_count": 65,
   "id": "2ddb6c0e-f2db-4bf5-928c-0a5be874f566",
   "metadata": {
    "colab": {
     "base_uri": "https://localhost:8080/"
    },
    "id": "pTA-hFCFhJMj",
    "outputId": "0f9b9c6b-8d0a-438b-e6a7-a742c9bc29be"
   },
   "outputs": [
    {
     "data": {
      "text/plain": [
       "array([[ True, False, False],\n",
       "       [False, False, False],\n",
       "       [False, False, False],\n",
       "       [False,  True, False]])"
      ]
     },
     "execution_count": 65,
     "metadata": {},
     "output_type": "execute_result"
    }
   ],
   "source": [
    "# MI EJEMPLO\n",
    "\n",
    "((datos % 2 == 0) & (datos % 5 == 0))"
   ]
  },
  {
   "cell_type": "code",
   "execution_count": 66,
   "id": "d71c001c-a2fa-45cc-8156-b5c3003ee1bf",
   "metadata": {
    "colab": {
     "base_uri": "https://localhost:8080/"
    },
    "id": "h99fXhc0PKIS",
    "outputId": "ab8e3d88-7773-44c7-8803-988a81caaa04"
   },
   "outputs": [
    {
     "data": {
      "text/plain": [
       "array([[ 30,  80, 130],\n",
       "       [ 80, 255, 430],\n",
       "       [130, 430, 730]])"
      ]
     },
     "execution_count": 66,
     "metadata": {},
     "output_type": "execute_result"
    }
   ],
   "source": [
    "# as of python 3.5, @ is matrix-multiply\n",
    "data @ data.T"
   ]
  },
  {
   "cell_type": "code",
   "execution_count": 67,
   "id": "7e946123-fec9-443d-81b2-61c00de3d537",
   "metadata": {
    "colab": {
     "base_uri": "https://localhost:8080/"
    },
    "id": "HwkzS36ShpEN",
    "outputId": "f9ef5937-5b22-493d-8cfe-254a12e40349"
   },
   "outputs": [
    {
     "data": {
      "text/plain": [
       "array([[  5,  14,  23,  32],\n",
       "       [ 14,  50,  86, 122],\n",
       "       [ 23,  86, 149, 212],\n",
       "       [ 32, 122, 212, 302]])"
      ]
     },
     "execution_count": 67,
     "metadata": {},
     "output_type": "execute_result"
    }
   ],
   "source": [
    "datos @ datos.T"
   ]
  },
  {
   "cell_type": "markdown",
   "id": "3a9c487e-93b8-42a5-8f49-85bb9e96d277",
   "metadata": {
    "id": "wOdiH0o6PKIS"
   },
   "source": [
    "# UFuncs Review\n",
    "\n",
    "- UFuncs provide efficient elementwise operations applied across one or more arrays.\n",
    "- Arithmetic Operators (`+`, `*`, `/`)\n",
    "- Comparisons (`==`, `>`, `!=`)\n",
    "- Boolean Operators (`&`, `|`, `^`)\n",
    "- Trigonometric Functions (`sin`, `cos`)\n",
    "- Transcendental Functions (`exp`, `log`)"
   ]
  },
  {
   "cell_type": "markdown",
   "id": "acdd2f16-a4e9-4258-938f-f7d4ee03ba7c",
   "metadata": {
    "id": "DW9yIHTJPKIT"
   },
   "source": [
    "# Selections"
   ]
  },
  {
   "cell_type": "markdown",
   "id": "bc2677bd-cb2e-47ab-85cf-1469b16f0880",
   "metadata": {
    "id": "f15ZHHxrPKIT"
   },
   "source": [
    "We often want to perform an operation on just a subset of our data."
   ]
  },
  {
   "cell_type": "code",
   "execution_count": 68,
   "id": "a41fcff1-2576-4376-bf52-3c544dbb7252",
   "metadata": {
    "colab": {
     "base_uri": "https://localhost:8080/"
    },
    "id": "vuaKFO88PKIT",
    "outputId": "c4126a1a-b4cd-4cb0-f199-cfefa963830a"
   },
   "outputs": [
    {
     "data": {
      "text/plain": [
       "array([0.        , 0.34185385, 0.64251645, 0.86575984, 0.98468459,\n",
       "       0.98496101, 0.8665558 , 0.64373604, 0.34335012, 0.00159265])"
      ]
     },
     "execution_count": 68,
     "metadata": {},
     "output_type": "execute_result"
    }
   ],
   "source": [
    "sines = np.sin(np.linspace(0, 3.14, 10))\n",
    "cosines = np.cos(np.linspace(0, 3.14, 10))\n",
    "sines"
   ]
  },
  {
   "cell_type": "code",
   "execution_count": 69,
   "id": "49444ecc-ad0e-428f-9874-4310dddcc52d",
   "metadata": {
    "id": "q9tH2AbJPKIT",
    "outputId": "8d724616-f3bf-420f-ac81-6198cb1635d3"
   },
   "outputs": [
    {
     "data": {
      "text/plain": [
       "0.0"
      ]
     },
     "execution_count": 69,
     "metadata": {},
     "output_type": "execute_result"
    }
   ],
   "source": [
    "# Slicing works with the same semantics as Python lists.\n",
    "sines[0]"
   ]
  },
  {
   "cell_type": "code",
   "execution_count": 70,
   "id": "b176424f-7699-4ea1-84a1-5c9844a2b8cc",
   "metadata": {
    "id": "FeEqglwPPKIU",
    "outputId": "c3a40cc2-ad7b-4ab5-94c4-e3211b15ccae"
   },
   "outputs": [
    {
     "data": {
      "text/plain": [
       "array([0.        , 0.34185385, 0.64251645])"
      ]
     },
     "execution_count": 70,
     "metadata": {},
     "output_type": "execute_result"
    }
   ],
   "source": [
    "sines[:3]  # First three elements  "
   ]
  },
  {
   "cell_type": "code",
   "execution_count": 71,
   "id": "a5a6dfbd-2712-41e7-ae6c-cbb764494a8e",
   "metadata": {
    "colab": {
     "base_uri": "https://localhost:8080/"
    },
    "id": "4e9LIQqhmFV8",
    "outputId": "38806700-c4a8-49b2-8821-b95e0fd4cf9d"
   },
   "outputs": [
    {
     "data": {
      "text/plain": [
       "array([0.        , 0.34185385])"
      ]
     },
     "execution_count": 71,
     "metadata": {},
     "output_type": "execute_result"
    }
   ],
   "source": [
    "# MI EJEMPLO\n",
    "\n",
    "sines[:2]"
   ]
  },
  {
   "cell_type": "code",
   "execution_count": 72,
   "id": "a33117c8-f53f-425f-8b7c-f4203a5863ca",
   "metadata": {
    "id": "IjvC9K3pPKIU",
    "outputId": "1c3552ab-6813-4c53-a333-b3911cd783b8"
   },
   "outputs": [
    {
     "data": {
      "text/plain": [
       "array([0.98496101, 0.8665558 , 0.64373604, 0.34335012, 0.00159265])"
      ]
     },
     "execution_count": 72,
     "metadata": {},
     "output_type": "execute_result"
    }
   ],
   "source": [
    "sines[5:]  # Elements from 5 on."
   ]
  },
  {
   "cell_type": "code",
   "execution_count": 73,
   "id": "4a18e95c-d9bc-4750-846b-acecfc4ef8d2",
   "metadata": {
    "id": "JGF46UaePKIU",
    "outputId": "17b041e1-6b06-41f4-af25-720139970531"
   },
   "outputs": [
    {
     "data": {
      "text/plain": [
       "array([0.        , 0.64251645, 0.98468459, 0.8665558 , 0.34335012])"
      ]
     },
     "execution_count": 73,
     "metadata": {},
     "output_type": "execute_result"
    }
   ],
   "source": [
    "sines[::2]  # Every other element."
   ]
  },
  {
   "cell_type": "code",
   "execution_count": 74,
   "id": "0ac1b3f0-538b-4221-942c-178f0e658460",
   "metadata": {
    "id": "KAjwq5yWPKIU",
    "outputId": "768aa95b-a01e-4db0-ad35-41032eb41d6a"
   },
   "outputs": [
    {
     "name": "stdout",
     "output_type": "stream",
     "text": [
      "sines:\n",
      " [0.         0.34185385 0.64251645 0.86575984 0.98468459 0.98496101\n",
      " 0.8665558  0.64373604 0.34335012 0.00159265]\n",
      "sines > 0.5:\n",
      " [False False  True  True  True  True  True  True False False]\n",
      "sines[sines > 0.5]:\n",
      " [0.64251645 0.86575984 0.98468459 0.98496101 0.8665558  0.64373604]\n"
     ]
    }
   ],
   "source": [
    "# More interesting: we can index with boolean arrays to filter by a predicate.\n",
    "print(\"sines:\\n\", sines)\n",
    "print(\"sines > 0.5:\\n\", sines > 0.5)\n",
    "print(\"sines[sines > 0.5]:\\n\", sines[sines > 0.5])"
   ]
  },
  {
   "cell_type": "code",
   "execution_count": 75,
   "id": "f26e3682-82a2-4a5b-be9d-94bec5710f93",
   "metadata": {
    "colab": {
     "base_uri": "https://localhost:8080/"
    },
    "id": "_rlloMJTmKKp",
    "outputId": "81ae5c9f-ff28-4761-e63f-8314352e2a90"
   },
   "outputs": [
    {
     "name": "stdout",
     "output_type": "stream",
     "text": [
      "Sines < 0.8:  [0.         0.34185385 0.64251645 0.64373604 0.34335012 0.00159265]\n"
     ]
    }
   ],
   "source": [
    "# MI EJEMPLO\n",
    "\n",
    "print('Sines < 0.8: ', sines[sines < 0.8])"
   ]
  },
  {
   "cell_type": "code",
   "execution_count": 76,
   "id": "e54d9459-8f42-4df5-9127-864ad5f66cf2",
   "metadata": {
    "id": "5zmS3KmyPKIV",
    "outputId": "2eb4457c-979d-4a43-f1c7-7e1cab1775f7"
   },
   "outputs": [
    {
     "name": "stdout",
     "output_type": "stream",
     "text": [
      "[0.         0.34185385 0.64251645 0.86575984 0.98468459 0.98496101\n",
      " 0.8665558  0.64373604 0.34335012 0.00159265]\n"
     ]
    },
    {
     "data": {
      "text/plain": [
       "array([0.        , 0.98468459, 0.64373604])"
      ]
     },
     "execution_count": 76,
     "metadata": {},
     "output_type": "execute_result"
    }
   ],
   "source": [
    "# We index with lists/arrays of integers to select values at those indices.\n",
    "print(sines)\n",
    "sines[[0, 4, 7]]"
   ]
  },
  {
   "cell_type": "code",
   "execution_count": 77,
   "id": "f4c9ea22-2ea1-46ef-a0a0-942a92cf5e39",
   "metadata": {
    "id": "uet1BRW8PKIV"
   },
   "outputs": [],
   "source": [
    "# Index arrays are often used for sorting one or more arrays.\n",
    "unsorted_data = np.array([1, 3, 2, 12, -1, 5, 2])"
   ]
  },
  {
   "cell_type": "code",
   "execution_count": 79,
   "id": "866c2ca6-48c3-40c9-80a0-ed38fc249f0b",
   "metadata": {
    "colab": {
     "base_uri": "https://localhost:8080/"
    },
    "id": "UgXPLfmPm30m",
    "outputId": "56c10b16-5565-494d-ad04-8318ac77103f"
   },
   "outputs": [
    {
     "data": {
      "text/plain": [
       "array([6, 1, 0, 3, 7, 2, 5, 4])"
      ]
     },
     "execution_count": 79,
     "metadata": {},
     "output_type": "execute_result"
    }
   ],
   "source": [
    "# MI EJEMPLO\n",
    "\n",
    "datosDesordenados = np.array([2, 1, 5, 3, 6, 5, -3, 3])\n",
    "datosOrdenados = np.argsort(datosDesordenados)\n",
    "datosOrdenados"
   ]
  },
  {
   "cell_type": "code",
   "execution_count": 80,
   "id": "4c9a6963-14b4-45fa-84a5-7a3ace619f74",
   "metadata": {
    "id": "Lu6sSGMFPKIV",
    "outputId": "d107dac8-1b66-4fdf-a156-b23e76446e04"
   },
   "outputs": [
    {
     "data": {
      "text/plain": [
       "array([4, 0, 2, 6, 1, 5, 3])"
      ]
     },
     "execution_count": 80,
     "metadata": {},
     "output_type": "execute_result"
    }
   ],
   "source": [
    "sort_indices = np.argsort(unsorted_data)\n",
    "sort_indices"
   ]
  },
  {
   "cell_type": "code",
   "execution_count": 81,
   "id": "e11ecb3b-185b-44af-aee6-1430a66fdebd",
   "metadata": {
    "id": "sGeH2eVAPKIV",
    "outputId": "25147a68-e46e-4097-ddf2-43c81ca7ba52"
   },
   "outputs": [
    {
     "data": {
      "text/plain": [
       "array([-1,  1,  2,  2,  3,  5, 12])"
      ]
     },
     "execution_count": 81,
     "metadata": {},
     "output_type": "execute_result"
    }
   ],
   "source": [
    "unsorted_data[sort_indices]"
   ]
  },
  {
   "cell_type": "code",
   "execution_count": 82,
   "id": "f75a35b6-eb23-4f35-bfb8-6fdea62b06cd",
   "metadata": {
    "id": "fPM3L7eVPKIW"
   },
   "outputs": [],
   "source": [
    "market_caps = np.array([12, 6, 10, 5, 6])  # Presumably in dollars?\n",
    "assets = np.array(['A', 'B', 'C', 'D', 'E'])"
   ]
  },
  {
   "cell_type": "code",
   "execution_count": 83,
   "id": "80807f05-f1fd-46fc-bdc0-fbe48fa04145",
   "metadata": {
    "id": "px3fzhizPKIW",
    "outputId": "cfc792b1-e7ef-45a7-a8bd-9feab6e06faa"
   },
   "outputs": [
    {
     "data": {
      "text/plain": [
       "array(['D', 'B', 'E', 'C', 'A'], dtype='<U1')"
      ]
     },
     "execution_count": 83,
     "metadata": {},
     "output_type": "execute_result"
    }
   ],
   "source": [
    "# Sort assets by market cap by using the permutation that would sort market caps on ``assets``.\n",
    "sort_by_mcap = np.argsort(market_caps)\n",
    "assets[sort_by_mcap]"
   ]
  },
  {
   "cell_type": "code",
   "execution_count": 84,
   "id": "1b636d10-d38e-4bcd-b671-1ec3bcb3db9d",
   "metadata": {
    "id": "dyypGxuxPKIW",
    "outputId": "8fdb776e-504f-4d4f-cba1-7a94b95f92c5",
    "scrolled": true
   },
   "outputs": [
    {
     "name": "stdout",
     "output_type": "stream",
     "text": [
      "Dates:\n",
      " array(['2017-01-06', '2017-01-07', '2017-01-08'], dtype='datetime64[D]')\n",
      "Values:\n",
      " array([10, 15, 20])\n",
      "Calendar:\n",
      " array(['2017-01-03', '2017-01-04', '2017-01-05', '2017-01-06',\n",
      "       '2017-01-09', '2017-01-10', '2017-01-11', '2017-01-12',\n",
      "       '2017-01-13', '2017-01-17', '2017-01-18', '2017-01-19',\n",
      "       '2017-01-20', '2017-01-23', '2017-01-24', '2017-01-25',\n",
      "       '2017-01-26', '2017-01-27', '2017-01-30', '2017-01-31',\n",
      "       '2017-02-01'], dtype='datetime64[D]')\n"
     ]
    }
   ],
   "source": [
    "# Indexers are also useful for aligning data.\n",
    "print(\"Dates:\\n\", repr(event_dates))\n",
    "print(\"Values:\\n\", repr(event_values))\n",
    "print(\"Calendar:\\n\", repr(calendar))"
   ]
  },
  {
   "cell_type": "code",
   "execution_count": 85,
   "id": "df93ffdd-c071-4e72-86a3-6e4ab538839f",
   "metadata": {
    "id": "VemDkIKEPKIW",
    "outputId": "0c544297-90b0-4e2b-d75f-91e242c3edda"
   },
   "outputs": [
    {
     "name": "stdout",
     "output_type": "stream",
     "text": [
      "Raw Dates: ['2017-01-06' '2017-01-07' '2017-01-08']\n",
      "Indices: [3 4 4]\n",
      "Forward-Filled Dates: ['2017-01-06' '2017-01-09' '2017-01-09']\n"
     ]
    }
   ],
   "source": [
    "print(\"Raw Dates:\", event_dates)\n",
    "print(\"Indices:\", calendar.searchsorted(event_dates))\n",
    "print(\"Forward-Filled Dates:\", calendar[calendar.searchsorted(event_dates)])"
   ]
  },
  {
   "cell_type": "markdown",
   "id": "56fd7a29-1493-47ea-a2db-7d83f9eb1224",
   "metadata": {
    "id": "j-wRpZcfPKIW"
   },
   "source": [
    "On multi-dimensional arrays, we can slice along each axis independently."
   ]
  },
  {
   "cell_type": "code",
   "execution_count": 86,
   "id": "f3376c0e-2885-45e3-b6a4-9363b1384845",
   "metadata": {
    "id": "E9WxuWYAPKIX",
    "outputId": "ba3b049e-26d9-4073-ccbb-95d5758d6827"
   },
   "outputs": [
    {
     "data": {
      "text/plain": [
       "array([[ 0,  1,  2,  3,  4],\n",
       "       [ 5,  6,  7,  8,  9],\n",
       "       [10, 11, 12, 13, 14],\n",
       "       [15, 16, 17, 18, 19],\n",
       "       [20, 21, 22, 23, 24]])"
      ]
     },
     "execution_count": 86,
     "metadata": {},
     "output_type": "execute_result"
    }
   ],
   "source": [
    "data = np.arange(25).reshape(5, 5)\n",
    "data"
   ]
  },
  {
   "cell_type": "code",
   "execution_count": 87,
   "id": "ed926481-3d9c-425c-99d3-289018ca811d",
   "metadata": {
    "id": "5Tx2YF8LPKIX",
    "outputId": "f6d27a8a-6798-49ca-a48e-0b7e2fc32a11"
   },
   "outputs": [
    {
     "data": {
      "text/plain": [
       "array([[0, 1],\n",
       "       [5, 6]])"
      ]
     },
     "execution_count": 87,
     "metadata": {},
     "output_type": "execute_result"
    }
   ],
   "source": [
    "data[:2, :2]  # First two rows and first two columns."
   ]
  },
  {
   "cell_type": "code",
   "execution_count": 88,
   "id": "c5ec691a-3c15-4a32-9769-0bf91064587d",
   "metadata": {
    "id": "qvuLHwmhPKIX",
    "outputId": "923d9076-b5e9-4c7c-8233-651e1f4c1104"
   },
   "outputs": [
    {
     "data": {
      "text/plain": [
       "array([[0, 4],\n",
       "       [5, 9]])"
      ]
     },
     "execution_count": 88,
     "metadata": {},
     "output_type": "execute_result"
    }
   ],
   "source": [
    "data[:2, [0, -1]]  # First two rows, first and last columns."
   ]
  },
  {
   "cell_type": "code",
   "execution_count": 89,
   "id": "e6695131-703e-4e62-b0fc-4be5c923627b",
   "metadata": {
    "id": "4f6cpk5vPKIX",
    "outputId": "74e5e33c-c0d0-4e02-ae91-911abc6bee17"
   },
   "outputs": [
    {
     "data": {
      "text/plain": [
       "array([[ 0,  1,  2,  3,  4],\n",
       "       [10, 11, 12, 13, 14],\n",
       "       [20, 21, 22, 23, 24]])"
      ]
     },
     "execution_count": 89,
     "metadata": {},
     "output_type": "execute_result"
    }
   ],
   "source": [
    "data[(data[:, 0] % 2) == 0]  # Rows where the first column is divisible by two."
   ]
  },
  {
   "cell_type": "markdown",
   "id": "aeffcd00-650f-4178-9c14-2eed319829e9",
   "metadata": {
    "id": "Pfxzzq1hPKIY"
   },
   "source": [
    "# Selections Review\n",
    "\n",
    "- Indexing with an integer removes a dimension.\n",
    "- Slicing operations work on Numpy arrays the same way they do on lists.\n",
    "- Indexing with a boolean array filters to True locations.\n",
    "- Indexing with an integer array selects indices along an axis.\n",
    "- Multidimensional arrays can apply selections independently along different axes."
   ]
  },
  {
   "cell_type": "markdown",
   "id": "03e3fbe4-d7cb-483d-b5e1-9f85c00ce35c",
   "metadata": {
    "id": "cQNstAQyPKIY"
   },
   "source": [
    "## Reductions\n",
    "\n",
    "Functions that reduce an array to a scalar."
   ]
  },
  {
   "cell_type": "markdown",
   "id": "0ac0c5c6-476e-4bd5-b76a-23deafc39d6b",
   "metadata": {
    "id": "vpfzbnxhPKIY"
   },
   "source": [
    "$Var(X) = \\frac{1}{N}\\sqrt{\\sum_{i=1}^N (x_i - \\bar{x})^2}$"
   ]
  },
  {
   "cell_type": "code",
   "execution_count": 90,
   "id": "a2f9f5df-31eb-4455-96c5-955b485e704c",
   "metadata": {
    "id": "1b8Ev3eXPKIY"
   },
   "outputs": [],
   "source": [
    "def variance(x):\n",
    "    return ((x - x.mean()) ** 2).sum() / len(x)"
   ]
  },
  {
   "cell_type": "code",
   "execution_count": 91,
   "id": "a2eb45b8-bfa1-412b-a48b-900361ce4823",
   "metadata": {
    "id": "0vGJ-xv0PKIY",
    "outputId": "cf3e99bd-52e8-46d2-bd3e-8c75ef9e4971"
   },
   "outputs": [
    {
     "data": {
      "text/plain": [
       "1.1139399885821069"
      ]
     },
     "execution_count": 91,
     "metadata": {},
     "output_type": "execute_result"
    }
   ],
   "source": [
    "variance(np.random.standard_normal(1000))"
   ]
  },
  {
   "cell_type": "markdown",
   "id": "f6318d13-dd5e-4a3c-8e27-74e181b42e87",
   "metadata": {
    "id": "ftyQJ_z6PKIY"
   },
   "source": [
    "- `sum()` and `mean()` are both **reductions**."
   ]
  },
  {
   "cell_type": "markdown",
   "id": "385dfdab-ec28-452b-85f2-8a51f0f8bb57",
   "metadata": {
    "id": "-pCxCUhGPKIZ"
   },
   "source": [
    "- In the simplest case, we use these to reduce an entire array into a single value..."
   ]
  },
  {
   "cell_type": "code",
   "execution_count": 92,
   "id": "e123d926-d674-44e5-8c7a-89312dac494b",
   "metadata": {
    "id": "_bqPNDtzPKIZ",
    "outputId": "1016cf96-cdfa-4ac2-f255-3a7b0c82b9f1"
   },
   "outputs": [
    {
     "data": {
      "text/plain": [
       "14.5"
      ]
     },
     "execution_count": 92,
     "metadata": {},
     "output_type": "execute_result"
    }
   ],
   "source": [
    "data = np.arange(30)\n",
    "data.mean()"
   ]
  },
  {
   "cell_type": "code",
   "execution_count": 93,
   "id": "b1b619db-00fa-4386-8e39-3f9a3ef396ea",
   "metadata": {
    "colab": {
     "base_uri": "https://localhost:8080/"
    },
    "id": "Hhv82JkbnRnt",
    "outputId": "ad7e7980-8a55-432e-b095-40fa8b8b15fa"
   },
   "outputs": [
    {
     "data": {
      "text/plain": [
       "11.0"
      ]
     },
     "execution_count": 93,
     "metadata": {},
     "output_type": "execute_result"
    }
   ],
   "source": [
    "# MI EJEMPLO\n",
    "\n",
    "datos = np.arange(23)\n",
    "datos.mean()"
   ]
  },
  {
   "cell_type": "markdown",
   "id": "c9467c03-e224-42e3-98d5-7565e0c5fddd",
   "metadata": {
    "id": "WvAtGo_gPKIZ"
   },
   "source": [
    "- ...but we can do more interesting things with multi-dimensional arrays."
   ]
  },
  {
   "cell_type": "code",
   "execution_count": 94,
   "id": "68f20408-3b5f-459d-afbd-a023ba33cdc4",
   "metadata": {
    "id": "sm7Q4NnbPKIZ",
    "outputId": "02620250-4a70-4115-e17e-00c60cf9252e"
   },
   "outputs": [
    {
     "data": {
      "text/plain": [
       "array([[ 0,  1,  2,  3,  4,  5,  6,  7,  8,  9],\n",
       "       [10, 11, 12, 13, 14, 15, 16, 17, 18, 19],\n",
       "       [20, 21, 22, 23, 24, 25, 26, 27, 28, 29]])"
      ]
     },
     "execution_count": 94,
     "metadata": {},
     "output_type": "execute_result"
    }
   ],
   "source": [
    "data = np.arange(30).reshape(3, 10)\n",
    "data"
   ]
  },
  {
   "cell_type": "code",
   "execution_count": 96,
   "id": "d1e28025-5c48-4e74-b8d3-56ec226cae27",
   "metadata": {
    "colab": {
     "base_uri": "https://localhost:8080/"
    },
    "id": "BgYI7KAenrrk",
    "outputId": "4f8a6b42-f0bb-4567-8a66-160d90119c0e"
   },
   "outputs": [
    {
     "data": {
      "text/plain": [
       "array([[ 0,  1,  2,  3,  4,  5,  6,  7,  8,  9],\n",
       "       [10, 11, 12, 13, 14, 15, 16, 17, 18, 19]])"
      ]
     },
     "execution_count": 96,
     "metadata": {},
     "output_type": "execute_result"
    }
   ],
   "source": [
    "# MI EJEMPLO\n",
    "\n",
    "datos = np.arange(20).reshape(2, 10)\n",
    "datos"
   ]
  },
  {
   "cell_type": "code",
   "execution_count": 97,
   "id": "29ed54a3-bcba-404d-ab2f-7077de52f3be",
   "metadata": {
    "id": "ULAFIlk5PKIa",
    "outputId": "aa68a2a8-9a5a-40e2-b624-4ecf3614518d"
   },
   "outputs": [
    {
     "data": {
      "text/plain": [
       "14.5"
      ]
     },
     "execution_count": 97,
     "metadata": {},
     "output_type": "execute_result"
    }
   ],
   "source": [
    "data.mean()"
   ]
  },
  {
   "cell_type": "code",
   "execution_count": 98,
   "id": "5227c3a9-235c-487f-8fbc-f62e5f3aa417",
   "metadata": {
    "colab": {
     "base_uri": "https://localhost:8080/"
    },
    "id": "K2g1gd53n2wd",
    "outputId": "96f99bd8-0a4a-4299-a715-b0cf4be68686"
   },
   "outputs": [
    {
     "data": {
      "text/plain": [
       "9.5"
      ]
     },
     "execution_count": 98,
     "metadata": {},
     "output_type": "execute_result"
    }
   ],
   "source": [
    "# MI EJEMPLO\n",
    "\n",
    "datos.mean()"
   ]
  },
  {
   "cell_type": "code",
   "execution_count": 99,
   "id": "d910dfd0-52e8-4819-9139-f7b3b2c7fda1",
   "metadata": {
    "id": "jD-s_XxXPKIa",
    "outputId": "09457189-c437-4da9-dda2-89b6d62ca00c"
   },
   "outputs": [
    {
     "data": {
      "text/plain": [
       "array([10., 11., 12., 13., 14., 15., 16., 17., 18., 19.])"
      ]
     },
     "execution_count": 99,
     "metadata": {},
     "output_type": "execute_result"
    }
   ],
   "source": [
    "data.mean(axis=0)"
   ]
  },
  {
   "cell_type": "code",
   "execution_count": 100,
   "id": "b0f8ed43-f069-49e8-9c6d-731045903c75",
   "metadata": {
    "colab": {
     "base_uri": "https://localhost:8080/"
    },
    "id": "KRi5tO3YoK69",
    "outputId": "6383008e-1de6-45c9-8b1b-8bf8bafd7229"
   },
   "outputs": [
    {
     "data": {
      "text/plain": [
       "array([ 4.5, 14.5])"
      ]
     },
     "execution_count": 100,
     "metadata": {},
     "output_type": "execute_result"
    }
   ],
   "source": [
    "# MI EJEMPLO\n",
    "\n",
    "datos.mean(axis = 1)"
   ]
  },
  {
   "cell_type": "code",
   "execution_count": 101,
   "id": "26835492-6063-4ae0-a167-fada4a05f517",
   "metadata": {
    "id": "6fn35BZQPKIa",
    "outputId": "ce4d3602-869b-4b8b-bf7e-769b65195b95"
   },
   "outputs": [
    {
     "data": {
      "text/plain": [
       "array([ 4.5, 14.5, 24.5])"
      ]
     },
     "execution_count": 101,
     "metadata": {},
     "output_type": "execute_result"
    }
   ],
   "source": [
    "data.mean(axis=1)"
   ]
  },
  {
   "cell_type": "markdown",
   "id": "221848a6-9f72-4a4e-8524-8a4861225bb5",
   "metadata": {
    "id": "FwTxZsIsPKIb"
   },
   "source": [
    "## Reductions Review\n",
    "\n",
    "- Reductions allow us to perform efficient aggregations over arrays.\n",
    "- We can do aggregations over a single axis to collapse a single dimension.\n",
    "- Many built-in reductions (`mean`, `sum`, `min`, `max`, `median`, ...)."
   ]
  },
  {
   "cell_type": "markdown",
   "id": "d64ee1dc-d9fb-4686-9e04-f38a9cfe9212",
   "metadata": {
    "id": "MV8Och44PKIb"
   },
   "source": [
    "# Broadcasting"
   ]
  },
  {
   "cell_type": "code",
   "execution_count": 102,
   "id": "4630d368-279e-49ac-adfa-c3c78d64a861",
   "metadata": {
    "id": "08XdyUzIPKIb",
    "outputId": "e17af15d-3518-48e9-892e-cce591497dc9",
    "tags": []
   },
   "outputs": [
    {
     "name": "stdout",
     "output_type": "stream",
     "text": [
      "Row:\n",
      "[1 2 3 4]\n",
      "Column:\n",
      "[[1]\n",
      " [2]\n",
      " [3]]\n"
     ]
    }
   ],
   "source": [
    "row = np.array([1, 2, 3, 4])\n",
    "column = np.array([[1], [2], [3]])\n",
    "print(\"Row:\\n\", row, sep='')\n",
    "print(\"Column:\\n\", column, sep='')"
   ]
  },
  {
   "cell_type": "code",
   "execution_count": 103,
   "id": "d6ccfa4e-d012-44d2-a868-bcc628b3bf18",
   "metadata": {
    "colab": {
     "base_uri": "https://localhost:8080/"
    },
    "id": "41N1OUdMoeJ9",
    "outputId": "2b85f444-3b80-48af-ba60-ffc298bfd3e1"
   },
   "outputs": [
    {
     "name": "stdout",
     "output_type": "stream",
     "text": [
      "Row:\n",
      "[1 2 3 4]\n",
      "Column:\n",
      "[[1]\n",
      " [2]\n",
      " [3]]\n"
     ]
    }
   ],
   "source": [
    "# MI EJEMPLO\n",
    "\n",
    "f = np.array([2,4,5,1,54,])\n",
    "c = np.array([[1], [2], [3]])\n",
    "print(\"Row:\\n\", row, sep='')\n",
    "print(\"Column:\\n\", column, sep='')"
   ]
  },
  {
   "cell_type": "code",
   "execution_count": 104,
   "id": "f8056d7e-454e-4a25-b31c-9f27fbcb09df",
   "metadata": {
    "colab": {
     "base_uri": "https://localhost:8080/"
    },
    "id": "31fH383JPKIc",
    "outputId": "dc336c93-b14d-473c-97f9-9ac39155a216"
   },
   "outputs": [
    {
     "data": {
      "text/plain": [
       "array([[2, 3, 4, 5],\n",
       "       [3, 4, 5, 6],\n",
       "       [4, 5, 6, 7]])"
      ]
     },
     "execution_count": 104,
     "metadata": {},
     "output_type": "execute_result"
    }
   ],
   "source": [
    "row + column"
   ]
  },
  {
   "cell_type": "code",
   "execution_count": 105,
   "id": "fe8a3585-166a-4fdf-a744-18199d879af1",
   "metadata": {},
   "outputs": [
    {
     "data": {
      "text/plain": [
       "array([[ 3,  5,  6,  2, 55],\n",
       "       [ 4,  6,  7,  3, 56],\n",
       "       [ 5,  7,  8,  4, 57]])"
      ]
     },
     "execution_count": 105,
     "metadata": {},
     "output_type": "execute_result"
    }
   ],
   "source": [
    "# MI EJEMPLO\n",
    "\n",
    "f + c"
   ]
  },
  {
   "cell_type": "markdown",
   "id": "69af362b-c105-41ca-9e2c-c0595b2d5f5f",
   "metadata": {
    "id": "AazujdGXPKIc"
   },
   "source": [
    "<center><img src=\"images/broadcasting.png\" alt=\"Drawing\" style=\"width: 60%;\"/></center>\n",
    "\n",
    "<h5>Source: http://www.scipy-lectures.org/_images/numpy_broadcasting.png</h5>"
   ]
  },
  {
   "cell_type": "code",
   "execution_count": 106,
   "id": "c8ae31f3-e7c4-453e-bcd5-711b52b1ad9d",
   "metadata": {
    "id": "7hM5_XQDPKIc",
    "outputId": "5be0a6a6-7258-4224-92dc-fdc249a1bf42"
   },
   "outputs": [
    {
     "name": "stdout",
     "output_type": "stream",
     "text": [
      "Data:\n",
      "[[ 0  1  2  3  4  5  6  7  8  9]\n",
      " [10 11 12 13 14 15 16 17 18 19]\n",
      " [20 21 22 23 24 25 26 27 28 29]]\n",
      "Mean:\n",
      "[10. 11. 12. 13. 14. 15. 16. 17. 18. 19.]\n",
      "Data - Mean:\n",
      "[[-10. -10. -10. -10. -10. -10. -10. -10. -10. -10.]\n",
      " [  0.   0.   0.   0.   0.   0.   0.   0.   0.   0.]\n",
      " [ 10.  10.  10.  10.  10.  10.  10.  10.  10.  10.]]\n"
     ]
    }
   ],
   "source": [
    "# Broadcasting is particularly useful in conjunction with reductions.\n",
    "print(\"Data:\\n\", data, sep='')\n",
    "print(\"Mean:\\n\", data.mean(axis=0), sep='')\n",
    "print(\"Data - Mean:\\n\", data - data.mean(axis=0), sep='')"
   ]
  },
  {
   "cell_type": "markdown",
   "id": "676147b7-3c05-4365-b0c3-ff8034563d8b",
   "metadata": {
    "id": "t14GElOkPKId"
   },
   "source": [
    "# Broadcasting Review\n",
    "\n",
    "- Numpy operations can work on arrays of different dimensions as long as the arrays' shapes are still \"compatible\".\n",
    "- Broadcasting works by \"tiling\" the smaller array along the missing dimension.\n",
    "- The result of a broadcasted operation is always at least as large in each dimension as the largest array in that dimension."
   ]
  },
  {
   "cell_type": "markdown",
   "id": "a833b950-8c90-49d8-aa8d-36942ef21c2e",
   "metadata": {
    "id": "KJ_fZ7PyPKId"
   },
   "source": [
    "# Numpy Review"
   ]
  },
  {
   "cell_type": "markdown",
   "id": "3e2b9a5f-b29a-45a9-b357-a8facc3b9281",
   "metadata": {
    "id": "ZlhbyZxZPKId"
   },
   "source": [
    "- Numerical algorithms are slow in pure Python because the overhead dynamic dispatch dominates our runtime."
   ]
  },
  {
   "cell_type": "markdown",
   "id": "69afad7e-4849-4d5a-bc04-7f836fdf6b16",
   "metadata": {
    "id": "auxgFCK2PKId"
   },
   "source": [
    "- Numpy solves this problem by:\n",
    "  1. Imposing additional restrictions on the contents of arrays.\n",
    "  2. Moving the inner loops of our algorithms into compiled C code."
   ]
  },
  {
   "cell_type": "markdown",
   "id": "10423316-a656-4baf-bb55-6cd7cd43b232",
   "metadata": {
    "id": "xi9H-ufwPKId"
   },
   "source": [
    "- Using Numpy effectively often requires reworking an algorithms to use vectorized operations instead of for-loops, but the resulting operations are usually simpler, clearer, and faster than the pure Python equivalent."
   ]
  },
  {
   "cell_type": "markdown",
   "id": "5c755273-fb2e-4db8-95f9-8d3fe37a890b",
   "metadata": {
    "id": "DFkZeJE_PKIe"
   },
   "source": [
    "<center><img src=\"images/unicorn.jpg\" alt=\"Drawing\" style=\"width: 75%;\"/></center>"
   ]
  },
  {
   "cell_type": "markdown",
   "id": "2042d6fb-52bc-4853-9b7c-8ee0848c620a",
   "metadata": {
    "id": "1ymD0eTBPKIe"
   },
   "source": [
    "Numpy is great for many things, but..."
   ]
  },
  {
   "cell_type": "markdown",
   "id": "d879b772-2fa8-4b51-a54a-d38f13a72d26",
   "metadata": {
    "id": "xy6pL3lrPKIe"
   },
   "source": [
    "- Sometimes our data is equipped with a natural set of **labels**:\n",
    "  - Dates/Times\n",
    "  - Stock Tickers\n",
    "  - Field Names (e.g. Open/High/Low/Close)"
   ]
  },
  {
   "cell_type": "markdown",
   "id": "895d97ce-ef31-4077-be07-c49a4e23f23f",
   "metadata": {
    "id": "Wvn56F4kPKIe"
   },
   "source": [
    "- Sometimes we have **more than one type of data** that we want to keep grouped together.\n",
    "  - Tables with a mix of real-valued and categorical data."
   ]
  },
  {
   "cell_type": "markdown",
   "id": "20738ebc-aa43-4a94-87b5-d94cd2d74d6e",
   "metadata": {
    "id": "E8anxk34PKIe"
   },
   "source": [
    "- Sometimes we have **missing** data, which we need to ignore, fill, or otherwise work around."
   ]
  },
  {
   "cell_type": "markdown",
   "id": "ec3c57dd-bdf6-4c36-8c88-e2ade61fefd8",
   "metadata": {
    "id": "aozGmqR4PKIe"
   },
   "source": [
    "<center><img src=\"images/panda-wrangling.gif\" alt=\"Drawing\" style=\"width: 75%;\"/></center>"
   ]
  },
  {
   "cell_type": "markdown",
   "id": "48141e8d-bb25-4fbc-a823-ba66bb560c0e",
   "metadata": {
    "id": "4KRygWlxPKIf"
   },
   "source": [
    "<center><img src=\"images/pandas_logo.png\" alt=\"Drawing\" style=\"width: 75%;\"/></center>\n"
   ]
  },
  {
   "cell_type": "markdown",
   "id": "433ba9e1-602f-4eab-a601-5c060025a65c",
   "metadata": {
    "id": "sf69fWv4PKIf"
   },
   "source": [
    "Pandas extends Numpy with more complex data structures:\n",
    "\n",
    "- `Series`: 1-dimensional, homogenously-typed, labelled array.\n",
    "- `DataFrame`: 2-dimensional, semi-homogenous, labelled table."
   ]
  },
  {
   "cell_type": "markdown",
   "id": "e9f3e535-1510-4519-9ff0-391ab36941b3",
   "metadata": {
    "id": "FeHNIYxxPKIf"
   },
   "source": [
    "Pandas also provides many utilities for: \n",
    "- Input/Output\n",
    "- Data Cleaning\n",
    "- Rolling Algorithms\n",
    "- Plotting"
   ]
  },
  {
   "cell_type": "markdown",
   "id": "039c6b6f-0ef9-44d2-831b-29caf91a95b8",
   "metadata": {
    "id": "Co-dOPbIPKIf"
   },
   "source": [
    "# Selection in Pandas"
   ]
  },
  {
   "cell_type": "code",
   "execution_count": 107,
   "id": "4f979718-ceb7-49fd-a9d7-903a0aa67a80",
   "metadata": {
    "colab": {
     "base_uri": "https://localhost:8080/"
    },
    "id": "uLS712uvPKIf",
    "outputId": "a7ed585a-db9e-4362-bcb2-57ae9a34c734"
   },
   "outputs": [
    {
     "data": {
      "text/plain": [
       "a    1\n",
       "b    2\n",
       "c    3\n",
       "d    4\n",
       "e    5\n",
       "dtype: int64"
      ]
     },
     "execution_count": 107,
     "metadata": {},
     "output_type": "execute_result"
    }
   ],
   "source": [
    "s = pd.Series(index=['a', 'b', 'c', 'd', 'e'], data=[1, 2, 3, 4, 5])\n",
    "s"
   ]
  },
  {
   "cell_type": "code",
   "execution_count": 108,
   "id": "6bc5db78-d92f-431b-8e39-8d7e707cf470",
   "metadata": {
    "colab": {
     "base_uri": "https://localhost:8080/"
    },
    "id": "28panKiur0Fk",
    "jupyter": {
     "source_hidden": true
    },
    "outputId": "04e97e86-64d6-4bcf-f394-a74d1b44ec37",
    "tags": []
   },
   "outputs": [
    {
     "data": {
      "text/plain": [
       "af      1\n",
       "rt      2\n",
       "bb      3\n",
       "xx      4\n",
       "rgea    5\n",
       "dtype: int64"
      ]
     },
     "execution_count": 108,
     "metadata": {},
     "output_type": "execute_result"
    }
   ],
   "source": [
    "# MI EJEMPLO\n",
    "\n",
    "serie = pd.Series(index=['af', 'rt', 'bb', 'xx', 'rgea'], data=[1, 2, 3, 4, 5])\n",
    "serie"
   ]
  },
  {
   "cell_type": "code",
   "execution_count": 109,
   "id": "f622e133-daea-4343-9cfb-72f169424053",
   "metadata": {
    "id": "PVY9KjO6PKIf",
    "outputId": "f2039c2d-0de7-418f-c610-1db7c415372a"
   },
   "outputs": [
    {
     "name": "stdout",
     "output_type": "stream",
     "text": [
      "The index is: Index(['a', 'b', 'c', 'd', 'e'], dtype='object')\n",
      "The values are: [1 2 3 4 5]\n"
     ]
    }
   ],
   "source": [
    "# There are two pieces to a Series: the index and the values.\n",
    "print(\"The index is:\", s.index)\n",
    "print(\"The values are:\", s.values)"
   ]
  },
  {
   "cell_type": "code",
   "execution_count": 110,
   "id": "a9fe171e-b797-43e4-8245-9f7438a40b1d",
   "metadata": {
    "colab": {
     "base_uri": "https://localhost:8080/"
    },
    "id": "VM3riYehsOHa",
    "outputId": "a55a86e6-97fc-4294-85d2-897a1d4ff9aa"
   },
   "outputs": [
    {
     "name": "stdout",
     "output_type": "stream",
     "text": [
      "Los índices son  Index(['af', 'rt', 'bb', 'xx', 'rgea'], dtype='object')\n",
      "Los valores son  [1 2 3 4 5]\n"
     ]
    }
   ],
   "source": [
    "# MI EJEMPLO\n",
    "\n",
    "print('Los índices son ', serie.index)\n",
    "print('Los valores son ', serie.values)"
   ]
  },
  {
   "cell_type": "code",
   "execution_count": 111,
   "id": "d1ba0aa7-430a-4257-909b-e27d023c3b50",
   "metadata": {
    "id": "QpdPhmb_PKIg",
    "outputId": "2d5c28e3-81a6-4526-ad90-eb363ecde9fc"
   },
   "outputs": [
    {
     "data": {
      "text/plain": [
       "1"
      ]
     },
     "execution_count": 111,
     "metadata": {},
     "output_type": "execute_result"
    }
   ],
   "source": [
    "# We can look up values out of a Series by position...\n",
    "s.iloc[0]"
   ]
  },
  {
   "cell_type": "code",
   "execution_count": 112,
   "id": "61450a9c-d6e1-41b9-a795-d22c590f0801",
   "metadata": {
    "colab": {
     "base_uri": "https://localhost:8080/"
    },
    "id": "YfijdHZlsZkU",
    "outputId": "62ebd46b-fbdb-467f-888b-0f5348510e74"
   },
   "outputs": [
    {
     "data": {
      "text/plain": [
       "2"
      ]
     },
     "execution_count": 112,
     "metadata": {},
     "output_type": "execute_result"
    }
   ],
   "source": [
    "# MI EJEMPLO\n",
    "\n",
    "serie.iloc[1]"
   ]
  },
  {
   "cell_type": "code",
   "execution_count": 113,
   "id": "90f52143-e504-419b-8931-ef7faff2f8b2",
   "metadata": {
    "id": "A_6Nl_XZPKIg",
    "outputId": "5168e32f-c0ce-43b5-a9c2-b103c4669a6e"
   },
   "outputs": [
    {
     "data": {
      "text/plain": [
       "1"
      ]
     },
     "execution_count": 113,
     "metadata": {},
     "output_type": "execute_result"
    }
   ],
   "source": [
    "# ... or by label.\n",
    "s.loc['a']"
   ]
  },
  {
   "cell_type": "code",
   "execution_count": 114,
   "id": "5acd1772-c65c-4564-af3b-947ac2191247",
   "metadata": {
    "colab": {
     "base_uri": "https://localhost:8080/"
    },
    "id": "G3GQGBDXscT9",
    "outputId": "368e4d98-d0ac-4abc-9c8e-ca675b5c40b8"
   },
   "outputs": [
    {
     "data": {
      "text/plain": [
       "1"
      ]
     },
     "execution_count": 114,
     "metadata": {},
     "output_type": "execute_result"
    }
   ],
   "source": [
    "# MI EJEMPLO\n",
    "\n",
    "serie.loc['af']"
   ]
  },
  {
   "cell_type": "code",
   "execution_count": 115,
   "id": "0c3c2bb4-2a56-471d-b990-7b41a948740d",
   "metadata": {
    "id": "B6Om1YmNPKIg",
    "outputId": "8a7bc572-9b95-4dd6-c159-3f4b87911bb6"
   },
   "outputs": [
    {
     "data": {
      "text/plain": [
       "a    1\n",
       "b    2\n",
       "dtype: int64"
      ]
     },
     "execution_count": 115,
     "metadata": {},
     "output_type": "execute_result"
    }
   ],
   "source": [
    "# Slicing works as expected...\n",
    "s.iloc[:2]"
   ]
  },
  {
   "cell_type": "code",
   "execution_count": 116,
   "id": "2de5d926-6fb3-417e-8c3c-ab3aedf4236a",
   "metadata": {
    "colab": {
     "base_uri": "https://localhost:8080/"
    },
    "id": "49UDsBymsf6Q",
    "outputId": "fd4625c4-42ba-43b8-fde1-79a6b9a5ff93"
   },
   "outputs": [
    {
     "data": {
      "text/plain": [
       "af    1\n",
       "rt    2\n",
       "bb    3\n",
       "dtype: int64"
      ]
     },
     "execution_count": 116,
     "metadata": {},
     "output_type": "execute_result"
    }
   ],
   "source": [
    "# MI EJEMPLO\n",
    "\n",
    "serie.iloc[:3]"
   ]
  },
  {
   "cell_type": "code",
   "execution_count": 117,
   "id": "51a37f50-a945-4cd5-a870-2eaa30ea08d2",
   "metadata": {
    "id": "CqMJ3AB7PKIg",
    "outputId": "08b20dbe-4bf2-427c-96e8-f92419b51474"
   },
   "outputs": [
    {
     "data": {
      "text/plain": [
       "a    1\n",
       "b    2\n",
       "c    3\n",
       "dtype: int64"
      ]
     },
     "execution_count": 117,
     "metadata": {},
     "output_type": "execute_result"
    }
   ],
   "source": [
    "# ...but it works with labels too!\n",
    "s.loc[:'c']"
   ]
  },
  {
   "cell_type": "code",
   "execution_count": 118,
   "id": "2bc1b68b-b2f3-4ba6-ab8f-4e8cb8504d71",
   "metadata": {
    "colab": {
     "base_uri": "https://localhost:8080/"
    },
    "id": "t6LlrZGVszV5",
    "outputId": "4744d5ae-8a13-48a1-ad16-f09e2dd5aac5"
   },
   "outputs": [
    {
     "data": {
      "text/plain": [
       "a    1\n",
       "b    2\n",
       "c    3\n",
       "d    4\n",
       "e    5\n",
       "dtype: int64"
      ]
     },
     "execution_count": 118,
     "metadata": {},
     "output_type": "execute_result"
    }
   ],
   "source": [
    "# MI EJEMPLO\n",
    "\n",
    "s.loc[:'xx']"
   ]
  },
  {
   "cell_type": "code",
   "execution_count": 119,
   "id": "2e4e42fe-265e-450a-b77d-91d7f52cff1c",
   "metadata": {
    "id": "FqmcQxnbPKIh",
    "outputId": "571a86a6-5bce-44c5-8f8d-b643146e5a90"
   },
   "outputs": [
    {
     "data": {
      "text/plain": [
       "a    1\n",
       "e    5\n",
       "dtype: int64"
      ]
     },
     "execution_count": 119,
     "metadata": {},
     "output_type": "execute_result"
    }
   ],
   "source": [
    "# Fancy indexing works the same as in numpy.\n",
    "s.iloc[[0, -1]]"
   ]
  },
  {
   "cell_type": "code",
   "execution_count": 120,
   "id": "9fe35855-66b4-4ea0-b54d-9787e4638a70",
   "metadata": {
    "colab": {
     "base_uri": "https://localhost:8080/"
    },
    "id": "37SW7pRQs4o0",
    "outputId": "f884d0cc-09de-4cff-b006-60bfbc3fd738"
   },
   "outputs": [
    {
     "data": {
      "text/plain": [
       "af      1\n",
       "rgea    5\n",
       "dtype: int64"
      ]
     },
     "execution_count": 120,
     "metadata": {},
     "output_type": "execute_result"
    }
   ],
   "source": [
    "# MI EJEMPLO\n",
    "\n",
    "serie.iloc[[0, -1]]"
   ]
  },
  {
   "cell_type": "code",
   "execution_count": 121,
   "id": "b6da4afe-3cb1-496f-b4a7-d9f54ec76907",
   "metadata": {
    "id": "GtwFz95mPKIh",
    "outputId": "c5f20f83-5ef3-4966-a491-9718ef5b2cf6"
   },
   "outputs": [
    {
     "data": {
      "text/plain": [
       "c    3\n",
       "d    4\n",
       "e    5\n",
       "dtype: int64"
      ]
     },
     "execution_count": 121,
     "metadata": {},
     "output_type": "execute_result"
    }
   ],
   "source": [
    "# As does boolean masking.\n",
    "s.loc[s > 2]"
   ]
  },
  {
   "cell_type": "code",
   "execution_count": 122,
   "id": "fada72a7-9d18-489a-a023-98a47f7905f5",
   "metadata": {
    "colab": {
     "base_uri": "https://localhost:8080/"
    },
    "id": "CBijmsATtKzb",
    "outputId": "456c8af8-4c55-48de-c199-6164ef5e2600"
   },
   "outputs": [
    {
     "data": {
      "text/plain": [
       "rt      2\n",
       "bb      3\n",
       "xx      4\n",
       "rgea    5\n",
       "dtype: int64"
      ]
     },
     "execution_count": 122,
     "metadata": {},
     "output_type": "execute_result"
    }
   ],
   "source": [
    "# MI EJEMPLO\n",
    "\n",
    "serie.loc[serie > 1]"
   ]
  },
  {
   "cell_type": "code",
   "execution_count": 123,
   "id": "8cfd1bd9-c2b5-4933-930a-ed30e9b721ec",
   "metadata": {
    "id": "O4k6KfwVPKIh",
    "outputId": "70e657b4-b350-411f-ebb9-619fe2e3433a"
   },
   "outputs": [
    {
     "data": {
      "text/plain": [
       "a    10.0\n",
       "c    20.0\n",
       "d    30.0\n",
       "z    40.0\n",
       "dtype: float64"
      ]
     },
     "execution_count": 123,
     "metadata": {},
     "output_type": "execute_result"
    }
   ],
   "source": [
    "# Element-wise operations are aligned by index.\n",
    "other_s = pd.Series({'a': 10.0, 'c': 20.0, 'd': 30.0, 'z': 40.0})\n",
    "other_s"
   ]
  },
  {
   "cell_type": "code",
   "execution_count": 124,
   "id": "b35ad0a2-8da5-4f38-bf9c-29bd75111c89",
   "metadata": {
    "colab": {
     "base_uri": "https://localhost:8080/"
    },
    "id": "bII65qGftaKN",
    "outputId": "ea95a27b-02cb-4b2f-d970-d789720adcf8"
   },
   "outputs": [
    {
     "data": {
      "text/plain": [
       "af    3\n",
       "xx   -6\n",
       "bb    0\n",
       "dtype: int64"
      ]
     },
     "execution_count": 124,
     "metadata": {},
     "output_type": "execute_result"
    }
   ],
   "source": [
    "# MI EJEMPLO\n",
    "\n",
    "otra_serie = pd.Series({'af': 3, 'xx': -6, 'bb': 0})\n",
    "otra_serie"
   ]
  },
  {
   "cell_type": "code",
   "execution_count": 125,
   "id": "62576e76-69cb-4655-8abd-86a57a2fdcdc",
   "metadata": {
    "id": "zqI29VcWPKIh",
    "outputId": "ac0b569e-9cbf-4518-beb8-47c9de8d083a"
   },
   "outputs": [
    {
     "data": {
      "text/plain": [
       "a    11.0\n",
       "b     NaN\n",
       "c    23.0\n",
       "d    34.0\n",
       "e     NaN\n",
       "z     NaN\n",
       "dtype: float64"
      ]
     },
     "execution_count": 125,
     "metadata": {},
     "output_type": "execute_result"
    }
   ],
   "source": [
    "s + other_s"
   ]
  },
  {
   "cell_type": "code",
   "execution_count": 126,
   "id": "1cbed3f9-b82c-42a4-b129-b98448e0bf0e",
   "metadata": {
    "colab": {
     "base_uri": "https://localhost:8080/"
    },
    "id": "C65GFhDstkDz",
    "outputId": "73cfea02-f9c5-4af6-b7c5-0a30f453edf0"
   },
   "outputs": [
    {
     "data": {
      "text/plain": [
       "af      4.0\n",
       "bb      3.0\n",
       "rgea    NaN\n",
       "rt      NaN\n",
       "xx     -2.0\n",
       "dtype: float64"
      ]
     },
     "execution_count": 126,
     "metadata": {},
     "output_type": "execute_result"
    }
   ],
   "source": [
    "serie + otra_serie"
   ]
  },
  {
   "cell_type": "code",
   "execution_count": 127,
   "id": "799ecd0a-63ce-4cbe-8546-31b72b5be5be",
   "metadata": {
    "id": "wjogj-tEPKIi",
    "outputId": "a5425e81-c236-4b43-b880-a177c36ef42f"
   },
   "outputs": [
    {
     "data": {
      "text/plain": [
       "a    11.0\n",
       "b     0.0\n",
       "c    23.0\n",
       "d    34.0\n",
       "e     0.0\n",
       "z     0.0\n",
       "dtype: float64"
      ]
     },
     "execution_count": 127,
     "metadata": {},
     "output_type": "execute_result"
    }
   ],
   "source": [
    "# We can fill in missing values with fillna().\n",
    "(s + other_s).fillna(0.0)"
   ]
  },
  {
   "cell_type": "code",
   "execution_count": 128,
   "id": "e954cf92-f2be-4b4d-94a5-5bb384a42e75",
   "metadata": {
    "colab": {
     "base_uri": "https://localhost:8080/"
    },
    "id": "f67-NQS6t4D1",
    "outputId": "ff294178-0fb6-46ff-b1f9-bb3bcae8e7a4"
   },
   "outputs": [
    {
     "data": {
      "text/plain": [
       "af      4.0\n",
       "bb      3.0\n",
       "rgea    0.0\n",
       "rt      0.0\n",
       "xx     -2.0\n",
       "dtype: float64"
      ]
     },
     "execution_count": 128,
     "metadata": {},
     "output_type": "execute_result"
    }
   ],
   "source": [
    "# MI EJEMPLO\n",
    "\n",
    "(serie + otra_serie).fillna(0)"
   ]
  },
  {
   "cell_type": "code",
   "execution_count": 2,
   "id": "78efd0a1-5941-4319-bedc-a04f831f07e2",
   "metadata": {
    "colab": {
     "base_uri": "https://localhost:8080/",
     "height": 290,
     "resources": {
      "http://localhost:8080/nbextensions/google.colab/files.js": {
       "data": "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",
       "headers": [
        [
         "content-type",
         "application/javascript"
        ]
       ],
       "ok": true,
       "status": 200,
       "status_text": ""
      }
     }
    },
    "id": "4ARxKvjmPKIi",
    "outputId": "58f368e7-0562-4135-c083-fd5ef1f4b94c"
   },
   "outputs": [
    {
     "data": {
      "text/html": [
       "<div>\n",
       "<style scoped>\n",
       "    .dataframe tbody tr th:only-of-type {\n",
       "        vertical-align: middle;\n",
       "    }\n",
       "\n",
       "    .dataframe tbody tr th {\n",
       "        vertical-align: top;\n",
       "    }\n",
       "\n",
       "    .dataframe thead th {\n",
       "        text-align: right;\n",
       "    }\n",
       "</style>\n",
       "<table border=\"1\" class=\"dataframe\">\n",
       "  <thead>\n",
       "    <tr style=\"text-align: right;\">\n",
       "      <th></th>\n",
       "      <th>Adj Close</th>\n",
       "      <th>Close</th>\n",
       "      <th>High</th>\n",
       "      <th>Low</th>\n",
       "      <th>Open</th>\n",
       "      <th>Volume</th>\n",
       "    </tr>\n",
       "    <tr>\n",
       "      <th>Date</th>\n",
       "      <th></th>\n",
       "      <th></th>\n",
       "      <th></th>\n",
       "      <th></th>\n",
       "      <th></th>\n",
       "      <th></th>\n",
       "    </tr>\n",
       "  </thead>\n",
       "  <tbody>\n",
       "    <tr>\n",
       "      <th>2010-01-04</th>\n",
       "      <td>27.613066</td>\n",
       "      <td>30.572857</td>\n",
       "      <td>30.642857</td>\n",
       "      <td>30.340000</td>\n",
       "      <td>30.490000</td>\n",
       "      <td>123432400.0</td>\n",
       "    </tr>\n",
       "    <tr>\n",
       "      <th>2010-01-05</th>\n",
       "      <td>27.660807</td>\n",
       "      <td>30.625713</td>\n",
       "      <td>30.798571</td>\n",
       "      <td>30.464285</td>\n",
       "      <td>30.657143</td>\n",
       "      <td>150476200.0</td>\n",
       "    </tr>\n",
       "    <tr>\n",
       "      <th>2010-01-06</th>\n",
       "      <td>27.220825</td>\n",
       "      <td>30.138571</td>\n",
       "      <td>30.747143</td>\n",
       "      <td>30.107143</td>\n",
       "      <td>30.625713</td>\n",
       "      <td>138040000.0</td>\n",
       "    </tr>\n",
       "    <tr>\n",
       "      <th>2010-01-07</th>\n",
       "      <td>27.170504</td>\n",
       "      <td>30.082857</td>\n",
       "      <td>30.285715</td>\n",
       "      <td>29.864286</td>\n",
       "      <td>30.250000</td>\n",
       "      <td>119282800.0</td>\n",
       "    </tr>\n",
       "    <tr>\n",
       "      <th>2010-01-08</th>\n",
       "      <td>27.351143</td>\n",
       "      <td>30.282858</td>\n",
       "      <td>30.285715</td>\n",
       "      <td>29.865715</td>\n",
       "      <td>30.042856</td>\n",
       "      <td>111902700.0</td>\n",
       "    </tr>\n",
       "  </tbody>\n",
       "</table>\n",
       "</div>"
      ],
      "text/plain": [
       "            Adj Close      Close       High        Low       Open       Volume\n",
       "Date                                                                          \n",
       "2010-01-04  27.613066  30.572857  30.642857  30.340000  30.490000  123432400.0\n",
       "2010-01-05  27.660807  30.625713  30.798571  30.464285  30.657143  150476200.0\n",
       "2010-01-06  27.220825  30.138571  30.747143  30.107143  30.625713  138040000.0\n",
       "2010-01-07  27.170504  30.082857  30.285715  29.864286  30.250000  119282800.0\n",
       "2010-01-08  27.351143  30.282858  30.285715  29.865715  30.042856  111902700.0"
      ]
     },
     "execution_count": 2,
     "metadata": {},
     "output_type": "execute_result"
    }
   ],
   "source": [
    "# Most real datasets are read in from an external file format.\n",
    "\n",
    "import pandas as pd\n",
    "aapl = pd.read_csv('AAPL.csv', parse_dates=['Date'], index_col='Date')\n",
    "aapl.head()"
   ]
  },
  {
   "cell_type": "code",
   "execution_count": 3,
   "id": "5cae9817-66ec-4262-b6a1-a17b7436e1fb",
   "metadata": {
    "colab": {
     "base_uri": "https://localhost:8080/",
     "height": 142
    },
    "id": "urXUy0ysPKIi",
    "outputId": "37dda4ef-90cd-4283-a0bb-672660733664"
   },
   "outputs": [
    {
     "data": {
      "text/html": [
       "<div>\n",
       "<style scoped>\n",
       "    .dataframe tbody tr th:only-of-type {\n",
       "        vertical-align: middle;\n",
       "    }\n",
       "\n",
       "    .dataframe tbody tr th {\n",
       "        vertical-align: top;\n",
       "    }\n",
       "\n",
       "    .dataframe thead th {\n",
       "        text-align: right;\n",
       "    }\n",
       "</style>\n",
       "<table border=\"1\" class=\"dataframe\">\n",
       "  <thead>\n",
       "    <tr style=\"text-align: right;\">\n",
       "      <th></th>\n",
       "      <th>Adj Close</th>\n",
       "      <th>Close</th>\n",
       "    </tr>\n",
       "    <tr>\n",
       "      <th>Date</th>\n",
       "      <th></th>\n",
       "      <th></th>\n",
       "    </tr>\n",
       "  </thead>\n",
       "  <tbody>\n",
       "    <tr>\n",
       "      <th>2010-01-04</th>\n",
       "      <td>27.613066</td>\n",
       "      <td>30.572857</td>\n",
       "    </tr>\n",
       "    <tr>\n",
       "      <th>2010-01-05</th>\n",
       "      <td>27.660807</td>\n",
       "      <td>30.625713</td>\n",
       "    </tr>\n",
       "  </tbody>\n",
       "</table>\n",
       "</div>"
      ],
      "text/plain": [
       "            Adj Close      Close\n",
       "Date                            \n",
       "2010-01-04  27.613066  30.572857\n",
       "2010-01-05  27.660807  30.625713"
      ]
     },
     "execution_count": 3,
     "metadata": {},
     "output_type": "execute_result"
    }
   ],
   "source": [
    "# Slicing generalizes to two dimensions as you'd expect:\n",
    "aapl.iloc[:2, :2]"
   ]
  },
  {
   "cell_type": "code",
   "execution_count": 4,
   "id": "638110ca-d9fc-475d-ae13-a91965ee85b4",
   "metadata": {
    "id": "X44wsUWBPKIi",
    "outputId": "a2d9895c-6543-4461-ae9b-288bbc459900"
   },
   "outputs": [
    {
     "data": {
      "text/html": [
       "<div>\n",
       "<style scoped>\n",
       "    .dataframe tbody tr th:only-of-type {\n",
       "        vertical-align: middle;\n",
       "    }\n",
       "\n",
       "    .dataframe tbody tr th {\n",
       "        vertical-align: top;\n",
       "    }\n",
       "\n",
       "    .dataframe thead th {\n",
       "        text-align: right;\n",
       "    }\n",
       "</style>\n",
       "<table border=\"1\" class=\"dataframe\">\n",
       "  <thead>\n",
       "    <tr style=\"text-align: right;\">\n",
       "      <th></th>\n",
       "      <th>Close</th>\n",
       "      <th>Volume</th>\n",
       "    </tr>\n",
       "    <tr>\n",
       "      <th>Date</th>\n",
       "      <th></th>\n",
       "      <th></th>\n",
       "    </tr>\n",
       "  </thead>\n",
       "  <tbody>\n",
       "    <tr>\n",
       "      <th>2010-02-01</th>\n",
       "      <td>27.818571</td>\n",
       "      <td>187469100.0</td>\n",
       "    </tr>\n",
       "    <tr>\n",
       "      <th>2010-02-02</th>\n",
       "      <td>27.980000</td>\n",
       "      <td>174585600.0</td>\n",
       "    </tr>\n",
       "    <tr>\n",
       "      <th>2010-02-03</th>\n",
       "      <td>28.461428</td>\n",
       "      <td>153832000.0</td>\n",
       "    </tr>\n",
       "    <tr>\n",
       "      <th>2010-02-04</th>\n",
       "      <td>27.435715</td>\n",
       "      <td>189413000.0</td>\n",
       "    </tr>\n",
       "  </tbody>\n",
       "</table>\n",
       "</div>"
      ],
      "text/plain": [
       "                Close       Volume\n",
       "Date                              \n",
       "2010-02-01  27.818571  187469100.0\n",
       "2010-02-02  27.980000  174585600.0\n",
       "2010-02-03  28.461428  153832000.0\n",
       "2010-02-04  27.435715  189413000.0"
      ]
     },
     "execution_count": 4,
     "metadata": {},
     "output_type": "execute_result"
    }
   ],
   "source": [
    "aapl.loc[pd.Timestamp('2010-02-01'):pd.Timestamp('2010-02-04'), ['Close', 'Volume']]"
   ]
  },
  {
   "cell_type": "markdown",
   "id": "4408d86c-23c8-4e91-ab1c-ead251382c00",
   "metadata": {
    "id": "XPHXpmOJPKIj"
   },
   "source": [
    "# Rolling Operations"
   ]
  },
  {
   "cell_type": "markdown",
   "id": "d2d4eed4-6577-4dc8-8d55-98d47c856930",
   "metadata": {
    "id": "EsJmlgARPKIj"
   },
   "source": [
    "<center><img src=\"images/rolling.gif\" alt=\"Drawing\" style=\"width: 75%;\"/></center>"
   ]
  },
  {
   "cell_type": "code",
   "execution_count": 5,
   "id": "014c6134-150f-4a1c-b6e9-d47d894628f3",
   "metadata": {
    "colab": {
     "base_uri": "https://localhost:8080/",
     "height": 417
    },
    "id": "Mvf4owrFPKIj",
    "outputId": "fdd9ce0c-6ea5-4d2f-8802-a47d81128c62"
   },
   "outputs": [
    {
     "data": {
      "image/png": "[encoded data removed]",
      "text/plain": [
       "<Figure size 432x288 with 1 Axes>"
      ]
     },
     "metadata": {
      "needs_background": "light"
     },
     "output_type": "display_data"
    }
   ],
   "source": [
    "aapl.rolling(5)[['Close', 'Adj Close']].mean().plot();"
   ]
  },
  {
   "cell_type": "code",
   "execution_count": 6,
   "id": "6335a16d-493f-43c3-bc1d-cb2b729d5b21",
   "metadata": {
    "colab": {
     "base_uri": "https://localhost:8080/",
     "height": 442
    },
    "id": "194IjXjVPKIj",
    "outputId": "b2669d0f-00ff-41c1-b213-2abd24b5baa7"
   },
   "outputs": [
    {
     "data": {
      "image/png": "[encoded data removed]",
      "text/plain": [
       "<Figure size 432x288 with 1 Axes>"
      ]
     },
     "metadata": {
      "needs_background": "light"
     },
     "output_type": "display_data"
    }
   ],
   "source": [
    "# Drop `Volume`, since it's way bigger than everything else.\n",
    "aapl.drop('Volume', axis=1).resample('2W').max().plot();"
   ]
  },
  {
   "cell_type": "code",
   "execution_count": 7,
   "id": "3fd850c0-aceb-4afe-baff-409dfbad7d09",
   "metadata": {
    "id": "L9r1-3aFPKIj",
    "outputId": "831e1ab9-8209-44c5-cd91-ed64d51ea8fd"
   },
   "outputs": [
    {
     "data": {
      "image/png": "[encoded data removed]",
      "text/plain": [
       "<Figure size 432x288 with 1 Axes>"
      ]
     },
     "metadata": {
      "needs_background": "light"
     },
     "output_type": "display_data"
    }
   ],
   "source": [
    "# 30-day rolling exponentially-weighted stddev of returns.\n",
    "aapl['Close'].pct_change().ewm(span=30).std().plot();"
   ]
  },
  {
   "cell_type": "markdown",
   "id": "e1994491-2105-4a28-9adc-d17c209d04af",
   "metadata": {
    "id": "s9k4tHhBPKIk"
   },
   "source": [
    "# \"Real World\" Data"
   ]
  },
  {
   "cell_type": "code",
   "execution_count": 10,
   "id": "ece54968-cfc2-4be0-8a8c-6963db32e624",
   "metadata": {
    "colab": {
     "base_uri": "https://localhost:8080/"
    },
    "id": "XJwkqQd0wGJu",
    "outputId": "01f6a665-ec45-4d08-b9b8-725529a45eca"
   },
   "outputs": [
    {
     "name": "stderr",
     "output_type": "stream",
     "text": [
      "/home/batman/Documents/projects/AlgorithmsUN2021II/Lab2/avocados.py:54: FutureWarning: The default value of regex will change from True to False in a future version.\n",
      "  frame['Region'] = frame['Region'].str.replace(' U.S.', '')\n"
     ]
    },
    {
     "data": {
      "text/html": [
       "<div>\n",
       "<style scoped>\n",
       "    .dataframe tbody tr th:only-of-type {\n",
       "        vertical-align: middle;\n",
       "    }\n",
       "\n",
       "    .dataframe tbody tr th {\n",
       "        vertical-align: top;\n",
       "    }\n",
       "\n",
       "    .dataframe thead th {\n",
       "        text-align: right;\n",
       "    }\n",
       "</style>\n",
       "<table border=\"1\" class=\"dataframe\">\n",
       "  <thead>\n",
       "    <tr style=\"text-align: right;\">\n",
       "      <th></th>\n",
       "      <th>Date</th>\n",
       "      <th>Region</th>\n",
       "      <th>Variety</th>\n",
       "      <th>Organic</th>\n",
       "      <th>Number of Stores</th>\n",
       "      <th>Weighted Avg Price</th>\n",
       "      <th>Low Price</th>\n",
       "      <th>High Price</th>\n",
       "    </tr>\n",
       "  </thead>\n",
       "  <tbody>\n",
       "    <tr>\n",
       "      <th>0</th>\n",
       "      <td>2014-01-03 00:00:00+00:00</td>\n",
       "      <td>NATIONAL</td>\n",
       "      <td>HASS</td>\n",
       "      <td>False</td>\n",
       "      <td>9184</td>\n",
       "      <td>0.93</td>\n",
       "      <td>NaN</td>\n",
       "      <td>NaN</td>\n",
       "    </tr>\n",
       "    <tr>\n",
       "      <th>1</th>\n",
       "      <td>2014-01-03 00:00:00+00:00</td>\n",
       "      <td>NATIONAL</td>\n",
       "      <td>HASS</td>\n",
       "      <td>True</td>\n",
       "      <td>872</td>\n",
       "      <td>1.44</td>\n",
       "      <td>NaN</td>\n",
       "      <td>NaN</td>\n",
       "    </tr>\n",
       "    <tr>\n",
       "      <th>2</th>\n",
       "      <td>2014-01-03 00:00:00+00:00</td>\n",
       "      <td>NORTHEAST</td>\n",
       "      <td>HASS</td>\n",
       "      <td>False</td>\n",
       "      <td>1449</td>\n",
       "      <td>1.08</td>\n",
       "      <td>0.5</td>\n",
       "      <td>1.67</td>\n",
       "    </tr>\n",
       "    <tr>\n",
       "      <th>3</th>\n",
       "      <td>2014-01-03 00:00:00+00:00</td>\n",
       "      <td>NORTHEAST</td>\n",
       "      <td>HASS</td>\n",
       "      <td>True</td>\n",
       "      <td>66</td>\n",
       "      <td>1.54</td>\n",
       "      <td>1.5</td>\n",
       "      <td>2.00</td>\n",
       "    </tr>\n",
       "    <tr>\n",
       "      <th>4</th>\n",
       "      <td>2014-01-03 00:00:00+00:00</td>\n",
       "      <td>SOUTHEAST</td>\n",
       "      <td>HASS</td>\n",
       "      <td>False</td>\n",
       "      <td>2286</td>\n",
       "      <td>0.98</td>\n",
       "      <td>0.5</td>\n",
       "      <td>1.99</td>\n",
       "    </tr>\n",
       "  </tbody>\n",
       "</table>\n",
       "</div>"
      ],
      "text/plain": [
       "                       Date     Region Variety  Organic  Number of Stores  \\\n",
       "0 2014-01-03 00:00:00+00:00   NATIONAL    HASS    False              9184   \n",
       "1 2014-01-03 00:00:00+00:00   NATIONAL    HASS     True               872   \n",
       "2 2014-01-03 00:00:00+00:00  NORTHEAST    HASS    False              1449   \n",
       "3 2014-01-03 00:00:00+00:00  NORTHEAST    HASS     True                66   \n",
       "4 2014-01-03 00:00:00+00:00  SOUTHEAST    HASS    False              2286   \n",
       "\n",
       "   Weighted Avg Price  Low Price  High Price  \n",
       "0                0.93        NaN         NaN  \n",
       "1                1.44        NaN         NaN  \n",
       "2                1.08        0.5        1.67  \n",
       "3                1.54        1.5        2.00  \n",
       "4                0.98        0.5        1.99  "
      ]
     },
     "execution_count": 10,
     "metadata": {},
     "output_type": "execute_result"
    }
   ],
   "source": [
    "from avocados import read_avocadata\n",
    "\n",
    "avocados = read_avocadata('2014', '2016')\n",
    "avocados.head()"
   ]
  },
  {
   "cell_type": "code",
   "execution_count": 11,
   "id": "327516e0-b1d6-41bb-ad84-3cc373e30b41",
   "metadata": {
    "colab": {
     "base_uri": "https://localhost:8080/",
     "height": 204
    },
    "id": "RrOCAF5SPKIk",
    "outputId": "d1949b20-d2fb-4a15-e84c-b6b8f004e4cc"
   },
   "outputs": [
    {
     "name": "stdout",
     "output_type": "stream",
     "text": [
      "cp: cannot stat '/content/drive/MyDrive/Algoritmos/Lab 2/demos/avocados.py': No such file or directory\n"
     ]
    },
    {
     "name": "stderr",
     "output_type": "stream",
     "text": [
      "/home/batman/Documents/projects/AlgorithmsUN2021II/Lab2/avocados.py:54: FutureWarning: The default value of regex will change from True to False in a future version.\n",
      "  frame['Region'] = frame['Region'].str.replace(' U.S.', '')\n"
     ]
    },
    {
     "data": {
      "text/html": [
       "<div>\n",
       "<style scoped>\n",
       "    .dataframe tbody tr th:only-of-type {\n",
       "        vertical-align: middle;\n",
       "    }\n",
       "\n",
       "    .dataframe tbody tr th {\n",
       "        vertical-align: top;\n",
       "    }\n",
       "\n",
       "    .dataframe thead th {\n",
       "        text-align: right;\n",
       "    }\n",
       "</style>\n",
       "<table border=\"1\" class=\"dataframe\">\n",
       "  <thead>\n",
       "    <tr style=\"text-align: right;\">\n",
       "      <th></th>\n",
       "      <th>Date</th>\n",
       "      <th>Region</th>\n",
       "      <th>Variety</th>\n",
       "      <th>Organic</th>\n",
       "      <th>Number of Stores</th>\n",
       "      <th>Weighted Avg Price</th>\n",
       "      <th>Low Price</th>\n",
       "      <th>High Price</th>\n",
       "    </tr>\n",
       "  </thead>\n",
       "  <tbody>\n",
       "    <tr>\n",
       "      <th>0</th>\n",
       "      <td>2014-01-03 00:00:00+00:00</td>\n",
       "      <td>NATIONAL</td>\n",
       "      <td>HASS</td>\n",
       "      <td>False</td>\n",
       "      <td>9184</td>\n",
       "      <td>0.93</td>\n",
       "      <td>NaN</td>\n",
       "      <td>NaN</td>\n",
       "    </tr>\n",
       "    <tr>\n",
       "      <th>1</th>\n",
       "      <td>2014-01-03 00:00:00+00:00</td>\n",
       "      <td>NATIONAL</td>\n",
       "      <td>HASS</td>\n",
       "      <td>True</td>\n",
       "      <td>872</td>\n",
       "      <td>1.44</td>\n",
       "      <td>NaN</td>\n",
       "      <td>NaN</td>\n",
       "    </tr>\n",
       "    <tr>\n",
       "      <th>2</th>\n",
       "      <td>2014-01-03 00:00:00+00:00</td>\n",
       "      <td>NORTHEAST</td>\n",
       "      <td>HASS</td>\n",
       "      <td>False</td>\n",
       "      <td>1449</td>\n",
       "      <td>1.08</td>\n",
       "      <td>0.5</td>\n",
       "      <td>1.67</td>\n",
       "    </tr>\n",
       "    <tr>\n",
       "      <th>3</th>\n",
       "      <td>2014-01-03 00:00:00+00:00</td>\n",
       "      <td>NORTHEAST</td>\n",
       "      <td>HASS</td>\n",
       "      <td>True</td>\n",
       "      <td>66</td>\n",
       "      <td>1.54</td>\n",
       "      <td>1.5</td>\n",
       "      <td>2.00</td>\n",
       "    </tr>\n",
       "    <tr>\n",
       "      <th>4</th>\n",
       "      <td>2014-01-03 00:00:00+00:00</td>\n",
       "      <td>SOUTHEAST</td>\n",
       "      <td>HASS</td>\n",
       "      <td>False</td>\n",
       "      <td>2286</td>\n",
       "      <td>0.98</td>\n",
       "      <td>0.5</td>\n",
       "      <td>1.99</td>\n",
       "    </tr>\n",
       "  </tbody>\n",
       "</table>\n",
       "</div>"
      ],
      "text/plain": [
       "                       Date     Region Variety  Organic  Number of Stores  \\\n",
       "0 2014-01-03 00:00:00+00:00   NATIONAL    HASS    False              9184   \n",
       "1 2014-01-03 00:00:00+00:00   NATIONAL    HASS     True               872   \n",
       "2 2014-01-03 00:00:00+00:00  NORTHEAST    HASS    False              1449   \n",
       "3 2014-01-03 00:00:00+00:00  NORTHEAST    HASS     True                66   \n",
       "4 2014-01-03 00:00:00+00:00  SOUTHEAST    HASS    False              2286   \n",
       "\n",
       "   Weighted Avg Price  Low Price  High Price  \n",
       "0                0.93        NaN         NaN  \n",
       "1                1.44        NaN         NaN  \n",
       "2                1.08        0.5        1.67  \n",
       "3                1.54        1.5        2.00  \n",
       "4                0.98        0.5        1.99  "
      ]
     },
     "execution_count": 11,
     "metadata": {},
     "output_type": "execute_result"
    }
   ],
   "source": [
    "!cp '/content/drive/MyDrive/Algoritmos/Lab 2/demos/avocados.py' .\n",
    "\n",
    "\n",
    "from avocados import read_avocadata\n",
    "\n",
    "avocados = read_avocadata('2014', '2016')\n",
    "avocados.head()"
   ]
  },
  {
   "cell_type": "code",
   "execution_count": 12,
   "id": "58a0db31-181a-43e4-a563-4cd51ac4100f",
   "metadata": {
    "colab": {
     "base_uri": "https://localhost:8080/"
    },
    "id": "vG-IJFzCPKIk",
    "outputId": "00ea07fa-8507-4d29-aa74-ef1c2528ddaf"
   },
   "outputs": [
    {
     "data": {
      "text/plain": [
       "Date                  datetime64[ns, UTC]\n",
       "Region                             object\n",
       "Variety                            object\n",
       "Organic                              bool\n",
       "Number of Stores                    int64\n",
       "Weighted Avg Price                float64\n",
       "Low Price                         float64\n",
       "High Price                        float64\n",
       "dtype: object"
      ]
     },
     "execution_count": 12,
     "metadata": {},
     "output_type": "execute_result"
    }
   ],
   "source": [
    "# Unlike numpy arrays, pandas DataFrames can have a different dtype for each column.\n",
    "avocados.dtypes"
   ]
  },
  {
   "cell_type": "code",
   "execution_count": 13,
   "id": "bd664095-e85f-4c34-97e8-337ed59b22a3",
   "metadata": {
    "colab": {
     "base_uri": "https://localhost:8080/",
     "height": 424
    },
    "id": "cLATefajPKIk",
    "outputId": "df7b39f6-6c95-4130-ee90-5911565dff90"
   },
   "outputs": [
    {
     "data": {
      "image/png": "[encoded data removed]",
      "text/plain": [
       "<Figure size 432x288 with 1 Axes>"
      ]
     },
     "metadata": {
      "needs_background": "light"
     },
     "output_type": "display_data"
    }
   ],
   "source": [
    "# What's the regional average price of a HASS avocado every day?\n",
    "hass = avocados[avocados.Variety == 'HASS']\n",
    "hass.groupby(['Date', 'Region'])['Weighted Avg Price'].mean().unstack().ffill().plot();"
   ]
  },
  {
   "cell_type": "code",
   "execution_count": 28,
   "id": "bfaf2515-80cc-4434-a98c-9281acce9e40",
   "metadata": {
    "id": "19D-jJ-cPKIl"
   },
   "outputs": [],
   "source": [
    "def _organic_spread(group):\n",
    "\n",
    "    if len(group.columns) != 2:\n",
    "        return pd.Series(index=group.index, data=0.0)\n",
    "    \n",
    "    is_organic = group.columns.get_level_values('Organic').values.astype(bool)\n",
    "    organics = group.loc[:, is_organic].squeeze()\n",
    "    non_organics = group.loc[:, ~is_organic].squeeze()\n",
    "    diff = organics - non_organics\n",
    "    return diff\n",
    "\n",
    "def organic_spread_by_region(df):\n",
    "    \"\"\"What's the difference between the price of an organic \n",
    "    and non-organic avocado within each region?\n",
    "    \"\"\"\n",
    "    return (\n",
    "        df\n",
    "        .set_index(['Date', 'Region', 'Organic'])\n",
    "         ['Weighted Avg Price']\n",
    "        .unstack(level=['Region', 'Organic'])\n",
    "        .ffill()\n",
    "        .groupby(level='Region', axis=1)\n",
    "        .apply(_organic_spread)\n",
    "    )"
   ]
  },
  {
   "cell_type": "code",
   "execution_count": 15,
   "id": "828df729-4bd6-4f8f-9a13-d83e8d36fabc",
   "metadata": {
    "colab": {
     "base_uri": "https://localhost:8080/",
     "height": 440
    },
    "id": "eIlv4ZD6PKIl",
    "outputId": "c2ef1e81-b440-4bd6-ce98-ed0caf933c90"
   },
   "outputs": [
    {
     "ename": "NameError",
     "evalue": "name 'plt' is not defined",
     "output_type": "error",
     "traceback": [
      "\u001b[0;31m---------------------------------------------------------------------------\u001b[0m",
      "\u001b[0;31mNameError\u001b[0m                                 Traceback (most recent call last)",
      "\u001b[0;32m/tmp/ipykernel_140413/2388904987.py\u001b[0m in \u001b[0;36m<module>\u001b[0;34m\u001b[0m\n\u001b[1;32m      1\u001b[0m \u001b[0morganic_spread_by_region\u001b[0m\u001b[0;34m(\u001b[0m\u001b[0mhass\u001b[0m\u001b[0;34m)\u001b[0m\u001b[0;34m.\u001b[0m\u001b[0mplot\u001b[0m\u001b[0;34m(\u001b[0m\u001b[0;34m)\u001b[0m\u001b[0;34m;\u001b[0m\u001b[0;34m\u001b[0m\u001b[0;34m\u001b[0m\u001b[0m\n\u001b[0;32m----> 2\u001b[0;31m \u001b[0mplt\u001b[0m\u001b[0;34m.\u001b[0m\u001b[0mgca\u001b[0m\u001b[0;34m(\u001b[0m\u001b[0;34m)\u001b[0m\u001b[0;34m.\u001b[0m\u001b[0mset_title\u001b[0m\u001b[0;34m(\u001b[0m\u001b[0;34m\"Daily Regional Organic Spread\"\u001b[0m\u001b[0;34m)\u001b[0m\u001b[0;34m;\u001b[0m\u001b[0;34m\u001b[0m\u001b[0;34m\u001b[0m\u001b[0m\n\u001b[0m\u001b[1;32m      3\u001b[0m \u001b[0mplt\u001b[0m\u001b[0;34m.\u001b[0m\u001b[0mlegend\u001b[0m\u001b[0;34m(\u001b[0m\u001b[0mbbox_to_anchor\u001b[0m\u001b[0;34m=\u001b[0m\u001b[0;34m(\u001b[0m\u001b[0;36m1\u001b[0m\u001b[0;34m,\u001b[0m \u001b[0;36m1\u001b[0m\u001b[0;34m)\u001b[0m\u001b[0;34m)\u001b[0m\u001b[0;34m;\u001b[0m\u001b[0;34m\u001b[0m\u001b[0;34m\u001b[0m\u001b[0m\n",
      "\u001b[0;31mNameError\u001b[0m: name 'plt' is not defined"
     ]
    },
    {
     "data": {
      "image/png": "[encoded data removed]",
      "text/plain": [
       "<Figure size 432x288 with 1 Axes>"
      ]
     },
     "metadata": {
      "needs_background": "light"
     },
     "output_type": "display_data"
    }
   ],
   "source": [
    "organic_spread_by_region(hass).plot();\n",
    "plt.gca().set_title(\"Daily Regional Organic Spread\");\n",
    "plt.legend(bbox_to_anchor=(1, 1));"
   ]
  },
  {
   "cell_type": "code",
   "execution_count": 16,
   "id": "ff8e522b-2e96-4fed-8e5e-7c3ef451a17b",
   "metadata": {
    "colab": {
     "base_uri": "https://localhost:8080/",
     "height": 359
    },
    "id": "LVz8dh8MPKIl",
    "outputId": "ea7fe046-7a40-43a5-f65b-8a1a65718251"
   },
   "outputs": [
    {
     "data": {
      "text/html": [
       "<div>\n",
       "<style scoped>\n",
       "    .dataframe tbody tr th:only-of-type {\n",
       "        vertical-align: middle;\n",
       "    }\n",
       "\n",
       "    .dataframe tbody tr th {\n",
       "        vertical-align: top;\n",
       "    }\n",
       "\n",
       "    .dataframe thead th {\n",
       "        text-align: right;\n",
       "    }\n",
       "</style>\n",
       "<table border=\"1\" class=\"dataframe\">\n",
       "  <thead>\n",
       "    <tr style=\"text-align: right;\">\n",
       "      <th>Region</th>\n",
       "      <th>ALASKA</th>\n",
       "      <th>HAWAII</th>\n",
       "      <th>MIDWEST</th>\n",
       "      <th>NATIONAL</th>\n",
       "      <th>NORTHEAST</th>\n",
       "      <th>NORTHWEST</th>\n",
       "      <th>SOUTHEAST</th>\n",
       "      <th>SOUTHWEST</th>\n",
       "      <th>SOUTH_CENTRAL</th>\n",
       "    </tr>\n",
       "    <tr>\n",
       "      <th>Region</th>\n",
       "      <th></th>\n",
       "      <th></th>\n",
       "      <th></th>\n",
       "      <th></th>\n",
       "      <th></th>\n",
       "      <th></th>\n",
       "      <th></th>\n",
       "      <th></th>\n",
       "      <th></th>\n",
       "    </tr>\n",
       "  </thead>\n",
       "  <tbody>\n",
       "    <tr>\n",
       "      <th>ALASKA</th>\n",
       "      <td>1.000000</td>\n",
       "      <td>0.202723</td>\n",
       "      <td>0.175251</td>\n",
       "      <td>0.007844</td>\n",
       "      <td>0.051049</td>\n",
       "      <td>0.087575</td>\n",
       "      <td>0.129079</td>\n",
       "      <td>-0.070868</td>\n",
       "      <td>0.161624</td>\n",
       "    </tr>\n",
       "    <tr>\n",
       "      <th>HAWAII</th>\n",
       "      <td>0.202723</td>\n",
       "      <td>1.000000</td>\n",
       "      <td>-0.021116</td>\n",
       "      <td>0.373914</td>\n",
       "      <td>0.247171</td>\n",
       "      <td>0.341155</td>\n",
       "      <td>0.019388</td>\n",
       "      <td>0.159192</td>\n",
       "      <td>0.092632</td>\n",
       "    </tr>\n",
       "    <tr>\n",
       "      <th>MIDWEST</th>\n",
       "      <td>0.175251</td>\n",
       "      <td>-0.021116</td>\n",
       "      <td>1.000000</td>\n",
       "      <td>0.062595</td>\n",
       "      <td>-0.010213</td>\n",
       "      <td>-0.043783</td>\n",
       "      <td>0.047437</td>\n",
       "      <td>-0.059128</td>\n",
       "      <td>0.068902</td>\n",
       "    </tr>\n",
       "    <tr>\n",
       "      <th>NATIONAL</th>\n",
       "      <td>0.007844</td>\n",
       "      <td>0.373914</td>\n",
       "      <td>0.062595</td>\n",
       "      <td>1.000000</td>\n",
       "      <td>0.502035</td>\n",
       "      <td>0.579102</td>\n",
       "      <td>-0.040539</td>\n",
       "      <td>0.635006</td>\n",
       "      <td>0.486524</td>\n",
       "    </tr>\n",
       "    <tr>\n",
       "      <th>NORTHEAST</th>\n",
       "      <td>0.051049</td>\n",
       "      <td>0.247171</td>\n",
       "      <td>-0.010213</td>\n",
       "      <td>0.502035</td>\n",
       "      <td>1.000000</td>\n",
       "      <td>0.242039</td>\n",
       "      <td>-0.236225</td>\n",
       "      <td>0.360389</td>\n",
       "      <td>0.149881</td>\n",
       "    </tr>\n",
       "    <tr>\n",
       "      <th>NORTHWEST</th>\n",
       "      <td>0.087575</td>\n",
       "      <td>0.341155</td>\n",
       "      <td>-0.043783</td>\n",
       "      <td>0.579102</td>\n",
       "      <td>0.242039</td>\n",
       "      <td>1.000000</td>\n",
       "      <td>-0.032306</td>\n",
       "      <td>0.165992</td>\n",
       "      <td>0.349935</td>\n",
       "    </tr>\n",
       "    <tr>\n",
       "      <th>SOUTHEAST</th>\n",
       "      <td>0.129079</td>\n",
       "      <td>0.019388</td>\n",
       "      <td>0.047437</td>\n",
       "      <td>-0.040539</td>\n",
       "      <td>-0.236225</td>\n",
       "      <td>-0.032306</td>\n",
       "      <td>1.000000</td>\n",
       "      <td>-0.167631</td>\n",
       "      <td>-0.021176</td>\n",
       "    </tr>\n",
       "    <tr>\n",
       "      <th>SOUTHWEST</th>\n",
       "      <td>-0.070868</td>\n",
       "      <td>0.159192</td>\n",
       "      <td>-0.059128</td>\n",
       "      <td>0.635006</td>\n",
       "      <td>0.360389</td>\n",
       "      <td>0.165992</td>\n",
       "      <td>-0.167631</td>\n",
       "      <td>1.000000</td>\n",
       "      <td>0.254504</td>\n",
       "    </tr>\n",
       "    <tr>\n",
       "      <th>SOUTH_CENTRAL</th>\n",
       "      <td>0.161624</td>\n",
       "      <td>0.092632</td>\n",
       "      <td>0.068902</td>\n",
       "      <td>0.486524</td>\n",
       "      <td>0.149881</td>\n",
       "      <td>0.349935</td>\n",
       "      <td>-0.021176</td>\n",
       "      <td>0.254504</td>\n",
       "      <td>1.000000</td>\n",
       "    </tr>\n",
       "  </tbody>\n",
       "</table>\n",
       "</div>"
      ],
      "text/plain": [
       "Region           ALASKA    HAWAII   MIDWEST  NATIONAL  NORTHEAST  NORTHWEST  \\\n",
       "Region                                                                        \n",
       "ALASKA         1.000000  0.202723  0.175251  0.007844   0.051049   0.087575   \n",
       "HAWAII         0.202723  1.000000 -0.021116  0.373914   0.247171   0.341155   \n",
       "MIDWEST        0.175251 -0.021116  1.000000  0.062595  -0.010213  -0.043783   \n",
       "NATIONAL       0.007844  0.373914  0.062595  1.000000   0.502035   0.579102   \n",
       "NORTHEAST      0.051049  0.247171 -0.010213  0.502035   1.000000   0.242039   \n",
       "NORTHWEST      0.087575  0.341155 -0.043783  0.579102   0.242039   1.000000   \n",
       "SOUTHEAST      0.129079  0.019388  0.047437 -0.040539  -0.236225  -0.032306   \n",
       "SOUTHWEST     -0.070868  0.159192 -0.059128  0.635006   0.360389   0.165992   \n",
       "SOUTH_CENTRAL  0.161624  0.092632  0.068902  0.486524   0.149881   0.349935   \n",
       "\n",
       "Region         SOUTHEAST  SOUTHWEST  SOUTH_CENTRAL  \n",
       "Region                                              \n",
       "ALASKA          0.129079  -0.070868       0.161624  \n",
       "HAWAII          0.019388   0.159192       0.092632  \n",
       "MIDWEST         0.047437  -0.059128       0.068902  \n",
       "NATIONAL       -0.040539   0.635006       0.486524  \n",
       "NORTHEAST      -0.236225   0.360389       0.149881  \n",
       "NORTHWEST      -0.032306   0.165992       0.349935  \n",
       "SOUTHEAST       1.000000  -0.167631      -0.021176  \n",
       "SOUTHWEST      -0.167631   1.000000       0.254504  \n",
       "SOUTH_CENTRAL  -0.021176   0.254504       1.000000  "
      ]
     },
     "execution_count": 16,
     "metadata": {},
     "output_type": "execute_result"
    }
   ],
   "source": [
    "spread_correlation = organic_spread_by_region(hass).corr()\n",
    "spread_correlation"
   ]
  },
  {
   "cell_type": "code",
   "execution_count": 17,
   "id": "276e0079-28e6-43a6-abf4-10623f411964",
   "metadata": {
    "colab": {
     "base_uri": "https://localhost:8080/",
     "height": 712
    },
    "id": "SJTUmnTdPKIl",
    "outputId": "61b5abc6-9e22-45bc-ca53-9d8631348876"
   },
   "outputs": [
    {
     "data": {
      "image/png": "[encoded data removed]",
      "text/plain": [
       "<Figure size 720x720 with 4 Axes>"
      ]
     },
     "metadata": {
      "needs_background": "light"
     },
     "output_type": "display_data"
    }
   ],
   "source": [
    "import seaborn as sns\n",
    "grid = sns.clustermap(spread_correlation, annot=True)\n",
    "fig = grid.fig\n",
    "axes = fig.axes\n",
    "ax = axes[2]\n",
    "ax.set_xticklabels(ax.get_xticklabels(), rotation=45);"
   ]
  },
  {
   "cell_type": "markdown",
   "id": "66ee0f81-dbf6-4f5a-a735-021ce61f01f0",
   "metadata": {},
   "source": [
    "# **Procesamiento de datos del portal de datos.gov.co**"
   ]
  },
  {
   "cell_type": "code",
   "execution_count": 20,
   "id": "b5a9432d-6db9-42e4-ae54-6bf1d2990ffa",
   "metadata": {},
   "outputs": [
    {
     "data": {
      "text/html": [
       "<div>\n",
       "<style scoped>\n",
       "    .dataframe tbody tr th:only-of-type {\n",
       "        vertical-align: middle;\n",
       "    }\n",
       "\n",
       "    .dataframe tbody tr th {\n",
       "        vertical-align: top;\n",
       "    }\n",
       "\n",
       "    .dataframe thead th {\n",
       "        text-align: right;\n",
       "    }\n",
       "</style>\n",
       "<table border=\"1\" class=\"dataframe\">\n",
       "  <thead>\n",
       "    <tr style=\"text-align: right;\">\n",
       "      <th></th>\n",
       "      <th>VALOR</th>\n",
       "      <th>UNIDAD</th>\n",
       "      <th>VIGENCIADESDE</th>\n",
       "    </tr>\n",
       "    <tr>\n",
       "      <th>VIGENCIAHASTA</th>\n",
       "      <th></th>\n",
       "      <th></th>\n",
       "      <th></th>\n",
       "    </tr>\n",
       "  </thead>\n",
       "  <tbody>\n",
       "    <tr>\n",
       "      <th>12/10/2021</th>\n",
       "      <td>3765.80</td>\n",
       "      <td>COP</td>\n",
       "      <td>2021-09-10</td>\n",
       "    </tr>\n",
       "    <tr>\n",
       "      <th>13/10/2021</th>\n",
       "      <td>3738.48</td>\n",
       "      <td>COP</td>\n",
       "      <td>2021-10-13</td>\n",
       "    </tr>\n",
       "    <tr>\n",
       "      <th>14/10/2021</th>\n",
       "      <td>3725.75</td>\n",
       "      <td>COP</td>\n",
       "      <td>2021-10-14</td>\n",
       "    </tr>\n",
       "    <tr>\n",
       "      <th>15/10/2021</th>\n",
       "      <td>3755.29</td>\n",
       "      <td>COP</td>\n",
       "      <td>2021-10-15</td>\n",
       "    </tr>\n",
       "    <tr>\n",
       "      <th>19/10/2021</th>\n",
       "      <td>3772.49</td>\n",
       "      <td>COP</td>\n",
       "      <td>2021-10-16</td>\n",
       "    </tr>\n",
       "  </tbody>\n",
       "</table>\n",
       "</div>"
      ],
      "text/plain": [
       "                 VALOR UNIDAD VIGENCIADESDE\n",
       "VIGENCIAHASTA                              \n",
       "12/10/2021     3765.80    COP    2021-09-10\n",
       "13/10/2021     3738.48    COP    2021-10-13\n",
       "14/10/2021     3725.75    COP    2021-10-14\n",
       "15/10/2021     3755.29    COP    2021-10-15\n",
       "19/10/2021     3772.49    COP    2021-10-16"
      ]
     },
     "execution_count": 20,
     "metadata": {},
     "output_type": "execute_result"
    }
   ],
   "source": [
    "import pandas as pd\n",
    "dat = pd.read_csv('Tasa_de_Cambio_Representativa_del__Mercado_-Historico.csv', parse_dates=['VIGENCIADESDE'], index_col='VIGENCIAHASTA')\n",
    "dat.tail()"
   ]
  },
  {
   "cell_type": "code",
   "execution_count": 21,
   "id": "61c5f8eb-55c0-44fa-bb2d-9e1b3854e7ac",
   "metadata": {},
   "outputs": [
    {
     "data": {
      "text/html": [
       "<div>\n",
       "<style scoped>\n",
       "    .dataframe tbody tr th:only-of-type {\n",
       "        vertical-align: middle;\n",
       "    }\n",
       "\n",
       "    .dataframe tbody tr th {\n",
       "        vertical-align: top;\n",
       "    }\n",
       "\n",
       "    .dataframe thead th {\n",
       "        text-align: right;\n",
       "    }\n",
       "</style>\n",
       "<table border=\"1\" class=\"dataframe\">\n",
       "  <thead>\n",
       "    <tr style=\"text-align: right;\">\n",
       "      <th></th>\n",
       "      <th>VALOR</th>\n",
       "      <th>UNIDAD</th>\n",
       "      <th>VIGENCIADESDE</th>\n",
       "    </tr>\n",
       "    <tr>\n",
       "      <th>VIGENCIAHASTA</th>\n",
       "      <th></th>\n",
       "      <th></th>\n",
       "      <th></th>\n",
       "    </tr>\n",
       "  </thead>\n",
       "  <tbody>\n",
       "    <tr>\n",
       "      <th>09/10/2002</th>\n",
       "      <td>2850.98</td>\n",
       "      <td>COP</td>\n",
       "      <td>2002-09-10</td>\n",
       "    </tr>\n",
       "    <tr>\n",
       "      <th>10/10/2002</th>\n",
       "      <td>2854.04</td>\n",
       "      <td>COP</td>\n",
       "      <td>2002-10-10</td>\n",
       "    </tr>\n",
       "    <tr>\n",
       "      <th>11/10/2002</th>\n",
       "      <td>2870.63</td>\n",
       "      <td>COP</td>\n",
       "      <td>2002-11-10</td>\n",
       "    </tr>\n",
       "    <tr>\n",
       "      <th>15/10/2002</th>\n",
       "      <td>2861.16</td>\n",
       "      <td>COP</td>\n",
       "      <td>2002-12-10</td>\n",
       "    </tr>\n",
       "    <tr>\n",
       "      <th>16/10/2002</th>\n",
       "      <td>2852.99</td>\n",
       "      <td>COP</td>\n",
       "      <td>2002-10-16</td>\n",
       "    </tr>\n",
       "    <tr>\n",
       "      <th>17/10/2002</th>\n",
       "      <td>2857.13</td>\n",
       "      <td>COP</td>\n",
       "      <td>2002-10-17</td>\n",
       "    </tr>\n",
       "    <tr>\n",
       "      <th>18/10/2002</th>\n",
       "      <td>2853.90</td>\n",
       "      <td>COP</td>\n",
       "      <td>2002-10-18</td>\n",
       "    </tr>\n",
       "    <tr>\n",
       "      <th>21/10/2002</th>\n",
       "      <td>2836.34</td>\n",
       "      <td>COP</td>\n",
       "      <td>2002-10-19</td>\n",
       "    </tr>\n",
       "    <tr>\n",
       "      <th>22/10/2002</th>\n",
       "      <td>2791.46</td>\n",
       "      <td>COP</td>\n",
       "      <td>2002-10-22</td>\n",
       "    </tr>\n",
       "    <tr>\n",
       "      <th>23/10/2002</th>\n",
       "      <td>2758.76</td>\n",
       "      <td>COP</td>\n",
       "      <td>2002-10-23</td>\n",
       "    </tr>\n",
       "  </tbody>\n",
       "</table>\n",
       "</div>"
      ],
      "text/plain": [
       "                 VALOR UNIDAD VIGENCIADESDE\n",
       "VIGENCIAHASTA                              \n",
       "09/10/2002     2850.98    COP    2002-09-10\n",
       "10/10/2002     2854.04    COP    2002-10-10\n",
       "11/10/2002     2870.63    COP    2002-11-10\n",
       "15/10/2002     2861.16    COP    2002-12-10\n",
       "16/10/2002     2852.99    COP    2002-10-16\n",
       "17/10/2002     2857.13    COP    2002-10-17\n",
       "18/10/2002     2853.90    COP    2002-10-18\n",
       "21/10/2002     2836.34    COP    2002-10-19\n",
       "22/10/2002     2791.46    COP    2002-10-22\n",
       "23/10/2002     2758.76    COP    2002-10-23"
      ]
     },
     "execution_count": 21,
     "metadata": {},
     "output_type": "execute_result"
    }
   ],
   "source": [
    "dat.iloc[:10, :10]"
   ]
  },
  {
   "cell_type": "code",
   "execution_count": 22,
   "id": "75edc46e-2a04-45d7-9b25-6109a5c21aba",
   "metadata": {},
   "outputs": [
    {
     "data": {
      "text/html": [
       "<div>\n",
       "<style scoped>\n",
       "    .dataframe tbody tr th:only-of-type {\n",
       "        vertical-align: middle;\n",
       "    }\n",
       "\n",
       "    .dataframe tbody tr th {\n",
       "        vertical-align: top;\n",
       "    }\n",
       "\n",
       "    .dataframe thead th {\n",
       "        text-align: right;\n",
       "    }\n",
       "</style>\n",
       "<table border=\"1\" class=\"dataframe\">\n",
       "  <thead>\n",
       "    <tr style=\"text-align: right;\">\n",
       "      <th></th>\n",
       "      <th>UNIDAD</th>\n",
       "      <th>VALOR</th>\n",
       "    </tr>\n",
       "    <tr>\n",
       "      <th>VIGENCIAHASTA</th>\n",
       "      <th></th>\n",
       "      <th></th>\n",
       "    </tr>\n",
       "  </thead>\n",
       "  <tbody>\n",
       "    <tr>\n",
       "      <th>02/12/1991</th>\n",
       "      <td>COP</td>\n",
       "      <td>643.42</td>\n",
       "    </tr>\n",
       "    <tr>\n",
       "      <th>03/12/1991</th>\n",
       "      <td>COP</td>\n",
       "      <td>639.22</td>\n",
       "    </tr>\n",
       "    <tr>\n",
       "      <th>04/12/1991</th>\n",
       "      <td>COP</td>\n",
       "      <td>635.70</td>\n",
       "    </tr>\n",
       "    <tr>\n",
       "      <th>03/10/2003</th>\n",
       "      <td>COP</td>\n",
       "      <td>2905.12</td>\n",
       "    </tr>\n",
       "    <tr>\n",
       "      <th>06/10/2003</th>\n",
       "      <td>COP</td>\n",
       "      <td>2881.88</td>\n",
       "    </tr>\n",
       "    <tr>\n",
       "      <th>...</th>\n",
       "      <td>...</td>\n",
       "      <td>...</td>\n",
       "    </tr>\n",
       "    <tr>\n",
       "      <th>12/10/2021</th>\n",
       "      <td>COP</td>\n",
       "      <td>3765.80</td>\n",
       "    </tr>\n",
       "    <tr>\n",
       "      <th>13/10/2021</th>\n",
       "      <td>COP</td>\n",
       "      <td>3738.48</td>\n",
       "    </tr>\n",
       "    <tr>\n",
       "      <th>14/10/2021</th>\n",
       "      <td>COP</td>\n",
       "      <td>3725.75</td>\n",
       "    </tr>\n",
       "    <tr>\n",
       "      <th>15/10/2021</th>\n",
       "      <td>COP</td>\n",
       "      <td>3755.29</td>\n",
       "    </tr>\n",
       "    <tr>\n",
       "      <th>19/10/2021</th>\n",
       "      <td>COP</td>\n",
       "      <td>3772.49</td>\n",
       "    </tr>\n",
       "  </tbody>\n",
       "</table>\n",
       "<p>6816 rows × 2 columns</p>\n",
       "</div>"
      ],
      "text/plain": [
       "              UNIDAD    VALOR\n",
       "VIGENCIAHASTA                \n",
       "02/12/1991       COP   643.42\n",
       "03/12/1991       COP   639.22\n",
       "04/12/1991       COP   635.70\n",
       "03/10/2003       COP  2905.12\n",
       "06/10/2003       COP  2881.88\n",
       "...              ...      ...\n",
       "12/10/2021       COP  3765.80\n",
       "13/10/2021       COP  3738.48\n",
       "14/10/2021       COP  3725.75\n",
       "15/10/2021       COP  3755.29\n",
       "19/10/2021       COP  3772.49\n",
       "\n",
       "[6816 rows x 2 columns]"
      ]
     },
     "execution_count": 22,
     "metadata": {},
     "output_type": "execute_result"
    }
   ],
   "source": [
    "dat.loc['02/12/1991':'19/10/2021', ['UNIDAD', 'VALOR']]"
   ]
  },
  {
   "cell_type": "code",
   "execution_count": 23,
   "id": "fe3f0e1a-824b-48aa-958e-e22121f4d9d0",
   "metadata": {},
   "outputs": [
    {
     "data": {
      "image/png": "[encoded data removed]",
      "text/plain": [
       "<Figure size 432x288 with 1 Axes>"
      ]
     },
     "metadata": {
      "needs_background": "light"
     },
     "output_type": "display_data"
    }
   ],
   "source": [
    "dat.drop('VALOR', axis=1).plot();"
   ]
  },
  {
   "cell_type": "code",
   "execution_count": 27,
   "id": "adc1dddd-9ad7-4a9c-94b2-b997e2e4ba3e",
   "metadata": {},
   "outputs": [
    {
     "data": {
      "image/png": "[encoded data removed]",
      "text/plain": [
       "<Figure size 432x288 with 1 Axes>"
      ]
     },
     "metadata": {
      "needs_background": "light"
     },
     "output_type": "display_data"
    }
   ],
   "source": [
    "dat.rolling(20)[['VALOR']].mean().plot();"
   ]
  }
 ],
 "metadata": {
  "kernelspec": {
   "display_name": "Python 3 (ipykernel)",
   "language": "python",
   "name": "python3"
  },
  "language_info": {
   "codemirror_mode": {
    "name": "ipython",
    "version": 3
   },
   "file_extension": ".py",
   "mimetype": "text/x-python",
   "name": "python",
   "nbconvert_exporter": "python",
   "pygments_lexer": "ipython3",
   "version": "3.8.10"
  }
 },
 "nbformat": 4,
 "nbformat_minor": 5
}
