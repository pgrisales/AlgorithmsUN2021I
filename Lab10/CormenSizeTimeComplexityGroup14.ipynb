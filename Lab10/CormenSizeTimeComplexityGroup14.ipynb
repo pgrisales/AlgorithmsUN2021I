{
  "cells": [
    {
      "cell_type": "code",
      "execution_count": null,
      "metadata": {
        "colab": {
          "base_uri": "https://localhost:8080/"
        },
        "id": "szukBFthF1_s",
        "outputId": "82e69812-5a93-46f7-cbd3-94774039f221"
      },
      "outputs": [
        {
          "data": {
            "text/plain": [
              "7745.966692414834"
            ]
          },
          "execution_count": 1,
          "metadata": {},
          "output_type": "execute_result"
        }
      ],
      "source": [
        "import math\n",
        "# 1. One microsecond by Instructionmath.sqrt(60*10**6)"
      ]
    },
    {
      "cell_type": "markdown",
      "metadata": {
        "id": "9fIs_70_DJWM"
      },
      "source": [
        "# 2.(2.5  nanoseconds by instruction)\n",
        "\n",
        "Asuuming that you can execute a 400 million instructions $400 \\times 10^6$ every second, i.e. each instrcution takes 2.5  nanoseconds, 2.5 $\\eta s  = 2.5 \\times 10^{-9} s$. If you have algorithms take $\\bf{ Time\\ Complexity}$ steps to solve a poblem of size $n$ as specified in column one. What is the size of the largest porblem that you can solve in the time specified in row one?\n",
        "$$\n",
        "\\begin{array}{|c|c|c|c|c|c|c|c|} \n",
        " \\hline\n",
        " \\bf{ Time\\ Complexity} & Second  & Minute  & Hour & Day & Year & Century & Mileniun  \\\\ \n",
        "  \\hline\\\\ \n",
        "\\lg(n) & 2^{(4E+08)} & 2^{(2.4E+10)}                         & 2^{(1.44*E+12)} &     2^{(3.45E+13)}      & 2^{(1.26*E+16)}   & 2^{(1.58*E+18)} & 2^{(1.58*E+19)} \\\\ \\hline\n",
        "log2(n)**2 & 3.98E+6020                 & 2^{(1.54E+4)} & 2^{(1.2*E+6)}  &     2^{(5.88E+06)}      & 2^{(1.12*E+8)}    & 2^{(1.12*E+9)}  & 2^{(3.54*E+9)}  \\\\ \\hline\n",
        "\\sqrt(n)    & 1.60E+17                   & 5.76E+20                                             & 2.07E +24         &     1.19E+27          & 1.59E+32                         & 1.59E+36                       & 1.59E+38                       \\\\ \\hline\n",
        "n          & 4.00E+08                   & 2.40E+10                                             & 1.44E +12          &    3.46E+13         & 1.26E+16                         & 1.26E+18                       & 1.26E+19                       \\\\ \\hline\n",
        "n \\lg(n)  & 1.67E+07                   & 8.11E+08                                             & 4.09E+10                  &     8.71E+11          & 2.53E+14     &                     2.32E+16                       & 2.19E+17                       \\\\ \\hline\n",
        "n^2       & 2.00E+04                   & 1.55E+05                                             & 1.20E +06          &  5.88E+06           & 1.12E+08                         & 1.12E+09                       & 3.55E+09                       \\\\ \\hline\n",
        "n^3       & 7.36E+02                   & 2.88E+03                                             & 1.13E+04                  &  3.26E+04    & 2.33E+05                         & 1.08E+06                       & 2.33E+06                       \\\\ \\hline\n",
        "n^4       & 1.41E+02                   & 3.93E+02                                             & 1.10E+03            &   2.42E+03       & 1.06E+04                         & 3.35E+04                       & 5.96E+04                       \\\\ \\hline\n",
        "2^n       & 2.80E+01                   & 3.40E+01                                             & 4.00E+01               &     4.40E+01            & 5.30E+01                         & 6.00E+01                       & 6.30E+01                       \\\\ \\hline\n",
        "n!         & 1.10E+01                   & 1.30E+01                                             & 1.50E+01            &      1.60E+01      & 1.80E+01                         & 1.90E+01                       & 2.00E+01                       \\\\ \\hline\n",
        "n^n       & 9.00E+00                   & 1.00E+01                                             & 1.10E +01          &    1.20E+01        & 1.40E+01 & 1.50E+01                       & 1.60E+01                      \\\\\n",
        "\\hline\n",
        "\\end{array}\n",
        "$$"
      ]
    },
    {
      "cell_type": "markdown",
      "source": [
        "Para la deducción de la tabla un metódo sencillo es hacer los calculos de segundos en \t\n",
        "\n",
        "\n",
        "*   1.00E+00\tsegundo\n",
        "*   6.00E+01\tminuto\n",
        "* 3.60E+03\thora\n",
        "* 2.16E+05  día\n",
        "* 3.15E+07\taño\n",
        "* 3.16E+09\tcentury\n",
        "* 3.16E+10\tmilenium\n",
        "\n",
        "\n",
        "\n",
        "\n",
        "\n",
        "\n",
        "\n",
        "estos se pueden obtener en software como **Wolfram alpha**\t\n",
        "\n",
        "Los valores dados son los siguientes\n",
        "instrucciones por segundo\t400,000,000.00\n",
        "segundos por instrucción\t2.50E-09\n",
        "\n",
        "por lo que podemos calcular para nuestro computadore teórico \n",
        "instrucciones por * \t\n",
        "* 4.000000E+08\tsegundo\n",
        "* 2.400000E+10\tminuto\n",
        "* 1.440000E+12\thora\n",
        "* 3.456000E+13  día\n",
        "* 1.261600E+16\taño\n",
        "* 1.262400E+18\tcentury\n",
        "* 1.262400E+19\tmilenium\n",
        "\n",
        "\n",
        "finalmente para despejar n de las diversas formulas podemos también usar **Wolfram** con el comando ***f(n) = c solve for n real*** que podemos deducir de la formula:\n",
        "   o\n",
        "\n",
        "*   instrucciones en funcion de n  * segundos por instruccion = limite de tiempo\n",
        "\n",
        "o\n",
        "*   instrucciones en funcion de n = instrucciones por tiempo dado\n",
        "\n",
        "\n",
        "\n",
        "Algunos ultimos valores debieron ser aproximados mediantes procesos manuales debido al tamaño de los números, lo que se logra de nuevo despejando n por ejemplo de la correspondiente formula sacando raices o potencias\n"
      ],
      "metadata": {
        "id": "cVBB7llnRlwd"
      }
    },
    {
      "cell_type": "code",
      "source": [
        ""
      ],
      "metadata": {
        "id": "rKJID8QHScw_"
      },
      "execution_count": null,
      "outputs": []
    }
  ],
  "metadata": {
    "colab": {
      "collapsed_sections": [],
      "name": "CormenSizeTimeComplexityGroup14.ipynb",
      "provenance": []
    },
    "kernelspec": {
      "display_name": "Python 3 (ipykernel)",
      "language": "python",
      "name": "python3"
    },
    "language_info": {
      "codemirror_mode": {
        "name": "ipython",
        "version": 3
      },
      "file_extension": ".py",
      "mimetype": "text/x-python",
      "name": "python",
      "nbconvert_exporter": "python",
      "pygments_lexer": "ipython3",
      "version": "3.8.10"
    }
  },
  "nbformat": 4,
  "nbformat_minor": 0
}